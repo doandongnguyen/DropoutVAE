{
  "nbformat": 4,
  "nbformat_minor": 0,
  "metadata": {
    "colab": {
      "name": "DropoutVAE.ipynb",
      "version": "0.3.2",
      "provenance": [],
      "collapsed_sections": [],
      "toc_visible": true
    },
    "kernelspec": {
      "name": "python3",
      "display_name": "Python 3"
    },
    "accelerator": "GPU"
  },
  "cells": [
    {
      "cell_type": "markdown",
      "metadata": {
        "id": "yl5YDWvEeu4a",
        "colab_type": "text"
      },
      "source": [
        "The purpose is to use Dropout in VAE in order to generate data.\n",
        "\n",
        "Origin VAE uses latent values to generate the data.\n",
        "However, with Dropout VAE, we can use some origin data to generate.\n",
        "\n",
        "\n",
        "The dataset used in notebook: [Customer Support](https://www.ibm.com/communities/analytics/watson-analytics-blog/guide-to-sample-datasets/)\n",
        "\n",
        "More example about VAE: [Modeling Telecom customer churn](https://towardsdatascience.com/modeling-telecom-customer-churn-with-variational-autoencoder-4e5cf6194871)\n",
        "\n",
        "Origin code for VAE in keras: [Building Autoencoders in keras](https://blog.keras.io/building-autoencoders-in-keras.html)"
      ]
    },
    {
      "cell_type": "markdown",
      "metadata": {
        "id": "fdT9BTrmT3ro",
        "colab_type": "text"
      },
      "source": [
        "# Import Libraries"
      ]
    },
    {
      "cell_type": "code",
      "metadata": {
        "id": "CQNUpL6YT32X",
        "colab_type": "code",
        "colab": {
          "base_uri": "https://localhost:8080/",
          "height": 34
        },
        "outputId": "9f3772b3-666b-4168-c32e-15972be8c013"
      },
      "source": [
        "from __future__ import absolute_import\n",
        "from __future__ import division\n",
        "from __future__ import print_function\n",
        "\n",
        "import os\n",
        "import random\n",
        "import argparse\n",
        "import numpy as np\n",
        "import matplotlib.pyplot as plt\n",
        "from sklearn.preprocessing import LabelEncoder\n",
        "from tensorflow import set_random_seed\n",
        "\n",
        "from keras import regularizers\n",
        "from keras import backend as K\n",
        "from keras.models import Model\n",
        "from keras.utils import plot_model\n",
        "from keras.losses import mse, binary_crossentropy\n",
        "from keras.layers import Lambda, Input, Dense, Dropout\n",
        "\n",
        "set_random_seed(1)\n",
        "np.random.seed(1)\n",
        "random.seed(1)"
      ],
      "execution_count": 1,
      "outputs": [
        {
          "output_type": "stream",
          "text": [
            "Using TensorFlow backend.\n"
          ],
          "name": "stderr"
        }
      ]
    },
    {
      "cell_type": "markdown",
      "metadata": {
        "id": "sNKVLBOBgR3W",
        "colab_type": "text"
      },
      "source": [
        "# Path to dataset"
      ]
    },
    {
      "cell_type": "code",
      "metadata": {
        "id": "FFaXts2Ycg-w",
        "colab_type": "code",
        "colab": {}
      },
      "source": [
        "path = '/Dataset/WA_Fn-UseC_-Telco-Customer-Churn.csv'"
      ],
      "execution_count": 0,
      "outputs": []
    },
    {
      "cell_type": "code",
      "metadata": {
        "id": "C8zWTy_ePGg7",
        "colab_type": "code",
        "colab": {}
      },
      "source": [
        "intermediate_dim = 512"
      ],
      "execution_count": 0,
      "outputs": []
    },
    {
      "cell_type": "markdown",
      "metadata": {
        "id": "OnJXo9LfUGaJ",
        "colab_type": "text"
      },
      "source": [
        "# Define VAE"
      ]
    },
    {
      "cell_type": "markdown",
      "metadata": {
        "id": "8VTGWwfObeoT",
        "colab_type": "text"
      },
      "source": [
        "## Read Data"
      ]
    },
    {
      "cell_type": "code",
      "metadata": {
        "id": "DfcE15dwhyaL",
        "colab_type": "code",
        "outputId": "86b1556e-8e90-428e-f60a-a60703546b38",
        "colab": {
          "base_uri": "https://localhost:8080/",
          "height": 595
        }
      },
      "source": [
        "import pandas as pd\n",
        "na_values = {'?', ' '}\n",
        "df = pd.read_csv(path,\n",
        "                 sep=',',\n",
        "                 na_filter=True, \n",
        "                 verbose=False, \n",
        "                 skip_blank_lines=True, \n",
        "                 na_values=na_values,\n",
        "                 keep_default_na=False)\n",
        "                 \n",
        "df.fillna(method='ffill', inplace=True)\n",
        "df.dropna(axis=1, how='any', inplace=True)\n",
        "df.drop(['customerID'], axis=1, inplace=True)\n",
        "df = df.reset_index(drop=True)\n",
        "print(df.info())\n",
        "print(df.head())"
      ],
      "execution_count": 6,
      "outputs": [
        {
          "output_type": "stream",
          "text": [
            "<class 'pandas.core.frame.DataFrame'>\n",
            "RangeIndex: 7043 entries, 0 to 7042\n",
            "Data columns (total 20 columns):\n",
            "gender              7043 non-null object\n",
            "SeniorCitizen       7043 non-null int64\n",
            "Partner             7043 non-null object\n",
            "Dependents          7043 non-null object\n",
            "tenure              7043 non-null int64\n",
            "PhoneService        7043 non-null object\n",
            "MultipleLines       7043 non-null object\n",
            "InternetService     7043 non-null object\n",
            "OnlineSecurity      7043 non-null object\n",
            "OnlineBackup        7043 non-null object\n",
            "DeviceProtection    7043 non-null object\n",
            "TechSupport         7043 non-null object\n",
            "StreamingTV         7043 non-null object\n",
            "StreamingMovies     7043 non-null object\n",
            "Contract            7043 non-null object\n",
            "PaperlessBilling    7043 non-null object\n",
            "PaymentMethod       7043 non-null object\n",
            "MonthlyCharges      7043 non-null float64\n",
            "TotalCharges        7043 non-null float64\n",
            "Churn               7043 non-null object\n",
            "dtypes: float64(2), int64(2), object(16)\n",
            "memory usage: 1.1+ MB\n",
            "None\n",
            "   gender  SeniorCitizen Partner  ... MonthlyCharges  TotalCharges Churn\n",
            "0  Female              0     Yes  ...          29.85         29.85    No\n",
            "1    Male              0      No  ...          56.95       1889.50    No\n",
            "2    Male              0      No  ...          53.85        108.15   Yes\n",
            "3    Male              0      No  ...          42.30       1840.75    No\n",
            "4  Female              0      No  ...          70.70        151.65   Yes\n",
            "\n",
            "[5 rows x 20 columns]\n"
          ],
          "name": "stdout"
        }
      ]
    },
    {
      "cell_type": "markdown",
      "metadata": {
        "id": "ptmiXDEjbhmp",
        "colab_type": "text"
      },
      "source": [
        "## Change Categorical data --> numbers"
      ]
    },
    {
      "cell_type": "code",
      "metadata": {
        "id": "pfL6yO7HZR7E",
        "colab_type": "code",
        "outputId": "0a4f79c4-b281-441c-f46d-dc8e09d800c0",
        "colab": {
          "base_uri": "https://localhost:8080/",
          "height": 153
        }
      },
      "source": [
        "colnums = len(df.columns)\n",
        "for i in df.columns:\n",
        "    try:\n",
        "        if df[i].dtype.name == 'object':\n",
        "            df[i] = df[i].astype('category')\n",
        "        else:\n",
        "            df[i].astype('float32')\n",
        "    except:\n",
        "        continue\n",
        "print(df.head())"
      ],
      "execution_count": 7,
      "outputs": [
        {
          "output_type": "stream",
          "text": [
            "   gender  SeniorCitizen Partner  ... MonthlyCharges  TotalCharges Churn\n",
            "0  Female              0     Yes  ...          29.85         29.85    No\n",
            "1    Male              0      No  ...          56.95       1889.50    No\n",
            "2    Male              0      No  ...          53.85        108.15   Yes\n",
            "3    Male              0      No  ...          42.30       1840.75    No\n",
            "4  Female              0      No  ...          70.70        151.65   Yes\n",
            "\n",
            "[5 rows x 20 columns]\n"
          ],
          "name": "stdout"
        }
      ]
    },
    {
      "cell_type": "code",
      "metadata": {
        "id": "BpGxC2v2CDi1",
        "colab_type": "code",
        "outputId": "da4a636e-c8f1-498c-c09f-40ceee668494",
        "colab": {
          "base_uri": "https://localhost:8080/",
          "height": 153
        }
      },
      "source": [
        "from sklearn.model_selection import train_test_split\n",
        "from sklearn.preprocessing import MinMaxScaler, StandardScaler\n",
        "vals = df.values.copy()\n",
        "total_nums = len(vals)\n",
        "\n",
        "train, validation = train_test_split(df, test_size=0.5, \n",
        "                                     random_state=42, \n",
        "                                     shuffle=True)\n",
        "\n",
        "validation = validation.reindex(sorted(validation.columns), axis=1)\n",
        "validation.to_csv(path + '_For_Test.csv')\n",
        "print(validation.head())"
      ],
      "execution_count": 8,
      "outputs": [
        {
          "output_type": "stream",
          "text": [
            "     Churn        Contract Dependents  ... TotalCharges  gender  tenure\n",
            "185    Yes  Month-to-month         No  ...        24.80  Female       1\n",
            "2715    No  Month-to-month         No  ...       996.45    Male      41\n",
            "3825    No        Two year        Yes  ...      1031.70  Female      52\n",
            "1807   Yes  Month-to-month         No  ...        76.35  Female       1\n",
            "132     No        Two year         No  ...      3260.10    Male      67\n",
            "\n",
            "[5 rows x 20 columns]\n"
          ],
          "name": "stdout"
        }
      ]
    },
    {
      "cell_type": "code",
      "metadata": {
        "id": "G-52cnSrZHGm",
        "colab_type": "code",
        "outputId": "8877311b-e21f-448d-953e-0b4626f48c74",
        "colab": {
          "base_uri": "https://localhost:8080/",
          "height": 102
        }
      },
      "source": [
        "df = train\n",
        "categorical = df.select_dtypes(['category']).columns\n",
        "print(categorical)\n",
        "for f in categorical:\n",
        "    dummies = pd.get_dummies(df[f], prefix = f, prefix_sep = '_')\n",
        "    df = pd.concat([df, dummies], axis = 1)\n",
        "    \n",
        "# drop original categorical features\n",
        "df.drop(categorical, axis = 1, inplace = True)"
      ],
      "execution_count": 9,
      "outputs": [
        {
          "output_type": "stream",
          "text": [
            "Index(['gender', 'Partner', 'Dependents', 'PhoneService', 'MultipleLines',\n",
            "       'InternetService', 'OnlineSecurity', 'OnlineBackup', 'DeviceProtection',\n",
            "       'TechSupport', 'StreamingTV', 'StreamingMovies', 'Contract',\n",
            "       'PaperlessBilling', 'PaymentMethod', 'Churn'],\n",
            "      dtype='object')\n"
          ],
          "name": "stdout"
        }
      ]
    },
    {
      "cell_type": "code",
      "metadata": {
        "id": "LmIPmd5wjAM7",
        "colab_type": "code",
        "outputId": "824ac18b-24f7-4238-a6eb-b36b77b1c5ad",
        "colab": {
          "base_uri": "https://localhost:8080/",
          "height": 51
        }
      },
      "source": [
        "train = df.values.copy()\n",
        "train.astype('float32')\n",
        "scaler = MinMaxScaler()\n",
        "d = {}\n",
        "train = scaler.fit_transform(train)\n",
        "x_train, x_test = train_test_split(train, test_size=0.5,\n",
        "                                  random_state=24,\n",
        "                                  shuffle=True)\n",
        "print(x_train.shape)\n",
        "print(x_test.shape)\n"
      ],
      "execution_count": 10,
      "outputs": [
        {
          "output_type": "stream",
          "text": [
            "(1760, 47)\n",
            "(1761, 47)\n"
          ],
          "name": "stdout"
        }
      ]
    },
    {
      "cell_type": "code",
      "metadata": {
        "id": "uNf-3EMl2usm",
        "colab_type": "code",
        "outputId": "be91fef2-ea4c-4635-cdb0-ccff50dd6f4a",
        "colab": {
          "base_uri": "https://localhost:8080/",
          "height": 51
        }
      },
      "source": [
        "original_dim = x_train.shape[1]\n",
        "x_train = np.reshape(x_train, [-1, original_dim])\n",
        "x_test = np.reshape(x_test, [-1, original_dim])\n",
        "x_train = x_train.astype('float32')\n",
        "x_test = x_test.astype('float32')\n",
        "print(x_train.shape)\n",
        "print(x_test.shape)"
      ],
      "execution_count": 11,
      "outputs": [
        {
          "output_type": "stream",
          "text": [
            "(1760, 47)\n",
            "(1761, 47)\n"
          ],
          "name": "stdout"
        }
      ]
    },
    {
      "cell_type": "code",
      "metadata": {
        "id": "uy-JqW7Jpuyz",
        "colab_type": "code",
        "colab": {}
      },
      "source": [
        "from keras.layers import BatchNormalization\n",
        "class VAE:\n",
        "    def __init__(self, input_shape=(original_dim,), \n",
        "                 intermediate_dim=128, latent_dim=2, summary=False):\n",
        "        \n",
        "        self._build_model(input_shape,\n",
        "                         intermediate_dim, \n",
        "                          latent_dim, summary)\n",
        "    \n",
        "    def _build_model(self, input_shape, intermediate_dim, latent_dim,\n",
        "                    summary=False):\n",
        "        inputs = Input(shape=input_shape, name='encoder_input')\n",
        "        x = inputs\n",
        "        x = Dense(intermediate_dim, activation='relu')(x)\n",
        "        x = Dense(intermediate_dim//2, activation='linear')(x)\n",
        "        \n",
        "        z_mean = Dense(latent_dim, name='z_mean')(x)\n",
        "        z_log_var = Dense(latent_dim, name='z_log_var')(x)\n",
        "\n",
        "        z = Lambda(self.sampling, output_shape=(latent_dim,), \n",
        "                   name='z')([z_mean, z_log_var])\n",
        "\n",
        "        self.encoder = Model(inputs, [z_mean, z_log_var, z], \n",
        "                        name='encoder')\n",
        "        \n",
        "        latent_inputs = Input(shape=(latent_dim,), \n",
        "                              name='z_sampling')\n",
        "        x = latent_inputs\n",
        "        x = Dense(intermediate_dim//2, activation='relu')(x)\n",
        "        x = Dense(intermediate_dim, activation='relu')(x)\n",
        "        outputs = Dense(original_dim, activation='sigmoid')(x)\n",
        "\n",
        "        self.decoder = Model(latent_inputs, outputs, name='decoder')\n",
        "        outputs = self.decoder(self.encoder(inputs)[2])\n",
        "        self.vae = Model(inputs, outputs, name='vae_mlp')\n",
        "        \n",
        "        reconstruction_loss = binary_crossentropy(inputs, outputs)\n",
        "        reconstruction_loss *= original_dim\n",
        "        kl_loss = 1 + z_log_var - K.square(z_mean) - K.exp(z_log_var)\n",
        "        kl_loss = K.sum(kl_loss, axis=-1)\n",
        "        kl_loss *= -0.5\n",
        "        \n",
        "        vae_loss = K.mean(reconstruction_loss + kl_loss)\t\n",
        "        \n",
        "        self.vae.add_loss(vae_loss)\n",
        "        self.vae.compile(optimizer='adam')\n",
        "        if summary: \n",
        "            print(self.vae.summary())\n",
        "        \n",
        "    def sampling(self, args):\n",
        "        z_mean, z_log_var = args\n",
        "        batch = K.shape(z_mean)[0]\n",
        "        dim = K.int_shape(z_mean)[1]\n",
        "        epsilon = K.random_normal(shape=(batch, dim))\n",
        "        return z_mean + K.exp(0.5 * z_log_var) * epsilon\n",
        "        \n",
        "    def fit(self, x_train, x_test, epochs=100, batch_size=100,\n",
        "           verbose=1):\n",
        "        self.vae.fit(x_train, \n",
        "            shuffle=True,\n",
        "            epochs=epochs,\n",
        "            batch_size=batch_size,\n",
        "            verbose=verbose,\n",
        "            validation_data=(x_test, None))\n",
        "    \n",
        "    def encoder_predict(self, x_test, batch_size=100):\n",
        "        return self.encoder.predict(x_test,\n",
        "                                   batch_size=batch_size)\n",
        "    \n",
        "    def generate(self, latent_val, batch_size=100):\n",
        "        return self.decoder.predict(latent_val)\n",
        "    \n",
        "    def predict(self, x_test, batch_size=1):\n",
        "        prediction = self.vae.predict(x_test)\n",
        "        return prediction"
      ],
      "execution_count": 0,
      "outputs": []
    },
    {
      "cell_type": "markdown",
      "metadata": {
        "id": "KXhRjx02UYZN",
        "colab_type": "text"
      },
      "source": [
        "## Training VAE"
      ]
    },
    {
      "cell_type": "markdown",
      "metadata": {
        "id": "Wd02caRJWGG8",
        "colab_type": "text"
      },
      "source": [
        "Just let the last value to test"
      ]
    },
    {
      "cell_type": "code",
      "metadata": {
        "id": "XBbIF17p8iY2",
        "colab_type": "code",
        "outputId": "1eb83e56-8615-43eb-d797-dd951926910b",
        "colab": {
          "base_uri": "https://localhost:8080/",
          "height": 5256
        }
      },
      "source": [
        "latent_dim = original_dim//2\n",
        "if latent_dim < 2:\n",
        "    latent_dim = 2\n",
        "vae = VAE(intermediate_dim=intermediate_dim, latent_dim=latent_dim)\n",
        "vae.fit(x_train, x_test, epochs=150)"
      ],
      "execution_count": 13,
      "outputs": [
        {
          "output_type": "stream",
          "text": [
            "WARNING:tensorflow:From /usr/local/lib/python3.6/dist-packages/tensorflow/python/framework/op_def_library.py:263: colocate_with (from tensorflow.python.framework.ops) is deprecated and will be removed in a future version.\n",
            "Instructions for updating:\n",
            "Colocations handled automatically by placer.\n",
            "WARNING:tensorflow:From /usr/local/lib/python3.6/dist-packages/tensorflow/python/ops/math_ops.py:3066: to_int32 (from tensorflow.python.ops.math_ops) is deprecated and will be removed in a future version.\n",
            "Instructions for updating:\n",
            "Use tf.cast instead.\n",
            "Train on 1760 samples, validate on 1761 samples\n",
            "Epoch 1/150\n",
            "1760/1760 [==============================] - 1s 756us/step - loss: 29.4586 - val_loss: 28.3182\n",
            "Epoch 2/150\n",
            "1760/1760 [==============================] - 0s 99us/step - loss: 27.1679 - val_loss: 25.4552\n",
            "Epoch 3/150\n",
            "1760/1760 [==============================] - 0s 95us/step - loss: 23.8962 - val_loss: 23.0662\n",
            "Epoch 4/150\n",
            "1760/1760 [==============================] - 0s 93us/step - loss: 22.6596 - val_loss: 22.3829\n",
            "Epoch 5/150\n",
            "1760/1760 [==============================] - 0s 92us/step - loss: 22.1373 - val_loss: 21.9027\n",
            "Epoch 6/150\n",
            "1760/1760 [==============================] - 0s 92us/step - loss: 21.6997 - val_loss: 21.6288\n",
            "Epoch 7/150\n",
            "1760/1760 [==============================] - 0s 90us/step - loss: 21.3673 - val_loss: 20.9163\n",
            "Epoch 8/150\n",
            "1760/1760 [==============================] - 0s 93us/step - loss: 20.9183 - val_loss: 20.7259\n",
            "Epoch 9/150\n",
            "1760/1760 [==============================] - 0s 97us/step - loss: 20.4253 - val_loss: 20.1508\n",
            "Epoch 10/150\n",
            "1760/1760 [==============================] - 0s 92us/step - loss: 20.1765 - val_loss: 20.2500\n",
            "Epoch 11/150\n",
            "1760/1760 [==============================] - 0s 95us/step - loss: 19.9821 - val_loss: 19.9027\n",
            "Epoch 12/150\n",
            "1760/1760 [==============================] - 0s 90us/step - loss: 19.6312 - val_loss: 19.6576\n",
            "Epoch 13/150\n",
            "1760/1760 [==============================] - 0s 91us/step - loss: 19.4520 - val_loss: 19.1948\n",
            "Epoch 14/150\n",
            "1760/1760 [==============================] - 0s 92us/step - loss: 19.0890 - val_loss: 19.2073\n",
            "Epoch 15/150\n",
            "1760/1760 [==============================] - 0s 96us/step - loss: 19.0200 - val_loss: 18.9111\n",
            "Epoch 16/150\n",
            "1760/1760 [==============================] - 0s 91us/step - loss: 18.6121 - val_loss: 18.7652\n",
            "Epoch 17/150\n",
            "1760/1760 [==============================] - 0s 92us/step - loss: 18.5261 - val_loss: 18.4860\n",
            "Epoch 18/150\n",
            "1760/1760 [==============================] - 0s 95us/step - loss: 18.3822 - val_loss: 18.2722\n",
            "Epoch 19/150\n",
            "1760/1760 [==============================] - 0s 92us/step - loss: 18.2289 - val_loss: 18.3212\n",
            "Epoch 20/150\n",
            "1760/1760 [==============================] - 0s 93us/step - loss: 18.2150 - val_loss: 18.2161\n",
            "Epoch 21/150\n",
            "1760/1760 [==============================] - 0s 95us/step - loss: 18.0367 - val_loss: 18.1908\n",
            "Epoch 22/150\n",
            "1760/1760 [==============================] - 0s 94us/step - loss: 17.6360 - val_loss: 17.9138\n",
            "Epoch 23/150\n",
            "1760/1760 [==============================] - 0s 90us/step - loss: 17.7457 - val_loss: 17.8529\n",
            "Epoch 24/150\n",
            "1760/1760 [==============================] - 0s 93us/step - loss: 17.5174 - val_loss: 17.4327\n",
            "Epoch 25/150\n",
            "1760/1760 [==============================] - 0s 94us/step - loss: 17.3800 - val_loss: 17.6434\n",
            "Epoch 26/150\n",
            "1760/1760 [==============================] - 0s 92us/step - loss: 17.2738 - val_loss: 17.5103\n",
            "Epoch 27/150\n",
            "1760/1760 [==============================] - 0s 95us/step - loss: 17.1958 - val_loss: 17.4257\n",
            "Epoch 28/150\n",
            "1760/1760 [==============================] - 0s 92us/step - loss: 17.1410 - val_loss: 17.5640\n",
            "Epoch 29/150\n",
            "1760/1760 [==============================] - 0s 93us/step - loss: 17.2560 - val_loss: 17.6336\n",
            "Epoch 30/150\n",
            "1760/1760 [==============================] - 0s 93us/step - loss: 17.0121 - val_loss: 17.1359\n",
            "Epoch 31/150\n",
            "1760/1760 [==============================] - 0s 95us/step - loss: 16.9822 - val_loss: 17.2596\n",
            "Epoch 32/150\n",
            "1760/1760 [==============================] - 0s 91us/step - loss: 16.8794 - val_loss: 17.0678\n",
            "Epoch 33/150\n",
            "1760/1760 [==============================] - 0s 92us/step - loss: 16.9383 - val_loss: 16.9698\n",
            "Epoch 34/150\n",
            "1760/1760 [==============================] - 0s 99us/step - loss: 16.6405 - val_loss: 17.0670\n",
            "Epoch 35/150\n",
            "1760/1760 [==============================] - 0s 91us/step - loss: 16.6684 - val_loss: 16.9580\n",
            "Epoch 36/150\n",
            "1760/1760 [==============================] - 0s 96us/step - loss: 16.7140 - val_loss: 16.7009\n",
            "Epoch 37/150\n",
            "1760/1760 [==============================] - 0s 92us/step - loss: 16.6573 - val_loss: 16.7769\n",
            "Epoch 38/150\n",
            "1760/1760 [==============================] - 0s 92us/step - loss: 16.5758 - val_loss: 16.6146\n",
            "Epoch 39/150\n",
            "1760/1760 [==============================] - 0s 89us/step - loss: 16.3416 - val_loss: 16.8344\n",
            "Epoch 40/150\n",
            "1760/1760 [==============================] - 0s 108us/step - loss: 16.5015 - val_loss: 16.6742\n",
            "Epoch 41/150\n",
            "1760/1760 [==============================] - 0s 94us/step - loss: 16.3080 - val_loss: 16.5772\n",
            "Epoch 42/150\n",
            "1760/1760 [==============================] - 0s 95us/step - loss: 16.4631 - val_loss: 16.5933\n",
            "Epoch 43/150\n",
            "1760/1760 [==============================] - 0s 92us/step - loss: 16.1965 - val_loss: 16.4732\n",
            "Epoch 44/150\n",
            "1760/1760 [==============================] - 0s 93us/step - loss: 16.3386 - val_loss: 16.7365\n",
            "Epoch 45/150\n",
            "1760/1760 [==============================] - 0s 93us/step - loss: 16.1628 - val_loss: 16.5044\n",
            "Epoch 46/150\n",
            "1760/1760 [==============================] - 0s 97us/step - loss: 16.1494 - val_loss: 16.7152\n",
            "Epoch 47/150\n",
            "1760/1760 [==============================] - 0s 92us/step - loss: 16.1251 - val_loss: 16.5529\n",
            "Epoch 48/150\n",
            "1760/1760 [==============================] - 0s 95us/step - loss: 16.3467 - val_loss: 16.4458\n",
            "Epoch 49/150\n",
            "1760/1760 [==============================] - 0s 92us/step - loss: 16.1189 - val_loss: 16.5847\n",
            "Epoch 50/150\n",
            "1760/1760 [==============================] - 0s 92us/step - loss: 16.1121 - val_loss: 16.5092\n",
            "Epoch 51/150\n",
            "1760/1760 [==============================] - 0s 92us/step - loss: 15.9685 - val_loss: 16.3268\n",
            "Epoch 52/150\n",
            "1760/1760 [==============================] - 0s 96us/step - loss: 16.0982 - val_loss: 16.2523\n",
            "Epoch 53/150\n",
            "1760/1760 [==============================] - 0s 91us/step - loss: 15.9228 - val_loss: 16.2407\n",
            "Epoch 54/150\n",
            "1760/1760 [==============================] - 0s 93us/step - loss: 16.1100 - val_loss: 16.5802\n",
            "Epoch 55/150\n",
            "1760/1760 [==============================] - 0s 91us/step - loss: 16.0570 - val_loss: 16.1447\n",
            "Epoch 56/150\n",
            "1760/1760 [==============================] - 0s 92us/step - loss: 15.8828 - val_loss: 16.4909\n",
            "Epoch 57/150\n",
            "1760/1760 [==============================] - 0s 92us/step - loss: 16.0779 - val_loss: 16.2688\n",
            "Epoch 58/150\n",
            "1760/1760 [==============================] - 0s 96us/step - loss: 15.7390 - val_loss: 16.0932\n",
            "Epoch 59/150\n",
            "1760/1760 [==============================] - 0s 91us/step - loss: 15.8202 - val_loss: 16.2142\n",
            "Epoch 60/150\n",
            "1760/1760 [==============================] - 0s 92us/step - loss: 16.0534 - val_loss: 16.1947\n",
            "Epoch 61/150\n",
            "1760/1760 [==============================] - 0s 93us/step - loss: 15.7392 - val_loss: 16.2879\n",
            "Epoch 62/150\n",
            "1760/1760 [==============================] - 0s 91us/step - loss: 15.8604 - val_loss: 16.1776\n",
            "Epoch 63/150\n",
            "1760/1760 [==============================] - 0s 93us/step - loss: 15.8470 - val_loss: 16.0487\n",
            "Epoch 64/150\n",
            "1760/1760 [==============================] - 0s 91us/step - loss: 15.6965 - val_loss: 16.2022\n",
            "Epoch 65/150\n",
            "1760/1760 [==============================] - 0s 95us/step - loss: 15.6759 - val_loss: 16.3854\n",
            "Epoch 66/150\n",
            "1760/1760 [==============================] - 0s 99us/step - loss: 15.8083 - val_loss: 16.0906\n",
            "Epoch 67/150\n",
            "1760/1760 [==============================] - 0s 93us/step - loss: 15.7143 - val_loss: 16.0166\n",
            "Epoch 68/150\n",
            "1760/1760 [==============================] - 0s 92us/step - loss: 15.8335 - val_loss: 16.0476\n",
            "Epoch 69/150\n",
            "1760/1760 [==============================] - 0s 91us/step - loss: 15.4732 - val_loss: 16.0751\n",
            "Epoch 70/150\n",
            "1760/1760 [==============================] - 0s 91us/step - loss: 15.7028 - val_loss: 16.1092\n",
            "Epoch 71/150\n",
            "1760/1760 [==============================] - 0s 99us/step - loss: 15.6928 - val_loss: 16.0747\n",
            "Epoch 72/150\n",
            "1760/1760 [==============================] - 0s 92us/step - loss: 15.6831 - val_loss: 16.1395\n",
            "Epoch 73/150\n",
            "1760/1760 [==============================] - 0s 91us/step - loss: 15.4880 - val_loss: 16.0332\n",
            "Epoch 74/150\n",
            "1760/1760 [==============================] - 0s 92us/step - loss: 15.4378 - val_loss: 16.0953\n",
            "Epoch 75/150\n",
            "1760/1760 [==============================] - 0s 90us/step - loss: 15.6858 - val_loss: 15.9062\n",
            "Epoch 76/150\n",
            "1760/1760 [==============================] - 0s 91us/step - loss: 15.6187 - val_loss: 15.8900\n",
            "Epoch 77/150\n",
            "1760/1760 [==============================] - 0s 94us/step - loss: 15.4826 - val_loss: 16.1400\n",
            "Epoch 78/150\n",
            "1760/1760 [==============================] - 0s 91us/step - loss: 15.4593 - val_loss: 15.9449\n",
            "Epoch 79/150\n",
            "1760/1760 [==============================] - 0s 94us/step - loss: 15.7577 - val_loss: 16.1612\n",
            "Epoch 80/150\n",
            "1760/1760 [==============================] - 0s 94us/step - loss: 15.6521 - val_loss: 15.8945\n",
            "Epoch 81/150\n",
            "1760/1760 [==============================] - 0s 92us/step - loss: 15.5361 - val_loss: 16.0399\n",
            "Epoch 82/150\n",
            "1760/1760 [==============================] - 0s 98us/step - loss: 15.4506 - val_loss: 15.9191\n",
            "Epoch 83/150\n",
            "1760/1760 [==============================] - 0s 98us/step - loss: 15.5643 - val_loss: 15.7758\n",
            "Epoch 84/150\n",
            "1760/1760 [==============================] - 0s 93us/step - loss: 15.3911 - val_loss: 15.7595\n",
            "Epoch 85/150\n",
            "1760/1760 [==============================] - 0s 90us/step - loss: 15.5455 - val_loss: 16.0134\n",
            "Epoch 86/150\n",
            "1760/1760 [==============================] - 0s 90us/step - loss: 15.3365 - val_loss: 15.9217\n",
            "Epoch 87/150\n",
            "1760/1760 [==============================] - 0s 93us/step - loss: 15.3756 - val_loss: 15.9399\n",
            "Epoch 88/150\n",
            "1760/1760 [==============================] - 0s 92us/step - loss: 15.4376 - val_loss: 15.9466\n",
            "Epoch 89/150\n",
            "1760/1760 [==============================] - 0s 97us/step - loss: 15.3403 - val_loss: 15.7303\n",
            "Epoch 90/150\n",
            "1760/1760 [==============================] - 0s 93us/step - loss: 15.4159 - val_loss: 16.0321\n",
            "Epoch 91/150\n",
            "1760/1760 [==============================] - 0s 92us/step - loss: 15.5879 - val_loss: 16.0153\n",
            "Epoch 92/150\n",
            "1760/1760 [==============================] - 0s 91us/step - loss: 15.5333 - val_loss: 15.7884\n",
            "Epoch 93/150\n",
            "1760/1760 [==============================] - 0s 93us/step - loss: 15.5127 - val_loss: 15.8933\n",
            "Epoch 94/150\n",
            "1760/1760 [==============================] - 0s 92us/step - loss: 15.4440 - val_loss: 15.8471\n",
            "Epoch 95/150\n",
            "1760/1760 [==============================] - 0s 93us/step - loss: 15.2471 - val_loss: 15.7545\n",
            "Epoch 96/150\n",
            "1760/1760 [==============================] - 0s 95us/step - loss: 15.4518 - val_loss: 15.8994\n",
            "Epoch 97/150\n",
            "1760/1760 [==============================] - 0s 93us/step - loss: 15.3102 - val_loss: 15.6561\n",
            "Epoch 98/150\n",
            "1760/1760 [==============================] - 0s 91us/step - loss: 15.3167 - val_loss: 15.8231\n",
            "Epoch 99/150\n",
            "1760/1760 [==============================] - 0s 91us/step - loss: 15.1796 - val_loss: 15.7865\n",
            "Epoch 100/150\n",
            "1760/1760 [==============================] - 0s 94us/step - loss: 15.2565 - val_loss: 15.9884\n",
            "Epoch 101/150\n",
            "1760/1760 [==============================] - 0s 91us/step - loss: 15.2673 - val_loss: 15.9729\n",
            "Epoch 102/150\n",
            "1760/1760 [==============================] - 0s 98us/step - loss: 15.3950 - val_loss: 16.0373\n",
            "Epoch 103/150\n",
            "1760/1760 [==============================] - 0s 92us/step - loss: 15.2978 - val_loss: 15.8081\n",
            "Epoch 104/150\n",
            "1760/1760 [==============================] - 0s 102us/step - loss: 15.3889 - val_loss: 15.7322\n",
            "Epoch 105/150\n",
            "1760/1760 [==============================] - 0s 93us/step - loss: 15.3135 - val_loss: 15.9519\n",
            "Epoch 106/150\n",
            "1760/1760 [==============================] - 0s 95us/step - loss: 15.3533 - val_loss: 15.8855\n",
            "Epoch 107/150\n",
            "1760/1760 [==============================] - 0s 92us/step - loss: 15.3211 - val_loss: 15.8796\n",
            "Epoch 108/150\n",
            "1760/1760 [==============================] - 0s 98us/step - loss: 15.3165 - val_loss: 15.7515\n",
            "Epoch 109/150\n",
            "1760/1760 [==============================] - 0s 91us/step - loss: 15.1836 - val_loss: 15.9439\n",
            "Epoch 110/150\n",
            "1760/1760 [==============================] - 0s 90us/step - loss: 15.3084 - val_loss: 15.8527\n",
            "Epoch 111/150\n",
            "1760/1760 [==============================] - 0s 93us/step - loss: 15.2080 - val_loss: 15.9240\n",
            "Epoch 112/150\n",
            "1760/1760 [==============================] - 0s 91us/step - loss: 15.2881 - val_loss: 15.8610\n",
            "Epoch 113/150\n",
            "1760/1760 [==============================] - 0s 92us/step - loss: 15.2523 - val_loss: 15.8281\n",
            "Epoch 114/150\n",
            "1760/1760 [==============================] - 0s 95us/step - loss: 15.1792 - val_loss: 15.8604\n",
            "Epoch 115/150\n",
            "1760/1760 [==============================] - 0s 92us/step - loss: 15.3396 - val_loss: 15.8462\n",
            "Epoch 116/150\n",
            "1760/1760 [==============================] - 0s 89us/step - loss: 15.1970 - val_loss: 15.7363\n",
            "Epoch 117/150\n",
            "1760/1760 [==============================] - 0s 92us/step - loss: 15.2239 - val_loss: 15.6996\n",
            "Epoch 118/150\n",
            "1760/1760 [==============================] - 0s 93us/step - loss: 15.4421 - val_loss: 15.9333\n",
            "Epoch 119/150\n",
            "1760/1760 [==============================] - 0s 91us/step - loss: 15.3415 - val_loss: 16.0681\n",
            "Epoch 120/150\n",
            "1760/1760 [==============================] - 0s 96us/step - loss: 15.2762 - val_loss: 15.8660\n",
            "Epoch 121/150\n",
            "1760/1760 [==============================] - 0s 97us/step - loss: 15.4031 - val_loss: 15.7907\n",
            "Epoch 122/150\n",
            "1760/1760 [==============================] - 0s 93us/step - loss: 15.1877 - val_loss: 15.9103\n",
            "Epoch 123/150\n",
            "1760/1760 [==============================] - 0s 92us/step - loss: 15.2763 - val_loss: 15.6513\n",
            "Epoch 124/150\n",
            "1760/1760 [==============================] - 0s 92us/step - loss: 15.2177 - val_loss: 15.7390\n",
            "Epoch 125/150\n",
            "1760/1760 [==============================] - 0s 92us/step - loss: 15.2407 - val_loss: 15.7826\n",
            "Epoch 126/150\n",
            "1760/1760 [==============================] - 0s 93us/step - loss: 15.2523 - val_loss: 15.8645\n",
            "Epoch 127/150\n",
            "1760/1760 [==============================] - 0s 96us/step - loss: 15.1632 - val_loss: 15.9498\n",
            "Epoch 128/150\n",
            "1760/1760 [==============================] - 0s 92us/step - loss: 15.2787 - val_loss: 15.6295\n",
            "Epoch 129/150\n",
            "1760/1760 [==============================] - 0s 90us/step - loss: 15.0881 - val_loss: 15.8225\n",
            "Epoch 130/150\n",
            "1760/1760 [==============================] - 0s 91us/step - loss: 15.1406 - val_loss: 15.7321\n",
            "Epoch 131/150\n",
            "1760/1760 [==============================] - 0s 94us/step - loss: 15.2624 - val_loss: 15.6916\n",
            "Epoch 132/150\n",
            "1760/1760 [==============================] - 0s 95us/step - loss: 15.0035 - val_loss: 15.6945\n",
            "Epoch 133/150\n",
            "1760/1760 [==============================] - 0s 97us/step - loss: 15.1707 - val_loss: 15.7288\n",
            "Epoch 134/150\n",
            "1760/1760 [==============================] - 0s 94us/step - loss: 15.2975 - val_loss: 15.8720\n",
            "Epoch 135/150\n",
            "1760/1760 [==============================] - 0s 90us/step - loss: 15.1974 - val_loss: 15.7971\n",
            "Epoch 136/150\n",
            "1760/1760 [==============================] - 0s 90us/step - loss: 15.1897 - val_loss: 15.7157\n",
            "Epoch 137/150\n",
            "1760/1760 [==============================] - 0s 92us/step - loss: 15.3941 - val_loss: 15.7494\n",
            "Epoch 138/150\n",
            "1760/1760 [==============================] - 0s 93us/step - loss: 15.1818 - val_loss: 16.1465\n",
            "Epoch 139/150\n",
            "1760/1760 [==============================] - 0s 97us/step - loss: 15.2682 - val_loss: 15.6229\n",
            "Epoch 140/150\n",
            "1760/1760 [==============================] - 0s 93us/step - loss: 15.1359 - val_loss: 15.8221\n",
            "Epoch 141/150\n",
            "1760/1760 [==============================] - 0s 91us/step - loss: 14.9760 - val_loss: 15.8019\n",
            "Epoch 142/150\n",
            "1760/1760 [==============================] - 0s 92us/step - loss: 15.1253 - val_loss: 15.7086\n",
            "Epoch 143/150\n",
            "1760/1760 [==============================] - 0s 91us/step - loss: 15.0154 - val_loss: 15.9445\n",
            "Epoch 144/150\n",
            "1760/1760 [==============================] - 0s 93us/step - loss: 15.2935 - val_loss: 15.6462\n",
            "Epoch 145/150\n",
            "1760/1760 [==============================] - 0s 98us/step - loss: 15.1074 - val_loss: 15.7780\n",
            "Epoch 146/150\n",
            "1760/1760 [==============================] - 0s 93us/step - loss: 15.0614 - val_loss: 15.5854\n",
            "Epoch 147/150\n",
            "1760/1760 [==============================] - 0s 92us/step - loss: 15.0752 - val_loss: 15.7644\n",
            "Epoch 148/150\n",
            "1760/1760 [==============================] - 0s 94us/step - loss: 14.9711 - val_loss: 15.7303\n",
            "Epoch 149/150\n",
            "1760/1760 [==============================] - 0s 93us/step - loss: 15.1110 - val_loss: 15.7887\n",
            "Epoch 150/150\n",
            "1760/1760 [==============================] - 0s 91us/step - loss: 15.1192 - val_loss: 15.8807\n"
          ],
          "name": "stdout"
        }
      ]
    },
    {
      "cell_type": "code",
      "metadata": {
        "id": "ZiV2iQyVwSdN",
        "colab_type": "code",
        "outputId": "f1b661e0-a333-4040-c234-e432a514ab4b",
        "colab": {
          "base_uri": "https://localhost:8080/",
          "height": 34
        }
      },
      "source": [
        "np.random.seed(1)\n",
        "x_test = np.reshape(x_test, (-1, original_dim))\n",
        "x_test_encoded = vae.encoder.predict(x_test)\n",
        "x_test_encoded = np.asarray(x_test_encoded)\n",
        "\n",
        "print(x_test_encoded.shape)"
      ],
      "execution_count": 14,
      "outputs": [
        {
          "output_type": "stream",
          "text": [
            "(3, 1761, 23)\n"
          ],
          "name": "stdout"
        }
      ]
    },
    {
      "cell_type": "code",
      "metadata": {
        "id": "qTfvSN_R2c76",
        "colab_type": "code",
        "outputId": "781dd9fc-6911-412c-e950-ec07b541480d",
        "colab": {
          "base_uri": "https://localhost:8080/",
          "height": 34
        }
      },
      "source": [
        "total_nums = 2\n",
        "results = []\n",
        "for i in range(x_test_encoded.shape[1]):\n",
        "    latent_gen = []\n",
        "    for j in range(x_test_encoded.shape[2]):\n",
        "        mean_v1 = x_test_encoded[0, i, j]\n",
        "        log_var_v1 = x_test_encoded[1, i, j]\n",
        "\n",
        "        v1 = [mean_v1 + np.exp(log_var_v1/2)*np.random.normal(0., 1., 1) for _ in range(total_nums)]\n",
        "        v1 = np.asarray(v1).flatten()\n",
        "        latent_gen.append(v1)\n",
        "    \n",
        "    input_val = np.asarray(latent_gen)\n",
        "    input_val = input_val.reshape((-1, latent_dim))\n",
        "    results.append(vae.generate(input_val))\n",
        "        \n",
        "results = np.asarray(results)\n",
        "results = np.reshape(results, (-1, original_dim))\n",
        "print(results.shape)\n",
        "results = scaler.inverse_transform(results)"
      ],
      "execution_count": 15,
      "outputs": [
        {
          "output_type": "stream",
          "text": [
            "(3522, 47)\n"
          ],
          "name": "stdout"
        }
      ]
    },
    {
      "cell_type": "code",
      "metadata": {
        "id": "xdg-w-3eMquu",
        "colab_type": "code",
        "outputId": "d4101d15-4908-4fcd-917c-4446bdc02812",
        "colab": {
          "base_uri": "https://localhost:8080/",
          "height": 51
        }
      },
      "source": [
        "print(len(results[:, 1]))\n",
        "print(results[0, 0])"
      ],
      "execution_count": 16,
      "outputs": [
        {
          "output_type": "stream",
          "text": [
            "3522\n",
            "0.11541468\n"
          ],
          "name": "stdout"
        }
      ]
    },
    {
      "cell_type": "code",
      "metadata": {
        "id": "fC6DiGV8MV9W",
        "colab_type": "code",
        "colab": {}
      },
      "source": [
        "d = {}\n",
        "names = list(df)\n",
        "for i, name in enumerate(names):\n",
        "    d[name] = results[:, i]\n",
        "df = pd.DataFrame(data=d)"
      ],
      "execution_count": 0,
      "outputs": []
    },
    {
      "cell_type": "code",
      "metadata": {
        "id": "49_bbWWCsrHG",
        "colab_type": "code",
        "outputId": "6c34fa1d-636a-4ff8-c06f-50c4c67d6cdd",
        "colab": {
          "base_uri": "https://localhost:8080/",
          "height": 238
        }
      },
      "source": [
        "names = list(df)\n",
        "c_dict = {}\n",
        "for n in names:\n",
        "    if '_' in n:\n",
        "        index = n.index('_')\n",
        "        c_dict[n[:index]] = [c for c in names if n[:index+1] in c]\n",
        "values = []\n",
        "for key, items in c_dict.items():\n",
        "    dummies = df[items]\n",
        "    d_names = list(dummies)\n",
        "    c_dict = {}\n",
        "    for n in d_names:\n",
        "        c_dict[n] = n[n.index('_')+1:]\n",
        "    dummies.rename(columns=c_dict, \n",
        "                   inplace=True)\n",
        "    df[key] = dummies.idxmax(axis=1)\n",
        "    df.drop(items, axis=1, inplace=True)\n",
        "print(df.head())"
      ],
      "execution_count": 18,
      "outputs": [
        {
          "output_type": "stream",
          "text": [
            "/usr/local/lib/python3.6/dist-packages/pandas/core/frame.py:4025: SettingWithCopyWarning: \n",
            "A value is trying to be set on a copy of a slice from a DataFrame\n",
            "\n",
            "See the caveats in the documentation: http://pandas.pydata.org/pandas-docs/stable/indexing.html#indexing-view-versus-copy\n",
            "  return super(DataFrame, self).rename(**kwargs)\n"
          ],
          "name": "stderr"
        },
        {
          "output_type": "stream",
          "text": [
            "   SeniorCitizen     tenure  ...            PaymentMethod  Churn\n",
            "0       0.115415  31.163046  ...  Credit card (automatic)     No\n",
            "1       0.002976   9.138953  ...             Mailed check     No\n",
            "2       0.176751  10.862296  ...         Electronic check    Yes\n",
            "3       0.323760  27.991091  ...         Electronic check    Yes\n",
            "4       0.023901  38.340378  ...  Credit card (automatic)     No\n",
            "\n",
            "[5 rows x 20 columns]\n"
          ],
          "name": "stdout"
        }
      ]
    },
    {
      "cell_type": "code",
      "metadata": {
        "id": "1ljK-ceANBih",
        "colab_type": "code",
        "colab": {}
      },
      "source": [
        "df = df.reindex(sorted(df.columns), axis=1)\n",
        "df.to_csv(path + '_vae.csv')"
      ],
      "execution_count": 0,
      "outputs": []
    },
    {
      "cell_type": "markdown",
      "metadata": {
        "colab_type": "text",
        "id": "SZr05ADu6LQP"
      },
      "source": [
        "# Dropout VAE"
      ]
    },
    {
      "cell_type": "markdown",
      "metadata": {
        "colab_type": "text",
        "id": "70nAVW82oNMV"
      },
      "source": [
        "## Read Data"
      ]
    },
    {
      "cell_type": "code",
      "metadata": {
        "colab_type": "code",
        "outputId": "4f47d498-dde2-41b6-d467-90abcbed92f3",
        "id": "EUDQdDxxT29T",
        "colab": {
          "base_uri": "https://localhost:8080/",
          "height": 595
        }
      },
      "source": [
        "import pandas as pd\n",
        "na_values = {'?', ' '}\n",
        "df = pd.read_csv(path,\n",
        "                 sep=',',\n",
        "                 na_filter=True, \n",
        "                 verbose=False, \n",
        "                 skip_blank_lines=True, \n",
        "                 na_values=na_values,\n",
        "                 keep_default_na=False)\n",
        "                 \n",
        "df.fillna(method='ffill', inplace=True)\n",
        "df.dropna(axis=1, how='any', inplace=True)\n",
        "df.drop(['customerID'], axis=1, inplace=True)\n",
        "df = df.reset_index(drop=True)\n",
        "print(df.info())\n",
        "print(df.head())"
      ],
      "execution_count": 20,
      "outputs": [
        {
          "output_type": "stream",
          "text": [
            "<class 'pandas.core.frame.DataFrame'>\n",
            "RangeIndex: 7043 entries, 0 to 7042\n",
            "Data columns (total 20 columns):\n",
            "gender              7043 non-null object\n",
            "SeniorCitizen       7043 non-null int64\n",
            "Partner             7043 non-null object\n",
            "Dependents          7043 non-null object\n",
            "tenure              7043 non-null int64\n",
            "PhoneService        7043 non-null object\n",
            "MultipleLines       7043 non-null object\n",
            "InternetService     7043 non-null object\n",
            "OnlineSecurity      7043 non-null object\n",
            "OnlineBackup        7043 non-null object\n",
            "DeviceProtection    7043 non-null object\n",
            "TechSupport         7043 non-null object\n",
            "StreamingTV         7043 non-null object\n",
            "StreamingMovies     7043 non-null object\n",
            "Contract            7043 non-null object\n",
            "PaperlessBilling    7043 non-null object\n",
            "PaymentMethod       7043 non-null object\n",
            "MonthlyCharges      7043 non-null float64\n",
            "TotalCharges        7043 non-null float64\n",
            "Churn               7043 non-null object\n",
            "dtypes: float64(2), int64(2), object(16)\n",
            "memory usage: 1.1+ MB\n",
            "None\n",
            "   gender  SeniorCitizen Partner  ... MonthlyCharges  TotalCharges Churn\n",
            "0  Female              0     Yes  ...          29.85         29.85    No\n",
            "1    Male              0      No  ...          56.95       1889.50    No\n",
            "2    Male              0      No  ...          53.85        108.15   Yes\n",
            "3    Male              0      No  ...          42.30       1840.75    No\n",
            "4  Female              0      No  ...          70.70        151.65   Yes\n",
            "\n",
            "[5 rows x 20 columns]\n"
          ],
          "name": "stdout"
        }
      ]
    },
    {
      "cell_type": "markdown",
      "metadata": {
        "colab_type": "text",
        "id": "JptPeF-IT29g"
      },
      "source": [
        "## Change Categorical data --> numbers"
      ]
    },
    {
      "cell_type": "code",
      "metadata": {
        "colab_type": "code",
        "outputId": "6f9ad9c2-5f27-47c2-9cde-2ea9936c0742",
        "id": "ezmEK3h-T29h",
        "colab": {
          "base_uri": "https://localhost:8080/",
          "height": 153
        }
      },
      "source": [
        "colnums = len(df.columns)\n",
        "for i in df.columns:\n",
        "    try:\n",
        "        if df[i].dtype.name == 'object':\n",
        "            df[i] = df[i].astype('category')\n",
        "        else:\n",
        "            df[i].astype('float32')\n",
        "    except:\n",
        "        continue\n",
        "print(df.head())"
      ],
      "execution_count": 21,
      "outputs": [
        {
          "output_type": "stream",
          "text": [
            "   gender  SeniorCitizen Partner  ... MonthlyCharges  TotalCharges Churn\n",
            "0  Female              0     Yes  ...          29.85         29.85    No\n",
            "1    Male              0      No  ...          56.95       1889.50    No\n",
            "2    Male              0      No  ...          53.85        108.15   Yes\n",
            "3    Male              0      No  ...          42.30       1840.75    No\n",
            "4  Female              0      No  ...          70.70        151.65   Yes\n",
            "\n",
            "[5 rows x 20 columns]\n"
          ],
          "name": "stdout"
        }
      ]
    },
    {
      "cell_type": "code",
      "metadata": {
        "colab_type": "code",
        "outputId": "25ec4616-2e79-4ae9-8754-a928017ca490",
        "id": "oapUxtIiT29l",
        "colab": {
          "base_uri": "https://localhost:8080/",
          "height": 153
        }
      },
      "source": [
        "from sklearn.model_selection import train_test_split\n",
        "from sklearn.preprocessing import MinMaxScaler, StandardScaler\n",
        "vals = df.values.copy()\n",
        "total_nums = len(vals)\n",
        "\n",
        "train, validation = train_test_split(df, test_size=0.5, \n",
        "                                     random_state=42, \n",
        "                                     shuffle=True)\n",
        "\n",
        "validation = validation.reindex(sorted(validation.columns), axis=1)\n",
        "validation.to_csv(path + '_For_Test.csv')\n",
        "print(validation.head())"
      ],
      "execution_count": 22,
      "outputs": [
        {
          "output_type": "stream",
          "text": [
            "     Churn        Contract Dependents  ... TotalCharges  gender  tenure\n",
            "185    Yes  Month-to-month         No  ...        24.80  Female       1\n",
            "2715    No  Month-to-month         No  ...       996.45    Male      41\n",
            "3825    No        Two year        Yes  ...      1031.70  Female      52\n",
            "1807   Yes  Month-to-month         No  ...        76.35  Female       1\n",
            "132     No        Two year         No  ...      3260.10    Male      67\n",
            "\n",
            "[5 rows x 20 columns]\n"
          ],
          "name": "stdout"
        }
      ]
    },
    {
      "cell_type": "code",
      "metadata": {
        "colab_type": "code",
        "outputId": "1d29286c-cb06-4040-acab-965fa3d6087b",
        "id": "HAVFi13QT29o",
        "colab": {
          "base_uri": "https://localhost:8080/",
          "height": 102
        }
      },
      "source": [
        "df = train\n",
        "categorical = df.select_dtypes(['category']).columns\n",
        "print(categorical)\n",
        "for f in categorical:\n",
        "    dummies = pd.get_dummies(df[f], prefix = f, prefix_sep = '_')\n",
        "    df = pd.concat([df, dummies], axis = 1)\n",
        "    \n",
        "# drop original categorical features\n",
        "df.drop(categorical, axis = 1, inplace = True)"
      ],
      "execution_count": 23,
      "outputs": [
        {
          "output_type": "stream",
          "text": [
            "Index(['gender', 'Partner', 'Dependents', 'PhoneService', 'MultipleLines',\n",
            "       'InternetService', 'OnlineSecurity', 'OnlineBackup', 'DeviceProtection',\n",
            "       'TechSupport', 'StreamingTV', 'StreamingMovies', 'Contract',\n",
            "       'PaperlessBilling', 'PaymentMethod', 'Churn'],\n",
            "      dtype='object')\n"
          ],
          "name": "stdout"
        }
      ]
    },
    {
      "cell_type": "code",
      "metadata": {
        "colab_type": "code",
        "id": "9KXhkZujT29r",
        "colab": {}
      },
      "source": [
        "train = df.values.copy()\n",
        "train.astype('float32')\n",
        "scaler = MinMaxScaler()\n",
        "d = {}\n",
        "train = scaler.fit_transform(train)\n",
        "x_train, x_test = train_test_split(train, test_size=0.5,\n",
        "                                  random_state=24,\n",
        "                                  shuffle=True)"
      ],
      "execution_count": 0,
      "outputs": []
    },
    {
      "cell_type": "code",
      "metadata": {
        "colab_type": "code",
        "outputId": "48f51c94-3ce3-4da6-aa15-005492e71b4e",
        "id": "fa5UJs9cT29v",
        "colab": {
          "base_uri": "https://localhost:8080/",
          "height": 51
        }
      },
      "source": [
        "original_dim = x_train.shape[1]\n",
        "x_train = np.reshape(x_train, [-1, original_dim])\n",
        "x_test = np.reshape(x_test, [-1, original_dim])\n",
        "x_train = x_train.astype('float32')\n",
        "x_test = x_test.astype('float32')\n",
        "print(x_train.shape)\n",
        "print(x_test.shape)"
      ],
      "execution_count": 25,
      "outputs": [
        {
          "output_type": "stream",
          "text": [
            "(1760, 47)\n",
            "(1761, 47)\n"
          ],
          "name": "stdout"
        }
      ]
    },
    {
      "cell_type": "code",
      "metadata": {
        "colab_type": "code",
        "id": "MnKFnBX-6LQR",
        "colab": {}
      },
      "source": [
        "from keras.regularizers import l2\n",
        "from keras.losses import categorical_crossentropy\n",
        "class DropoutVAE:\n",
        "    def __init__(self, input_shape=(original_dim,), \n",
        "                 intermediate_dim=32, latent_dim=3, dropout=0.05, \n",
        "                 summary=False):\n",
        "        \n",
        "        self._build_model(input_shape,\n",
        "                         intermediate_dim, \n",
        "                          latent_dim, summary,\n",
        "                          dropout)\n",
        "    \n",
        "    def _build_model(self, input_shape, intermediate_dim, latent_dim,\n",
        "                    summary=False, dropout=0.05):\n",
        "        inputs = Input(shape=input_shape, name='encoder_input')\n",
        "        x = inputs\n",
        "        x = Dense(intermediate_dim, activation='relu')(x)\n",
        "        x = Dense(intermediate_dim//2, activation='relu')(x)\n",
        "        \n",
        "        z_mean = Dense(latent_dim, name='z_mean')(x)\n",
        "        z_log_var = Dense(latent_dim, name='z_log_var')(x)\n",
        "\n",
        "        z = Lambda(self.sampling, output_shape=(latent_dim,), \n",
        "                   name='z')([z_mean, z_log_var])\n",
        "\n",
        "        self.encoder = Model(inputs, [z_mean, z_log_var, z], \n",
        "                        name='encoder')\n",
        "        \n",
        "        latent_inputs = Input(shape=(latent_dim,), \n",
        "                              name='z_sampling')\n",
        "        x = latent_inputs\n",
        "        x = Dense(intermediate_dim//2, activation='relu',\n",
        "                 kernel_regularizer=l2(1e-4),\n",
        "                 bias_regularizer=l2(1e-4))(x)\n",
        "        x = Dropout(dropout)(x)\n",
        "        x = Dense(intermediate_dim, activation='relu',\n",
        "                 kernel_regularizer=l2(1e-4),\n",
        "                 bias_regularizer=l2(1e-4))(x)\n",
        "        x = Dropout(dropout)(x)\n",
        "        outputs = Dense(original_dim, activation='sigmoid',\n",
        "                       kernel_regularizer=l2(1e-4),\n",
        "                       bias_regularizer=l2(1e-4))(x)\n",
        "\n",
        "        self.decoder = Model(latent_inputs, \n",
        "                             outputs, \n",
        "                             name='decoder')\n",
        "        outputs = self.decoder(self.encoder(inputs)[2])\n",
        "        self.vae = Model(inputs, outputs, \n",
        "                         name='vae_mlp')\n",
        "        \n",
        "        reconstruction_loss = binary_crossentropy(inputs, outputs)\n",
        "        reconstruction_loss *= original_dim\n",
        "        kl_loss = 1 + z_log_var - K.square(z_mean) - K.exp(z_log_var)\n",
        "        kl_loss = K.sum(kl_loss, axis=-1)\n",
        "        kl_loss *= -0.5\n",
        "        \n",
        "        vae_loss = K.mean(reconstruction_loss + kl_loss)\t\n",
        "        \n",
        "        self.vae.add_loss(vae_loss)\n",
        "        self.vae.compile(optimizer='adam')\n",
        "        if summary: \n",
        "            print(self.vae.summary())\n",
        "        \n",
        "    def sampling(self, args):\n",
        "        z_mean, z_log_var = args\n",
        "        batch = K.shape(z_mean)[0]\n",
        "        dim = K.int_shape(z_mean)[1]\n",
        "        epsilon = K.random_normal(shape=(batch, dim))\n",
        "        return z_mean + K.exp(0.5 * z_log_var) * epsilon\n",
        "        \n",
        "    def fit(self, x_train, x_test, epochs=100, batch_size=100,\n",
        "           verbose=1):\n",
        "        self.vae.fit(x_train, \n",
        "            shuffle=True,\n",
        "            epochs=epochs,\n",
        "            batch_size=batch_size,\n",
        "            verbose=verbose,\n",
        "            validation_data=(x_test, None))\n",
        "    \n",
        "    def encoder_predict(self, x_test, batch_size=100):\n",
        "        return self.encoder.predict(x_test,\n",
        "                                   batch_size=batch_size)\n",
        "    \n",
        "    def generate(self, latent_val, batch_size=100):\n",
        "        return self.decoder.predict(latent_val)\n",
        "    \n",
        "    def predict(self, x_test, batch_size=1, nums=1000):\n",
        "        predict_stochastic = K.function([self.vae.layers[0].input,\n",
        "                                        K.learning_phase()],\n",
        "                                        [self.vae.get_output_at(0)])\n",
        "        Yt_hat = np.array([self.vae.predict(x_test) for _ in range(nums)]) \n",
        "        return Yt_hat"
      ],
      "execution_count": 0,
      "outputs": []
    },
    {
      "cell_type": "markdown",
      "metadata": {
        "colab_type": "text",
        "id": "TsARTKz36LQZ"
      },
      "source": [
        "## Train and evaluate Dropout VAE"
      ]
    },
    {
      "cell_type": "code",
      "metadata": {
        "colab_type": "code",
        "id": "pkdmVggK6LQp",
        "outputId": "4527c69b-c19b-43b8-c38f-722ad26bf593",
        "colab": {
          "base_uri": "https://localhost:8080/",
          "height": 3743
        }
      },
      "source": [
        "latent_dim = original_dim//2\n",
        "if latent_dim < 2:\n",
        "    latent_dim = 2\n",
        "vae = DropoutVAE(intermediate_dim=intermediate_dim,\n",
        "                 dropout=0.2, latent_dim=latent_dim,\n",
        "                 summary=True)\n",
        "vae.fit(x_train, x_test, epochs=100)"
      ],
      "execution_count": 27,
      "outputs": [
        {
          "output_type": "stream",
          "text": [
            "WARNING:tensorflow:From /usr/local/lib/python3.6/dist-packages/keras/backend/tensorflow_backend.py:3445: calling dropout (from tensorflow.python.ops.nn_ops) with keep_prob is deprecated and will be removed in a future version.\n",
            "Instructions for updating:\n",
            "Please use `rate` instead of `keep_prob`. Rate should be set to `rate = 1 - keep_prob`.\n",
            "_________________________________________________________________\n",
            "Layer (type)                 Output Shape              Param #   \n",
            "=================================================================\n",
            "encoder_input (InputLayer)   (None, 47)                0         \n",
            "_________________________________________________________________\n",
            "encoder (Model)              [(None, 23), (None, 23),  167726    \n",
            "_________________________________________________________________\n",
            "decoder (Model)              (None, 47)                161839    \n",
            "=================================================================\n",
            "Total params: 329,565\n",
            "Trainable params: 329,565\n",
            "Non-trainable params: 0\n",
            "_________________________________________________________________\n",
            "None\n",
            "Train on 1760 samples, validate on 1761 samples\n",
            "Epoch 1/100\n",
            "1760/1760 [==============================] - 1s 508us/step - loss: 29.6260 - val_loss: 28.4184\n",
            "Epoch 2/100\n",
            "1760/1760 [==============================] - 0s 103us/step - loss: 28.0914 - val_loss: 27.1512\n",
            "Epoch 3/100\n",
            "1760/1760 [==============================] - 0s 109us/step - loss: 25.9639 - val_loss: 24.5359\n",
            "Epoch 4/100\n",
            "1760/1760 [==============================] - 0s 104us/step - loss: 24.1007 - val_loss: 23.1869\n",
            "Epoch 5/100\n",
            "1760/1760 [==============================] - 0s 107us/step - loss: 23.3513 - val_loss: 22.5808\n",
            "Epoch 6/100\n",
            "1760/1760 [==============================] - 0s 108us/step - loss: 22.9732 - val_loss: 22.3656\n",
            "Epoch 7/100\n",
            "1760/1760 [==============================] - 0s 106us/step - loss: 22.3873 - val_loss: 21.8843\n",
            "Epoch 8/100\n",
            "1760/1760 [==============================] - 0s 103us/step - loss: 22.0361 - val_loss: 21.4108\n",
            "Epoch 9/100\n",
            "1760/1760 [==============================] - 0s 109us/step - loss: 21.8047 - val_loss: 21.1906\n",
            "Epoch 10/100\n",
            "1760/1760 [==============================] - 0s 106us/step - loss: 21.6711 - val_loss: 20.9667\n",
            "Epoch 11/100\n",
            "1760/1760 [==============================] - 0s 104us/step - loss: 21.1970 - val_loss: 20.6971\n",
            "Epoch 12/100\n",
            "1760/1760 [==============================] - 0s 105us/step - loss: 21.0253 - val_loss: 20.5817\n",
            "Epoch 13/100\n",
            "1760/1760 [==============================] - 0s 106us/step - loss: 21.0157 - val_loss: 20.3802\n",
            "Epoch 14/100\n",
            "1760/1760 [==============================] - 0s 111us/step - loss: 20.6442 - val_loss: 20.2659\n",
            "Epoch 15/100\n",
            "1760/1760 [==============================] - 0s 108us/step - loss: 20.5366 - val_loss: 20.1742\n",
            "Epoch 16/100\n",
            "1760/1760 [==============================] - 0s 107us/step - loss: 20.4045 - val_loss: 19.7696\n",
            "Epoch 17/100\n",
            "1760/1760 [==============================] - 0s 103us/step - loss: 20.2162 - val_loss: 19.5947\n",
            "Epoch 18/100\n",
            "1760/1760 [==============================] - 0s 105us/step - loss: 19.9111 - val_loss: 19.4968\n",
            "Epoch 19/100\n",
            "1760/1760 [==============================] - 0s 111us/step - loss: 19.7270 - val_loss: 19.3916\n",
            "Epoch 20/100\n",
            "1760/1760 [==============================] - 0s 106us/step - loss: 19.6332 - val_loss: 19.2123\n",
            "Epoch 21/100\n",
            "1760/1760 [==============================] - 0s 105us/step - loss: 19.6387 - val_loss: 19.1468\n",
            "Epoch 22/100\n",
            "1760/1760 [==============================] - 0s 105us/step - loss: 19.5362 - val_loss: 19.0007\n",
            "Epoch 23/100\n",
            "1760/1760 [==============================] - 0s 108us/step - loss: 19.5467 - val_loss: 19.0955\n",
            "Epoch 24/100\n",
            "1760/1760 [==============================] - 0s 106us/step - loss: 19.3836 - val_loss: 19.0071\n",
            "Epoch 25/100\n",
            "1760/1760 [==============================] - 0s 111us/step - loss: 19.3372 - val_loss: 18.9064\n",
            "Epoch 26/100\n",
            "1760/1760 [==============================] - 0s 106us/step - loss: 19.1900 - val_loss: 18.9688\n",
            "Epoch 27/100\n",
            "1760/1760 [==============================] - 0s 106us/step - loss: 19.1883 - val_loss: 18.7868\n",
            "Epoch 28/100\n",
            "1760/1760 [==============================] - 0s 103us/step - loss: 19.0352 - val_loss: 18.8174\n",
            "Epoch 29/100\n",
            "1760/1760 [==============================] - 0s 104us/step - loss: 19.1648 - val_loss: 18.7634\n",
            "Epoch 30/100\n",
            "1760/1760 [==============================] - 0s 124us/step - loss: 19.0659 - val_loss: 18.7639\n",
            "Epoch 31/100\n",
            "1760/1760 [==============================] - 0s 104us/step - loss: 19.0917 - val_loss: 18.5941\n",
            "Epoch 32/100\n",
            "1760/1760 [==============================] - 0s 104us/step - loss: 19.0724 - val_loss: 18.6596\n",
            "Epoch 33/100\n",
            "1760/1760 [==============================] - 0s 105us/step - loss: 18.8839 - val_loss: 18.4283\n",
            "Epoch 34/100\n",
            "1760/1760 [==============================] - 0s 104us/step - loss: 18.8878 - val_loss: 18.5422\n",
            "Epoch 35/100\n",
            "1760/1760 [==============================] - 0s 104us/step - loss: 18.7230 - val_loss: 18.5700\n",
            "Epoch 36/100\n",
            "1760/1760 [==============================] - 0s 108us/step - loss: 18.7718 - val_loss: 18.3373\n",
            "Epoch 37/100\n",
            "1760/1760 [==============================] - 0s 105us/step - loss: 18.7548 - val_loss: 18.2173\n",
            "Epoch 38/100\n",
            "1760/1760 [==============================] - 0s 104us/step - loss: 18.6368 - val_loss: 18.3626\n",
            "Epoch 39/100\n",
            "1760/1760 [==============================] - 0s 102us/step - loss: 18.5802 - val_loss: 18.1865\n",
            "Epoch 40/100\n",
            "1760/1760 [==============================] - 0s 105us/step - loss: 18.6810 - val_loss: 18.3032\n",
            "Epoch 41/100\n",
            "1760/1760 [==============================] - 0s 111us/step - loss: 18.5480 - val_loss: 18.1622\n",
            "Epoch 42/100\n",
            "1760/1760 [==============================] - 0s 108us/step - loss: 18.6015 - val_loss: 18.2629\n",
            "Epoch 43/100\n",
            "1760/1760 [==============================] - 0s 106us/step - loss: 18.4224 - val_loss: 18.2614\n",
            "Epoch 44/100\n",
            "1760/1760 [==============================] - 0s 106us/step - loss: 18.3217 - val_loss: 18.1483\n",
            "Epoch 45/100\n",
            "1760/1760 [==============================] - 0s 109us/step - loss: 18.3613 - val_loss: 18.0117\n",
            "Epoch 46/100\n",
            "1760/1760 [==============================] - 0s 106us/step - loss: 18.1994 - val_loss: 17.9002\n",
            "Epoch 47/100\n",
            "1760/1760 [==============================] - 0s 108us/step - loss: 18.2791 - val_loss: 17.9105\n",
            "Epoch 48/100\n",
            "1760/1760 [==============================] - 0s 106us/step - loss: 18.2503 - val_loss: 17.9844\n",
            "Epoch 49/100\n",
            "1760/1760 [==============================] - 0s 103us/step - loss: 18.1570 - val_loss: 17.9126\n",
            "Epoch 50/100\n",
            "1760/1760 [==============================] - 0s 102us/step - loss: 18.1502 - val_loss: 17.9247\n",
            "Epoch 51/100\n",
            "1760/1760 [==============================] - 0s 102us/step - loss: 17.9506 - val_loss: 17.7786\n",
            "Epoch 52/100\n",
            "1760/1760 [==============================] - 0s 108us/step - loss: 18.1100 - val_loss: 17.8566\n",
            "Epoch 53/100\n",
            "1760/1760 [==============================] - 0s 105us/step - loss: 18.0628 - val_loss: 17.8321\n",
            "Epoch 54/100\n",
            "1760/1760 [==============================] - 0s 106us/step - loss: 18.0863 - val_loss: 17.6657\n",
            "Epoch 55/100\n",
            "1760/1760 [==============================] - 0s 104us/step - loss: 17.8888 - val_loss: 17.8046\n",
            "Epoch 56/100\n",
            "1760/1760 [==============================] - 0s 104us/step - loss: 17.8904 - val_loss: 17.7245\n",
            "Epoch 57/100\n",
            "1760/1760 [==============================] - 0s 104us/step - loss: 17.8789 - val_loss: 17.6608\n",
            "Epoch 58/100\n",
            "1760/1760 [==============================] - 0s 107us/step - loss: 17.7804 - val_loss: 17.6258\n",
            "Epoch 59/100\n",
            "1760/1760 [==============================] - 0s 105us/step - loss: 17.9342 - val_loss: 17.5665\n",
            "Epoch 60/100\n",
            "1760/1760 [==============================] - 0s 106us/step - loss: 17.9593 - val_loss: 17.6201\n",
            "Epoch 61/100\n",
            "1760/1760 [==============================] - 0s 104us/step - loss: 17.7096 - val_loss: 17.6347\n",
            "Epoch 62/100\n",
            "1760/1760 [==============================] - 0s 103us/step - loss: 17.7892 - val_loss: 17.5990\n",
            "Epoch 63/100\n",
            "1760/1760 [==============================] - 0s 109us/step - loss: 17.7429 - val_loss: 17.4839\n",
            "Epoch 64/100\n",
            "1760/1760 [==============================] - 0s 104us/step - loss: 17.6293 - val_loss: 17.3816\n",
            "Epoch 65/100\n",
            "1760/1760 [==============================] - 0s 105us/step - loss: 17.6018 - val_loss: 17.3889\n",
            "Epoch 66/100\n",
            "1760/1760 [==============================] - 0s 104us/step - loss: 17.5905 - val_loss: 17.5254\n",
            "Epoch 67/100\n",
            "1760/1760 [==============================] - 0s 103us/step - loss: 17.4718 - val_loss: 17.3710\n",
            "Epoch 68/100\n",
            "1760/1760 [==============================] - 0s 103us/step - loss: 17.4918 - val_loss: 17.3777\n",
            "Epoch 69/100\n",
            "1760/1760 [==============================] - 0s 110us/step - loss: 17.5350 - val_loss: 17.3589\n",
            "Epoch 70/100\n",
            "1760/1760 [==============================] - 0s 107us/step - loss: 17.4980 - val_loss: 17.3183\n",
            "Epoch 71/100\n",
            "1760/1760 [==============================] - 0s 104us/step - loss: 17.5256 - val_loss: 17.3136\n",
            "Epoch 72/100\n",
            "1760/1760 [==============================] - 0s 104us/step - loss: 17.3202 - val_loss: 17.2518\n",
            "Epoch 73/100\n",
            "1760/1760 [==============================] - 0s 103us/step - loss: 17.5034 - val_loss: 17.2065\n",
            "Epoch 74/100\n",
            "1760/1760 [==============================] - 0s 109us/step - loss: 17.3248 - val_loss: 17.2968\n",
            "Epoch 75/100\n",
            "1760/1760 [==============================] - 0s 102us/step - loss: 17.3672 - val_loss: 17.2729\n",
            "Epoch 76/100\n",
            "1760/1760 [==============================] - 0s 103us/step - loss: 17.2625 - val_loss: 17.2054\n",
            "Epoch 77/100\n",
            "1760/1760 [==============================] - 0s 104us/step - loss: 17.3016 - val_loss: 17.0721\n",
            "Epoch 78/100\n",
            "1760/1760 [==============================] - 0s 104us/step - loss: 17.2031 - val_loss: 17.1983\n",
            "Epoch 79/100\n",
            "1760/1760 [==============================] - 0s 104us/step - loss: 17.1749 - val_loss: 17.1283\n",
            "Epoch 80/100\n",
            "1760/1760 [==============================] - 0s 108us/step - loss: 17.2866 - val_loss: 17.3332\n",
            "Epoch 81/100\n",
            "1760/1760 [==============================] - 0s 106us/step - loss: 17.3530 - val_loss: 17.4585\n",
            "Epoch 82/100\n",
            "1760/1760 [==============================] - 0s 105us/step - loss: 17.2519 - val_loss: 17.1295\n",
            "Epoch 83/100\n",
            "1760/1760 [==============================] - 0s 103us/step - loss: 17.2126 - val_loss: 17.1648\n",
            "Epoch 84/100\n",
            "1760/1760 [==============================] - 0s 105us/step - loss: 17.1568 - val_loss: 17.0446\n",
            "Epoch 85/100\n",
            "1760/1760 [==============================] - 0s 115us/step - loss: 17.0574 - val_loss: 16.9219\n",
            "Epoch 86/100\n",
            "1760/1760 [==============================] - 0s 107us/step - loss: 17.1824 - val_loss: 17.0538\n",
            "Epoch 87/100\n",
            "1760/1760 [==============================] - 0s 105us/step - loss: 17.2778 - val_loss: 16.9523\n",
            "Epoch 88/100\n",
            "1760/1760 [==============================] - 0s 104us/step - loss: 17.1277 - val_loss: 16.8639\n",
            "Epoch 89/100\n",
            "1760/1760 [==============================] - 0s 103us/step - loss: 17.0712 - val_loss: 16.9211\n",
            "Epoch 90/100\n",
            "1760/1760 [==============================] - 0s 103us/step - loss: 17.0201 - val_loss: 16.9933\n",
            "Epoch 91/100\n",
            "1760/1760 [==============================] - 0s 107us/step - loss: 16.8922 - val_loss: 17.0276\n",
            "Epoch 92/100\n",
            "1760/1760 [==============================] - 0s 103us/step - loss: 17.1120 - val_loss: 17.0191\n",
            "Epoch 93/100\n",
            "1760/1760 [==============================] - 0s 103us/step - loss: 16.8596 - val_loss: 16.9061\n",
            "Epoch 94/100\n",
            "1760/1760 [==============================] - 0s 100us/step - loss: 16.9245 - val_loss: 17.1197\n",
            "Epoch 95/100\n",
            "1760/1760 [==============================] - 0s 104us/step - loss: 17.0844 - val_loss: 17.0427\n",
            "Epoch 96/100\n",
            "1760/1760 [==============================] - 0s 108us/step - loss: 16.8243 - val_loss: 16.9236\n",
            "Epoch 97/100\n",
            "1760/1760 [==============================] - 0s 110us/step - loss: 17.0420 - val_loss: 16.9157\n",
            "Epoch 98/100\n",
            "1760/1760 [==============================] - 0s 108us/step - loss: 16.9714 - val_loss: 16.9497\n",
            "Epoch 99/100\n",
            "1760/1760 [==============================] - 0s 105us/step - loss: 17.0136 - val_loss: 16.9631\n",
            "Epoch 100/100\n",
            "1760/1760 [==============================] - 0s 101us/step - loss: 16.8044 - val_loss: 16.9315\n"
          ],
          "name": "stdout"
        }
      ]
    },
    {
      "cell_type": "code",
      "metadata": {
        "colab_type": "code",
        "id": "2HndA3MG6LQs",
        "outputId": "e2256d5d-f094-445d-a284-5937b8aa4bdc",
        "colab": {
          "base_uri": "https://localhost:8080/",
          "height": 51
        }
      },
      "source": [
        "np.random.seed(1)\n",
        "x_test = np.reshape(x_test, (-1, original_dim))\n",
        "print(x_test.shape)\n",
        "print(x_test[0].reshape(-1, original_dim).shape)"
      ],
      "execution_count": 28,
      "outputs": [
        {
          "output_type": "stream",
          "text": [
            "(1761, 47)\n",
            "(1, 47)\n"
          ],
          "name": "stdout"
        }
      ]
    },
    {
      "cell_type": "code",
      "metadata": {
        "id": "_sgO9JKSqWsW",
        "colab_type": "code",
        "colab": {}
      },
      "source": [
        "total_nums = 2\n",
        "results = []\n",
        "for i in range(x_test.shape[0]):\n",
        "    x_test_encoded = vae.predict(x_test[i].reshape(-1, original_dim), \n",
        "                                 nums=total_nums)\n",
        "    x_test_encoded = x_test_encoded.reshape(total_nums, original_dim)\n",
        "    results.append(x_test_encoded)\n",
        "results = np.asarray(results)\n",
        "results = results.reshape(total_nums*results.shape[0], original_dim)\n",
        "results = scaler.inverse_transform(results)"
      ],
      "execution_count": 0,
      "outputs": []
    },
    {
      "cell_type": "markdown",
      "metadata": {
        "id": "POfJxgHamlmx",
        "colab_type": "text"
      },
      "source": [
        "## Results"
      ]
    },
    {
      "cell_type": "code",
      "metadata": {
        "colab_type": "code",
        "id": "YIlGSzekAYlO",
        "colab": {}
      },
      "source": [
        "d = {}\n",
        "names = list(df)\n",
        "for i, name in enumerate(names):\n",
        "    d[name] = results[:, i]\n",
        "df = pd.DataFrame(data=d)"
      ],
      "execution_count": 0,
      "outputs": []
    },
    {
      "cell_type": "code",
      "metadata": {
        "colab_type": "code",
        "outputId": "1698e8ed-7fb9-42a7-943d-dee2c08b18cb",
        "id": "shurAQCSAYlV",
        "colab": {
          "base_uri": "https://localhost:8080/",
          "height": 238
        }
      },
      "source": [
        "names = list(df)\n",
        "c_dict = {}\n",
        "for n in names:\n",
        "    if '_' in n:\n",
        "        index = n.index('_')\n",
        "        c_dict[n[:index]] = [c for c in names if n[:index+1] in c]\n",
        "values = []\n",
        "for key, items in c_dict.items():\n",
        "    dummies = df[items]\n",
        "    d_names = list(dummies)\n",
        "    c_dict = {}\n",
        "    for n in d_names:\n",
        "        c_dict[n] = n[n.index('_')+1:]\n",
        "    dummies.rename(columns=c_dict, \n",
        "                   inplace=True)\n",
        "    df[key] = dummies.idxmax(axis=1)\n",
        "    df.drop(items, axis=1, inplace=True)\n",
        "print(df.head())"
      ],
      "execution_count": 31,
      "outputs": [
        {
          "output_type": "stream",
          "text": [
            "/usr/local/lib/python3.6/dist-packages/pandas/core/frame.py:4025: SettingWithCopyWarning: \n",
            "A value is trying to be set on a copy of a slice from a DataFrame\n",
            "\n",
            "See the caveats in the documentation: http://pandas.pydata.org/pandas-docs/stable/indexing.html#indexing-view-versus-copy\n",
            "  return super(DataFrame, self).rename(**kwargs)\n"
          ],
          "name": "stderr"
        },
        {
          "output_type": "stream",
          "text": [
            "   SeniorCitizen     tenure  ...     PaymentMethod  Churn\n",
            "0       0.003236   3.630666  ...      Mailed check     No\n",
            "1       0.008458   6.142739  ...      Mailed check     No\n",
            "2       0.548011  27.437634  ...  Electronic check     No\n",
            "3       0.345497  35.393139  ...  Electronic check     No\n",
            "4       0.016636  17.806929  ...      Mailed check     No\n",
            "\n",
            "[5 rows x 20 columns]\n"
          ],
          "name": "stdout"
        }
      ]
    },
    {
      "cell_type": "code",
      "metadata": {
        "colab_type": "code",
        "id": "n8dLIoyVW_Kn",
        "colab": {}
      },
      "source": [
        "df = df.reindex(sorted(df.columns), axis=1)\n",
        "df.to_csv(path + '_dropout.csv')"
      ],
      "execution_count": 0,
      "outputs": []
    },
    {
      "cell_type": "markdown",
      "metadata": {
        "id": "xL6N8v2sYTNm",
        "colab_type": "text"
      },
      "source": [
        "# Transform categorical -> number"
      ]
    },
    {
      "cell_type": "code",
      "metadata": {
        "id": "FgVhmliYYzwS",
        "colab_type": "code",
        "colab": {}
      },
      "source": [
        "\n",
        "validation.to_csv(path + '_For_Test.csv')\n",
        "df = pd.read_csv(path + '_For_Test.csv',\n",
        "                 na_filter=True, \n",
        "                 verbose=False, \n",
        "                 skip_blank_lines=True, \n",
        "                 na_values=na_values,\n",
        "                 keep_default_na=False)\n",
        "df_mc = pd.read_csv(path + '_dropout.csv',\n",
        "                 na_filter=True, \n",
        "                 verbose=False, \n",
        "                 skip_blank_lines=True, \n",
        "                 na_values=na_values,\n",
        "                 keep_default_na=False)\n",
        "df_vae = pd.read_csv(path + '_vae.csv',\n",
        "                 na_filter=True, \n",
        "                 verbose=False, \n",
        "                 skip_blank_lines=True, \n",
        "                 na_values=na_values,\n",
        "                 keep_default_na=False)\n",
        "df.drop('Unnamed: 0', axis=1, inplace=True)\n",
        "df_mc.drop('Unnamed: 0', axis=1, inplace=True)\n",
        "df_vae.drop('Unnamed: 0', axis=1, inplace=True)\n",
        "names = list(df)"
      ],
      "execution_count": 0,
      "outputs": []
    },
    {
      "cell_type": "code",
      "metadata": {
        "id": "HSbyWbb0ZjAJ",
        "colab_type": "code",
        "outputId": "56cb686b-dfc4-4c4d-b357-2358f4feb754",
        "colab": {
          "base_uri": "https://localhost:8080/",
          "height": 102
        }
      },
      "source": [
        "from sklearn.preprocessing import LabelEncoder\n",
        "colnums = len(df.columns)\n",
        "for i in df.columns:\n",
        "    try:\n",
        "        if df[i].dtype.name == 'object':\n",
        "            df[i] = df[i].astype('category')\n",
        "    except:\n",
        "        continue\n",
        "cat_columns = df.select_dtypes(['category']).columns\n",
        "print(cat_columns)\n",
        "for col in cat_columns:\n",
        "    le = LabelEncoder()\n",
        "    df[col] = le.fit_transform(df[col].values)\n",
        "    df_mc[col] = le.transform(df_mc[col].values)\n",
        "    df_vae[col] = le.transform(df_vae[col].values)\n",
        "    "
      ],
      "execution_count": 34,
      "outputs": [
        {
          "output_type": "stream",
          "text": [
            "Index(['Churn', 'Contract', 'Dependents', 'DeviceProtection',\n",
            "       'InternetService', 'MultipleLines', 'OnlineBackup', 'OnlineSecurity',\n",
            "       'PaperlessBilling', 'Partner', 'PaymentMethod', 'PhoneService',\n",
            "       'StreamingMovies', 'StreamingTV', 'TechSupport', 'gender'],\n",
            "      dtype='object')\n"
          ],
          "name": "stdout"
        }
      ]
    },
    {
      "cell_type": "code",
      "metadata": {
        "id": "J-scTKTHZ9Wk",
        "colab_type": "code",
        "colab": {}
      },
      "source": [
        "df = df.reindex(sorted(df.columns), axis=1)\n",
        "df_mc = df_mc.reindex(sorted(df_mc.columns), axis=1)\n",
        "df_vae = df_vae.reindex(sorted(df_vae.columns), axis=1)\n",
        "df.to_csv(path + '_For_Test_encoded.csv')\n",
        "df_mc.to_csv(path + '_dropout_encoded.csv')\n",
        "df_vae.to_csv(path + '_vae_encoded.csv')"
      ],
      "execution_count": 0,
      "outputs": []
    },
    {
      "cell_type": "markdown",
      "metadata": {
        "id": "gLy-z65OUnRj",
        "colab_type": "text"
      },
      "source": [
        "# Predicting with generated data"
      ]
    },
    {
      "cell_type": "code",
      "metadata": {
        "id": "-W-tX8ysUuOC",
        "colab_type": "code",
        "colab": {}
      },
      "source": [
        "df = pd.read_csv(path + '_For_Test_encoded.csv',\n",
        "                 na_filter=True, \n",
        "                 verbose=False, \n",
        "                 skip_blank_lines=True, \n",
        "                 na_values=na_values,\n",
        "                 keep_default_na=False)\n",
        "df_mc = pd.read_csv(path + '_dropout_encoded.csv',\n",
        "                 na_filter=True, \n",
        "                 verbose=False, \n",
        "                 skip_blank_lines=True, \n",
        "                 na_values=na_values,\n",
        "                 keep_default_na=False)\n",
        "df_vae = pd.read_csv(path + '_vae_encoded.csv',\n",
        "                 na_filter=True, \n",
        "                 verbose=False, \n",
        "                 skip_blank_lines=True, \n",
        "                 na_values=na_values,\n",
        "                 keep_default_na=False)\n",
        "df.drop('Unnamed: 0', axis=1, inplace=True)\n",
        "df_mc.drop('Unnamed: 0', axis=1, inplace=True)\n",
        "df_vae.drop('Unnamed: 0', axis=1, inplace=True)"
      ],
      "execution_count": 0,
      "outputs": []
    },
    {
      "cell_type": "code",
      "metadata": {
        "id": "8F40hUKFVC3E",
        "colab_type": "code",
        "colab": {
          "base_uri": "https://localhost:8080/",
          "height": 425
        },
        "outputId": "aa13e49c-beac-486d-daa5-1a2fd6969727"
      },
      "source": [
        "print(df.head())\n",
        "print(df_mc.head())\n",
        "print(df_vae.head())"
      ],
      "execution_count": 37,
      "outputs": [
        {
          "output_type": "stream",
          "text": [
            "   Churn  Contract  Dependents  ...  TotalCharges  gender  tenure\n",
            "0      1         0           0  ...         24.80       0       1\n",
            "1      0         0           0  ...        996.45       1      41\n",
            "2      0         2           1  ...       1031.70       0      52\n",
            "3      1         0           0  ...         76.35       0       1\n",
            "4      0         2           0  ...       3260.10       1      67\n",
            "\n",
            "[5 rows x 20 columns]\n",
            "   Churn  Contract  Dependents  ...  TotalCharges  gender     tenure\n",
            "0      0         0           0  ...      68.44079       0   3.630666\n",
            "1      0         0           0  ...      71.27217       0   6.142739\n",
            "2      0         0           0  ...    2544.45700       0  27.437634\n",
            "3      0         0           0  ...    3410.82640       0  35.393140\n",
            "4      0         1           0  ...     286.11273       0  17.806929\n",
            "\n",
            "[5 rows x 20 columns]\n",
            "   Churn  Contract  Dependents  ...  TotalCharges  gender     tenure\n",
            "0      0         0           0  ...    1741.66280       0  31.163046\n",
            "1      0         0           0  ...     147.29312       1   9.138953\n",
            "2      1         0           0  ...     634.16580       1  10.862296\n",
            "3      1         0           0  ...    2253.83900       0  27.991090\n",
            "4      0         1           0  ...    2119.99490       0  38.340378\n",
            "\n",
            "[5 rows x 20 columns]\n"
          ],
          "name": "stdout"
        }
      ]
    },
    {
      "cell_type": "code",
      "metadata": {
        "id": "0tyhyfWHXbn4",
        "colab_type": "code",
        "colab": {
          "base_uri": "https://localhost:8080/",
          "height": 51
        },
        "outputId": "d69475f4-349d-4a39-aeef-57cd81d7a4a9"
      },
      "source": [
        "y = df['Churn'].values\n",
        "df.drop(['Churn'], axis=1, inplace=True)\n",
        "X = df.values\n",
        "print(y.shape)\n",
        "print(X.shape)"
      ],
      "execution_count": 38,
      "outputs": [
        {
          "output_type": "stream",
          "text": [
            "(3522,)\n",
            "(3522, 19)\n"
          ],
          "name": "stdout"
        }
      ]
    },
    {
      "cell_type": "code",
      "metadata": {
        "id": "rwzr1m5TX5QC",
        "colab_type": "code",
        "colab": {
          "base_uri": "https://localhost:8080/",
          "height": 51
        },
        "outputId": "d74883ad-c959-4185-eae6-196c90f4db6b"
      },
      "source": [
        "y_mc = df_mc['Churn'].values\n",
        "df_mc.drop(['Churn'], axis=1, inplace=True)\n",
        "X_mc = df_mc.values\n",
        "print(y_mc.shape)\n",
        "print(X_mc.shape)"
      ],
      "execution_count": 39,
      "outputs": [
        {
          "output_type": "stream",
          "text": [
            "(3522,)\n",
            "(3522, 19)\n"
          ],
          "name": "stdout"
        }
      ]
    },
    {
      "cell_type": "code",
      "metadata": {
        "id": "xbq6H2ZnYXqz",
        "colab_type": "code",
        "colab": {
          "base_uri": "https://localhost:8080/",
          "height": 51
        },
        "outputId": "df26397a-43be-46b1-9f53-d9eacf92bee3"
      },
      "source": [
        "y_vae = df_vae['Churn'].values\n",
        "df_vae.drop(['Churn'], axis=1, inplace=True)\n",
        "X_vae = df_vae.values\n",
        "print(y_vae.shape)\n",
        "print(X_vae.shape)"
      ],
      "execution_count": 40,
      "outputs": [
        {
          "output_type": "stream",
          "text": [
            "(3522,)\n",
            "(3522, 19)\n"
          ],
          "name": "stdout"
        }
      ]
    },
    {
      "cell_type": "markdown",
      "metadata": {
        "id": "A8JPft-5a6QL",
        "colab_type": "text"
      },
      "source": [
        "## Cross validation"
      ]
    },
    {
      "cell_type": "markdown",
      "metadata": {
        "id": "iWMcVL29ggWg",
        "colab_type": "text"
      },
      "source": [
        "### Original data"
      ]
    },
    {
      "cell_type": "code",
      "metadata": {
        "id": "ob3Et0uia9YZ",
        "colab_type": "code",
        "colab": {
          "base_uri": "https://localhost:8080/",
          "height": 34
        },
        "outputId": "99588d91-8364-4941-ed36-3f415675fad4"
      },
      "source": [
        "from sklearn.ensemble import RandomForestClassifier\n",
        "from sklearn.model_selection import cross_val_score\n",
        "clf = RandomForestClassifier(n_estimators=100, \n",
        "                             max_depth=2, random_state=42)\n",
        "scores = cross_val_score(clf, X, y, cv=10)\n",
        "print(\"Accuracy: %0.2f (+/- %0.2f)\" % (scores.mean(), scores.std() * 2))"
      ],
      "execution_count": 41,
      "outputs": [
        {
          "output_type": "stream",
          "text": [
            "Accuracy: 0.77 (+/- 0.03)\n"
          ],
          "name": "stdout"
        }
      ]
    },
    {
      "cell_type": "markdown",
      "metadata": {
        "colab_type": "text",
        "id": "hSUz0c0ngkj5"
      },
      "source": [
        "### DropoutVAE generated data with original Outcome"
      ]
    },
    {
      "cell_type": "code",
      "metadata": {
        "colab_type": "code",
        "outputId": "69e968b6-3855-4e5e-82bc-85977b4f52b5",
        "id": "y4-GzQ_bbPCo",
        "colab": {
          "base_uri": "https://localhost:8080/",
          "height": 34
        }
      },
      "source": [
        "from sklearn.model_selection import cross_val_score\n",
        "clf = RandomForestClassifier(n_estimators=100, \n",
        "                             max_depth=2, random_state=42)\n",
        "scores = cross_val_score(clf, X_mc, y, cv=10)\n",
        "print(\"Accuracy: %0.2f (+/- %0.2f)\" % (scores.mean(), scores.std() * 2))"
      ],
      "execution_count": 42,
      "outputs": [
        {
          "output_type": "stream",
          "text": [
            "Accuracy: 0.73 (+/- 0.00)\n"
          ],
          "name": "stdout"
        }
      ]
    },
    {
      "cell_type": "markdown",
      "metadata": {
        "colab_type": "text",
        "id": "NL3OtgaGgxQB"
      },
      "source": [
        "### VAE generated data with original outcome"
      ]
    },
    {
      "cell_type": "code",
      "metadata": {
        "id": "Crz0AfZ-bSg-",
        "colab_type": "code",
        "colab": {
          "base_uri": "https://localhost:8080/",
          "height": 34
        },
        "outputId": "cf925525-8e4a-4950-a00e-e2d676dbade6"
      },
      "source": [
        "from sklearn.model_selection import cross_val_score\n",
        "clf = RandomForestClassifier(n_estimators=100, \n",
        "                             max_depth=2, random_state=42)\n",
        "scores = cross_val_score(clf, X_vae, y, cv=10)\n",
        "print(\"Accuracy: %0.2f (+/- %0.2f)\" % (scores.mean(), scores.std() * 2))"
      ],
      "execution_count": 43,
      "outputs": [
        {
          "output_type": "stream",
          "text": [
            "Accuracy: 0.73 (+/- 0.00)\n"
          ],
          "name": "stdout"
        }
      ]
    },
    {
      "cell_type": "markdown",
      "metadata": {
        "colab_type": "text",
        "id": "mrCqDtssg4nB"
      },
      "source": [
        "### Original data with Dropout VAE outcome"
      ]
    },
    {
      "cell_type": "code",
      "metadata": {
        "colab_type": "code",
        "id": "mH3gS3nacvV7",
        "colab": {
          "base_uri": "https://localhost:8080/",
          "height": 34
        },
        "outputId": "244e6784-1c24-4e63-900b-e3fb5bfb8de5"
      },
      "source": [
        "from sklearn.model_selection import cross_val_score\n",
        "clf = RandomForestClassifier(n_estimators=100, \n",
        "                             max_depth=2, random_state=42)\n",
        "scores = cross_val_score(clf, X, y_mc, cv=10)\n",
        "print(\"Accuracy: %0.2f (+/- %0.2f)\" % (scores.mean(), scores.std() * 2))"
      ],
      "execution_count": 44,
      "outputs": [
        {
          "output_type": "stream",
          "text": [
            "Accuracy: 0.77 (+/- 0.00)\n"
          ],
          "name": "stdout"
        }
      ]
    },
    {
      "cell_type": "markdown",
      "metadata": {
        "colab_type": "text",
        "id": "YlER2gGnhBGJ"
      },
      "source": [
        "### Original data with VAE outcome"
      ]
    },
    {
      "cell_type": "code",
      "metadata": {
        "colab_type": "code",
        "id": "MezW_-9ZcvWA",
        "colab": {
          "base_uri": "https://localhost:8080/",
          "height": 34
        },
        "outputId": "42529a7e-6215-4421-ad9b-2ef3318da1cd"
      },
      "source": [
        "from sklearn.model_selection import cross_val_score\n",
        "clf = RandomForestClassifier(n_estimators=100, \n",
        "                             max_depth=2, random_state=42)\n",
        "scores = cross_val_score(clf, X, y_vae, cv=10)\n",
        "print(\"Accuracy: %0.2f (+/- %0.2f)\" % (scores.mean(), scores.std() * 2))"
      ],
      "execution_count": 45,
      "outputs": [
        {
          "output_type": "stream",
          "text": [
            "Accuracy: 0.73 (+/- 0.00)\n"
          ],
          "name": "stdout"
        }
      ]
    }
  ]
}