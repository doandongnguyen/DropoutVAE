{
  "nbformat": 4,
  "nbformat_minor": 0,
  "metadata": {
    "colab": {
      "name": "DropoutVAE.ipynb",
      "version": "0.3.2",
      "provenance": [],
      "collapsed_sections": [],
      "toc_visible": true
    },
    "kernelspec": {
      "name": "python3",
      "display_name": "Python 3"
    },
    "accelerator": "GPU"
  },
  "cells": [
    {
      "cell_type": "markdown",
      "metadata": {
        "id": "yl5YDWvEeu4a",
        "colab_type": "text"
      },
      "source": [
        "The purpose is to use Dropout in VAE in order to generate data.\n",
        "\n",
        "Origin VAE uses latent values to generate the data.\n",
        "However, with Dropout VAE, we can use some origin data to generate.\n",
        "\n",
        "\n",
        "The dataset used in notebook: [Customer Support](https://www.ibm.com/communities/analytics/watson-analytics-blog/guide-to-sample-datasets/)\n",
        "\n",
        "More example about VAE: [Modeling Telecom customer churn](https://towardsdatascience.com/modeling-telecom-customer-churn-with-variational-autoencoder-4e5cf6194871)\n",
        "\n",
        "Origin code for VAE in keras: [Building Autoencoders in keras](https://blog.keras.io/building-autoencoders-in-keras.html)"
      ]
    },
    {
      "cell_type": "markdown",
      "metadata": {
        "id": "fdT9BTrmT3ro",
        "colab_type": "text"
      },
      "source": [
        "# Import Libraries"
      ]
    },
    {
      "cell_type": "code",
      "metadata": {
        "id": "CQNUpL6YT32X",
        "colab_type": "code",
        "colab": {}
      },
      "source": [
        "from __future__ import absolute_import\n",
        "from __future__ import division\n",
        "from __future__ import print_function\n",
        "\n",
        "import os\n",
        "import random\n",
        "import argparse\n",
        "import numpy as np\n",
        "import matplotlib.pyplot as plt\n",
        "from sklearn.preprocessing import LabelEncoder\n",
        "from tensorflow import set_random_seed\n",
        "\n",
        "from keras import regularizers\n",
        "from keras import backend as K\n",
        "from keras.models import Model\n",
        "from keras.utils import plot_model\n",
        "from keras.losses import mse, binary_crossentropy\n",
        "from keras.layers import Lambda, Input, Dense, Dropout\n",
        "\n",
        "set_random_seed(1)\n",
        "np.random.seed(1)\n",
        "random.seed(1)"
      ],
      "execution_count": 0,
      "outputs": []
    },
    {
      "cell_type": "markdown",
      "metadata": {
        "id": "sNKVLBOBgR3W",
        "colab_type": "text"
      },
      "source": [
        "# Path to dataset"
      ]
    },
    {
      "cell_type": "code",
      "metadata": {
        "id": "FFaXts2Ycg-w",
        "colab_type": "code",
        "colab": {}
      },
      "source": [
        "path = '/Dataset/WA_Fn-UseC_-Telco-Customer-Churn.csv'"
      ],
      "execution_count": 0,
      "outputs": []
    },
    {
      "cell_type": "code",
      "metadata": {
        "id": "C8zWTy_ePGg7",
        "colab_type": "code",
        "colab": {}
      },
      "source": [
        "intermediate_dim = 512"
      ],
      "execution_count": 0,
      "outputs": []
    },
    {
      "cell_type": "markdown",
      "metadata": {
        "id": "OnJXo9LfUGaJ",
        "colab_type": "text"
      },
      "source": [
        "# Define VAE"
      ]
    },
    {
      "cell_type": "markdown",
      "metadata": {
        "id": "8VTGWwfObeoT",
        "colab_type": "text"
      },
      "source": [
        "## Read Data"
      ]
    },
    {
      "cell_type": "code",
      "metadata": {
        "id": "DfcE15dwhyaL",
        "colab_type": "code",
        "outputId": "189dfbe8-521b-40e4-bbf2-d463fb8418d2",
        "colab": {
          "base_uri": "https://localhost:8080/",
          "height": 595
        }
      },
      "source": [
        "import pandas as pd\n",
        "na_values = {'?', ' '}\n",
        "df = pd.read_csv(path,\n",
        "                 sep=',',\n",
        "                 na_filter=True, \n",
        "                 verbose=False, \n",
        "                 skip_blank_lines=True, \n",
        "                 na_values=na_values,\n",
        "                 keep_default_na=False)\n",
        "                 \n",
        "df.fillna(method='ffill', inplace=True)\n",
        "df.dropna(axis=1, how='any', inplace=True)\n",
        "df.drop(['customerID'], axis=1, inplace=True)\n",
        "df = df.reset_index(drop=True)\n",
        "print(df.info())\n",
        "print(df.head())"
      ],
      "execution_count": 0,
      "outputs": [
        {
          "output_type": "stream",
          "text": [
            "<class 'pandas.core.frame.DataFrame'>\n",
            "RangeIndex: 7043 entries, 0 to 7042\n",
            "Data columns (total 20 columns):\n",
            "gender              7043 non-null object\n",
            "SeniorCitizen       7043 non-null int64\n",
            "Partner             7043 non-null object\n",
            "Dependents          7043 non-null object\n",
            "tenure              7043 non-null int64\n",
            "PhoneService        7043 non-null object\n",
            "MultipleLines       7043 non-null object\n",
            "InternetService     7043 non-null object\n",
            "OnlineSecurity      7043 non-null object\n",
            "OnlineBackup        7043 non-null object\n",
            "DeviceProtection    7043 non-null object\n",
            "TechSupport         7043 non-null object\n",
            "StreamingTV         7043 non-null object\n",
            "StreamingMovies     7043 non-null object\n",
            "Contract            7043 non-null object\n",
            "PaperlessBilling    7043 non-null object\n",
            "PaymentMethod       7043 non-null object\n",
            "MonthlyCharges      7043 non-null float64\n",
            "TotalCharges        7043 non-null float64\n",
            "Churn               7043 non-null object\n",
            "dtypes: float64(2), int64(2), object(16)\n",
            "memory usage: 1.1+ MB\n",
            "None\n",
            "   gender  SeniorCitizen Partner  ... MonthlyCharges  TotalCharges Churn\n",
            "0  Female              0     Yes  ...          29.85         29.85    No\n",
            "1    Male              0      No  ...          56.95       1889.50    No\n",
            "2    Male              0      No  ...          53.85        108.15   Yes\n",
            "3    Male              0      No  ...          42.30       1840.75    No\n",
            "4  Female              0      No  ...          70.70        151.65   Yes\n",
            "\n",
            "[5 rows x 20 columns]\n"
          ],
          "name": "stdout"
        }
      ]
    },
    {
      "cell_type": "markdown",
      "metadata": {
        "id": "ptmiXDEjbhmp",
        "colab_type": "text"
      },
      "source": [
        "## Recognizing Categorical data"
      ]
    },
    {
      "cell_type": "code",
      "metadata": {
        "id": "pfL6yO7HZR7E",
        "colab_type": "code",
        "outputId": "6d85781f-e166-4a25-e2f1-e99b20041da6",
        "colab": {
          "base_uri": "https://localhost:8080/",
          "height": 153
        }
      },
      "source": [
        "colnums = len(df.columns)\n",
        "for i in df.columns:\n",
        "    try:\n",
        "        if df[i].dtype.name == 'object':\n",
        "            df[i] = df[i].astype('category')\n",
        "        else:\n",
        "            df[i].astype('float32')\n",
        "    except:\n",
        "        continue\n",
        "print(df.head())"
      ],
      "execution_count": 0,
      "outputs": [
        {
          "output_type": "stream",
          "text": [
            "   gender  SeniorCitizen Partner  ... MonthlyCharges  TotalCharges Churn\n",
            "0  Female              0     Yes  ...          29.85         29.85    No\n",
            "1    Male              0      No  ...          56.95       1889.50    No\n",
            "2    Male              0      No  ...          53.85        108.15   Yes\n",
            "3    Male              0      No  ...          42.30       1840.75    No\n",
            "4  Female              0      No  ...          70.70        151.65   Yes\n",
            "\n",
            "[5 rows x 20 columns]\n"
          ],
          "name": "stdout"
        }
      ]
    },
    {
      "cell_type": "code",
      "metadata": {
        "id": "BpGxC2v2CDi1",
        "colab_type": "code",
        "outputId": "efa746a4-9be5-48a4-c738-31075c492f67",
        "colab": {
          "base_uri": "https://localhost:8080/",
          "height": 153
        }
      },
      "source": [
        "from sklearn.model_selection import train_test_split\n",
        "from sklearn.preprocessing import MinMaxScaler, StandardScaler\n",
        "vals = df.values.copy()\n",
        "total_nums = len(vals)\n",
        "\n",
        "train, validation = train_test_split(df, test_size=0.5, \n",
        "                                     random_state=42, \n",
        "                                     shuffle=True)\n",
        "\n",
        "validation = validation.reindex(sorted(validation.columns), axis=1)\n",
        "validation.to_csv(path + '_For_Test.csv')\n",
        "print(validation.head())"
      ],
      "execution_count": 0,
      "outputs": [
        {
          "output_type": "stream",
          "text": [
            "     Churn        Contract Dependents  ... TotalCharges  gender  tenure\n",
            "185    Yes  Month-to-month         No  ...        24.80  Female       1\n",
            "2715    No  Month-to-month         No  ...       996.45    Male      41\n",
            "3825    No        Two year        Yes  ...      1031.70  Female      52\n",
            "1807   Yes  Month-to-month         No  ...        76.35  Female       1\n",
            "132     No        Two year         No  ...      3260.10    Male      67\n",
            "\n",
            "[5 rows x 20 columns]\n"
          ],
          "name": "stdout"
        }
      ]
    },
    {
      "cell_type": "code",
      "metadata": {
        "id": "G-52cnSrZHGm",
        "colab_type": "code",
        "outputId": "1e42707f-ed75-43c4-b250-b03f4f7651bb",
        "colab": {
          "base_uri": "https://localhost:8080/",
          "height": 102
        }
      },
      "source": [
        "df = train\n",
        "categorical = df.select_dtypes(['category']).columns\n",
        "print(categorical)\n",
        "for f in categorical:\n",
        "    dummies = pd.get_dummies(df[f], prefix = f, prefix_sep = '_')\n",
        "    df = pd.concat([df, dummies], axis = 1)\n",
        "    \n",
        "# drop original categorical features\n",
        "df.drop(categorical, axis = 1, inplace = True)"
      ],
      "execution_count": 0,
      "outputs": [
        {
          "output_type": "stream",
          "text": [
            "Index(['gender', 'Partner', 'Dependents', 'PhoneService', 'MultipleLines',\n",
            "       'InternetService', 'OnlineSecurity', 'OnlineBackup', 'DeviceProtection',\n",
            "       'TechSupport', 'StreamingTV', 'StreamingMovies', 'Contract',\n",
            "       'PaperlessBilling', 'PaymentMethod', 'Churn'],\n",
            "      dtype='object')\n"
          ],
          "name": "stdout"
        }
      ]
    },
    {
      "cell_type": "code",
      "metadata": {
        "id": "LmIPmd5wjAM7",
        "colab_type": "code",
        "outputId": "974680b8-712a-401f-d879-08d804c9b899",
        "colab": {
          "base_uri": "https://localhost:8080/",
          "height": 51
        }
      },
      "source": [
        "train = df.values.copy()\n",
        "train.astype('float32')\n",
        "scaler = MinMaxScaler()\n",
        "d = {}\n",
        "train = scaler.fit_transform(train)\n",
        "x_train, x_test = train_test_split(train, test_size=0.5,\n",
        "                                  random_state=24,\n",
        "                                  shuffle=True)\n",
        "print(x_train.shape)\n",
        "print(x_test.shape)\n"
      ],
      "execution_count": 0,
      "outputs": [
        {
          "output_type": "stream",
          "text": [
            "(1760, 47)\n",
            "(1761, 47)\n"
          ],
          "name": "stdout"
        }
      ]
    },
    {
      "cell_type": "code",
      "metadata": {
        "id": "uNf-3EMl2usm",
        "colab_type": "code",
        "outputId": "896c0859-779a-4840-e764-95a3cf643911",
        "colab": {
          "base_uri": "https://localhost:8080/",
          "height": 51
        }
      },
      "source": [
        "original_dim = x_train.shape[1]\n",
        "x_train = np.reshape(x_train, [-1, original_dim])\n",
        "x_test = np.reshape(x_test, [-1, original_dim])\n",
        "x_train = x_train.astype('float32')\n",
        "x_test = x_test.astype('float32')\n",
        "print(x_train.shape)\n",
        "print(x_test.shape)"
      ],
      "execution_count": 0,
      "outputs": [
        {
          "output_type": "stream",
          "text": [
            "(1760, 47)\n",
            "(1761, 47)\n"
          ],
          "name": "stdout"
        }
      ]
    },
    {
      "cell_type": "code",
      "metadata": {
        "id": "uy-JqW7Jpuyz",
        "colab_type": "code",
        "colab": {}
      },
      "source": [
        "from keras.layers import BatchNormalization\n",
        "class VAE:\n",
        "    def __init__(self, input_shape=(original_dim,), \n",
        "                 intermediate_dim=128, latent_dim=2, summary=False):\n",
        "        \n",
        "        self._build_model(input_shape,\n",
        "                         intermediate_dim, \n",
        "                          latent_dim, summary)\n",
        "    \n",
        "    def _build_model(self, input_shape, intermediate_dim, latent_dim,\n",
        "                    summary=False):\n",
        "        inputs = Input(shape=input_shape, name='encoder_input')\n",
        "        x = inputs\n",
        "        x = Dense(intermediate_dim, activation='relu')(x)\n",
        "        x = Dense(intermediate_dim//2, activation='relu')(x)\n",
        "        \n",
        "        z_mean = Dense(latent_dim, name='z_mean')(x)\n",
        "        z_log_var = Dense(latent_dim, name='z_log_var')(x)\n",
        "\n",
        "        z = Lambda(self.sampling, output_shape=(latent_dim,), \n",
        "                   name='z')([z_mean, z_log_var])\n",
        "\n",
        "        self.encoder = Model(inputs, [z_mean, z_log_var, z], \n",
        "                        name='encoder')\n",
        "        \n",
        "        latent_inputs = Input(shape=(latent_dim,), \n",
        "                              name='z_sampling')\n",
        "        x = latent_inputs\n",
        "        x = Dense(intermediate_dim//2, activation='relu')(x)\n",
        "        x = Dense(intermediate_dim, activation='relu')(x)\n",
        "        outputs = Dense(original_dim, activation='sigmoid')(x)\n",
        "\n",
        "        self.decoder = Model(latent_inputs, outputs, name='decoder')\n",
        "        outputs = self.decoder(self.encoder(inputs)[2])\n",
        "        self.vae = Model(inputs, outputs, name='vae_mlp')\n",
        "        \n",
        "        reconstruction_loss = binary_crossentropy(inputs, outputs)\n",
        "        reconstruction_loss *= original_dim\n",
        "        kl_loss = 1 + z_log_var - K.square(z_mean) - K.exp(z_log_var)\n",
        "        kl_loss = K.sum(kl_loss, axis=-1)\n",
        "        kl_loss *= -0.5\n",
        "        \n",
        "        vae_loss = K.mean(reconstruction_loss + kl_loss)\t\n",
        "        \n",
        "        self.vae.add_loss(vae_loss)\n",
        "        self.vae.compile(optimizer='adam')\n",
        "        if summary: \n",
        "            print(self.vae.summary())\n",
        "        \n",
        "    def sampling(self, args):\n",
        "        z_mean, z_log_var = args\n",
        "        batch = K.shape(z_mean)[0]\n",
        "        dim = K.int_shape(z_mean)[1]\n",
        "        epsilon = K.random_normal(shape=(batch, dim))\n",
        "        return z_mean + K.exp(0.5 * z_log_var) * epsilon\n",
        "        \n",
        "    def fit(self, x_train, x_test, epochs=100, batch_size=100,\n",
        "           verbose=1):\n",
        "        self.vae.fit(x_train, \n",
        "            shuffle=True,\n",
        "            epochs=epochs,\n",
        "            batch_size=batch_size,\n",
        "            verbose=verbose,\n",
        "            validation_data=(x_test, None))\n",
        "    \n",
        "    def encoder_predict(self, x_test, batch_size=100):\n",
        "        return self.encoder.predict(x_test,\n",
        "                                   batch_size=batch_size)\n",
        "    \n",
        "    def generate(self, latent_val, batch_size=100):\n",
        "        return self.decoder.predict(latent_val)\n",
        "    \n",
        "    def predict(self, x_test, batch_size=1):\n",
        "        prediction = self.vae.predict(x_test)\n",
        "        return prediction"
      ],
      "execution_count": 0,
      "outputs": []
    },
    {
      "cell_type": "markdown",
      "metadata": {
        "id": "KXhRjx02UYZN",
        "colab_type": "text"
      },
      "source": [
        "## Training VAE"
      ]
    },
    {
      "cell_type": "markdown",
      "metadata": {
        "id": "Wd02caRJWGG8",
        "colab_type": "text"
      },
      "source": [
        "Just let the last value to test"
      ]
    },
    {
      "cell_type": "code",
      "metadata": {
        "id": "XBbIF17p8iY2",
        "colab_type": "code",
        "outputId": "de31a4c8-1b98-431f-9c4a-17b0412ea083",
        "colab": {
          "base_uri": "https://localhost:8080/",
          "height": 3556
        }
      },
      "source": [
        "latent_dim = original_dim//2\n",
        "if latent_dim < 2:\n",
        "    latent_dim = 2\n",
        "vae = VAE(intermediate_dim=intermediate_dim, latent_dim=latent_dim)\n",
        "vae.fit(x_train, x_test, epochs=100)"
      ],
      "execution_count": 0,
      "outputs": [
        {
          "output_type": "stream",
          "text": [
            "WARNING:tensorflow:From /usr/local/lib/python3.6/dist-packages/tensorflow/python/framework/op_def_library.py:263: colocate_with (from tensorflow.python.framework.ops) is deprecated and will be removed in a future version.\n",
            "Instructions for updating:\n",
            "Colocations handled automatically by placer.\n",
            "WARNING:tensorflow:From /usr/local/lib/python3.6/dist-packages/tensorflow/python/ops/math_ops.py:3066: to_int32 (from tensorflow.python.ops.math_ops) is deprecated and will be removed in a future version.\n",
            "Instructions for updating:\n",
            "Use tf.cast instead.\n",
            "Train on 1760 samples, validate on 1761 samples\n",
            "Epoch 1/100\n",
            "1760/1760 [==============================] - 1s 828us/step - loss: 29.3855 - val_loss: 28.3879\n",
            "Epoch 2/100\n",
            "1760/1760 [==============================] - 0s 60us/step - loss: 27.7459 - val_loss: 26.8112\n",
            "Epoch 3/100\n",
            "1760/1760 [==============================] - 0s 63us/step - loss: 24.9679 - val_loss: 23.5514\n",
            "Epoch 4/100\n",
            "1760/1760 [==============================] - 0s 56us/step - loss: 23.0151 - val_loss: 22.8142\n",
            "Epoch 5/100\n",
            "1760/1760 [==============================] - 0s 61us/step - loss: 22.5863 - val_loss: 22.2015\n",
            "Epoch 6/100\n",
            "1760/1760 [==============================] - 0s 57us/step - loss: 21.8968 - val_loss: 21.6563\n",
            "Epoch 7/100\n",
            "1760/1760 [==============================] - 0s 59us/step - loss: 21.7712 - val_loss: 21.4705\n",
            "Epoch 8/100\n",
            "1760/1760 [==============================] - 0s 57us/step - loss: 21.5398 - val_loss: 21.4014\n",
            "Epoch 9/100\n",
            "1760/1760 [==============================] - 0s 55us/step - loss: 21.1764 - val_loss: 20.9156\n",
            "Epoch 10/100\n",
            "1760/1760 [==============================] - 0s 55us/step - loss: 20.9328 - val_loss: 20.8186\n",
            "Epoch 11/100\n",
            "1760/1760 [==============================] - 0s 58us/step - loss: 20.7545 - val_loss: 20.5236\n",
            "Epoch 12/100\n",
            "1760/1760 [==============================] - 0s 61us/step - loss: 20.3517 - val_loss: 20.1585\n",
            "Epoch 13/100\n",
            "1760/1760 [==============================] - 0s 60us/step - loss: 20.0311 - val_loss: 19.8304\n",
            "Epoch 14/100\n",
            "1760/1760 [==============================] - 0s 56us/step - loss: 19.8031 - val_loss: 19.6924\n",
            "Epoch 15/100\n",
            "1760/1760 [==============================] - 0s 57us/step - loss: 19.5845 - val_loss: 19.4106\n",
            "Epoch 16/100\n",
            "1760/1760 [==============================] - 0s 67us/step - loss: 19.3787 - val_loss: 19.2181\n",
            "Epoch 17/100\n",
            "1760/1760 [==============================] - 0s 60us/step - loss: 19.1638 - val_loss: 19.2416\n",
            "Epoch 18/100\n",
            "1760/1760 [==============================] - 0s 55us/step - loss: 18.9617 - val_loss: 18.9284\n",
            "Epoch 19/100\n",
            "1760/1760 [==============================] - 0s 56us/step - loss: 18.9604 - val_loss: 18.9966\n",
            "Epoch 20/100\n",
            "1760/1760 [==============================] - 0s 59us/step - loss: 18.9324 - val_loss: 18.9252\n",
            "Epoch 21/100\n",
            "1760/1760 [==============================] - 0s 57us/step - loss: 18.7905 - val_loss: 18.6488\n",
            "Epoch 22/100\n",
            "1760/1760 [==============================] - 0s 59us/step - loss: 18.4048 - val_loss: 18.5141\n",
            "Epoch 23/100\n",
            "1760/1760 [==============================] - 0s 57us/step - loss: 18.5562 - val_loss: 18.5147\n",
            "Epoch 24/100\n",
            "1760/1760 [==============================] - 0s 58us/step - loss: 18.2987 - val_loss: 18.3843\n",
            "Epoch 25/100\n",
            "1760/1760 [==============================] - 0s 56us/step - loss: 18.4118 - val_loss: 18.4485\n",
            "Epoch 26/100\n",
            "1760/1760 [==============================] - 0s 57us/step - loss: 18.1503 - val_loss: 18.3996\n",
            "Epoch 27/100\n",
            "1760/1760 [==============================] - 0s 63us/step - loss: 18.0410 - val_loss: 18.1922\n",
            "Epoch 28/100\n",
            "1760/1760 [==============================] - 0s 55us/step - loss: 17.7623 - val_loss: 18.0106\n",
            "Epoch 29/100\n",
            "1760/1760 [==============================] - 0s 58us/step - loss: 17.8685 - val_loss: 17.9814\n",
            "Epoch 30/100\n",
            "1760/1760 [==============================] - 0s 56us/step - loss: 17.7171 - val_loss: 17.9161\n",
            "Epoch 31/100\n",
            "1760/1760 [==============================] - 0s 57us/step - loss: 17.5530 - val_loss: 17.7830\n",
            "Epoch 32/100\n",
            "1760/1760 [==============================] - 0s 55us/step - loss: 17.6311 - val_loss: 17.6249\n",
            "Epoch 33/100\n",
            "1760/1760 [==============================] - 0s 57us/step - loss: 17.4956 - val_loss: 17.5744\n",
            "Epoch 34/100\n",
            "1760/1760 [==============================] - 0s 57us/step - loss: 17.4866 - val_loss: 17.7621\n",
            "Epoch 35/100\n",
            "1760/1760 [==============================] - 0s 55us/step - loss: 17.4746 - val_loss: 17.5915\n",
            "Epoch 36/100\n",
            "1760/1760 [==============================] - 0s 59us/step - loss: 17.2212 - val_loss: 17.4631\n",
            "Epoch 37/100\n",
            "1760/1760 [==============================] - 0s 60us/step - loss: 17.1277 - val_loss: 17.2216\n",
            "Epoch 38/100\n",
            "1760/1760 [==============================] - 0s 56us/step - loss: 17.1704 - val_loss: 17.2163\n",
            "Epoch 39/100\n",
            "1760/1760 [==============================] - 0s 55us/step - loss: 16.9627 - val_loss: 17.3768\n",
            "Epoch 40/100\n",
            "1760/1760 [==============================] - 0s 58us/step - loss: 16.9770 - val_loss: 17.1108\n",
            "Epoch 41/100\n",
            "1760/1760 [==============================] - 0s 56us/step - loss: 16.9233 - val_loss: 17.3977\n",
            "Epoch 42/100\n",
            "1760/1760 [==============================] - 0s 57us/step - loss: 16.7651 - val_loss: 17.1864\n",
            "Epoch 43/100\n",
            "1760/1760 [==============================] - 0s 58us/step - loss: 16.7802 - val_loss: 17.0562\n",
            "Epoch 44/100\n",
            "1760/1760 [==============================] - 0s 56us/step - loss: 16.8351 - val_loss: 17.0642\n",
            "Epoch 45/100\n",
            "1760/1760 [==============================] - 0s 58us/step - loss: 16.5721 - val_loss: 16.9875\n",
            "Epoch 46/100\n",
            "1760/1760 [==============================] - 0s 56us/step - loss: 16.6499 - val_loss: 16.9920\n",
            "Epoch 47/100\n",
            "1760/1760 [==============================] - 0s 62us/step - loss: 16.6554 - val_loss: 16.9531\n",
            "Epoch 48/100\n",
            "1760/1760 [==============================] - 0s 57us/step - loss: 16.5341 - val_loss: 17.0948\n",
            "Epoch 49/100\n",
            "1760/1760 [==============================] - 0s 55us/step - loss: 16.7815 - val_loss: 17.0357\n",
            "Epoch 50/100\n",
            "1760/1760 [==============================] - 0s 58us/step - loss: 16.5817 - val_loss: 17.0746\n",
            "Epoch 51/100\n",
            "1760/1760 [==============================] - 0s 60us/step - loss: 16.5601 - val_loss: 17.1329\n",
            "Epoch 52/100\n",
            "1760/1760 [==============================] - 0s 58us/step - loss: 16.5896 - val_loss: 16.9522\n",
            "Epoch 53/100\n",
            "1760/1760 [==============================] - 0s 57us/step - loss: 16.4706 - val_loss: 16.8442\n",
            "Epoch 54/100\n",
            "1760/1760 [==============================] - 0s 56us/step - loss: 16.3774 - val_loss: 16.7996\n",
            "Epoch 55/100\n",
            "1760/1760 [==============================] - 0s 59us/step - loss: 16.4271 - val_loss: 16.8589\n",
            "Epoch 56/100\n",
            "1760/1760 [==============================] - 0s 58us/step - loss: 16.3402 - val_loss: 16.7635\n",
            "Epoch 57/100\n",
            "1760/1760 [==============================] - 0s 62us/step - loss: 16.5782 - val_loss: 16.9489\n",
            "Epoch 58/100\n",
            "1760/1760 [==============================] - 0s 57us/step - loss: 16.1272 - val_loss: 16.6201\n",
            "Epoch 59/100\n",
            "1760/1760 [==============================] - 0s 57us/step - loss: 16.2052 - val_loss: 16.5635\n",
            "Epoch 60/100\n",
            "1760/1760 [==============================] - 0s 59us/step - loss: 16.3320 - val_loss: 16.5948\n",
            "Epoch 61/100\n",
            "1760/1760 [==============================] - 0s 58us/step - loss: 16.2059 - val_loss: 16.8333\n",
            "Epoch 62/100\n",
            "1760/1760 [==============================] - 0s 58us/step - loss: 16.1147 - val_loss: 16.7015\n",
            "Epoch 63/100\n",
            "1760/1760 [==============================] - 0s 59us/step - loss: 16.1460 - val_loss: 16.7220\n",
            "Epoch 64/100\n",
            "1760/1760 [==============================] - 0s 56us/step - loss: 16.1976 - val_loss: 16.6232\n",
            "Epoch 65/100\n",
            "1760/1760 [==============================] - 0s 55us/step - loss: 16.0434 - val_loss: 16.5651\n",
            "Epoch 66/100\n",
            "1760/1760 [==============================] - 0s 56us/step - loss: 16.1745 - val_loss: 16.5738\n",
            "Epoch 67/100\n",
            "1760/1760 [==============================] - 0s 64us/step - loss: 16.1813 - val_loss: 16.4835\n",
            "Epoch 68/100\n",
            "1760/1760 [==============================] - 0s 57us/step - loss: 16.2563 - val_loss: 16.5277\n",
            "Epoch 69/100\n",
            "1760/1760 [==============================] - 0s 58us/step - loss: 15.9644 - val_loss: 16.7271\n",
            "Epoch 70/100\n",
            "1760/1760 [==============================] - 0s 57us/step - loss: 16.1378 - val_loss: 16.4613\n",
            "Epoch 71/100\n",
            "1760/1760 [==============================] - 0s 57us/step - loss: 16.0057 - val_loss: 16.4438\n",
            "Epoch 72/100\n",
            "1760/1760 [==============================] - 0s 56us/step - loss: 16.0724 - val_loss: 16.6632\n",
            "Epoch 73/100\n",
            "1760/1760 [==============================] - 0s 59us/step - loss: 15.9110 - val_loss: 16.5305\n",
            "Epoch 74/100\n",
            "1760/1760 [==============================] - 0s 57us/step - loss: 16.0904 - val_loss: 16.2809\n",
            "Epoch 75/100\n",
            "1760/1760 [==============================] - 0s 58us/step - loss: 16.0864 - val_loss: 16.5716\n",
            "Epoch 76/100\n",
            "1760/1760 [==============================] - 0s 55us/step - loss: 16.2446 - val_loss: 16.5550\n",
            "Epoch 77/100\n",
            "1760/1760 [==============================] - 0s 61us/step - loss: 15.9023 - val_loss: 16.4336\n",
            "Epoch 78/100\n",
            "1760/1760 [==============================] - 0s 57us/step - loss: 15.9602 - val_loss: 16.6466\n",
            "Epoch 79/100\n",
            "1760/1760 [==============================] - 0s 59us/step - loss: 15.8702 - val_loss: 16.4873\n",
            "Epoch 80/100\n",
            "1760/1760 [==============================] - 0s 57us/step - loss: 16.1276 - val_loss: 16.3424\n",
            "Epoch 81/100\n",
            "1760/1760 [==============================] - 0s 57us/step - loss: 15.9058 - val_loss: 16.5853\n",
            "Epoch 82/100\n",
            "1760/1760 [==============================] - 0s 55us/step - loss: 16.0304 - val_loss: 16.4859\n",
            "Epoch 83/100\n",
            "1760/1760 [==============================] - 0s 58us/step - loss: 15.8169 - val_loss: 16.1686\n",
            "Epoch 84/100\n",
            "1760/1760 [==============================] - 0s 58us/step - loss: 15.8327 - val_loss: 16.4036\n",
            "Epoch 85/100\n",
            "1760/1760 [==============================] - 0s 61us/step - loss: 15.9676 - val_loss: 16.1432\n",
            "Epoch 86/100\n",
            "1760/1760 [==============================] - 0s 60us/step - loss: 15.6419 - val_loss: 16.1874\n",
            "Epoch 87/100\n",
            "1760/1760 [==============================] - 0s 60us/step - loss: 15.5941 - val_loss: 16.3695\n",
            "Epoch 88/100\n",
            "1760/1760 [==============================] - 0s 59us/step - loss: 15.6567 - val_loss: 16.2658\n",
            "Epoch 89/100\n",
            "1760/1760 [==============================] - 0s 56us/step - loss: 15.7201 - val_loss: 16.3247\n",
            "Epoch 90/100\n",
            "1760/1760 [==============================] - 0s 56us/step - loss: 15.7728 - val_loss: 16.3268\n",
            "Epoch 91/100\n",
            "1760/1760 [==============================] - 0s 56us/step - loss: 15.8552 - val_loss: 16.3323\n",
            "Epoch 92/100\n",
            "1760/1760 [==============================] - 0s 57us/step - loss: 15.5643 - val_loss: 16.1116\n",
            "Epoch 93/100\n",
            "1760/1760 [==============================] - 0s 55us/step - loss: 15.8126 - val_loss: 16.1994\n",
            "Epoch 94/100\n",
            "1760/1760 [==============================] - 0s 58us/step - loss: 15.7709 - val_loss: 16.2802\n",
            "Epoch 95/100\n",
            "1760/1760 [==============================] - 0s 66us/step - loss: 15.6685 - val_loss: 16.2368\n",
            "Epoch 96/100\n",
            "1760/1760 [==============================] - 0s 59us/step - loss: 15.6769 - val_loss: 16.4510\n",
            "Epoch 97/100\n",
            "1760/1760 [==============================] - 0s 56us/step - loss: 15.8158 - val_loss: 16.3843\n",
            "Epoch 98/100\n",
            "1760/1760 [==============================] - 0s 54us/step - loss: 15.6915 - val_loss: 16.6285\n",
            "Epoch 99/100\n",
            "1760/1760 [==============================] - 0s 59us/step - loss: 15.7537 - val_loss: 16.4668\n",
            "Epoch 100/100\n",
            "1760/1760 [==============================] - 0s 57us/step - loss: 15.7139 - val_loss: 16.4768\n"
          ],
          "name": "stdout"
        }
      ]
    },
    {
      "cell_type": "code",
      "metadata": {
        "id": "ZiV2iQyVwSdN",
        "colab_type": "code",
        "outputId": "7a0fe4ca-715c-4576-dfcd-fe7c363c23b3",
        "colab": {
          "base_uri": "https://localhost:8080/",
          "height": 34
        }
      },
      "source": [
        "np.random.seed(1)\n",
        "x_test = np.reshape(x_test, (-1, original_dim))\n",
        "x_test_encoded = vae.encoder.predict(x_test)\n",
        "x_test_encoded = np.asarray(x_test_encoded)\n",
        "\n",
        "print(x_test_encoded.shape)"
      ],
      "execution_count": 0,
      "outputs": [
        {
          "output_type": "stream",
          "text": [
            "(3, 1761, 23)\n"
          ],
          "name": "stdout"
        }
      ]
    },
    {
      "cell_type": "code",
      "metadata": {
        "id": "qTfvSN_R2c76",
        "colab_type": "code",
        "outputId": "f2d586c2-745d-4958-b369-21ac4f97dff5",
        "colab": {
          "base_uri": "https://localhost:8080/",
          "height": 34
        }
      },
      "source": [
        "total_nums = 2\n",
        "results = []\n",
        "for i in range(x_test_encoded.shape[1]):\n",
        "    latent_gen = []\n",
        "    for j in range(x_test_encoded.shape[2]):\n",
        "        mean_v1 = x_test_encoded[0, i, j]\n",
        "        log_var_v1 = x_test_encoded[1, i, j]\n",
        "\n",
        "        v1 = [mean_v1 + np.exp(log_var_v1/2)*np.random.normal(0., 1., 1) for _ in range(total_nums)]\n",
        "        v1 = np.asarray(v1).flatten()\n",
        "        latent_gen.append(v1)\n",
        "    \n",
        "    input_val = np.asarray(latent_gen)\n",
        "    input_val = input_val.reshape((-1, latent_dim))\n",
        "    results.append(vae.generate(input_val))\n",
        "        \n",
        "results = np.asarray(results)\n",
        "results = np.reshape(results, (-1, original_dim))\n",
        "print(results.shape)\n",
        "results = scaler.inverse_transform(results)"
      ],
      "execution_count": 0,
      "outputs": [
        {
          "output_type": "stream",
          "text": [
            "(3522, 47)\n"
          ],
          "name": "stdout"
        }
      ]
    },
    {
      "cell_type": "code",
      "metadata": {
        "id": "xdg-w-3eMquu",
        "colab_type": "code",
        "outputId": "4ea799d0-7a0d-4709-eecf-ccb9abf547f9",
        "colab": {
          "base_uri": "https://localhost:8080/",
          "height": 51
        }
      },
      "source": [
        "print(len(results[:, 1]))\n",
        "print(results[0, 0])"
      ],
      "execution_count": 0,
      "outputs": [
        {
          "output_type": "stream",
          "text": [
            "3522\n",
            "0.15966901\n"
          ],
          "name": "stdout"
        }
      ]
    },
    {
      "cell_type": "code",
      "metadata": {
        "id": "fC6DiGV8MV9W",
        "colab_type": "code",
        "colab": {}
      },
      "source": [
        "d = {}\n",
        "names = list(df)\n",
        "for i, name in enumerate(names):\n",
        "    d[name] = results[:, i]\n",
        "df = pd.DataFrame(data=d)"
      ],
      "execution_count": 0,
      "outputs": []
    },
    {
      "cell_type": "code",
      "metadata": {
        "id": "49_bbWWCsrHG",
        "colab_type": "code",
        "outputId": "ceac85da-1b55-44ea-c23b-86d7a44ab692",
        "colab": {
          "base_uri": "https://localhost:8080/",
          "height": 238
        }
      },
      "source": [
        "names = list(df)\n",
        "c_dict = {}\n",
        "for n in names:\n",
        "    if '_' in n:\n",
        "        index = n.index('_')\n",
        "        c_dict[n[:index]] = [c for c in names if n[:index+1] in c]\n",
        "values = []\n",
        "for key, items in c_dict.items():\n",
        "    dummies = df[items]\n",
        "    d_names = list(dummies)\n",
        "    c_dict = {}\n",
        "    for n in d_names:\n",
        "        c_dict[n] = n[n.index('_')+1:]\n",
        "    dummies.rename(columns=c_dict, \n",
        "                   inplace=True)\n",
        "    df[key] = dummies.idxmax(axis=1)\n",
        "    df.drop(items, axis=1, inplace=True)\n",
        "print(df.head())"
      ],
      "execution_count": 0,
      "outputs": [
        {
          "output_type": "stream",
          "text": [
            "/usr/local/lib/python3.6/dist-packages/pandas/core/frame.py:4025: SettingWithCopyWarning: \n",
            "A value is trying to be set on a copy of a slice from a DataFrame\n",
            "\n",
            "See the caveats in the documentation: http://pandas.pydata.org/pandas-docs/stable/indexing.html#indexing-view-versus-copy\n",
            "  return super(DataFrame, self).rename(**kwargs)\n"
          ],
          "name": "stderr"
        },
        {
          "output_type": "stream",
          "text": [
            "   SeniorCitizen     tenure  ...              PaymentMethod  Churn\n",
            "0       0.159669  22.762192  ...           Electronic check     No\n",
            "1       0.062498  15.686329  ...           Electronic check    Yes\n",
            "2       0.236449   9.745699  ...           Electronic check    Yes\n",
            "3       0.184156  27.001116  ...  Bank transfer (automatic)    Yes\n",
            "4       0.103739  24.887655  ...               Mailed check     No\n",
            "\n",
            "[5 rows x 20 columns]\n"
          ],
          "name": "stdout"
        }
      ]
    },
    {
      "cell_type": "code",
      "metadata": {
        "id": "1ljK-ceANBih",
        "colab_type": "code",
        "colab": {}
      },
      "source": [
        "df = df.reindex(sorted(df.columns), axis=1)\n",
        "df.to_csv(path + '_vae.csv')"
      ],
      "execution_count": 0,
      "outputs": []
    },
    {
      "cell_type": "markdown",
      "metadata": {
        "colab_type": "text",
        "id": "SZr05ADu6LQP"
      },
      "source": [
        "# Dropout VAE"
      ]
    },
    {
      "cell_type": "markdown",
      "metadata": {
        "colab_type": "text",
        "id": "70nAVW82oNMV"
      },
      "source": [
        "## Read Data"
      ]
    },
    {
      "cell_type": "code",
      "metadata": {
        "colab_type": "code",
        "outputId": "290dab4d-e74c-4b5c-8d0d-a7bc259f38cf",
        "id": "EUDQdDxxT29T",
        "colab": {
          "base_uri": "https://localhost:8080/",
          "height": 595
        }
      },
      "source": [
        "import pandas as pd\n",
        "na_values = {'?', ' '}\n",
        "df = pd.read_csv(path,\n",
        "                 sep=',',\n",
        "                 na_filter=True, \n",
        "                 verbose=False, \n",
        "                 skip_blank_lines=True, \n",
        "                 na_values=na_values,\n",
        "                 keep_default_na=False)\n",
        "                 \n",
        "df.fillna(method='ffill', inplace=True)\n",
        "df.dropna(axis=1, how='any', inplace=True)\n",
        "df.drop(['customerID'], axis=1, inplace=True)\n",
        "df = df.reset_index(drop=True)\n",
        "print(df.info())\n",
        "print(df.head())"
      ],
      "execution_count": 0,
      "outputs": [
        {
          "output_type": "stream",
          "text": [
            "<class 'pandas.core.frame.DataFrame'>\n",
            "RangeIndex: 7043 entries, 0 to 7042\n",
            "Data columns (total 20 columns):\n",
            "gender              7043 non-null object\n",
            "SeniorCitizen       7043 non-null int64\n",
            "Partner             7043 non-null object\n",
            "Dependents          7043 non-null object\n",
            "tenure              7043 non-null int64\n",
            "PhoneService        7043 non-null object\n",
            "MultipleLines       7043 non-null object\n",
            "InternetService     7043 non-null object\n",
            "OnlineSecurity      7043 non-null object\n",
            "OnlineBackup        7043 non-null object\n",
            "DeviceProtection    7043 non-null object\n",
            "TechSupport         7043 non-null object\n",
            "StreamingTV         7043 non-null object\n",
            "StreamingMovies     7043 non-null object\n",
            "Contract            7043 non-null object\n",
            "PaperlessBilling    7043 non-null object\n",
            "PaymentMethod       7043 non-null object\n",
            "MonthlyCharges      7043 non-null float64\n",
            "TotalCharges        7043 non-null float64\n",
            "Churn               7043 non-null object\n",
            "dtypes: float64(2), int64(2), object(16)\n",
            "memory usage: 1.1+ MB\n",
            "None\n",
            "   gender  SeniorCitizen Partner  ... MonthlyCharges  TotalCharges Churn\n",
            "0  Female              0     Yes  ...          29.85         29.85    No\n",
            "1    Male              0      No  ...          56.95       1889.50    No\n",
            "2    Male              0      No  ...          53.85        108.15   Yes\n",
            "3    Male              0      No  ...          42.30       1840.75    No\n",
            "4  Female              0      No  ...          70.70        151.65   Yes\n",
            "\n",
            "[5 rows x 20 columns]\n"
          ],
          "name": "stdout"
        }
      ]
    },
    {
      "cell_type": "markdown",
      "metadata": {
        "colab_type": "text",
        "id": "JptPeF-IT29g"
      },
      "source": [
        "## Recognizing Categorical data"
      ]
    },
    {
      "cell_type": "code",
      "metadata": {
        "colab_type": "code",
        "outputId": "0e9a6981-893e-4afd-f304-9d400daab635",
        "id": "ezmEK3h-T29h",
        "colab": {
          "base_uri": "https://localhost:8080/",
          "height": 153
        }
      },
      "source": [
        "colnums = len(df.columns)\n",
        "for i in df.columns:\n",
        "    try:\n",
        "        if df[i].dtype.name == 'object':\n",
        "            df[i] = df[i].astype('category')\n",
        "        else:\n",
        "            df[i].astype('float32')\n",
        "    except:\n",
        "        continue\n",
        "print(df.head())"
      ],
      "execution_count": 0,
      "outputs": [
        {
          "output_type": "stream",
          "text": [
            "   gender  SeniorCitizen Partner  ... MonthlyCharges  TotalCharges Churn\n",
            "0  Female              0     Yes  ...          29.85         29.85    No\n",
            "1    Male              0      No  ...          56.95       1889.50    No\n",
            "2    Male              0      No  ...          53.85        108.15   Yes\n",
            "3    Male              0      No  ...          42.30       1840.75    No\n",
            "4  Female              0      No  ...          70.70        151.65   Yes\n",
            "\n",
            "[5 rows x 20 columns]\n"
          ],
          "name": "stdout"
        }
      ]
    },
    {
      "cell_type": "code",
      "metadata": {
        "colab_type": "code",
        "outputId": "f944fff2-0a3e-4dc0-eedd-90fe80a9994d",
        "id": "oapUxtIiT29l",
        "colab": {
          "base_uri": "https://localhost:8080/",
          "height": 153
        }
      },
      "source": [
        "from sklearn.model_selection import train_test_split\n",
        "from sklearn.preprocessing import MinMaxScaler, StandardScaler\n",
        "vals = df.values.copy()\n",
        "total_nums = len(vals)\n",
        "\n",
        "train, validation = train_test_split(df, test_size=0.5, \n",
        "                                     random_state=42, \n",
        "                                     shuffle=True)\n",
        "\n",
        "validation = validation.reindex(sorted(validation.columns), axis=1)\n",
        "validation.to_csv(path + '_For_Test.csv')\n",
        "print(validation.head())"
      ],
      "execution_count": 0,
      "outputs": [
        {
          "output_type": "stream",
          "text": [
            "     Churn        Contract Dependents  ... TotalCharges  gender  tenure\n",
            "185    Yes  Month-to-month         No  ...        24.80  Female       1\n",
            "2715    No  Month-to-month         No  ...       996.45    Male      41\n",
            "3825    No        Two year        Yes  ...      1031.70  Female      52\n",
            "1807   Yes  Month-to-month         No  ...        76.35  Female       1\n",
            "132     No        Two year         No  ...      3260.10    Male      67\n",
            "\n",
            "[5 rows x 20 columns]\n"
          ],
          "name": "stdout"
        }
      ]
    },
    {
      "cell_type": "code",
      "metadata": {
        "colab_type": "code",
        "outputId": "46d5df25-ba62-4f85-c7a8-e9af6cd97a4f",
        "id": "HAVFi13QT29o",
        "colab": {
          "base_uri": "https://localhost:8080/",
          "height": 102
        }
      },
      "source": [
        "df = train\n",
        "categorical = df.select_dtypes(['category']).columns\n",
        "print(categorical)\n",
        "for f in categorical:\n",
        "    dummies = pd.get_dummies(df[f], prefix = f, prefix_sep = '_')\n",
        "    df = pd.concat([df, dummies], axis = 1)\n",
        "    \n",
        "# drop original categorical features\n",
        "df.drop(categorical, axis = 1, inplace = True)"
      ],
      "execution_count": 0,
      "outputs": [
        {
          "output_type": "stream",
          "text": [
            "Index(['gender', 'Partner', 'Dependents', 'PhoneService', 'MultipleLines',\n",
            "       'InternetService', 'OnlineSecurity', 'OnlineBackup', 'DeviceProtection',\n",
            "       'TechSupport', 'StreamingTV', 'StreamingMovies', 'Contract',\n",
            "       'PaperlessBilling', 'PaymentMethod', 'Churn'],\n",
            "      dtype='object')\n"
          ],
          "name": "stdout"
        }
      ]
    },
    {
      "cell_type": "code",
      "metadata": {
        "colab_type": "code",
        "id": "9KXhkZujT29r",
        "colab": {}
      },
      "source": [
        "train = df.values.copy()\n",
        "train.astype('float32')\n",
        "scaler = MinMaxScaler()\n",
        "d = {}\n",
        "train = scaler.fit_transform(train)\n",
        "x_train, x_test = train_test_split(train, test_size=0.5,\n",
        "                                  random_state=24,\n",
        "                                  shuffle=True)"
      ],
      "execution_count": 0,
      "outputs": []
    },
    {
      "cell_type": "code",
      "metadata": {
        "colab_type": "code",
        "outputId": "5b1242fd-c9db-4b67-ca1f-57b80b608dde",
        "id": "fa5UJs9cT29v",
        "colab": {
          "base_uri": "https://localhost:8080/",
          "height": 51
        }
      },
      "source": [
        "original_dim = x_train.shape[1]\n",
        "x_train = np.reshape(x_train, [-1, original_dim])\n",
        "x_test = np.reshape(x_test, [-1, original_dim])\n",
        "x_train = x_train.astype('float32')\n",
        "x_test = x_test.astype('float32')\n",
        "print(x_train.shape)\n",
        "print(x_test.shape)"
      ],
      "execution_count": 0,
      "outputs": [
        {
          "output_type": "stream",
          "text": [
            "(1760, 47)\n",
            "(1761, 47)\n"
          ],
          "name": "stdout"
        }
      ]
    },
    {
      "cell_type": "code",
      "metadata": {
        "colab_type": "code",
        "id": "MnKFnBX-6LQR",
        "colab": {}
      },
      "source": [
        "from keras.regularizers import l2\n",
        "from keras.losses import categorical_crossentropy\n",
        "class DropoutVAE:\n",
        "    def __init__(self, input_shape=(original_dim,), \n",
        "                 intermediate_dim=32, latent_dim=3, dropout=0.05, \n",
        "                 summary=False):\n",
        "        \n",
        "        self._build_model(input_shape,\n",
        "                         intermediate_dim, \n",
        "                          latent_dim, summary,\n",
        "                          dropout)\n",
        "    \n",
        "    def _build_model(self, input_shape, intermediate_dim, latent_dim,\n",
        "                    summary=False, dropout=0.05):\n",
        "        inputs = Input(shape=input_shape, name='encoder_input')\n",
        "        x = inputs\n",
        "        x = Dense(intermediate_dim, activation='relu')(x)\n",
        "        x = Dense(intermediate_dim//2, activation='relu')(x)\n",
        "        \n",
        "        z_mean = Dense(latent_dim, name='z_mean')(x)\n",
        "        z_log_var = Dense(latent_dim, name='z_log_var')(x)\n",
        "\n",
        "        z = Lambda(self.sampling, output_shape=(latent_dim,), \n",
        "                   name='z')([z_mean, z_log_var])\n",
        "\n",
        "        self.encoder = Model(inputs, [z_mean, z_log_var, z], \n",
        "                        name='encoder')\n",
        "        \n",
        "        latent_inputs = Input(shape=(latent_dim,), \n",
        "                              name='z_sampling')\n",
        "        x = latent_inputs\n",
        "        x = Dense(intermediate_dim//2, activation='relu',\n",
        "                 kernel_regularizer=l2(1e-4),\n",
        "                 bias_regularizer=l2(1e-4))(x)\n",
        "        x = Dropout(dropout)(x)\n",
        "        x = Dense(intermediate_dim, activation='relu',\n",
        "                 kernel_regularizer=l2(1e-4),\n",
        "                 bias_regularizer=l2(1e-4))(x)\n",
        "        x = Dropout(dropout)(x)\n",
        "        outputs = Dense(original_dim, activation='sigmoid',\n",
        "                       kernel_regularizer=l2(1e-4),\n",
        "                       bias_regularizer=l2(1e-4))(x)\n",
        "\n",
        "        self.decoder = Model(latent_inputs, \n",
        "                             outputs, \n",
        "                             name='decoder')\n",
        "        outputs = self.decoder(self.encoder(inputs)[2])\n",
        "        self.vae = Model(inputs, outputs, \n",
        "                         name='vae_mlp')\n",
        "        \n",
        "        reconstruction_loss = binary_crossentropy(inputs, outputs)\n",
        "        reconstruction_loss *= original_dim\n",
        "        kl_loss = 1 + z_log_var - K.square(z_mean) - K.exp(z_log_var)\n",
        "        kl_loss = K.sum(kl_loss, axis=-1)\n",
        "        kl_loss *= -0.5\n",
        "        \n",
        "        vae_loss = K.mean(reconstruction_loss + kl_loss)\t\n",
        "        \n",
        "        self.vae.add_loss(vae_loss)\n",
        "        self.vae.compile(optimizer='adam')\n",
        "        if summary: \n",
        "            print(self.vae.summary())\n",
        "        \n",
        "    def sampling(self, args):\n",
        "        z_mean, z_log_var = args\n",
        "        batch = K.shape(z_mean)[0]\n",
        "        dim = K.int_shape(z_mean)[1]\n",
        "        epsilon = K.random_normal(shape=(batch, dim))\n",
        "        return z_mean + K.exp(0.5 * z_log_var) * epsilon\n",
        "        \n",
        "    def fit(self, x_train, x_test, epochs=100, batch_size=100,\n",
        "           verbose=1):\n",
        "        self.vae.fit(x_train, \n",
        "            shuffle=True,\n",
        "            epochs=epochs,\n",
        "            batch_size=batch_size,\n",
        "            verbose=verbose,\n",
        "            validation_data=(x_test, None))\n",
        "    \n",
        "    def encoder_predict(self, x_test, batch_size=100):\n",
        "        return self.encoder.predict(x_test,\n",
        "                                   batch_size=batch_size)\n",
        "    \n",
        "    def generate(self, latent_val, batch_size=100):\n",
        "        return self.decoder.predict(latent_val)\n",
        "    \n",
        "    def predict(self, x_test, batch_size=1, nums=1000):\n",
        "        predict_stochastic = K.function([self.vae.layers[0].input,\n",
        "                                        K.learning_phase()],\n",
        "                                        [self.vae.get_output_at(0)])\n",
        "        Yt_hat = np.array([self.vae.predict(x_test) for _ in range(nums)]) \n",
        "        return Yt_hat"
      ],
      "execution_count": 0,
      "outputs": []
    },
    {
      "cell_type": "markdown",
      "metadata": {
        "colab_type": "text",
        "id": "TsARTKz36LQZ"
      },
      "source": [
        "## Train and evaluate Dropout VAE"
      ]
    },
    {
      "cell_type": "code",
      "metadata": {
        "colab_type": "code",
        "id": "pkdmVggK6LQp",
        "outputId": "fac25f38-c1cd-4945-8fa7-f4c0693b7193",
        "colab": {
          "base_uri": "https://localhost:8080/",
          "height": 3743
        }
      },
      "source": [
        "latent_dim = original_dim//2\n",
        "if latent_dim < 2:\n",
        "    latent_dim = 2\n",
        "vae = DropoutVAE(intermediate_dim=intermediate_dim,\n",
        "                 dropout=0.2, latent_dim=latent_dim,\n",
        "                 summary=True)\n",
        "vae.fit(x_train, x_test, epochs=100)"
      ],
      "execution_count": 0,
      "outputs": [
        {
          "output_type": "stream",
          "text": [
            "WARNING:tensorflow:From /usr/local/lib/python3.6/dist-packages/keras/backend/tensorflow_backend.py:3445: calling dropout (from tensorflow.python.ops.nn_ops) with keep_prob is deprecated and will be removed in a future version.\n",
            "Instructions for updating:\n",
            "Please use `rate` instead of `keep_prob`. Rate should be set to `rate = 1 - keep_prob`.\n",
            "_________________________________________________________________\n",
            "Layer (type)                 Output Shape              Param #   \n",
            "=================================================================\n",
            "encoder_input (InputLayer)   (None, 47)                0         \n",
            "_________________________________________________________________\n",
            "encoder (Model)              [(None, 23), (None, 23),  167726    \n",
            "_________________________________________________________________\n",
            "decoder (Model)              (None, 47)                161839    \n",
            "=================================================================\n",
            "Total params: 329,565\n",
            "Trainable params: 329,565\n",
            "Non-trainable params: 0\n",
            "_________________________________________________________________\n",
            "None\n",
            "Train on 1760 samples, validate on 1761 samples\n",
            "Epoch 1/100\n",
            "1760/1760 [==============================] - 1s 394us/step - loss: 29.6260 - val_loss: 28.4184\n",
            "Epoch 2/100\n",
            "1760/1760 [==============================] - 0s 69us/step - loss: 28.0914 - val_loss: 27.1512\n",
            "Epoch 3/100\n",
            "1760/1760 [==============================] - 0s 64us/step - loss: 25.9639 - val_loss: 24.5359\n",
            "Epoch 4/100\n",
            "1760/1760 [==============================] - 0s 66us/step - loss: 24.1007 - val_loss: 23.1869\n",
            "Epoch 5/100\n",
            "1760/1760 [==============================] - 0s 66us/step - loss: 23.3514 - val_loss: 22.5808\n",
            "Epoch 6/100\n",
            "1760/1760 [==============================] - 0s 65us/step - loss: 22.9730 - val_loss: 22.3666\n",
            "Epoch 7/100\n",
            "1760/1760 [==============================] - 0s 63us/step - loss: 22.3879 - val_loss: 21.8852\n",
            "Epoch 8/100\n",
            "1760/1760 [==============================] - 0s 68us/step - loss: 22.0385 - val_loss: 21.4094\n",
            "Epoch 9/100\n",
            "1760/1760 [==============================] - 0s 68us/step - loss: 21.8090 - val_loss: 21.1947\n",
            "Epoch 10/100\n",
            "1760/1760 [==============================] - 0s 64us/step - loss: 21.6749 - val_loss: 20.9682\n",
            "Epoch 11/100\n",
            "1760/1760 [==============================] - 0s 64us/step - loss: 21.2017 - val_loss: 20.7142\n",
            "Epoch 12/100\n",
            "1760/1760 [==============================] - 0s 64us/step - loss: 21.0384 - val_loss: 20.5885\n",
            "Epoch 13/100\n",
            "1760/1760 [==============================] - 0s 64us/step - loss: 21.0258 - val_loss: 20.3934\n",
            "Epoch 14/100\n",
            "1760/1760 [==============================] - 0s 64us/step - loss: 20.6626 - val_loss: 20.2974\n",
            "Epoch 15/100\n",
            "1760/1760 [==============================] - 0s 64us/step - loss: 20.5570 - val_loss: 20.1780\n",
            "Epoch 16/100\n",
            "1760/1760 [==============================] - 0s 67us/step - loss: 20.4145 - val_loss: 19.8117\n",
            "Epoch 17/100\n",
            "1760/1760 [==============================] - 0s 65us/step - loss: 20.2270 - val_loss: 19.6020\n",
            "Epoch 18/100\n",
            "1760/1760 [==============================] - 0s 64us/step - loss: 19.9325 - val_loss: 19.4900\n",
            "Epoch 19/100\n",
            "1760/1760 [==============================] - 0s 65us/step - loss: 19.7314 - val_loss: 19.3943\n",
            "Epoch 20/100\n",
            "1760/1760 [==============================] - 0s 63us/step - loss: 19.6301 - val_loss: 19.2226\n",
            "Epoch 21/100\n",
            "1760/1760 [==============================] - 0s 64us/step - loss: 19.6473 - val_loss: 19.1696\n",
            "Epoch 22/100\n",
            "1760/1760 [==============================] - 0s 63us/step - loss: 19.5639 - val_loss: 19.0269\n",
            "Epoch 23/100\n",
            "1760/1760 [==============================] - 0s 65us/step - loss: 19.5761 - val_loss: 19.1273\n",
            "Epoch 24/100\n",
            "1760/1760 [==============================] - 0s 65us/step - loss: 19.3880 - val_loss: 18.9842\n",
            "Epoch 25/100\n",
            "1760/1760 [==============================] - 0s 70us/step - loss: 19.3450 - val_loss: 18.9057\n",
            "Epoch 26/100\n",
            "1760/1760 [==============================] - 0s 66us/step - loss: 19.2084 - val_loss: 18.9880\n",
            "Epoch 27/100\n",
            "1760/1760 [==============================] - 0s 64us/step - loss: 19.2252 - val_loss: 18.8099\n",
            "Epoch 28/100\n",
            "1760/1760 [==============================] - 0s 64us/step - loss: 19.0627 - val_loss: 18.8109\n",
            "Epoch 29/100\n",
            "1760/1760 [==============================] - 0s 63us/step - loss: 19.2112 - val_loss: 18.7908\n",
            "Epoch 30/100\n",
            "1760/1760 [==============================] - 0s 66us/step - loss: 19.0978 - val_loss: 18.7928\n",
            "Epoch 31/100\n",
            "1760/1760 [==============================] - 0s 63us/step - loss: 19.1150 - val_loss: 18.6260\n",
            "Epoch 32/100\n",
            "1760/1760 [==============================] - 0s 65us/step - loss: 19.0974 - val_loss: 18.6795\n",
            "Epoch 33/100\n",
            "1760/1760 [==============================] - 0s 65us/step - loss: 18.8965 - val_loss: 18.4625\n",
            "Epoch 34/100\n",
            "1760/1760 [==============================] - 0s 76us/step - loss: 18.9258 - val_loss: 18.5590\n",
            "Epoch 35/100\n",
            "1760/1760 [==============================] - 0s 67us/step - loss: 18.7446 - val_loss: 18.5867\n",
            "Epoch 36/100\n",
            "1760/1760 [==============================] - 0s 63us/step - loss: 18.8004 - val_loss: 18.3578\n",
            "Epoch 37/100\n",
            "1760/1760 [==============================] - 0s 66us/step - loss: 18.7907 - val_loss: 18.2486\n",
            "Epoch 38/100\n",
            "1760/1760 [==============================] - 0s 63us/step - loss: 18.6898 - val_loss: 18.3766\n",
            "Epoch 39/100\n",
            "1760/1760 [==============================] - 0s 66us/step - loss: 18.6251 - val_loss: 18.2367\n",
            "Epoch 40/100\n",
            "1760/1760 [==============================] - 0s 62us/step - loss: 18.7137 - val_loss: 18.3262\n",
            "Epoch 41/100\n",
            "1760/1760 [==============================] - 0s 63us/step - loss: 18.5643 - val_loss: 18.1854\n",
            "Epoch 42/100\n",
            "1760/1760 [==============================] - 0s 63us/step - loss: 18.6176 - val_loss: 18.3181\n",
            "Epoch 43/100\n",
            "1760/1760 [==============================] - 0s 68us/step - loss: 18.4333 - val_loss: 18.3172\n",
            "Epoch 44/100\n",
            "1760/1760 [==============================] - 0s 63us/step - loss: 18.3766 - val_loss: 18.2280\n",
            "Epoch 45/100\n",
            "1760/1760 [==============================] - 0s 61us/step - loss: 18.4150 - val_loss: 18.0503\n",
            "Epoch 46/100\n",
            "1760/1760 [==============================] - 0s 63us/step - loss: 18.2528 - val_loss: 17.9528\n",
            "Epoch 47/100\n",
            "1760/1760 [==============================] - 0s 65us/step - loss: 18.3129 - val_loss: 17.9613\n",
            "Epoch 48/100\n",
            "1760/1760 [==============================] - 0s 63us/step - loss: 18.2776 - val_loss: 17.9857\n",
            "Epoch 49/100\n",
            "1760/1760 [==============================] - 0s 63us/step - loss: 18.1771 - val_loss: 17.9641\n",
            "Epoch 50/100\n",
            "1760/1760 [==============================] - 0s 64us/step - loss: 18.2236 - val_loss: 18.0103\n",
            "Epoch 51/100\n",
            "1760/1760 [==============================] - 0s 64us/step - loss: 18.0153 - val_loss: 17.8347\n",
            "Epoch 52/100\n",
            "1760/1760 [==============================] - 0s 70us/step - loss: 18.1673 - val_loss: 17.8719\n",
            "Epoch 53/100\n",
            "1760/1760 [==============================] - 0s 64us/step - loss: 18.0994 - val_loss: 17.9063\n",
            "Epoch 54/100\n",
            "1760/1760 [==============================] - 0s 64us/step - loss: 18.1658 - val_loss: 17.7441\n",
            "Epoch 55/100\n",
            "1760/1760 [==============================] - 0s 62us/step - loss: 17.8902 - val_loss: 17.8381\n",
            "Epoch 56/100\n",
            "1760/1760 [==============================] - 0s 65us/step - loss: 17.8862 - val_loss: 17.7955\n",
            "Epoch 57/100\n",
            "1760/1760 [==============================] - 0s 65us/step - loss: 17.9389 - val_loss: 17.6955\n",
            "Epoch 58/100\n",
            "1760/1760 [==============================] - 0s 63us/step - loss: 17.8095 - val_loss: 17.6592\n",
            "Epoch 59/100\n",
            "1760/1760 [==============================] - 0s 64us/step - loss: 17.9735 - val_loss: 17.5678\n",
            "Epoch 60/100\n",
            "1760/1760 [==============================] - 0s 63us/step - loss: 17.9691 - val_loss: 17.6450\n",
            "Epoch 61/100\n",
            "1760/1760 [==============================] - 0s 69us/step - loss: 17.7381 - val_loss: 17.6335\n",
            "Epoch 62/100\n",
            "1760/1760 [==============================] - 0s 63us/step - loss: 17.8258 - val_loss: 17.5923\n",
            "Epoch 63/100\n",
            "1760/1760 [==============================] - 0s 63us/step - loss: 17.6987 - val_loss: 17.4996\n",
            "Epoch 64/100\n",
            "1760/1760 [==============================] - 0s 63us/step - loss: 17.6347 - val_loss: 17.3973\n",
            "Epoch 65/100\n",
            "1760/1760 [==============================] - 0s 64us/step - loss: 17.6068 - val_loss: 17.4013\n",
            "Epoch 66/100\n",
            "1760/1760 [==============================] - 0s 64us/step - loss: 17.5966 - val_loss: 17.5362\n",
            "Epoch 67/100\n",
            "1760/1760 [==============================] - 0s 64us/step - loss: 17.4713 - val_loss: 17.3445\n",
            "Epoch 68/100\n",
            "1760/1760 [==============================] - 0s 64us/step - loss: 17.5485 - val_loss: 17.3637\n",
            "Epoch 69/100\n",
            "1760/1760 [==============================] - 0s 63us/step - loss: 17.5459 - val_loss: 17.3645\n",
            "Epoch 70/100\n",
            "1760/1760 [==============================] - 0s 71us/step - loss: 17.5222 - val_loss: 17.3251\n",
            "Epoch 71/100\n",
            "1760/1760 [==============================] - 0s 64us/step - loss: 17.5571 - val_loss: 17.3332\n",
            "Epoch 72/100\n",
            "1760/1760 [==============================] - 0s 64us/step - loss: 17.3298 - val_loss: 17.2878\n",
            "Epoch 73/100\n",
            "1760/1760 [==============================] - 0s 64us/step - loss: 17.5000 - val_loss: 17.2555\n",
            "Epoch 74/100\n",
            "1760/1760 [==============================] - 0s 65us/step - loss: 17.3084 - val_loss: 17.3099\n",
            "Epoch 75/100\n",
            "1760/1760 [==============================] - 0s 64us/step - loss: 17.3634 - val_loss: 17.2862\n",
            "Epoch 76/100\n",
            "1760/1760 [==============================] - 0s 62us/step - loss: 17.3047 - val_loss: 17.2459\n",
            "Epoch 77/100\n",
            "1760/1760 [==============================] - 0s 63us/step - loss: 17.3285 - val_loss: 17.0787\n",
            "Epoch 78/100\n",
            "1760/1760 [==============================] - 0s 63us/step - loss: 17.1795 - val_loss: 17.1850\n",
            "Epoch 79/100\n",
            "1760/1760 [==============================] - 0s 68us/step - loss: 17.1076 - val_loss: 17.0880\n",
            "Epoch 80/100\n",
            "1760/1760 [==============================] - 0s 65us/step - loss: 17.2761 - val_loss: 17.2485\n",
            "Epoch 81/100\n",
            "1760/1760 [==============================] - 0s 64us/step - loss: 17.2768 - val_loss: 17.3264\n",
            "Epoch 82/100\n",
            "1760/1760 [==============================] - 0s 63us/step - loss: 17.2732 - val_loss: 17.1274\n",
            "Epoch 83/100\n",
            "1760/1760 [==============================] - 0s 64us/step - loss: 17.2179 - val_loss: 17.2118\n",
            "Epoch 84/100\n",
            "1760/1760 [==============================] - 0s 63us/step - loss: 17.1196 - val_loss: 17.0145\n",
            "Epoch 85/100\n",
            "1760/1760 [==============================] - 0s 65us/step - loss: 17.1354 - val_loss: 16.9317\n",
            "Epoch 86/100\n",
            "1760/1760 [==============================] - 0s 64us/step - loss: 17.2318 - val_loss: 17.0793\n",
            "Epoch 87/100\n",
            "1760/1760 [==============================] - 0s 65us/step - loss: 17.2665 - val_loss: 16.9209\n",
            "Epoch 88/100\n",
            "1760/1760 [==============================] - 0s 70us/step - loss: 17.1005 - val_loss: 16.9423\n",
            "Epoch 89/100\n",
            "1760/1760 [==============================] - 0s 65us/step - loss: 17.0815 - val_loss: 16.9799\n",
            "Epoch 90/100\n",
            "1760/1760 [==============================] - 0s 64us/step - loss: 17.0329 - val_loss: 17.0018\n",
            "Epoch 91/100\n",
            "1760/1760 [==============================] - 0s 64us/step - loss: 16.9549 - val_loss: 17.0714\n",
            "Epoch 92/100\n",
            "1760/1760 [==============================] - 0s 64us/step - loss: 17.1001 - val_loss: 17.0660\n",
            "Epoch 93/100\n",
            "1760/1760 [==============================] - 0s 67us/step - loss: 16.8324 - val_loss: 16.9385\n",
            "Epoch 94/100\n",
            "1760/1760 [==============================] - 0s 63us/step - loss: 16.9248 - val_loss: 17.1431\n",
            "Epoch 95/100\n",
            "1760/1760 [==============================] - 0s 63us/step - loss: 17.1144 - val_loss: 17.0214\n",
            "Epoch 96/100\n",
            "1760/1760 [==============================] - 0s 65us/step - loss: 16.7927 - val_loss: 16.9183\n",
            "Epoch 97/100\n",
            "1760/1760 [==============================] - 0s 68us/step - loss: 17.0212 - val_loss: 16.8984\n",
            "Epoch 98/100\n",
            "1760/1760 [==============================] - 0s 65us/step - loss: 16.9823 - val_loss: 16.9117\n",
            "Epoch 99/100\n",
            "1760/1760 [==============================] - 0s 62us/step - loss: 17.0242 - val_loss: 16.9914\n",
            "Epoch 100/100\n",
            "1760/1760 [==============================] - 0s 65us/step - loss: 16.8423 - val_loss: 16.8970\n"
          ],
          "name": "stdout"
        }
      ]
    },
    {
      "cell_type": "code",
      "metadata": {
        "colab_type": "code",
        "id": "2HndA3MG6LQs",
        "outputId": "17b62113-3bc3-4758-9382-e73effa0f9e3",
        "colab": {
          "base_uri": "https://localhost:8080/",
          "height": 51
        }
      },
      "source": [
        "np.random.seed(1)\n",
        "x_test = np.reshape(x_test, (-1, original_dim))\n",
        "print(x_test.shape)\n",
        "print(x_test[0].reshape(-1, original_dim).shape)"
      ],
      "execution_count": 0,
      "outputs": [
        {
          "output_type": "stream",
          "text": [
            "(1761, 47)\n",
            "(1, 47)\n"
          ],
          "name": "stdout"
        }
      ]
    },
    {
      "cell_type": "code",
      "metadata": {
        "id": "_sgO9JKSqWsW",
        "colab_type": "code",
        "colab": {}
      },
      "source": [
        "total_nums = 2\n",
        "results = []\n",
        "for i in range(x_test.shape[0]):\n",
        "    x_test_encoded = vae.predict(x_test[i].reshape(-1, original_dim), \n",
        "                                 nums=total_nums)\n",
        "    x_test_encoded = x_test_encoded.reshape(total_nums, original_dim)\n",
        "    results.append(x_test_encoded)\n",
        "results = np.asarray(results)\n",
        "results = results.reshape(total_nums*results.shape[0], original_dim)\n",
        "results = scaler.inverse_transform(results)"
      ],
      "execution_count": 0,
      "outputs": []
    },
    {
      "cell_type": "markdown",
      "metadata": {
        "id": "POfJxgHamlmx",
        "colab_type": "text"
      },
      "source": [
        "## Results"
      ]
    },
    {
      "cell_type": "code",
      "metadata": {
        "colab_type": "code",
        "id": "YIlGSzekAYlO",
        "colab": {}
      },
      "source": [
        "d = {}\n",
        "names = list(df)\n",
        "for i, name in enumerate(names):\n",
        "    d[name] = results[:, i]\n",
        "df = pd.DataFrame(data=d)"
      ],
      "execution_count": 0,
      "outputs": []
    },
    {
      "cell_type": "code",
      "metadata": {
        "colab_type": "code",
        "outputId": "02c2a7ab-6d60-497c-9111-df743bfa6968",
        "id": "shurAQCSAYlV",
        "colab": {
          "base_uri": "https://localhost:8080/",
          "height": 238
        }
      },
      "source": [
        "names = list(df)\n",
        "c_dict = {}\n",
        "for n in names:\n",
        "    if '_' in n:\n",
        "        index = n.index('_')\n",
        "        c_dict[n[:index]] = [c for c in names if n[:index+1] in c]\n",
        "values = []\n",
        "for key, items in c_dict.items():\n",
        "    dummies = df[items]\n",
        "    d_names = list(dummies)\n",
        "    c_dict = {}\n",
        "    for n in d_names:\n",
        "        c_dict[n] = n[n.index('_')+1:]\n",
        "    dummies.rename(columns=c_dict, \n",
        "                   inplace=True)\n",
        "    df[key] = dummies.idxmax(axis=1)\n",
        "    df.drop(items, axis=1, inplace=True)\n",
        "print(df.head())"
      ],
      "execution_count": 0,
      "outputs": [
        {
          "output_type": "stream",
          "text": [
            "/usr/local/lib/python3.6/dist-packages/pandas/core/frame.py:4025: SettingWithCopyWarning: \n",
            "A value is trying to be set on a copy of a slice from a DataFrame\n",
            "\n",
            "See the caveats in the documentation: http://pandas.pydata.org/pandas-docs/stable/indexing.html#indexing-view-versus-copy\n",
            "  return super(DataFrame, self).rename(**kwargs)\n"
          ],
          "name": "stderr"
        },
        {
          "output_type": "stream",
          "text": [
            "   SeniorCitizen     tenure  ...     PaymentMethod  Churn\n",
            "0       0.002683   3.674412  ...      Mailed check     No\n",
            "1       0.008835   5.636594  ...      Mailed check     No\n",
            "2       0.553237  28.079653  ...  Electronic check     No\n",
            "3       0.350301  36.026741  ...  Electronic check     No\n",
            "4       0.014914  16.783020  ...      Mailed check     No\n",
            "\n",
            "[5 rows x 20 columns]\n"
          ],
          "name": "stdout"
        }
      ]
    },
    {
      "cell_type": "code",
      "metadata": {
        "colab_type": "code",
        "id": "n8dLIoyVW_Kn",
        "colab": {}
      },
      "source": [
        "df = df.reindex(sorted(df.columns), axis=1)\n",
        "df.to_csv(path + '_dropout.csv')"
      ],
      "execution_count": 0,
      "outputs": []
    },
    {
      "cell_type": "markdown",
      "metadata": {
        "id": "xL6N8v2sYTNm",
        "colab_type": "text"
      },
      "source": [
        "# Transform categorical -> number"
      ]
    },
    {
      "cell_type": "code",
      "metadata": {
        "id": "FgVhmliYYzwS",
        "colab_type": "code",
        "colab": {}
      },
      "source": [
        "\n",
        "validation.to_csv(path + '_For_Test.csv')\n",
        "df = pd.read_csv(path + '_For_Test.csv',\n",
        "                 na_filter=True, \n",
        "                 verbose=False, \n",
        "                 skip_blank_lines=True, \n",
        "                 na_values=na_values,\n",
        "                 keep_default_na=False)\n",
        "df_mc = pd.read_csv(path + '_dropout.csv',\n",
        "                 na_filter=True, \n",
        "                 verbose=False, \n",
        "                 skip_blank_lines=True, \n",
        "                 na_values=na_values,\n",
        "                 keep_default_na=False)\n",
        "df_vae = pd.read_csv(path + '_vae.csv',\n",
        "                 na_filter=True, \n",
        "                 verbose=False, \n",
        "                 skip_blank_lines=True, \n",
        "                 na_values=na_values,\n",
        "                 keep_default_na=False)\n",
        "df.drop('Unnamed: 0', axis=1, inplace=True)\n",
        "df_mc.drop('Unnamed: 0', axis=1, inplace=True)\n",
        "df_vae.drop('Unnamed: 0', axis=1, inplace=True)\n",
        "names = list(df)"
      ],
      "execution_count": 0,
      "outputs": []
    },
    {
      "cell_type": "code",
      "metadata": {
        "id": "HSbyWbb0ZjAJ",
        "colab_type": "code",
        "outputId": "954c0ad7-8adc-4075-a476-6cd0bfa5b0f6",
        "colab": {
          "base_uri": "https://localhost:8080/",
          "height": 102
        }
      },
      "source": [
        "from sklearn.preprocessing import LabelEncoder\n",
        "colnums = len(df.columns)\n",
        "for i in df.columns:\n",
        "    try:\n",
        "        if df[i].dtype.name == 'object':\n",
        "            df[i] = df[i].astype('category')\n",
        "    except:\n",
        "        continue\n",
        "cat_columns = df.select_dtypes(['category']).columns\n",
        "print(cat_columns)\n",
        "for col in cat_columns:\n",
        "    le = LabelEncoder()\n",
        "    df[col] = le.fit_transform(df[col].values)\n",
        "    df_mc[col] = le.transform(df_mc[col].values)\n",
        "    df_vae[col] = le.transform(df_vae[col].values)\n",
        "    "
      ],
      "execution_count": 0,
      "outputs": [
        {
          "output_type": "stream",
          "text": [
            "Index(['Churn', 'Contract', 'Dependents', 'DeviceProtection',\n",
            "       'InternetService', 'MultipleLines', 'OnlineBackup', 'OnlineSecurity',\n",
            "       'PaperlessBilling', 'Partner', 'PaymentMethod', 'PhoneService',\n",
            "       'StreamingMovies', 'StreamingTV', 'TechSupport', 'gender'],\n",
            "      dtype='object')\n"
          ],
          "name": "stdout"
        }
      ]
    },
    {
      "cell_type": "code",
      "metadata": {
        "id": "J-scTKTHZ9Wk",
        "colab_type": "code",
        "colab": {}
      },
      "source": [
        "df = df.reindex(sorted(df.columns), axis=1)\n",
        "df_mc = df_mc.reindex(sorted(df_mc.columns), axis=1)\n",
        "df_vae = df_vae.reindex(sorted(df_vae.columns), axis=1)\n",
        "df.to_csv(path + '_For_Test_encoded.csv')\n",
        "df_mc.to_csv(path + '_dropout_encoded.csv')\n",
        "df_vae.to_csv(path + '_vae_encoded.csv')"
      ],
      "execution_count": 0,
      "outputs": []
    },
    {
      "cell_type": "markdown",
      "metadata": {
        "id": "gLy-z65OUnRj",
        "colab_type": "text"
      },
      "source": [
        "# Predicting with generated data"
      ]
    },
    {
      "cell_type": "code",
      "metadata": {
        "id": "-W-tX8ysUuOC",
        "colab_type": "code",
        "colab": {}
      },
      "source": [
        "df = pd.read_csv(path + '_For_Test_encoded.csv',\n",
        "                 na_filter=True, \n",
        "                 verbose=False, \n",
        "                 skip_blank_lines=True, \n",
        "                 na_values=na_values,\n",
        "                 keep_default_na=False)\n",
        "df_mc = pd.read_csv(path + '_dropout_encoded.csv',\n",
        "                 na_filter=True, \n",
        "                 verbose=False, \n",
        "                 skip_blank_lines=True, \n",
        "                 na_values=na_values,\n",
        "                 keep_default_na=False)\n",
        "df_vae = pd.read_csv(path + '_vae_encoded.csv',\n",
        "                 na_filter=True, \n",
        "                 verbose=False, \n",
        "                 skip_blank_lines=True, \n",
        "                 na_values=na_values,\n",
        "                 keep_default_na=False)\n",
        "df.drop('Unnamed: 0', axis=1, inplace=True)\n",
        "df_mc.drop('Unnamed: 0', axis=1, inplace=True)\n",
        "df_vae.drop('Unnamed: 0', axis=1, inplace=True)"
      ],
      "execution_count": 0,
      "outputs": []
    },
    {
      "cell_type": "code",
      "metadata": {
        "id": "8F40hUKFVC3E",
        "colab_type": "code",
        "outputId": "c650d35e-f391-4f9e-b68b-791b0a1255b0",
        "colab": {
          "base_uri": "https://localhost:8080/",
          "height": 425
        }
      },
      "source": [
        "print(df.head())\n",
        "print(df_mc.head())\n",
        "print(df_vae.head())"
      ],
      "execution_count": 0,
      "outputs": [
        {
          "output_type": "stream",
          "text": [
            "   Churn  Contract  Dependents  ...  TotalCharges  gender  tenure\n",
            "0      1         0           0  ...         24.80       0       1\n",
            "1      0         0           0  ...        996.45       1      41\n",
            "2      0         2           1  ...       1031.70       0      52\n",
            "3      1         0           0  ...         76.35       0       1\n",
            "4      0         2           0  ...       3260.10       1      67\n",
            "\n",
            "[5 rows x 20 columns]\n",
            "   Churn  Contract  Dependents  ...  TotalCharges  gender     tenure\n",
            "0      0         0           0  ...     63.012882       0   3.674412\n",
            "1      0         0           0  ...     70.398605       0   5.636594\n",
            "2      0         0           0  ...   2436.528300       0  28.079653\n",
            "3      0         1           0  ...   3237.128000       0  36.026740\n",
            "4      0         1           0  ...    261.472870       0  16.783020\n",
            "\n",
            "[5 rows x 20 columns]\n",
            "   Churn  Contract  Dependents  ...  TotalCharges  gender     tenure\n",
            "0      0         0           0  ...    1757.94360       1  22.762192\n",
            "1      1         0           0  ...     432.42148       0  15.686329\n",
            "2      1         0           0  ...     619.37427       0   9.745699\n",
            "3      1         0           0  ...    2197.82710       1  27.001116\n",
            "4      0         0           0  ...    1495.76990       0  24.887655\n",
            "\n",
            "[5 rows x 20 columns]\n"
          ],
          "name": "stdout"
        }
      ]
    },
    {
      "cell_type": "code",
      "metadata": {
        "id": "0tyhyfWHXbn4",
        "colab_type": "code",
        "outputId": "0cef7706-1bc9-44a9-8a7f-884905146843",
        "colab": {
          "base_uri": "https://localhost:8080/",
          "height": 51
        }
      },
      "source": [
        "y = df['Churn'].values\n",
        "df.drop(['Churn'], axis=1, inplace=True)\n",
        "X = df.values\n",
        "print(y.shape)\n",
        "print(X.shape)"
      ],
      "execution_count": 0,
      "outputs": [
        {
          "output_type": "stream",
          "text": [
            "(3522,)\n",
            "(3522, 19)\n"
          ],
          "name": "stdout"
        }
      ]
    },
    {
      "cell_type": "code",
      "metadata": {
        "id": "rwzr1m5TX5QC",
        "colab_type": "code",
        "outputId": "6e204639-1130-44fc-9e1c-7a718805ef8b",
        "colab": {
          "base_uri": "https://localhost:8080/",
          "height": 51
        }
      },
      "source": [
        "y_mc = df_mc['Churn'].values\n",
        "df_mc.drop(['Churn'], axis=1, inplace=True)\n",
        "X_mc = df_mc.values\n",
        "print(y_mc.shape)\n",
        "print(X_mc.shape)"
      ],
      "execution_count": 0,
      "outputs": [
        {
          "output_type": "stream",
          "text": [
            "(3522,)\n",
            "(3522, 19)\n"
          ],
          "name": "stdout"
        }
      ]
    },
    {
      "cell_type": "code",
      "metadata": {
        "id": "xbq6H2ZnYXqz",
        "colab_type": "code",
        "outputId": "be3340a5-4657-4897-ad3e-f5245c74bc2a",
        "colab": {
          "base_uri": "https://localhost:8080/",
          "height": 51
        }
      },
      "source": [
        "y_vae = df_vae['Churn'].values\n",
        "df_vae.drop(['Churn'], axis=1, inplace=True)\n",
        "X_vae = df_vae.values\n",
        "print(y_vae.shape)\n",
        "print(X_vae.shape)"
      ],
      "execution_count": 0,
      "outputs": [
        {
          "output_type": "stream",
          "text": [
            "(3522,)\n",
            "(3522, 19)\n"
          ],
          "name": "stdout"
        }
      ]
    },
    {
      "cell_type": "markdown",
      "metadata": {
        "id": "A8JPft-5a6QL",
        "colab_type": "text"
      },
      "source": [
        "## Cross validation"
      ]
    },
    {
      "cell_type": "markdown",
      "metadata": {
        "id": "iWMcVL29ggWg",
        "colab_type": "text"
      },
      "source": [
        "### Original data"
      ]
    },
    {
      "cell_type": "code",
      "metadata": {
        "id": "ob3Et0uia9YZ",
        "colab_type": "code",
        "outputId": "af6083ee-80c8-49ad-ba5f-a30a80401aa6",
        "colab": {
          "base_uri": "https://localhost:8080/",
          "height": 34
        }
      },
      "source": [
        "from sklearn.ensemble import RandomForestClassifier\n",
        "from sklearn.model_selection import cross_val_score\n",
        "clf = RandomForestClassifier(n_estimators=100, \n",
        "                             max_depth=2, random_state=42)\n",
        "scores = cross_val_score(clf, X, y, cv=10)\n",
        "print(\"Accuracy: %0.2f (+/- %0.2f)\" % (scores.mean(), scores.std() * 2))"
      ],
      "execution_count": 0,
      "outputs": [
        {
          "output_type": "stream",
          "text": [
            "Accuracy: 0.77 (+/- 0.03)\n"
          ],
          "name": "stdout"
        }
      ]
    },
    {
      "cell_type": "markdown",
      "metadata": {
        "colab_type": "text",
        "id": "hSUz0c0ngkj5"
      },
      "source": [
        "### DropoutVAE generated data"
      ]
    },
    {
      "cell_type": "code",
      "metadata": {
        "colab_type": "code",
        "outputId": "ac714491-97cc-46d7-e42f-9f5de1be13b3",
        "id": "y4-GzQ_bbPCo",
        "colab": {
          "base_uri": "https://localhost:8080/",
          "height": 34
        }
      },
      "source": [
        "from sklearn.model_selection import cross_val_score\n",
        "clf = RandomForestClassifier(n_estimators=100, \n",
        "                             max_depth=2, random_state=42)\n",
        "scores = cross_val_score(clf, X_mc, y_mc, cv=10)\n",
        "print(\"Accuracy: %0.2f (+/- %0.2f)\" % (scores.mean(), scores.std() * 2))"
      ],
      "execution_count": 0,
      "outputs": [
        {
          "output_type": "stream",
          "text": [
            "Accuracy: 0.79 (+/- 0.02)\n"
          ],
          "name": "stdout"
        }
      ]
    },
    {
      "cell_type": "markdown",
      "metadata": {
        "colab_type": "text",
        "id": "NL3OtgaGgxQB"
      },
      "source": [
        "### VAE generated data "
      ]
    },
    {
      "cell_type": "code",
      "metadata": {
        "id": "Crz0AfZ-bSg-",
        "colab_type": "code",
        "outputId": "e1ff7ab1-2ea2-4e64-a85e-cc2c4d7cbbd3",
        "colab": {
          "base_uri": "https://localhost:8080/",
          "height": 34
        }
      },
      "source": [
        "from sklearn.model_selection import cross_val_score\n",
        "clf = RandomForestClassifier(n_estimators=100, \n",
        "                             max_depth=2, random_state=42)\n",
        "scores = cross_val_score(clf, X_vae, y_vae, cv=10)\n",
        "print(\"Accuracy: %0.2f (+/- %0.2f)\" % (scores.mean(), scores.std() * 2))"
      ],
      "execution_count": 0,
      "outputs": [
        {
          "output_type": "stream",
          "text": [
            "Accuracy: 0.78 (+/- 0.03)\n"
          ],
          "name": "stdout"
        }
      ]
    },
    {
      "cell_type": "markdown",
      "metadata": {
        "colab_type": "text",
        "id": "mrCqDtssg4nB"
      },
      "source": [
        "### Original data with Dropout VAE outcome"
      ]
    },
    {
      "cell_type": "code",
      "metadata": {
        "colab_type": "code",
        "id": "mH3gS3nacvV7",
        "outputId": "0365a31c-291e-4319-d04f-1d81ab22f46c",
        "colab": {
          "base_uri": "https://localhost:8080/",
          "height": 34
        }
      },
      "source": [
        "from sklearn.model_selection import cross_val_score\n",
        "clf = RandomForestClassifier(n_estimators=100, \n",
        "                             max_depth=2, random_state=42)\n",
        "scores = cross_val_score(clf, X, y_mc, cv=10)\n",
        "print(\"Accuracy: %0.2f (+/- %0.2f)\" % (scores.mean(), scores.std() * 2))"
      ],
      "execution_count": 0,
      "outputs": [
        {
          "output_type": "stream",
          "text": [
            "Accuracy: 0.76 (+/- 0.00)\n"
          ],
          "name": "stdout"
        }
      ]
    },
    {
      "cell_type": "markdown",
      "metadata": {
        "colab_type": "text",
        "id": "YlER2gGnhBGJ"
      },
      "source": [
        "### Original data with VAE outcome"
      ]
    },
    {
      "cell_type": "code",
      "metadata": {
        "colab_type": "code",
        "id": "MezW_-9ZcvWA",
        "outputId": "d87a3633-e587-42b8-ac28-072932a07157",
        "colab": {
          "base_uri": "https://localhost:8080/",
          "height": 34
        }
      },
      "source": [
        "from sklearn.model_selection import cross_val_score\n",
        "clf = RandomForestClassifier(n_estimators=100, \n",
        "                             max_depth=2, random_state=42)\n",
        "scores = cross_val_score(clf, X, y_vae, cv=10)\n",
        "print(\"Accuracy: %0.2f (+/- %0.2f)\" % (scores.mean(), scores.std() * 2))"
      ],
      "execution_count": 0,
      "outputs": [
        {
          "output_type": "stream",
          "text": [
            "Accuracy: 0.74 (+/- 0.00)\n"
          ],
          "name": "stdout"
        }
      ]
    }
  ]
}