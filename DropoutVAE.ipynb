{
  "nbformat": 4,
  "nbformat_minor": 0,
  "metadata": {
    "colab": {
      "name": "DropoutVAE.ipynb",
      "version": "0.3.2",
      "provenance": [],
      "collapsed_sections": [],
      "toc_visible": true
    },
    "kernelspec": {
      "name": "python3",
      "display_name": "Python 3"
    },
    "accelerator": "GPU"
  },
  "cells": [
    {
      "cell_type": "markdown",
      "metadata": {
        "id": "yl5YDWvEeu4a",
        "colab_type": "text"
      },
      "source": [
        "The purpose is to use Dropout in VAE in order to generate data.\n",
        "\n",
        "Origin VAE uses latent values to generate the data.\n",
        "However, with Dropout VAE, we can use some origin data to generate.\n",
        "\n",
        "\n",
        "The dataset used in notebook: [Customer Support](https://www.ibm.com/communities/analytics/watson-analytics-blog/guide-to-sample-datasets/)\n",
        "\n",
        "More example about VAE: [Modeling Telecom customer churn](https://towardsdatascience.com/modeling-telecom-customer-churn-with-variational-autoencoder-4e5cf6194871)\n",
        "\n",
        "Origin code for VAE in keras: [Building Autoencoders in keras](https://blog.keras.io/building-autoencoders-in-keras.html)"
      ]
    },
    {
      "cell_type": "markdown",
      "metadata": {
        "id": "fdT9BTrmT3ro",
        "colab_type": "text"
      },
      "source": [
        "# Import Libraries"
      ]
    },
    {
      "cell_type": "code",
      "metadata": {
        "id": "CQNUpL6YT32X",
        "colab_type": "code",
        "outputId": "5a2c26a9-815c-4d6d-fcf4-d3f4a9b4cd91",
        "colab": {
          "base_uri": "https://localhost:8080/",
          "height": 34
        }
      },
      "source": [
        "from __future__ import absolute_import\n",
        "from __future__ import division\n",
        "from __future__ import print_function\n",
        "\n",
        "import os\n",
        "import random\n",
        "import argparse\n",
        "import numpy as np\n",
        "import pandas as pd\n",
        "import matplotlib.pyplot as plt\n",
        "from sklearn.preprocessing import LabelEncoder\n",
        "from tensorflow import set_random_seed\n",
        "\n",
        "from keras import regularizers\n",
        "from keras import backend as K\n",
        "from keras.models import Model\n",
        "from keras.utils import plot_model\n",
        "from keras.losses import mse, binary_crossentropy\n",
        "from keras.layers import Lambda, Input, Dense, Dropout\n",
        "\n",
        "set_random_seed(1)\n",
        "np.random.seed(1)\n",
        "random.seed(1)"
      ],
      "execution_count": 1,
      "outputs": [
        {
          "output_type": "stream",
          "text": [
            "Using TensorFlow backend.\n"
          ],
          "name": "stderr"
        }
      ]
    },
    {
      "cell_type": "markdown",
      "metadata": {
        "id": "sNKVLBOBgR3W",
        "colab_type": "text"
      },
      "source": [
        "# Path to dataset"
      ]
    },
    {
      "cell_type": "code",
      "metadata": {
        "id": "u4QUbkrWUl2L",
        "colab_type": "code",
        "outputId": "93d8cbc8-f556-4dfa-ac38-8da8e102d692",
        "colab": {
          "base_uri": "https://localhost:8080/",
          "height": 34
        }
      },
      "source": [
        "# Access to resources\n",
        "path = '/Dataset/WA_Fn-UseC_-Telco-Customer-Churn.csv'"
      ],
      "execution_count": 2,
      "outputs": [
        {
          "output_type": "stream",
          "text": [
            "Mounted at /content/gdrive\n"
          ],
          "name": "stdout"
        }
      ]
    },
    {
      "cell_type": "code",
      "metadata": {
        "id": "C8zWTy_ePGg7",
        "colab_type": "code",
        "colab": {}
      },
      "source": [
        "intermediate_dim = 512"
      ],
      "execution_count": 0,
      "outputs": []
    },
    {
      "cell_type": "markdown",
      "metadata": {
        "id": "8VTGWwfObeoT",
        "colab_type": "text"
      },
      "source": [
        "## Read Data"
      ]
    },
    {
      "cell_type": "code",
      "metadata": {
        "id": "DfcE15dwhyaL",
        "colab_type": "code",
        "outputId": "832e8d3f-9e29-4eee-8406-d9dbb67bbfb9",
        "colab": {
          "base_uri": "https://localhost:8080/",
          "height": 595
        }
      },
      "source": [
        "import pandas as pd\n",
        "na_values = {'?', ' '}\n",
        "df = pd.read_csv(path,\n",
        "                 sep=',',\n",
        "                 na_filter=True, \n",
        "                 verbose=False, \n",
        "                 skip_blank_lines=True, \n",
        "                 na_values=na_values,\n",
        "                 keep_default_na=False)\n",
        "                 \n",
        "df.fillna(method='ffill', inplace=True)\n",
        "df.dropna(axis=1, how='any', inplace=True)\n",
        "df.drop(['customerID'], axis=1, inplace=True)\n",
        "df = df.reset_index(drop=True)\n",
        "print(df.info())\n",
        "print(df.head())"
      ],
      "execution_count": 5,
      "outputs": [
        {
          "output_type": "stream",
          "text": [
            "<class 'pandas.core.frame.DataFrame'>\n",
            "RangeIndex: 7043 entries, 0 to 7042\n",
            "Data columns (total 20 columns):\n",
            "gender              7043 non-null object\n",
            "SeniorCitizen       7043 non-null int64\n",
            "Partner             7043 non-null object\n",
            "Dependents          7043 non-null object\n",
            "tenure              7043 non-null int64\n",
            "PhoneService        7043 non-null object\n",
            "MultipleLines       7043 non-null object\n",
            "InternetService     7043 non-null object\n",
            "OnlineSecurity      7043 non-null object\n",
            "OnlineBackup        7043 non-null object\n",
            "DeviceProtection    7043 non-null object\n",
            "TechSupport         7043 non-null object\n",
            "StreamingTV         7043 non-null object\n",
            "StreamingMovies     7043 non-null object\n",
            "Contract            7043 non-null object\n",
            "PaperlessBilling    7043 non-null object\n",
            "PaymentMethod       7043 non-null object\n",
            "MonthlyCharges      7043 non-null float64\n",
            "TotalCharges        7043 non-null float64\n",
            "Churn               7043 non-null object\n",
            "dtypes: float64(2), int64(2), object(16)\n",
            "memory usage: 1.1+ MB\n",
            "None\n",
            "   gender  SeniorCitizen Partner  ... MonthlyCharges  TotalCharges Churn\n",
            "0  Female              0     Yes  ...          29.85         29.85    No\n",
            "1    Male              0      No  ...          56.95       1889.50    No\n",
            "2    Male              0      No  ...          53.85        108.15   Yes\n",
            "3    Male              0      No  ...          42.30       1840.75    No\n",
            "4  Female              0      No  ...          70.70        151.65   Yes\n",
            "\n",
            "[5 rows x 20 columns]\n"
          ],
          "name": "stdout"
        }
      ]
    },
    {
      "cell_type": "markdown",
      "metadata": {
        "id": "ptmiXDEjbhmp",
        "colab_type": "text"
      },
      "source": [
        "## Recognizing Categorical data"
      ]
    },
    {
      "cell_type": "code",
      "metadata": {
        "id": "pfL6yO7HZR7E",
        "colab_type": "code",
        "outputId": "b6f49643-1105-4134-a60d-2c578b783437",
        "colab": {
          "base_uri": "https://localhost:8080/",
          "height": 153
        }
      },
      "source": [
        "colnums = len(df.columns)\n",
        "for i in df.columns:\n",
        "    try:\n",
        "        if df[i].dtype.name == 'object':\n",
        "            df[i] = df[i].astype('category')\n",
        "        else:\n",
        "            df[i].astype('float32')\n",
        "    except:\n",
        "        continue\n",
        "print(df.head())"
      ],
      "execution_count": 6,
      "outputs": [
        {
          "output_type": "stream",
          "text": [
            "   gender  SeniorCitizen Partner  ... MonthlyCharges  TotalCharges Churn\n",
            "0  Female              0     Yes  ...          29.85         29.85    No\n",
            "1    Male              0      No  ...          56.95       1889.50    No\n",
            "2    Male              0      No  ...          53.85        108.15   Yes\n",
            "3    Male              0      No  ...          42.30       1840.75    No\n",
            "4  Female              0      No  ...          70.70        151.65   Yes\n",
            "\n",
            "[5 rows x 20 columns]\n"
          ],
          "name": "stdout"
        }
      ]
    },
    {
      "cell_type": "code",
      "metadata": {
        "id": "BpGxC2v2CDi1",
        "colab_type": "code",
        "outputId": "195b5bcb-6782-47d0-abb4-1bce0026bc1a",
        "colab": {
          "base_uri": "https://localhost:8080/",
          "height": 153
        }
      },
      "source": [
        "from sklearn.model_selection import train_test_split\n",
        "from sklearn.preprocessing import MinMaxScaler, StandardScaler\n",
        "np.random.seed(1)\n",
        "\n",
        "vals = df.values.copy()\n",
        "total_nums = len(vals)\n",
        "\n",
        "train, validation = train_test_split(df, test_size=0.5, \n",
        "                                     random_state=42, \n",
        "                                     shuffle=True)\n",
        "\n",
        "validation = validation.reindex(sorted(validation.columns), axis=1)\n",
        "validation.to_csv(path + '_For_Test.csv')\n",
        "print(validation.head())"
      ],
      "execution_count": 7,
      "outputs": [
        {
          "output_type": "stream",
          "text": [
            "     Churn        Contract Dependents  ... TotalCharges  gender  tenure\n",
            "185    Yes  Month-to-month         No  ...        24.80  Female       1\n",
            "2715    No  Month-to-month         No  ...       996.45    Male      41\n",
            "3825    No        Two year        Yes  ...      1031.70  Female      52\n",
            "1807   Yes  Month-to-month         No  ...        76.35  Female       1\n",
            "132     No        Two year         No  ...      3260.10    Male      67\n",
            "\n",
            "[5 rows x 20 columns]\n"
          ],
          "name": "stdout"
        }
      ]
    },
    {
      "cell_type": "code",
      "metadata": {
        "id": "G-52cnSrZHGm",
        "colab_type": "code",
        "outputId": "d4872cb9-a195-4e33-f1ae-689139d82f5f",
        "colab": {
          "base_uri": "https://localhost:8080/",
          "height": 102
        }
      },
      "source": [
        "df = train\n",
        "categorical = df.select_dtypes(['category']).columns\n",
        "print(categorical)\n",
        "for f in categorical:\n",
        "    dummies = pd.get_dummies(df[f], prefix = f, prefix_sep = '_')\n",
        "    df = pd.concat([df, dummies], axis = 1)\n",
        "    \n",
        "# drop original categorical features\n",
        "df.drop(categorical, axis = 1, inplace = True)\n",
        "df.to_csv(path + '_For_Training.csv', index=False)"
      ],
      "execution_count": 8,
      "outputs": [
        {
          "output_type": "stream",
          "text": [
            "Index(['gender', 'Partner', 'Dependents', 'PhoneService', 'MultipleLines',\n",
            "       'InternetService', 'OnlineSecurity', 'OnlineBackup', 'DeviceProtection',\n",
            "       'TechSupport', 'StreamingTV', 'StreamingMovies', 'Contract',\n",
            "       'PaperlessBilling', 'PaymentMethod', 'Churn'],\n",
            "      dtype='object')\n"
          ],
          "name": "stdout"
        }
      ]
    },
    {
      "cell_type": "markdown",
      "metadata": {
        "id": "OnJXo9LfUGaJ",
        "colab_type": "text"
      },
      "source": [
        "# Define VAE"
      ]
    },
    {
      "cell_type": "code",
      "metadata": {
        "id": "LmIPmd5wjAM7",
        "colab_type": "code",
        "colab": {}
      },
      "source": [
        "np.random.seed(1)\n",
        "df = pd.read_csv(path + '_For_Training.csv')\n",
        "train = df.values.copy()\n",
        "train.astype('float32')\n",
        "scaler = MinMaxScaler()\n",
        "train = scaler.fit_transform(train)\n",
        "x_train, x_test = train_test_split(train, test_size=0.5,\n",
        "                                  random_state=42,\n",
        "                                  shuffle=True)"
      ],
      "execution_count": 0,
      "outputs": []
    },
    {
      "cell_type": "code",
      "metadata": {
        "id": "uNf-3EMl2usm",
        "colab_type": "code",
        "outputId": "f10f3f24-5b2a-418a-c9da-d67a4e49ab6a",
        "colab": {
          "base_uri": "https://localhost:8080/",
          "height": 51
        }
      },
      "source": [
        "original_dim = x_train.shape[1]\n",
        "x_train = np.reshape(x_train, [-1, original_dim])\n",
        "x_test = np.reshape(x_test, [-1, original_dim])\n",
        "x_train = x_train.astype('float32')\n",
        "x_test = x_test.astype('float32')\n",
        "print(x_train.shape)\n",
        "print(x_test.shape)"
      ],
      "execution_count": 10,
      "outputs": [
        {
          "output_type": "stream",
          "text": [
            "(1760, 47)\n",
            "(1761, 47)\n"
          ],
          "name": "stdout"
        }
      ]
    },
    {
      "cell_type": "code",
      "metadata": {
        "id": "uy-JqW7Jpuyz",
        "colab_type": "code",
        "colab": {}
      },
      "source": [
        "np.random.seed(1)\n",
        "set_random_seed(1)\n",
        "\n",
        "class VAE:\n",
        "    def __init__(self, input_shape=(original_dim,), \n",
        "                 intermediate_dim=128, latent_dim=2, summary=False):\n",
        "        \n",
        "        self._build_model(input_shape,\n",
        "                         intermediate_dim, \n",
        "                          latent_dim, summary)\n",
        "    \n",
        "    def _build_model(self, input_shape, intermediate_dim, latent_dim,\n",
        "                    summary=False):\n",
        "        inputs = Input(shape=input_shape, name='encoder_input')\n",
        "        x = inputs\n",
        "        x = Dense(intermediate_dim, activation='relu')(x)\n",
        "#         x = Dense(intermediate_dim//2, activation='relu')(x)\n",
        "        \n",
        "        z_mean = Dense(latent_dim, name='z_mean')(x)\n",
        "        z_log_var = Dense(latent_dim, name='z_log_var')(x)\n",
        "\n",
        "        z = Lambda(self.sampling, output_shape=(latent_dim,), \n",
        "                   name='z')([z_mean, z_log_var])\n",
        "\n",
        "        self.encoder = Model(inputs, [z_mean, z_log_var, z], \n",
        "                        name='encoder')\n",
        "        \n",
        "        latent_inputs = Input(shape=(latent_dim,), \n",
        "                              name='z_sampling')\n",
        "        x = latent_inputs\n",
        "#         x = Dense(intermediate_dim//2, activation='relu')(x)\n",
        "        x = Dense(intermediate_dim, activation='relu')(x)\n",
        "        outputs = Dense(original_dim, activation='sigmoid')(x)\n",
        "\n",
        "        self.decoder = Model(latent_inputs, outputs, name='decoder')\n",
        "        outputs = self.decoder(self.encoder(inputs)[2])\n",
        "        self.vae = Model(inputs, outputs, name='vae_mlp')\n",
        "        \n",
        "        reconstruction_loss = binary_crossentropy(inputs, outputs)\n",
        "        reconstruction_loss *= original_dim\n",
        "        kl_loss = 1 + z_log_var - K.square(z_mean) - K.exp(z_log_var)\n",
        "        kl_loss = K.sum(kl_loss, axis=-1)\n",
        "        kl_loss *= -0.5\n",
        "        \n",
        "        vae_loss = K.mean(reconstruction_loss + kl_loss)\t\n",
        "        \n",
        "        self.vae.add_loss(vae_loss)\n",
        "        self.vae.compile(optimizer='adam')\n",
        "        if summary: \n",
        "            print(self.vae.summary())\n",
        "        \n",
        "    def sampling(self, args):\n",
        "        z_mean, z_log_var = args\n",
        "        batch = K.shape(z_mean)[0]\n",
        "        dim = K.int_shape(z_mean)[1]\n",
        "        epsilon = K.random_normal(shape=(batch, dim))\n",
        "        return z_mean + K.exp(0.5 * z_log_var) * epsilon\n",
        "        \n",
        "    def fit(self, x_train, x_test, epochs=100, batch_size=100,\n",
        "           verbose=1):\n",
        "        self.vae.fit(x_train, \n",
        "            shuffle=True,\n",
        "            epochs=epochs,\n",
        "            batch_size=batch_size,\n",
        "            verbose=verbose,\n",
        "            validation_data=(x_test, None))\n",
        "    \n",
        "    def encoder_predict(self, x_test, batch_size=100):\n",
        "        return self.encoder.predict(x_test,\n",
        "                                   batch_size=batch_size)\n",
        "    \n",
        "    def generate(self, latent_val, batch_size=100):\n",
        "        return self.decoder.predict(latent_val)\n",
        "    \n",
        "    def predict(self, x_test, batch_size=100):\n",
        "        prediction = self.vae.predict(x_test, \n",
        "                                      batch_size=batch_size)\n",
        "        return prediction"
      ],
      "execution_count": 0,
      "outputs": []
    },
    {
      "cell_type": "markdown",
      "metadata": {
        "id": "KXhRjx02UYZN",
        "colab_type": "text"
      },
      "source": [
        "## Training VAE"
      ]
    },
    {
      "cell_type": "markdown",
      "metadata": {
        "id": "Wd02caRJWGG8",
        "colab_type": "text"
      },
      "source": [
        "Just let the last value to test"
      ]
    },
    {
      "cell_type": "code",
      "metadata": {
        "id": "XBbIF17p8iY2",
        "colab_type": "code",
        "outputId": "9bab8c73-c8be-4dee-e955-2cf3bf9a5193",
        "colab": {
          "base_uri": "https://localhost:8080/",
          "height": 4236
        }
      },
      "source": [
        "np.random.seed(1)\n",
        "set_random_seed(1)\n",
        "\n",
        "latent_dim = original_dim//2\n",
        "if latent_dim < 2:\n",
        "    latent_dim = 2\n",
        "vae = VAE(intermediate_dim=intermediate_dim, latent_dim=latent_dim)\n",
        "vae.fit(x_train, x_test, epochs=120)"
      ],
      "execution_count": 12,
      "outputs": [
        {
          "output_type": "stream",
          "text": [
            "WARNING:tensorflow:From /usr/local/lib/python3.6/dist-packages/tensorflow/python/framework/op_def_library.py:263: colocate_with (from tensorflow.python.framework.ops) is deprecated and will be removed in a future version.\n",
            "Instructions for updating:\n",
            "Colocations handled automatically by placer.\n",
            "WARNING:tensorflow:From /usr/local/lib/python3.6/dist-packages/tensorflow/python/ops/math_ops.py:3066: to_int32 (from tensorflow.python.ops.math_ops) is deprecated and will be removed in a future version.\n",
            "Instructions for updating:\n",
            "Use tf.cast instead.\n",
            "Train on 1760 samples, validate on 1761 samples\n",
            "Epoch 1/120\n",
            "1760/1760 [==============================] - 1s 773us/step - loss: 30.5043 - val_loss: 28.4742\n",
            "Epoch 2/120\n",
            "1760/1760 [==============================] - 0s 51us/step - loss: 27.8328 - val_loss: 26.6780\n",
            "Epoch 3/120\n",
            "1760/1760 [==============================] - 0s 50us/step - loss: 25.7534 - val_loss: 24.3660\n",
            "Epoch 4/120\n",
            "1760/1760 [==============================] - 0s 55us/step - loss: 23.7011 - val_loss: 23.1036\n",
            "Epoch 5/120\n",
            "1760/1760 [==============================] - 0s 50us/step - loss: 22.7430 - val_loss: 22.6580\n",
            "Epoch 6/120\n",
            "1760/1760 [==============================] - 0s 51us/step - loss: 22.3105 - val_loss: 21.9730\n",
            "Epoch 7/120\n",
            "1760/1760 [==============================] - 0s 52us/step - loss: 21.5302 - val_loss: 21.6583\n",
            "Epoch 8/120\n",
            "1760/1760 [==============================] - 0s 50us/step - loss: 21.5272 - val_loss: 21.2815\n",
            "Epoch 9/120\n",
            "1760/1760 [==============================] - 0s 52us/step - loss: 21.1380 - val_loss: 21.3490\n",
            "Epoch 10/120\n",
            "1760/1760 [==============================] - 0s 54us/step - loss: 20.9267 - val_loss: 20.9203\n",
            "Epoch 11/120\n",
            "1760/1760 [==============================] - 0s 50us/step - loss: 20.6363 - val_loss: 20.6686\n",
            "Epoch 12/120\n",
            "1760/1760 [==============================] - 0s 51us/step - loss: 20.3470 - val_loss: 20.3950\n",
            "Epoch 13/120\n",
            "1760/1760 [==============================] - 0s 48us/step - loss: 20.1382 - val_loss: 20.2895\n",
            "Epoch 14/120\n",
            "1760/1760 [==============================] - 0s 52us/step - loss: 19.9493 - val_loss: 20.0544\n",
            "Epoch 15/120\n",
            "1760/1760 [==============================] - 0s 49us/step - loss: 19.6477 - val_loss: 19.6148\n",
            "Epoch 16/120\n",
            "1760/1760 [==============================] - 0s 48us/step - loss: 19.4083 - val_loss: 19.5467\n",
            "Epoch 17/120\n",
            "1760/1760 [==============================] - 0s 51us/step - loss: 19.2132 - val_loss: 19.4983\n",
            "Epoch 18/120\n",
            "1760/1760 [==============================] - 0s 51us/step - loss: 19.0349 - val_loss: 19.1180\n",
            "Epoch 19/120\n",
            "1760/1760 [==============================] - 0s 49us/step - loss: 18.8424 - val_loss: 19.0289\n",
            "Epoch 20/120\n",
            "1760/1760 [==============================] - 0s 60us/step - loss: 18.7890 - val_loss: 18.9895\n",
            "Epoch 21/120\n",
            "1760/1760 [==============================] - 0s 55us/step - loss: 18.5122 - val_loss: 18.7922\n",
            "Epoch 22/120\n",
            "1760/1760 [==============================] - 0s 50us/step - loss: 18.4308 - val_loss: 18.6225\n",
            "Epoch 23/120\n",
            "1760/1760 [==============================] - 0s 49us/step - loss: 18.1179 - val_loss: 18.4174\n",
            "Epoch 24/120\n",
            "1760/1760 [==============================] - 0s 50us/step - loss: 17.9768 - val_loss: 18.2435\n",
            "Epoch 25/120\n",
            "1760/1760 [==============================] - 0s 50us/step - loss: 17.9568 - val_loss: 18.3411\n",
            "Epoch 26/120\n",
            "1760/1760 [==============================] - 0s 50us/step - loss: 17.7816 - val_loss: 18.0470\n",
            "Epoch 27/120\n",
            "1760/1760 [==============================] - 0s 52us/step - loss: 17.6642 - val_loss: 17.7676\n",
            "Epoch 28/120\n",
            "1760/1760 [==============================] - 0s 54us/step - loss: 17.5552 - val_loss: 17.8876\n",
            "Epoch 29/120\n",
            "1760/1760 [==============================] - 0s 49us/step - loss: 17.6737 - val_loss: 17.8926\n",
            "Epoch 30/120\n",
            "1760/1760 [==============================] - 0s 52us/step - loss: 17.4337 - val_loss: 17.6380\n",
            "Epoch 31/120\n",
            "1760/1760 [==============================] - 0s 51us/step - loss: 17.3706 - val_loss: 17.5300\n",
            "Epoch 32/120\n",
            "1760/1760 [==============================] - 0s 57us/step - loss: 17.2240 - val_loss: 17.5840\n",
            "Epoch 33/120\n",
            "1760/1760 [==============================] - 0s 50us/step - loss: 16.9192 - val_loss: 17.4732\n",
            "Epoch 34/120\n",
            "1760/1760 [==============================] - 0s 51us/step - loss: 16.9570 - val_loss: 17.3082\n",
            "Epoch 35/120\n",
            "1760/1760 [==============================] - 0s 48us/step - loss: 16.9930 - val_loss: 17.0656\n",
            "Epoch 36/120\n",
            "1760/1760 [==============================] - 0s 53us/step - loss: 16.9109 - val_loss: 17.1224\n",
            "Epoch 37/120\n",
            "1760/1760 [==============================] - 0s 50us/step - loss: 16.8629 - val_loss: 17.1246\n",
            "Epoch 38/120\n",
            "1760/1760 [==============================] - 0s 49us/step - loss: 16.8382 - val_loss: 17.0974\n",
            "Epoch 39/120\n",
            "1760/1760 [==============================] - 0s 49us/step - loss: 16.8909 - val_loss: 17.0267\n",
            "Epoch 40/120\n",
            "1760/1760 [==============================] - 0s 49us/step - loss: 16.6165 - val_loss: 16.9199\n",
            "Epoch 41/120\n",
            "1760/1760 [==============================] - 0s 52us/step - loss: 16.6655 - val_loss: 16.8760\n",
            "Epoch 42/120\n",
            "1760/1760 [==============================] - 0s 50us/step - loss: 16.4645 - val_loss: 16.8589\n",
            "Epoch 43/120\n",
            "1760/1760 [==============================] - 0s 53us/step - loss: 16.6466 - val_loss: 16.8832\n",
            "Epoch 44/120\n",
            "1760/1760 [==============================] - 0s 50us/step - loss: 16.5011 - val_loss: 16.9265\n",
            "Epoch 45/120\n",
            "1760/1760 [==============================] - 0s 50us/step - loss: 16.5099 - val_loss: 16.6740\n",
            "Epoch 46/120\n",
            "1760/1760 [==============================] - 0s 51us/step - loss: 16.4100 - val_loss: 16.7578\n",
            "Epoch 47/120\n",
            "1760/1760 [==============================] - 0s 50us/step - loss: 16.2177 - val_loss: 16.6221\n",
            "Epoch 48/120\n",
            "1760/1760 [==============================] - 0s 50us/step - loss: 16.3063 - val_loss: 16.5489\n",
            "Epoch 49/120\n",
            "1760/1760 [==============================] - 0s 50us/step - loss: 16.2518 - val_loss: 16.4984\n",
            "Epoch 50/120\n",
            "1760/1760 [==============================] - 0s 50us/step - loss: 16.2518 - val_loss: 16.7222\n",
            "Epoch 51/120\n",
            "1760/1760 [==============================] - 0s 50us/step - loss: 16.3254 - val_loss: 16.4534\n",
            "Epoch 52/120\n",
            "1760/1760 [==============================] - 0s 51us/step - loss: 16.2261 - val_loss: 16.5964\n",
            "Epoch 53/120\n",
            "1760/1760 [==============================] - 0s 50us/step - loss: 16.1605 - val_loss: 16.6874\n",
            "Epoch 54/120\n",
            "1760/1760 [==============================] - 0s 55us/step - loss: 16.0393 - val_loss: 16.6368\n",
            "Epoch 55/120\n",
            "1760/1760 [==============================] - 0s 51us/step - loss: 16.1105 - val_loss: 16.4313\n",
            "Epoch 56/120\n",
            "1760/1760 [==============================] - 0s 50us/step - loss: 16.1292 - val_loss: 16.5472\n",
            "Epoch 57/120\n",
            "1760/1760 [==============================] - 0s 52us/step - loss: 16.0891 - val_loss: 16.2985\n",
            "Epoch 58/120\n",
            "1760/1760 [==============================] - 0s 49us/step - loss: 15.9725 - val_loss: 16.3211\n",
            "Epoch 59/120\n",
            "1760/1760 [==============================] - 0s 52us/step - loss: 16.1013 - val_loss: 16.3883\n",
            "Epoch 60/120\n",
            "1760/1760 [==============================] - 0s 49us/step - loss: 15.9840 - val_loss: 16.3940\n",
            "Epoch 61/120\n",
            "1760/1760 [==============================] - 0s 48us/step - loss: 15.9147 - val_loss: 16.4039\n",
            "Epoch 62/120\n",
            "1760/1760 [==============================] - 0s 51us/step - loss: 15.9361 - val_loss: 16.2895\n",
            "Epoch 63/120\n",
            "1760/1760 [==============================] - 0s 50us/step - loss: 16.0701 - val_loss: 16.2093\n",
            "Epoch 64/120\n",
            "1760/1760 [==============================] - 0s 48us/step - loss: 15.9684 - val_loss: 16.3177\n",
            "Epoch 65/120\n",
            "1760/1760 [==============================] - 0s 49us/step - loss: 15.9438 - val_loss: 16.4111\n",
            "Epoch 66/120\n",
            "1760/1760 [==============================] - 0s 56us/step - loss: 15.7539 - val_loss: 16.1791\n",
            "Epoch 67/120\n",
            "1760/1760 [==============================] - 0s 50us/step - loss: 15.6493 - val_loss: 16.3219\n",
            "Epoch 68/120\n",
            "1760/1760 [==============================] - 0s 50us/step - loss: 15.9647 - val_loss: 16.1831\n",
            "Epoch 69/120\n",
            "1760/1760 [==============================] - 0s 58us/step - loss: 15.7808 - val_loss: 16.0701\n",
            "Epoch 70/120\n",
            "1760/1760 [==============================] - 0s 50us/step - loss: 15.8330 - val_loss: 16.1012\n",
            "Epoch 71/120\n",
            "1760/1760 [==============================] - 0s 50us/step - loss: 15.7107 - val_loss: 16.2924\n",
            "Epoch 72/120\n",
            "1760/1760 [==============================] - 0s 50us/step - loss: 15.5780 - val_loss: 16.1392\n",
            "Epoch 73/120\n",
            "1760/1760 [==============================] - 0s 49us/step - loss: 15.8113 - val_loss: 16.0769\n",
            "Epoch 74/120\n",
            "1760/1760 [==============================] - 0s 49us/step - loss: 15.7758 - val_loss: 16.1879\n",
            "Epoch 75/120\n",
            "1760/1760 [==============================] - 0s 50us/step - loss: 15.5718 - val_loss: 16.2055\n",
            "Epoch 76/120\n",
            "1760/1760 [==============================] - 0s 51us/step - loss: 15.7091 - val_loss: 16.0114\n",
            "Epoch 77/120\n",
            "1760/1760 [==============================] - 0s 56us/step - loss: 15.6349 - val_loss: 16.0939\n",
            "Epoch 78/120\n",
            "1760/1760 [==============================] - 0s 50us/step - loss: 15.5963 - val_loss: 16.0663\n",
            "Epoch 79/120\n",
            "1760/1760 [==============================] - 0s 56us/step - loss: 15.6223 - val_loss: 15.9888\n",
            "Epoch 80/120\n",
            "1760/1760 [==============================] - 0s 50us/step - loss: 15.5925 - val_loss: 16.1395\n",
            "Epoch 81/120\n",
            "1760/1760 [==============================] - 0s 51us/step - loss: 15.7105 - val_loss: 15.9894\n",
            "Epoch 82/120\n",
            "1760/1760 [==============================] - 0s 50us/step - loss: 15.7478 - val_loss: 15.9667\n",
            "Epoch 83/120\n",
            "1760/1760 [==============================] - 0s 50us/step - loss: 15.9175 - val_loss: 16.0621\n",
            "Epoch 84/120\n",
            "1760/1760 [==============================] - 0s 49us/step - loss: 15.6737 - val_loss: 16.0582\n",
            "Epoch 85/120\n",
            "1760/1760 [==============================] - 0s 51us/step - loss: 15.6784 - val_loss: 15.9211\n",
            "Epoch 86/120\n",
            "1760/1760 [==============================] - 0s 50us/step - loss: 15.6190 - val_loss: 16.1115\n",
            "Epoch 87/120\n",
            "1760/1760 [==============================] - 0s 51us/step - loss: 15.7545 - val_loss: 16.0466\n",
            "Epoch 88/120\n",
            "1760/1760 [==============================] - 0s 55us/step - loss: 15.6389 - val_loss: 15.9052\n",
            "Epoch 89/120\n",
            "1760/1760 [==============================] - 0s 49us/step - loss: 15.6639 - val_loss: 16.0098\n",
            "Epoch 90/120\n",
            "1760/1760 [==============================] - 0s 49us/step - loss: 15.4949 - val_loss: 15.9920\n",
            "Epoch 91/120\n",
            "1760/1760 [==============================] - 0s 49us/step - loss: 15.4383 - val_loss: 15.8350\n",
            "Epoch 92/120\n",
            "1760/1760 [==============================] - 0s 48us/step - loss: 15.7345 - val_loss: 16.2024\n",
            "Epoch 93/120\n",
            "1760/1760 [==============================] - 0s 54us/step - loss: 15.4799 - val_loss: 16.0164\n",
            "Epoch 94/120\n",
            "1760/1760 [==============================] - 0s 52us/step - loss: 15.6443 - val_loss: 15.9541\n",
            "Epoch 95/120\n",
            "1760/1760 [==============================] - 0s 50us/step - loss: 15.5771 - val_loss: 16.1299\n",
            "Epoch 96/120\n",
            "1760/1760 [==============================] - 0s 49us/step - loss: 15.4778 - val_loss: 16.0129\n",
            "Epoch 97/120\n",
            "1760/1760 [==============================] - 0s 48us/step - loss: 15.5957 - val_loss: 15.9842\n",
            "Epoch 98/120\n",
            "1760/1760 [==============================] - 0s 49us/step - loss: 15.3904 - val_loss: 15.9268\n",
            "Epoch 99/120\n",
            "1760/1760 [==============================] - 0s 53us/step - loss: 15.5920 - val_loss: 16.0890\n",
            "Epoch 100/120\n",
            "1760/1760 [==============================] - 0s 55us/step - loss: 15.5971 - val_loss: 16.0117\n",
            "Epoch 101/120\n",
            "1760/1760 [==============================] - 0s 49us/step - loss: 15.5560 - val_loss: 15.9246\n",
            "Epoch 102/120\n",
            "1760/1760 [==============================] - 0s 51us/step - loss: 15.6729 - val_loss: 15.9122\n",
            "Epoch 103/120\n",
            "1760/1760 [==============================] - 0s 50us/step - loss: 15.7521 - val_loss: 15.9972\n",
            "Epoch 104/120\n",
            "1760/1760 [==============================] - 0s 48us/step - loss: 15.5566 - val_loss: 15.6669\n",
            "Epoch 105/120\n",
            "1760/1760 [==============================] - 0s 50us/step - loss: 15.4335 - val_loss: 15.9392\n",
            "Epoch 106/120\n",
            "1760/1760 [==============================] - 0s 49us/step - loss: 15.5126 - val_loss: 15.6552\n",
            "Epoch 107/120\n",
            "1760/1760 [==============================] - 0s 49us/step - loss: 15.4033 - val_loss: 15.8639\n",
            "Epoch 108/120\n",
            "1760/1760 [==============================] - 0s 49us/step - loss: 15.4896 - val_loss: 15.8521\n",
            "Epoch 109/120\n",
            "1760/1760 [==============================] - 0s 47us/step - loss: 15.3078 - val_loss: 15.8385\n",
            "Epoch 110/120\n",
            "1760/1760 [==============================] - 0s 48us/step - loss: 15.3923 - val_loss: 15.7260\n",
            "Epoch 111/120\n",
            "1760/1760 [==============================] - 0s 55us/step - loss: 15.3123 - val_loss: 15.8069\n",
            "Epoch 112/120\n",
            "1760/1760 [==============================] - 0s 50us/step - loss: 15.4012 - val_loss: 16.0304\n",
            "Epoch 113/120\n",
            "1760/1760 [==============================] - 0s 51us/step - loss: 15.4883 - val_loss: 16.0611\n",
            "Epoch 114/120\n",
            "1760/1760 [==============================] - 0s 49us/step - loss: 15.4749 - val_loss: 15.8707\n",
            "Epoch 115/120\n",
            "1760/1760 [==============================] - 0s 48us/step - loss: 15.2704 - val_loss: 15.6073\n",
            "Epoch 116/120\n",
            "1760/1760 [==============================] - 0s 48us/step - loss: 15.4356 - val_loss: 15.8633\n",
            "Epoch 117/120\n",
            "1760/1760 [==============================] - 0s 54us/step - loss: 15.6233 - val_loss: 15.7832\n",
            "Epoch 118/120\n",
            "1760/1760 [==============================] - 0s 48us/step - loss: 15.5000 - val_loss: 15.7382\n",
            "Epoch 119/120\n",
            "1760/1760 [==============================] - 0s 50us/step - loss: 15.2574 - val_loss: 15.8604\n",
            "Epoch 120/120\n",
            "1760/1760 [==============================] - 0s 48us/step - loss: 15.1683 - val_loss: 15.5173\n"
          ],
          "name": "stdout"
        }
      ]
    },
    {
      "cell_type": "code",
      "metadata": {
        "id": "qTfvSN_R2c76",
        "colab_type": "code",
        "outputId": "c117e581-4ef2-4e94-e52f-64ffcdaa613e",
        "colab": {
          "base_uri": "https://localhost:8080/",
          "height": 51
        }
      },
      "source": [
        "import time\n",
        "np.random.seed(1)\n",
        "\n",
        "start = time.time()\n",
        "x_test = np.reshape(x_test, (-1, original_dim))\n",
        "x_test_encoded = vae.encoder.predict(x_test)\n",
        "x_test_encoded = np.asarray(x_test_encoded)\n",
        "# print(x_test_encoded.shape)\n",
        "\n",
        "total_nums = 2\n",
        "results = []\n",
        "for i in range(x_test_encoded.shape[1]):\n",
        "    latent_gen = []\n",
        "    for _ in range(total_nums):\n",
        "        epsilon = np.random.normal(0., 1., x_test_encoded.shape[2])\n",
        "        latent_gen.extend([x_test_encoded[0, i, :] + np.exp(x_test_encoded[1, i, :]*0.5)*epsilon])\n",
        "    latent_gen = np.asarray(latent_gen)\n",
        "    results.append(vae.generate(latent_gen))\n",
        "    \n",
        "results = np.asarray(results)\n",
        "results = np.reshape(results, (-1, original_dim))\n",
        "print(results.shape)\n",
        "results = scaler.inverse_transform(results)\n",
        "end = time.time()\n",
        "print('Total time=', end-start)"
      ],
      "execution_count": 13,
      "outputs": [
        {
          "output_type": "stream",
          "text": [
            "(3522, 47)\n",
            "Total time= 1.2764580249786377\n"
          ],
          "name": "stdout"
        }
      ]
    },
    {
      "cell_type": "code",
      "metadata": {
        "id": "fC6DiGV8MV9W",
        "colab_type": "code",
        "colab": {}
      },
      "source": [
        "d = {}\n",
        "names = list(df)\n",
        "for i, name in enumerate(names):\n",
        "    d[name] = results[:, i]\n",
        "df = pd.DataFrame(data=d)"
      ],
      "execution_count": 0,
      "outputs": []
    },
    {
      "cell_type": "code",
      "metadata": {
        "id": "49_bbWWCsrHG",
        "colab_type": "code",
        "outputId": "e775ecce-4e85-4da6-b22a-46a044a70e15",
        "colab": {
          "base_uri": "https://localhost:8080/",
          "height": 238
        }
      },
      "source": [
        "names = list(df)\n",
        "c_dict = {}\n",
        "for n in names:\n",
        "    if '_' in n:\n",
        "        index = n.index('_')\n",
        "        c_dict[n[:index]] = [c for c in names if n[:index+1] in c]\n",
        "values = []\n",
        "for key, items in c_dict.items():\n",
        "    dummies = df[items]\n",
        "    d_names = list(dummies)\n",
        "    c_dict = {}\n",
        "    for n in d_names:\n",
        "        c_dict[n] = n[n.index('_')+1:]\n",
        "    dummies.rename(columns=c_dict, \n",
        "                   inplace=True)\n",
        "    df[key] = dummies.idxmax(axis=1)\n",
        "    df.drop(items, axis=1, inplace=True)\n",
        "print(df.head())"
      ],
      "execution_count": 15,
      "outputs": [
        {
          "output_type": "stream",
          "text": [
            "/usr/local/lib/python3.6/dist-packages/pandas/core/frame.py:4025: SettingWithCopyWarning: \n",
            "A value is trying to be set on a copy of a slice from a DataFrame\n",
            "\n",
            "See the caveats in the documentation: http://pandas.pydata.org/pandas-docs/stable/indexing.html#indexing-view-versus-copy\n",
            "  return super(DataFrame, self).rename(**kwargs)\n"
          ],
          "name": "stderr"
        },
        {
          "output_type": "stream",
          "text": [
            "   SeniorCitizen     tenure  ...              PaymentMethod  Churn\n",
            "0       0.430898  26.439009  ...    Credit card (automatic)     No\n",
            "1       0.416610  34.258602  ...  Bank transfer (automatic)     No\n",
            "2       0.275271  64.118858  ...    Credit card (automatic)     No\n",
            "3       0.165666  60.879402  ...    Credit card (automatic)     No\n",
            "4       0.560368   7.131863  ...           Electronic check    Yes\n",
            "\n",
            "[5 rows x 20 columns]\n"
          ],
          "name": "stdout"
        }
      ]
    },
    {
      "cell_type": "code",
      "metadata": {
        "id": "1ljK-ceANBih",
        "colab_type": "code",
        "colab": {}
      },
      "source": [
        "df = df.reindex(sorted(df.columns), axis=1)\n",
        "df.to_csv(path + '_vae.csv')"
      ],
      "execution_count": 0,
      "outputs": []
    },
    {
      "cell_type": "markdown",
      "metadata": {
        "colab_type": "text",
        "id": "SZr05ADu6LQP"
      },
      "source": [
        "# Dropout VAE"
      ]
    },
    {
      "cell_type": "code",
      "metadata": {
        "colab_type": "code",
        "id": "9KXhkZujT29r",
        "colab": {}
      },
      "source": [
        "np.random.seed(1)\n",
        "df = pd.read_csv(path + '_For_Training.csv')\n",
        "train = df.values.copy()\n",
        "train.astype('float32')\n",
        "scaler = MinMaxScaler()\n",
        "train = scaler.fit_transform(train)\n",
        "x_train, x_test = train_test_split(train, test_size=0.5,\n",
        "                                  random_state=42,\n",
        "                                  shuffle=True)"
      ],
      "execution_count": 0,
      "outputs": []
    },
    {
      "cell_type": "code",
      "metadata": {
        "colab_type": "code",
        "outputId": "0bc4e7f7-5f0b-4561-a174-0ab00b826e4e",
        "id": "fa5UJs9cT29v",
        "colab": {
          "base_uri": "https://localhost:8080/",
          "height": 51
        }
      },
      "source": [
        "original_dim = x_train.shape[1]\n",
        "x_train = np.reshape(x_train, [-1, original_dim])\n",
        "x_test = np.reshape(x_test, [-1, original_dim])\n",
        "x_train = x_train.astype('float32')\n",
        "x_test = x_test.astype('float32')\n",
        "print(x_train.shape)\n",
        "print(x_test.shape)"
      ],
      "execution_count": 18,
      "outputs": [
        {
          "output_type": "stream",
          "text": [
            "(1760, 47)\n",
            "(1761, 47)\n"
          ],
          "name": "stdout"
        }
      ]
    },
    {
      "cell_type": "code",
      "metadata": {
        "colab_type": "code",
        "id": "MnKFnBX-6LQR",
        "colab": {}
      },
      "source": [
        "from keras.regularizers import l2\n",
        "from keras.losses import categorical_crossentropy\n",
        "np.random.seed(1)\n",
        "\n",
        "class DropoutVAE:\n",
        "    def __init__(self, input_shape=(original_dim,), \n",
        "                 intermediate_dim=32, latent_dim=3, dropout=0.05, \n",
        "                 summary=False):\n",
        "        \n",
        "        self._build_model(input_shape,\n",
        "                         intermediate_dim, \n",
        "                          latent_dim, summary,\n",
        "                          dropout)\n",
        "    \n",
        "    def _build_model(self, input_shape, intermediate_dim, latent_dim,\n",
        "                    summary=False, dropout=0.05):\n",
        "        inputs = Input(shape=input_shape, name='encoder_input')\n",
        "        x = inputs\n",
        "        x = Dense(intermediate_dim, activation='relu')(x)\n",
        "#         x = Dense(intermediate_dim//2, activation='relu')(x)\n",
        "        \n",
        "        z_mean = Dense(latent_dim, name='z_mean')(x)\n",
        "        z_log_var = Dense(latent_dim, name='z_log_var')(x)\n",
        "\n",
        "        z = Lambda(self.sampling, output_shape=(latent_dim,), \n",
        "                   name='z')([z_mean, z_log_var])\n",
        "\n",
        "        self.encoder = Model(inputs, [z_mean, z_log_var, z], \n",
        "                        name='encoder')\n",
        "        \n",
        "        latent_inputs = Input(shape=(latent_dim,), \n",
        "                              name='z_sampling')\n",
        "        x = latent_inputs\n",
        "#         x = Dense(intermediate_dim//2, activation='relu',\n",
        "#                  kernel_regularizer=l2(1e-4),\n",
        "#                  bias_regularizer=l2(1e-4))(x)\n",
        "#         x = Dropout(dropout)(x)\n",
        "        x = Dense(intermediate_dim, activation='relu',\n",
        "                 kernel_regularizer=l2(1e-4),\n",
        "                 bias_regularizer=l2(1e-4))(x)\n",
        "        x = Dropout(dropout)(x)\n",
        "        outputs = Dense(original_dim, activation='sigmoid',\n",
        "                       kernel_regularizer=l2(1e-4),\n",
        "                       bias_regularizer=l2(1e-4))(x)\n",
        "\n",
        "        self.decoder = Model(latent_inputs, \n",
        "                             outputs, \n",
        "                             name='decoder')\n",
        "        outputs = self.decoder(self.encoder(inputs)[2])\n",
        "        self.vae = Model(inputs, outputs, \n",
        "                         name='vae_mlp')\n",
        "        \n",
        "        reconstruction_loss = binary_crossentropy(inputs, outputs)\n",
        "        reconstruction_loss *= original_dim\n",
        "        kl_loss = 1 + z_log_var - K.square(z_mean) - K.exp(z_log_var)\n",
        "        kl_loss = K.sum(kl_loss, axis=-1)\n",
        "        kl_loss *= -0.5\n",
        "        \n",
        "        vae_loss = K.mean(reconstruction_loss + kl_loss)\t\n",
        "        \n",
        "        self.vae.add_loss(vae_loss)\n",
        "        self.vae.compile(optimizer='adam')\n",
        "        if summary: \n",
        "            print(self.vae.summary())\n",
        "        \n",
        "    def sampling(self, args):\n",
        "        z_mean, z_log_var = args\n",
        "        batch = K.shape(z_mean)[0]\n",
        "        dim = K.int_shape(z_mean)[1]\n",
        "        epsilon = K.random_normal(shape=(batch, dim))\n",
        "        return z_mean + K.exp(0.5 * z_log_var) * epsilon\n",
        "        \n",
        "    def fit(self, x_train, x_test, epochs=100, batch_size=100,\n",
        "           verbose=1):\n",
        "        self.vae.fit(x_train, \n",
        "            shuffle=True,\n",
        "            epochs=epochs,\n",
        "            batch_size=batch_size,\n",
        "            verbose=verbose,\n",
        "            validation_data=(x_test, None))\n",
        "    \n",
        "    def encoder_predict(self, x_test, batch_size=100):\n",
        "        return self.encoder.predict(x_test,\n",
        "                                   batch_size=batch_size)\n",
        "    \n",
        "    def generate(self, latent_val, batch_size=100):\n",
        "        return self.decoder.predict(latent_val)\n",
        "    \n",
        "    def predict(self, x_test, batch_size=1, nums=1000):\n",
        "        predict_stochastic = K.function([self.vae.layers[0].input,\n",
        "                                K.learning_phase()],\n",
        "                                [self.vae.get_output_at(0)])\n",
        "        Yt_hat = []\n",
        "        for _ in range(nums):\n",
        "#             Yt_hat.append(self.vae.predict(x_test)) \n",
        "            Yt_hat.append(predict_stochastic([x_test, 1])) \n",
        "            \n",
        "        return np.asarray(Yt_hat)"
      ],
      "execution_count": 0,
      "outputs": []
    },
    {
      "cell_type": "markdown",
      "metadata": {
        "colab_type": "text",
        "id": "TsARTKz36LQZ"
      },
      "source": [
        "## Train and evaluate Dropout VAE"
      ]
    },
    {
      "cell_type": "code",
      "metadata": {
        "colab_type": "code",
        "id": "pkdmVggK6LQp",
        "outputId": "02ba43e2-ef3a-4608-b603-dd70deadd481",
        "colab": {
          "base_uri": "https://localhost:8080/",
          "height": 3743
        }
      },
      "source": [
        "np.random.seed(1)\n",
        "set_random_seed(1)\n",
        "\n",
        "latent_dim = original_dim//2\n",
        "if latent_dim < 2:\n",
        "    latent_dim = 2\n",
        "vae = DropoutVAE(intermediate_dim=intermediate_dim,\n",
        "                 dropout=0.3, latent_dim=latent_dim,\n",
        "                 summary=True)\n",
        "vae.fit(x_train, x_test, epochs=100)"
      ],
      "execution_count": 20,
      "outputs": [
        {
          "output_type": "stream",
          "text": [
            "WARNING:tensorflow:From /usr/local/lib/python3.6/dist-packages/keras/backend/tensorflow_backend.py:3445: calling dropout (from tensorflow.python.ops.nn_ops) with keep_prob is deprecated and will be removed in a future version.\n",
            "Instructions for updating:\n",
            "Please use `rate` instead of `keep_prob`. Rate should be set to `rate = 1 - keep_prob`.\n",
            "_________________________________________________________________\n",
            "Layer (type)                 Output Shape              Param #   \n",
            "=================================================================\n",
            "encoder_input (InputLayer)   (None, 47)                0         \n",
            "_________________________________________________________________\n",
            "encoder (Model)              [(None, 23), (None, 23),  48174     \n",
            "_________________________________________________________________\n",
            "decoder (Model)              (None, 47)                36399     \n",
            "=================================================================\n",
            "Total params: 84,573\n",
            "Trainable params: 84,573\n",
            "Non-trainable params: 0\n",
            "_________________________________________________________________\n",
            "None\n",
            "Train on 1760 samples, validate on 1761 samples\n",
            "Epoch 1/100\n",
            "1760/1760 [==============================] - 1s 301us/step - loss: 30.7081 - val_loss: 28.5181\n",
            "Epoch 2/100\n",
            "1760/1760 [==============================] - 0s 57us/step - loss: 28.2045 - val_loss: 27.1748\n",
            "Epoch 3/100\n",
            "1760/1760 [==============================] - 0s 62us/step - loss: 26.4015 - val_loss: 24.9875\n",
            "Epoch 4/100\n",
            "1760/1760 [==============================] - 0s 59us/step - loss: 24.3817 - val_loss: 23.5109\n",
            "Epoch 5/100\n",
            "1760/1760 [==============================] - 0s 60us/step - loss: 23.2954 - val_loss: 22.7745\n",
            "Epoch 6/100\n",
            "1760/1760 [==============================] - 0s 57us/step - loss: 22.6756 - val_loss: 22.4238\n",
            "Epoch 7/100\n",
            "1760/1760 [==============================] - 0s 57us/step - loss: 22.2082 - val_loss: 21.9207\n",
            "Epoch 8/100\n",
            "1760/1760 [==============================] - 0s 53us/step - loss: 21.8469 - val_loss: 21.6997\n",
            "Epoch 9/100\n",
            "1760/1760 [==============================] - 0s 59us/step - loss: 21.6588 - val_loss: 21.3800\n",
            "Epoch 10/100\n",
            "1760/1760 [==============================] - 0s 58us/step - loss: 21.3374 - val_loss: 21.1070\n",
            "Epoch 11/100\n",
            "1760/1760 [==============================] - 0s 56us/step - loss: 21.1023 - val_loss: 20.8550\n",
            "Epoch 12/100\n",
            "1760/1760 [==============================] - 0s 55us/step - loss: 20.7804 - val_loss: 20.7330\n",
            "Epoch 13/100\n",
            "1760/1760 [==============================] - 0s 63us/step - loss: 20.5310 - val_loss: 20.3734\n",
            "Epoch 14/100\n",
            "1760/1760 [==============================] - 0s 55us/step - loss: 20.2661 - val_loss: 19.9702\n",
            "Epoch 15/100\n",
            "1760/1760 [==============================] - 0s 56us/step - loss: 20.1104 - val_loss: 19.8145\n",
            "Epoch 16/100\n",
            "1760/1760 [==============================] - 0s 58us/step - loss: 19.6248 - val_loss: 19.7312\n",
            "Epoch 17/100\n",
            "1760/1760 [==============================] - 0s 54us/step - loss: 19.8785 - val_loss: 19.6216\n",
            "Epoch 18/100\n",
            "1760/1760 [==============================] - 0s 64us/step - loss: 19.3848 - val_loss: 19.4072\n",
            "Epoch 19/100\n",
            "1760/1760 [==============================] - 0s 55us/step - loss: 19.1968 - val_loss: 19.1146\n",
            "Epoch 20/100\n",
            "1760/1760 [==============================] - 0s 57us/step - loss: 19.1713 - val_loss: 18.9559\n",
            "Epoch 21/100\n",
            "1760/1760 [==============================] - 0s 56us/step - loss: 19.0110 - val_loss: 18.9771\n",
            "Epoch 22/100\n",
            "1760/1760 [==============================] - 0s 57us/step - loss: 18.9086 - val_loss: 18.7172\n",
            "Epoch 23/100\n",
            "1760/1760 [==============================] - 0s 62us/step - loss: 18.7317 - val_loss: 18.5923\n",
            "Epoch 24/100\n",
            "1760/1760 [==============================] - 0s 55us/step - loss: 18.5804 - val_loss: 18.4553\n",
            "Epoch 25/100\n",
            "1760/1760 [==============================] - 0s 57us/step - loss: 18.5170 - val_loss: 18.3837\n",
            "Epoch 26/100\n",
            "1760/1760 [==============================] - 0s 57us/step - loss: 18.3954 - val_loss: 18.3709\n",
            "Epoch 27/100\n",
            "1760/1760 [==============================] - 0s 57us/step - loss: 18.3863 - val_loss: 18.0281\n",
            "Epoch 28/100\n",
            "1760/1760 [==============================] - 0s 59us/step - loss: 18.2059 - val_loss: 18.2387\n",
            "Epoch 29/100\n",
            "1760/1760 [==============================] - 0s 55us/step - loss: 17.9256 - val_loss: 17.9575\n",
            "Epoch 30/100\n",
            "1760/1760 [==============================] - 0s 57us/step - loss: 17.9681 - val_loss: 17.8176\n",
            "Epoch 31/100\n",
            "1760/1760 [==============================] - 0s 56us/step - loss: 17.7400 - val_loss: 17.8966\n",
            "Epoch 32/100\n",
            "1760/1760 [==============================] - 0s 59us/step - loss: 17.8955 - val_loss: 17.8440\n",
            "Epoch 33/100\n",
            "1760/1760 [==============================] - 0s 62us/step - loss: 17.8019 - val_loss: 17.5812\n",
            "Epoch 34/100\n",
            "1760/1760 [==============================] - 0s 55us/step - loss: 17.6122 - val_loss: 17.6289\n",
            "Epoch 35/100\n",
            "1760/1760 [==============================] - 0s 57us/step - loss: 17.6610 - val_loss: 17.5348\n",
            "Epoch 36/100\n",
            "1760/1760 [==============================] - 0s 59us/step - loss: 17.4522 - val_loss: 17.3176\n",
            "Epoch 37/100\n",
            "1760/1760 [==============================] - 0s 57us/step - loss: 17.4492 - val_loss: 17.4424\n",
            "Epoch 38/100\n",
            "1760/1760 [==============================] - 0s 56us/step - loss: 17.3851 - val_loss: 17.4086\n",
            "Epoch 39/100\n",
            "1760/1760 [==============================] - 0s 58us/step - loss: 17.3260 - val_loss: 17.2886\n",
            "Epoch 40/100\n",
            "1760/1760 [==============================] - 0s 56us/step - loss: 17.5525 - val_loss: 17.2688\n",
            "Epoch 41/100\n",
            "1760/1760 [==============================] - 0s 60us/step - loss: 17.1163 - val_loss: 17.1853\n",
            "Epoch 42/100\n",
            "1760/1760 [==============================] - 0s 57us/step - loss: 17.2950 - val_loss: 17.1397\n",
            "Epoch 43/100\n",
            "1760/1760 [==============================] - 0s 60us/step - loss: 17.1421 - val_loss: 17.0534\n",
            "Epoch 44/100\n",
            "1760/1760 [==============================] - 0s 55us/step - loss: 17.1041 - val_loss: 17.1416\n",
            "Epoch 45/100\n",
            "1760/1760 [==============================] - 0s 54us/step - loss: 17.0076 - val_loss: 17.0205\n",
            "Epoch 46/100\n",
            "1760/1760 [==============================] - 0s 56us/step - loss: 17.0658 - val_loss: 17.1488\n",
            "Epoch 47/100\n",
            "1760/1760 [==============================] - 0s 56us/step - loss: 17.1213 - val_loss: 17.0322\n",
            "Epoch 48/100\n",
            "1760/1760 [==============================] - 0s 55us/step - loss: 16.9958 - val_loss: 16.9941\n",
            "Epoch 49/100\n",
            "1760/1760 [==============================] - 0s 55us/step - loss: 16.8812 - val_loss: 16.9111\n",
            "Epoch 50/100\n",
            "1760/1760 [==============================] - 0s 57us/step - loss: 16.8929 - val_loss: 16.8101\n",
            "Epoch 51/100\n",
            "1760/1760 [==============================] - 0s 60us/step - loss: 16.8388 - val_loss: 16.8744\n",
            "Epoch 52/100\n",
            "1760/1760 [==============================] - 0s 55us/step - loss: 16.9813 - val_loss: 16.8116\n",
            "Epoch 53/100\n",
            "1760/1760 [==============================] - 0s 58us/step - loss: 16.8399 - val_loss: 16.8336\n",
            "Epoch 54/100\n",
            "1760/1760 [==============================] - 0s 58us/step - loss: 16.8505 - val_loss: 16.7395\n",
            "Epoch 55/100\n",
            "1760/1760 [==============================] - 0s 56us/step - loss: 16.8577 - val_loss: 16.7509\n",
            "Epoch 56/100\n",
            "1760/1760 [==============================] - 0s 56us/step - loss: 16.8686 - val_loss: 16.7087\n",
            "Epoch 57/100\n",
            "1760/1760 [==============================] - 0s 58us/step - loss: 16.7515 - val_loss: 16.6470\n",
            "Epoch 58/100\n",
            "1760/1760 [==============================] - 0s 57us/step - loss: 16.7387 - val_loss: 16.7086\n",
            "Epoch 59/100\n",
            "1760/1760 [==============================] - 0s 56us/step - loss: 16.6686 - val_loss: 16.6501\n",
            "Epoch 60/100\n",
            "1760/1760 [==============================] - 0s 55us/step - loss: 16.6607 - val_loss: 16.5877\n",
            "Epoch 61/100\n",
            "1760/1760 [==============================] - 0s 55us/step - loss: 16.7231 - val_loss: 16.5844\n",
            "Epoch 62/100\n",
            "1760/1760 [==============================] - 0s 57us/step - loss: 16.7106 - val_loss: 16.6181\n",
            "Epoch 63/100\n",
            "1760/1760 [==============================] - 0s 63us/step - loss: 16.6824 - val_loss: 16.5690\n",
            "Epoch 64/100\n",
            "1760/1760 [==============================] - 0s 56us/step - loss: 16.5118 - val_loss: 16.5203\n",
            "Epoch 65/100\n",
            "1760/1760 [==============================] - 0s 57us/step - loss: 16.6726 - val_loss: 16.5822\n",
            "Epoch 66/100\n",
            "1760/1760 [==============================] - 0s 57us/step - loss: 16.5348 - val_loss: 16.5181\n",
            "Epoch 67/100\n",
            "1760/1760 [==============================] - 0s 54us/step - loss: 16.4722 - val_loss: 16.4932\n",
            "Epoch 68/100\n",
            "1760/1760 [==============================] - 0s 55us/step - loss: 16.5038 - val_loss: 16.3955\n",
            "Epoch 69/100\n",
            "1760/1760 [==============================] - 0s 55us/step - loss: 16.5160 - val_loss: 16.4305\n",
            "Epoch 70/100\n",
            "1760/1760 [==============================] - 0s 55us/step - loss: 16.6053 - val_loss: 16.5183\n",
            "Epoch 71/100\n",
            "1760/1760 [==============================] - 0s 57us/step - loss: 16.5854 - val_loss: 16.2803\n",
            "Epoch 72/100\n",
            "1760/1760 [==============================] - 0s 61us/step - loss: 16.6836 - val_loss: 16.4194\n",
            "Epoch 73/100\n",
            "1760/1760 [==============================] - 0s 60us/step - loss: 16.3772 - val_loss: 16.3261\n",
            "Epoch 74/100\n",
            "1760/1760 [==============================] - 0s 56us/step - loss: 16.6058 - val_loss: 16.4908\n",
            "Epoch 75/100\n",
            "1760/1760 [==============================] - 0s 57us/step - loss: 16.4860 - val_loss: 16.4061\n",
            "Epoch 76/100\n",
            "1760/1760 [==============================] - 0s 55us/step - loss: 16.3544 - val_loss: 16.4636\n",
            "Epoch 77/100\n",
            "1760/1760 [==============================] - 0s 56us/step - loss: 16.3086 - val_loss: 16.3575\n",
            "Epoch 78/100\n",
            "1760/1760 [==============================] - 0s 56us/step - loss: 16.4409 - val_loss: 16.2825\n",
            "Epoch 79/100\n",
            "1760/1760 [==============================] - 0s 55us/step - loss: 16.4655 - val_loss: 16.3266\n",
            "Epoch 80/100\n",
            "1760/1760 [==============================] - 0s 55us/step - loss: 16.3686 - val_loss: 16.1717\n",
            "Epoch 81/100\n",
            "1760/1760 [==============================] - 0s 57us/step - loss: 16.1881 - val_loss: 16.4399\n",
            "Epoch 82/100\n",
            "1760/1760 [==============================] - 0s 56us/step - loss: 16.3320 - val_loss: 16.2550\n",
            "Epoch 83/100\n",
            "1760/1760 [==============================] - 0s 59us/step - loss: 16.3865 - val_loss: 16.2384\n",
            "Epoch 84/100\n",
            "1760/1760 [==============================] - 0s 55us/step - loss: 16.2158 - val_loss: 16.3067\n",
            "Epoch 85/100\n",
            "1760/1760 [==============================] - 0s 56us/step - loss: 16.1543 - val_loss: 16.2029\n",
            "Epoch 86/100\n",
            "1760/1760 [==============================] - 0s 56us/step - loss: 16.2532 - val_loss: 16.2084\n",
            "Epoch 87/100\n",
            "1760/1760 [==============================] - 0s 60us/step - loss: 16.3027 - val_loss: 16.1988\n",
            "Epoch 88/100\n",
            "1760/1760 [==============================] - 0s 57us/step - loss: 16.2848 - val_loss: 16.1931\n",
            "Epoch 89/100\n",
            "1760/1760 [==============================] - 0s 56us/step - loss: 16.4925 - val_loss: 16.1830\n",
            "Epoch 90/100\n",
            "1760/1760 [==============================] - 0s 57us/step - loss: 16.2393 - val_loss: 16.2319\n",
            "Epoch 91/100\n",
            "1760/1760 [==============================] - 0s 60us/step - loss: 16.3850 - val_loss: 16.3345\n",
            "Epoch 92/100\n",
            "1760/1760 [==============================] - 0s 56us/step - loss: 16.0920 - val_loss: 16.0658\n",
            "Epoch 93/100\n",
            "1760/1760 [==============================] - 0s 61us/step - loss: 16.0878 - val_loss: 16.0614\n",
            "Epoch 94/100\n",
            "1760/1760 [==============================] - 0s 55us/step - loss: 16.1404 - val_loss: 16.0477\n",
            "Epoch 95/100\n",
            "1760/1760 [==============================] - 0s 60us/step - loss: 16.3684 - val_loss: 16.0824\n",
            "Epoch 96/100\n",
            "1760/1760 [==============================] - 0s 57us/step - loss: 16.3755 - val_loss: 16.1226\n",
            "Epoch 97/100\n",
            "1760/1760 [==============================] - 0s 57us/step - loss: 15.9727 - val_loss: 16.2180\n",
            "Epoch 98/100\n",
            "1760/1760 [==============================] - 0s 55us/step - loss: 16.1385 - val_loss: 16.0524\n",
            "Epoch 99/100\n",
            "1760/1760 [==============================] - 0s 60us/step - loss: 16.0467 - val_loss: 16.1287\n",
            "Epoch 100/100\n",
            "1760/1760 [==============================] - 0s 56us/step - loss: 16.2060 - val_loss: 16.2583\n"
          ],
          "name": "stdout"
        }
      ]
    },
    {
      "cell_type": "code",
      "metadata": {
        "colab_type": "code",
        "id": "2HndA3MG6LQs",
        "outputId": "8e53c679-0e30-4c66-e08a-3156ab5b9a9b",
        "colab": {
          "base_uri": "https://localhost:8080/",
          "height": 51
        }
      },
      "source": [
        "np.random.seed(1)\n",
        "x_test = np.reshape(x_test, (-1, original_dim))\n",
        "print(x_test.shape)\n",
        "print(x_test[0].reshape(-1, original_dim).shape)"
      ],
      "execution_count": 21,
      "outputs": [
        {
          "output_type": "stream",
          "text": [
            "(1761, 47)\n",
            "(1, 47)\n"
          ],
          "name": "stdout"
        }
      ]
    },
    {
      "cell_type": "code",
      "metadata": {
        "id": "_sgO9JKSqWsW",
        "colab_type": "code",
        "outputId": "92b590f6-2917-45a0-c1dc-c5c908ed61ee",
        "colab": {
          "base_uri": "https://localhost:8080/",
          "height": 68
        }
      },
      "source": [
        "import time\n",
        "np.random.seed(1)\n",
        "set_random_seed(1)\n",
        "start = time.time()\n",
        "total_nums = 2\n",
        "results = []\n",
        "x_test_encoded = vae.predict(x_test, nums=total_nums, batch_size=100)\n",
        "results = x_test_encoded\n",
        "results = np.asarray(results)\n",
        "print(results.shape)\n",
        "results = results.reshape(total_nums*results.shape[2], original_dim)\n",
        "results = scaler.inverse_transform(results)\n",
        "print(results.shape)\n",
        "end = time.time()\n",
        "print('Total time=', end-start)"
      ],
      "execution_count": 22,
      "outputs": [
        {
          "output_type": "stream",
          "text": [
            "(2, 1, 1761, 47)\n",
            "(3522, 47)\n",
            "Total time= 0.08175206184387207\n"
          ],
          "name": "stdout"
        }
      ]
    },
    {
      "cell_type": "markdown",
      "metadata": {
        "id": "POfJxgHamlmx",
        "colab_type": "text"
      },
      "source": [
        "## Results"
      ]
    },
    {
      "cell_type": "code",
      "metadata": {
        "colab_type": "code",
        "id": "YIlGSzekAYlO",
        "colab": {}
      },
      "source": [
        "d = {}\n",
        "names = list(df)\n",
        "for i, name in enumerate(names):\n",
        "    d[name] = results[:, i]\n",
        "df = pd.DataFrame(data=d)"
      ],
      "execution_count": 0,
      "outputs": []
    },
    {
      "cell_type": "code",
      "metadata": {
        "colab_type": "code",
        "outputId": "4afef253-6118-430f-e227-c7b48345dd0d",
        "id": "shurAQCSAYlV",
        "colab": {
          "base_uri": "https://localhost:8080/",
          "height": 238
        }
      },
      "source": [
        "names = list(df)\n",
        "c_dict = {}\n",
        "for n in names:\n",
        "    if '_' in n:\n",
        "        index = n.index('_')\n",
        "        c_dict[n[:index]] = [c for c in names if n[:index+1] in c]\n",
        "values = []\n",
        "for key, items in c_dict.items():\n",
        "    dummies = df[items]\n",
        "    d_names = list(dummies)\n",
        "    c_dict = {}\n",
        "    for n in d_names:\n",
        "        c_dict[n] = n[n.index('_')+1:]\n",
        "    dummies.rename(columns=c_dict, \n",
        "                   inplace=True)\n",
        "    df[key] = dummies.idxmax(axis=1)\n",
        "    df.drop(items, axis=1, inplace=True)\n",
        "print(df.head())"
      ],
      "execution_count": 24,
      "outputs": [
        {
          "output_type": "stream",
          "text": [
            "/usr/local/lib/python3.6/dist-packages/pandas/core/frame.py:4025: SettingWithCopyWarning: \n",
            "A value is trying to be set on a copy of a slice from a DataFrame\n",
            "\n",
            "See the caveats in the documentation: http://pandas.pydata.org/pandas-docs/stable/indexing.html#indexing-view-versus-copy\n",
            "  return super(DataFrame, self).rename(**kwargs)\n"
          ],
          "name": "stderr"
        },
        {
          "output_type": "stream",
          "text": [
            "   SeniorCitizen     tenure  ...            PaymentMethod  Churn\n",
            "0       0.333151  42.405853  ...         Electronic check     No\n",
            "1       0.176503  60.555103  ...  Credit card (automatic)     No\n",
            "2       0.233010   3.601351  ...         Electronic check    Yes\n",
            "3       0.301680   2.233544  ...         Electronic check    Yes\n",
            "4       0.155867   5.712423  ...         Electronic check    Yes\n",
            "\n",
            "[5 rows x 20 columns]\n"
          ],
          "name": "stdout"
        }
      ]
    },
    {
      "cell_type": "code",
      "metadata": {
        "colab_type": "code",
        "id": "n8dLIoyVW_Kn",
        "colab": {}
      },
      "source": [
        "df = df.reindex(sorted(df.columns), axis=1)\n",
        "df.to_csv(path + '_dropout.csv')"
      ],
      "execution_count": 0,
      "outputs": []
    },
    {
      "cell_type": "markdown",
      "metadata": {
        "id": "xL6N8v2sYTNm",
        "colab_type": "text"
      },
      "source": [
        "# Transform categorical -> number"
      ]
    },
    {
      "cell_type": "code",
      "metadata": {
        "id": "FgVhmliYYzwS",
        "colab_type": "code",
        "colab": {}
      },
      "source": [
        "np.random.seed(1)\n",
        "\n",
        "validation.to_csv(path + '_For_Test.csv')\n",
        "df = pd.read_csv(path + '_For_Test.csv',\n",
        "                 na_filter=True, \n",
        "                 verbose=False, \n",
        "                 skip_blank_lines=True, \n",
        "                 na_values=na_values,\n",
        "                 keep_default_na=False)\n",
        "df_mc = pd.read_csv(path + '_dropout.csv',\n",
        "                 na_filter=True, \n",
        "                 verbose=False, \n",
        "                 skip_blank_lines=True, \n",
        "                 na_values=na_values,\n",
        "                 keep_default_na=False)\n",
        "df_vae = pd.read_csv(path + '_vae.csv',\n",
        "                 na_filter=True, \n",
        "                 verbose=False, \n",
        "                 skip_blank_lines=True, \n",
        "                 na_values=na_values,\n",
        "                 keep_default_na=False)\n",
        "df.drop('Unnamed: 0', axis=1, inplace=True)\n",
        "df_mc.drop('Unnamed: 0', axis=1, inplace=True)\n",
        "df_vae.drop('Unnamed: 0', axis=1, inplace=True)\n",
        "names = list(df)"
      ],
      "execution_count": 0,
      "outputs": []
    },
    {
      "cell_type": "code",
      "metadata": {
        "id": "HSbyWbb0ZjAJ",
        "colab_type": "code",
        "outputId": "ec82da61-9d78-443b-9f64-bd447724f693",
        "colab": {
          "base_uri": "https://localhost:8080/",
          "height": 102
        }
      },
      "source": [
        "from sklearn.preprocessing import LabelEncoder\n",
        "colnums = len(df.columns)\n",
        "for i in df.columns:\n",
        "    try:\n",
        "        if df[i].dtype.name == 'object':\n",
        "            df[i] = df[i].astype('category')\n",
        "    except:\n",
        "        continue\n",
        "cat_columns = df.select_dtypes(['category']).columns\n",
        "print(cat_columns)\n",
        "for col in cat_columns:\n",
        "    le = LabelEncoder()\n",
        "    df[col] = le.fit_transform(df[col].values)\n",
        "    df_mc[col] = le.transform(df_mc[col].values)\n",
        "    df_vae[col] = le.transform(df_vae[col].values)\n",
        "    "
      ],
      "execution_count": 27,
      "outputs": [
        {
          "output_type": "stream",
          "text": [
            "Index(['Churn', 'Contract', 'Dependents', 'DeviceProtection',\n",
            "       'InternetService', 'MultipleLines', 'OnlineBackup', 'OnlineSecurity',\n",
            "       'PaperlessBilling', 'Partner', 'PaymentMethod', 'PhoneService',\n",
            "       'StreamingMovies', 'StreamingTV', 'TechSupport', 'gender'],\n",
            "      dtype='object')\n"
          ],
          "name": "stdout"
        }
      ]
    },
    {
      "cell_type": "code",
      "metadata": {
        "id": "J-scTKTHZ9Wk",
        "colab_type": "code",
        "colab": {}
      },
      "source": [
        "df = df.reindex(sorted(df.columns), axis=1)\n",
        "df_mc = df_mc.reindex(sorted(df_mc.columns), axis=1)\n",
        "df_vae = df_vae.reindex(sorted(df_vae.columns), axis=1)\n",
        "df.to_csv(path + '_For_Test_encoded.csv')\n",
        "df_mc.to_csv(path + '_dropout_encoded.csv')\n",
        "df_vae.to_csv(path + '_vae_encoded.csv')"
      ],
      "execution_count": 0,
      "outputs": []
    },
    {
      "cell_type": "markdown",
      "metadata": {
        "id": "gLy-z65OUnRj",
        "colab_type": "text"
      },
      "source": [
        "# Predicting with generated data"
      ]
    },
    {
      "cell_type": "code",
      "metadata": {
        "id": "-W-tX8ysUuOC",
        "colab_type": "code",
        "colab": {}
      },
      "source": [
        "df = pd.read_csv(path + '_For_Test_encoded.csv',\n",
        "                 na_filter=True, \n",
        "                 verbose=False, \n",
        "                 skip_blank_lines=True, \n",
        "                 na_values=na_values,\n",
        "                 keep_default_na=False)\n",
        "df_mc = pd.read_csv(path + '_dropout_encoded.csv',\n",
        "                 na_filter=True, \n",
        "                 verbose=False, \n",
        "                 skip_blank_lines=True, \n",
        "                 na_values=na_values,\n",
        "                 keep_default_na=False)\n",
        "df_vae = pd.read_csv(path + '_vae_encoded.csv',\n",
        "                 na_filter=True, \n",
        "                 verbose=False, \n",
        "                 skip_blank_lines=True, \n",
        "                 na_values=na_values,\n",
        "                 keep_default_na=False)\n",
        "df.drop('Unnamed: 0', axis=1, inplace=True)\n",
        "df_mc.drop('Unnamed: 0', axis=1, inplace=True)\n",
        "df_vae.drop('Unnamed: 0', axis=1, inplace=True)"
      ],
      "execution_count": 0,
      "outputs": []
    },
    {
      "cell_type": "code",
      "metadata": {
        "id": "8F40hUKFVC3E",
        "colab_type": "code",
        "outputId": "464a819e-633a-4b67-fd98-fb62991bb249",
        "colab": {
          "base_uri": "https://localhost:8080/",
          "height": 425
        }
      },
      "source": [
        "print(df.head())\n",
        "print(df_mc.head())\n",
        "print(df_vae.head())"
      ],
      "execution_count": 30,
      "outputs": [
        {
          "output_type": "stream",
          "text": [
            "   Churn  Contract  Dependents  ...  TotalCharges  gender  tenure\n",
            "0      1         0           0  ...         24.80       0       1\n",
            "1      0         0           0  ...        996.45       1      41\n",
            "2      0         2           1  ...       1031.70       0      52\n",
            "3      1         0           0  ...         76.35       0       1\n",
            "4      0         2           0  ...       3260.10       1      67\n",
            "\n",
            "[5 rows x 20 columns]\n",
            "   Churn  Contract  Dependents  ...  TotalCharges  gender     tenure\n",
            "0      0         0           0  ...    3901.85100       0  42.405853\n",
            "1      0         2           0  ...    5249.99370       0  60.555103\n",
            "2      1         0           0  ...     208.61786       0   3.601351\n",
            "3      1         0           0  ...     147.72800       1   2.233544\n",
            "4      1         0           0  ...     515.75680       0   5.712423\n",
            "\n",
            "[5 rows x 20 columns]\n",
            "   Churn  Contract  Dependents  ...  TotalCharges  gender     tenure\n",
            "0      0         0           0  ...    2373.38090       0  26.439009\n",
            "1      0         0           0  ...    2857.84330       0  34.258602\n",
            "2      0         2           0  ...    6561.12350       0  64.118860\n",
            "3      0         2           0  ...    5881.44630       0  60.879402\n",
            "4      1         0           0  ...     506.77792       1   7.131863\n",
            "\n",
            "[5 rows x 20 columns]\n"
          ],
          "name": "stdout"
        }
      ]
    },
    {
      "cell_type": "code",
      "metadata": {
        "id": "0tyhyfWHXbn4",
        "colab_type": "code",
        "outputId": "130e1c86-88ae-46b0-8d37-ffb4182ddb01",
        "colab": {
          "base_uri": "https://localhost:8080/",
          "height": 51
        }
      },
      "source": [
        "y = df['Churn'].values\n",
        "df.drop(['Churn'], axis=1, inplace=True)\n",
        "X = df.values\n",
        "print(y.shape)\n",
        "print(X.shape)"
      ],
      "execution_count": 31,
      "outputs": [
        {
          "output_type": "stream",
          "text": [
            "(3522,)\n",
            "(3522, 19)\n"
          ],
          "name": "stdout"
        }
      ]
    },
    {
      "cell_type": "code",
      "metadata": {
        "id": "rwzr1m5TX5QC",
        "colab_type": "code",
        "outputId": "e1d0b86f-3bef-403b-a152-e1db814e758c",
        "colab": {
          "base_uri": "https://localhost:8080/",
          "height": 51
        }
      },
      "source": [
        "y_mc = df_mc['Churn'].values\n",
        "df_mc.drop(['Churn'], axis=1, inplace=True)\n",
        "X_mc = df_mc.values\n",
        "print(y_mc.shape)\n",
        "print(X_mc.shape)"
      ],
      "execution_count": 32,
      "outputs": [
        {
          "output_type": "stream",
          "text": [
            "(3522,)\n",
            "(3522, 19)\n"
          ],
          "name": "stdout"
        }
      ]
    },
    {
      "cell_type": "code",
      "metadata": {
        "id": "xbq6H2ZnYXqz",
        "colab_type": "code",
        "outputId": "686a2808-9434-40d0-8c63-9369fd6c0ae8",
        "colab": {
          "base_uri": "https://localhost:8080/",
          "height": 51
        }
      },
      "source": [
        "y_vae = df_vae['Churn'].values\n",
        "df_vae.drop(['Churn'], axis=1, inplace=True)\n",
        "X_vae = df_vae.values\n",
        "print(y_vae.shape)\n",
        "print(X_vae.shape)"
      ],
      "execution_count": 33,
      "outputs": [
        {
          "output_type": "stream",
          "text": [
            "(3522,)\n",
            "(3522, 19)\n"
          ],
          "name": "stdout"
        }
      ]
    },
    {
      "cell_type": "markdown",
      "metadata": {
        "id": "iWMcVL29ggWg",
        "colab_type": "text"
      },
      "source": [
        "### Original data"
      ]
    },
    {
      "cell_type": "code",
      "metadata": {
        "id": "ob3Et0uia9YZ",
        "colab_type": "code",
        "outputId": "329e4431-c2a0-488e-f580-44712616a59c",
        "colab": {
          "base_uri": "https://localhost:8080/",
          "height": 34
        }
      },
      "source": [
        "np.random.seed(1)\n",
        "\n",
        "from sklearn.ensemble import RandomForestClassifier\n",
        "from sklearn.model_selection import cross_val_score\n",
        "clf = RandomForestClassifier(n_estimators=100, \n",
        "                             max_depth=2, random_state=42)\n",
        "scores = cross_val_score(clf, X, y, cv=10)\n",
        "print(\"Accuracy: %0.2f (+/- %0.2f)\" % (scores.mean(), scores.std() * 2))"
      ],
      "execution_count": 34,
      "outputs": [
        {
          "output_type": "stream",
          "text": [
            "Accuracy: 0.77 (+/- 0.03)\n"
          ],
          "name": "stdout"
        }
      ]
    },
    {
      "cell_type": "code",
      "metadata": {
        "colab_type": "code",
        "id": "ySOOpbfD5RP1",
        "outputId": "eb55e9fd-f0f1-4f94-a00d-5c2815aff276",
        "colab": {
          "base_uri": "https://localhost:8080/",
          "height": 34
        }
      },
      "source": [
        "np.random.seed(1)\n",
        "\n",
        "from sklearn.ensemble import RandomForestClassifier\n",
        "from sklearn.model_selection import cross_val_score\n",
        "clf = RandomForestClassifier(n_estimators=100, \n",
        "                             max_depth=2, random_state=42)\n",
        "scores = cross_val_score(clf, X_mc, y_mc, cv=10)\n",
        "print(\"Accuracy: %0.2f (+/- %0.2f)\" % (scores.mean(), scores.std() * 2))"
      ],
      "execution_count": 35,
      "outputs": [
        {
          "output_type": "stream",
          "text": [
            "Accuracy: 0.77 (+/- 0.02)\n"
          ],
          "name": "stdout"
        }
      ]
    },
    {
      "cell_type": "code",
      "metadata": {
        "colab_type": "code",
        "id": "lycl8s_A5Vxf",
        "outputId": "93a5b7be-de6b-481f-8e62-864f199c8572",
        "colab": {
          "base_uri": "https://localhost:8080/",
          "height": 34
        }
      },
      "source": [
        "np.random.seed(1)\n",
        "\n",
        "from sklearn.ensemble import RandomForestClassifier\n",
        "from sklearn.model_selection import cross_val_score\n",
        "clf = RandomForestClassifier(n_estimators=100, \n",
        "                             max_depth=2, random_state=42)\n",
        "scores = cross_val_score(clf, X_vae, y_vae, cv=10)\n",
        "print(\"Accuracy: %0.2f (+/- %0.2f)\" % (scores.mean(), scores.std() * 2))"
      ],
      "execution_count": 36,
      "outputs": [
        {
          "output_type": "stream",
          "text": [
            "Accuracy: 0.76 (+/- 0.04)\n"
          ],
          "name": "stdout"
        }
      ]
    },
    {
      "cell_type": "markdown",
      "metadata": {
        "colab_type": "text",
        "id": "hSUz0c0ngkj5"
      },
      "source": [
        "### DropoutVAE generated data"
      ]
    },
    {
      "cell_type": "code",
      "metadata": {
        "colab_type": "code",
        "id": "y4-GzQ_bbPCo",
        "outputId": "c494d829-6413-45d5-f601-0938172e9a42",
        "colab": {
          "base_uri": "https://localhost:8080/",
          "height": 34
        }
      },
      "source": [
        "np.random.seed(1)\n",
        "from sklearn.model_selection import cross_val_score\n",
        "clf = RandomForestClassifier(n_estimators=100, \n",
        "                             max_depth=2, random_state=42)\n",
        "clf.fit(X_mc, y_mc)\n",
        "print(clf.score(X, y))"
      ],
      "execution_count": 37,
      "outputs": [
        {
          "output_type": "stream",
          "text": [
            "0.7512776831345827\n"
          ],
          "name": "stdout"
        }
      ]
    },
    {
      "cell_type": "markdown",
      "metadata": {
        "colab_type": "text",
        "id": "NL3OtgaGgxQB"
      },
      "source": [
        "### VAE generated data "
      ]
    },
    {
      "cell_type": "code",
      "metadata": {
        "id": "Crz0AfZ-bSg-",
        "colab_type": "code",
        "outputId": "bca45483-b3bd-493e-ac6d-e54ecc61a38a",
        "colab": {
          "base_uri": "https://localhost:8080/",
          "height": 34
        }
      },
      "source": [
        "np.random.seed(1)\n",
        "\n",
        "from sklearn.model_selection import cross_val_score\n",
        "clf = RandomForestClassifier(n_estimators=100, \n",
        "                             max_depth=2, random_state=42)\n",
        "clf.fit(X_vae, y_vae)\n",
        "print(clf.score(X, y))"
      ],
      "execution_count": 38,
      "outputs": [
        {
          "output_type": "stream",
          "text": [
            "0.7722884724588303\n"
          ],
          "name": "stdout"
        }
      ]
    },
    {
      "cell_type": "markdown",
      "metadata": {
        "colab_type": "text",
        "id": "mrCqDtssg4nB"
      },
      "source": [
        "### Original data with Dropout VAE outcome"
      ]
    },
    {
      "cell_type": "code",
      "metadata": {
        "colab_type": "code",
        "id": "mH3gS3nacvV7",
        "outputId": "ffd0e0a0-e54c-4041-c242-385d4933ad11",
        "colab": {
          "base_uri": "https://localhost:8080/",
          "height": 34
        }
      },
      "source": [
        "np.random.seed(1)\n",
        "\n",
        "from sklearn.model_selection import cross_val_score\n",
        "clf = RandomForestClassifier(n_estimators=100, \n",
        "                             max_depth=2, random_state=42)\n",
        "clf.fit(X, y)\n",
        "print(clf.score(X_mc, y_mc))"
      ],
      "execution_count": 39,
      "outputs": [
        {
          "output_type": "stream",
          "text": [
            "0.7637705848949461\n"
          ],
          "name": "stdout"
        }
      ]
    },
    {
      "cell_type": "markdown",
      "metadata": {
        "colab_type": "text",
        "id": "YlER2gGnhBGJ"
      },
      "source": [
        "### Original data with VAE outcome"
      ]
    },
    {
      "cell_type": "code",
      "metadata": {
        "colab_type": "code",
        "id": "MezW_-9ZcvWA",
        "outputId": "33414724-44db-429e-a0e8-bc5509d938e3",
        "colab": {
          "base_uri": "https://localhost:8080/",
          "height": 34
        }
      },
      "source": [
        "np.random.seed(1)\n",
        "\n",
        "from sklearn.model_selection import cross_val_score\n",
        "clf = RandomForestClassifier(n_estimators=100, \n",
        "                             max_depth=2, random_state=42)\n",
        "clf.fit(X, y)\n",
        "print(clf.score(X_vae, y_vae))"
      ],
      "execution_count": 40,
      "outputs": [
        {
          "output_type": "stream",
          "text": [
            "0.7475865985235661\n"
          ],
          "name": "stdout"
        }
      ]
    },
    {
      "cell_type": "code",
      "metadata": {
        "id": "JCm6BBN1zB-0",
        "colab_type": "code",
        "outputId": "2c0b9e3b-61b2-4297-e917-7da0b8951e2b",
        "colab": {
          "base_uri": "https://localhost:8080/",
          "height": 34
        }
      },
      "source": [
        "np.random.seed(1)\n",
        "\n",
        "from sklearn.model_selection import cross_val_score\n",
        "clf = RandomForestClassifier(n_estimators=100, \n",
        "                             max_depth=2, random_state=42)\n",
        "clf.fit(X_mc, y_mc)\n",
        "print(clf.score(X_vae, y_vae))"
      ],
      "execution_count": 41,
      "outputs": [
        {
          "output_type": "stream",
          "text": [
            "0.7481544576944917\n"
          ],
          "name": "stdout"
        }
      ]
    },
    {
      "cell_type": "code",
      "metadata": {
        "colab_type": "code",
        "id": "XcarR61z4UqD",
        "outputId": "80316ffa-0e84-4693-abfe-ce1a7cecc354",
        "colab": {
          "base_uri": "https://localhost:8080/",
          "height": 34
        }
      },
      "source": [
        "np.random.seed(1)\n",
        "\n",
        "from sklearn.model_selection import cross_val_score\n",
        "clf = RandomForestClassifier(n_estimators=100, \n",
        "                             max_depth=2, random_state=42)\n",
        "clf.fit(X_vae, y_vae)\n",
        "print(clf.score(X_mc, y_mc))"
      ],
      "execution_count": 42,
      "outputs": [
        {
          "output_type": "stream",
          "text": [
            "0.782793867120954\n"
          ],
          "name": "stdout"
        }
      ]
    }
  ]
}