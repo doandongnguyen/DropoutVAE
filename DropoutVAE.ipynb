{
  "nbformat": 4,
  "nbformat_minor": 0,
  "metadata": {
    "colab": {
      "name": "DropoutVAE.ipynb",
      "version": "0.3.2",
      "provenance": [],
      "collapsed_sections": [],
      "toc_visible": true
    },
    "kernelspec": {
      "name": "python3",
      "display_name": "Python 3"
    },
    "accelerator": "GPU"
  },
  "cells": [
    {
      "cell_type": "markdown",
      "metadata": {
        "id": "yl5YDWvEeu4a",
        "colab_type": "text"
      },
      "source": [
        "The purpose is to use Dropout in VAE in order to generate data.\n",
        "\n",
        "Origin VAE uses latent values to generate the data.\n",
        "However, with Dropout VAE, we can use some origin data to generate.\n",
        "\n",
        "\n",
        "The dataset used in notebook: [Customer Support](https://www.ibm.com/communities/analytics/watson-analytics-blog/guide-to-sample-datasets/)\n",
        "\n",
        "More example about VAE: [Modeling Telecom customer churn](https://towardsdatascience.com/modeling-telecom-customer-churn-with-variational-autoencoder-4e5cf6194871)\n",
        "\n",
        "Origin code for VAE in keras: [Building Autoencoders in keras](https://blog.keras.io/building-autoencoders-in-keras.html)"
      ]
    },
    {
      "cell_type": "markdown",
      "metadata": {
        "id": "fdT9BTrmT3ro",
        "colab_type": "text"
      },
      "source": [
        "# Import Libraries"
      ]
    },
    {
      "cell_type": "code",
      "metadata": {
        "id": "CQNUpL6YT32X",
        "colab_type": "code",
        "outputId": "92ecec1e-885b-4f77-a91f-2a8fe4c73b41",
        "colab": {
          "base_uri": "https://localhost:8080/",
          "height": 34
        }
      },
      "source": [
        "from __future__ import absolute_import\n",
        "from __future__ import division\n",
        "from __future__ import print_function\n",
        "\n",
        "import os\n",
        "import random\n",
        "import argparse\n",
        "import numpy as np\n",
        "import matplotlib.pyplot as plt\n",
        "from sklearn.preprocessing import LabelEncoder\n",
        "from tensorflow import set_random_seed\n",
        "\n",
        "from keras import regularizers\n",
        "from keras import backend as K\n",
        "from keras.models import Model\n",
        "from keras.utils import plot_model\n",
        "from keras.losses import mse, binary_crossentropy\n",
        "from keras.layers import Lambda, Input, Dense, Dropout\n",
        "\n",
        "set_random_seed(1)\n",
        "np.random.seed(1)\n",
        "random.seed(1)"
      ],
      "execution_count": 1,
      "outputs": [
        {
          "output_type": "stream",
          "text": [
            "Using TensorFlow backend.\n"
          ],
          "name": "stderr"
        }
      ]
    },
    {
      "cell_type": "markdown",
      "metadata": {
        "id": "sNKVLBOBgR3W",
        "colab_type": "text"
      },
      "source": [
        "# Path to dataset"
      ]
    },
    {
      "cell_type": "code",
      "metadata": {
        "id": "FFaXts2Ycg-w",
        "colab_type": "code",
        "colab": {}
      },
      "source": [
        "path = '/Dataset/WA_Fn-UseC_-Telco-Customer-Churn.csv'"
      ],
      "execution_count": 0,
      "outputs": []
    },
    {
      "cell_type": "code",
      "metadata": {
        "id": "C8zWTy_ePGg7",
        "colab_type": "code",
        "colab": {}
      },
      "source": [
        "intermediate_dim = 512"
      ],
      "execution_count": 0,
      "outputs": []
    },
    {
      "cell_type": "markdown",
      "metadata": {
        "id": "OnJXo9LfUGaJ",
        "colab_type": "text"
      },
      "source": [
        "# Define VAE"
      ]
    },
    {
      "cell_type": "markdown",
      "metadata": {
        "id": "8VTGWwfObeoT",
        "colab_type": "text"
      },
      "source": [
        "## Read Data"
      ]
    },
    {
      "cell_type": "code",
      "metadata": {
        "id": "DfcE15dwhyaL",
        "colab_type": "code",
        "outputId": "db52b420-387b-4847-de68-8d1594c20ae2",
        "colab": {
          "base_uri": "https://localhost:8080/",
          "height": 595
        }
      },
      "source": [
        "import pandas as pd\n",
        "na_values = {'?', ' '}\n",
        "df = pd.read_csv(path,\n",
        "                 sep=',',\n",
        "                 na_filter=True, \n",
        "                 verbose=False, \n",
        "                 skip_blank_lines=True, \n",
        "                 na_values=na_values,\n",
        "                 keep_default_na=False)\n",
        "                 \n",
        "df.fillna(method='ffill', inplace=True)\n",
        "df.dropna(axis=1, how='any', inplace=True)\n",
        "df.drop(['customerID'], axis=1, inplace=True)\n",
        "df = df.reset_index(drop=True)\n",
        "print(df.info())\n",
        "print(df.head())"
      ],
      "execution_count": 5,
      "outputs": [
        {
          "output_type": "stream",
          "text": [
            "<class 'pandas.core.frame.DataFrame'>\n",
            "RangeIndex: 7043 entries, 0 to 7042\n",
            "Data columns (total 20 columns):\n",
            "gender              7043 non-null object\n",
            "SeniorCitizen       7043 non-null int64\n",
            "Partner             7043 non-null object\n",
            "Dependents          7043 non-null object\n",
            "tenure              7043 non-null int64\n",
            "PhoneService        7043 non-null object\n",
            "MultipleLines       7043 non-null object\n",
            "InternetService     7043 non-null object\n",
            "OnlineSecurity      7043 non-null object\n",
            "OnlineBackup        7043 non-null object\n",
            "DeviceProtection    7043 non-null object\n",
            "TechSupport         7043 non-null object\n",
            "StreamingTV         7043 non-null object\n",
            "StreamingMovies     7043 non-null object\n",
            "Contract            7043 non-null object\n",
            "PaperlessBilling    7043 non-null object\n",
            "PaymentMethod       7043 non-null object\n",
            "MonthlyCharges      7043 non-null float64\n",
            "TotalCharges        7043 non-null float64\n",
            "Churn               7043 non-null object\n",
            "dtypes: float64(2), int64(2), object(16)\n",
            "memory usage: 1.1+ MB\n",
            "None\n",
            "   gender  SeniorCitizen Partner  ... MonthlyCharges  TotalCharges Churn\n",
            "0  Female              0     Yes  ...          29.85         29.85    No\n",
            "1    Male              0      No  ...          56.95       1889.50    No\n",
            "2    Male              0      No  ...          53.85        108.15   Yes\n",
            "3    Male              0      No  ...          42.30       1840.75    No\n",
            "4  Female              0      No  ...          70.70        151.65   Yes\n",
            "\n",
            "[5 rows x 20 columns]\n"
          ],
          "name": "stdout"
        }
      ]
    },
    {
      "cell_type": "markdown",
      "metadata": {
        "id": "ptmiXDEjbhmp",
        "colab_type": "text"
      },
      "source": [
        "## Recognizing Categorical data"
      ]
    },
    {
      "cell_type": "code",
      "metadata": {
        "id": "pfL6yO7HZR7E",
        "colab_type": "code",
        "outputId": "b4ffc6eb-418e-40d3-e1c7-2a3a8cd12749",
        "colab": {
          "base_uri": "https://localhost:8080/",
          "height": 153
        }
      },
      "source": [
        "colnums = len(df.columns)\n",
        "for i in df.columns:\n",
        "    try:\n",
        "        if df[i].dtype.name == 'object':\n",
        "            df[i] = df[i].astype('category')\n",
        "        else:\n",
        "            df[i].astype('float32')\n",
        "    except:\n",
        "        continue\n",
        "print(df.head())"
      ],
      "execution_count": 6,
      "outputs": [
        {
          "output_type": "stream",
          "text": [
            "   gender  SeniorCitizen Partner  ... MonthlyCharges  TotalCharges Churn\n",
            "0  Female              0     Yes  ...          29.85         29.85    No\n",
            "1    Male              0      No  ...          56.95       1889.50    No\n",
            "2    Male              0      No  ...          53.85        108.15   Yes\n",
            "3    Male              0      No  ...          42.30       1840.75    No\n",
            "4  Female              0      No  ...          70.70        151.65   Yes\n",
            "\n",
            "[5 rows x 20 columns]\n"
          ],
          "name": "stdout"
        }
      ]
    },
    {
      "cell_type": "code",
      "metadata": {
        "id": "BpGxC2v2CDi1",
        "colab_type": "code",
        "outputId": "9d98eb3f-9c15-466c-f984-132c38cb6899",
        "colab": {
          "base_uri": "https://localhost:8080/",
          "height": 153
        }
      },
      "source": [
        "from sklearn.model_selection import train_test_split\n",
        "from sklearn.preprocessing import MinMaxScaler, StandardScaler\n",
        "vals = df.values.copy()\n",
        "total_nums = len(vals)\n",
        "\n",
        "train, validation = train_test_split(df, test_size=0.5, \n",
        "                                     random_state=42, \n",
        "                                     shuffle=True)\n",
        "\n",
        "validation = validation.reindex(sorted(validation.columns), axis=1)\n",
        "validation.to_csv(path + '_For_Test.csv')\n",
        "print(validation.head())"
      ],
      "execution_count": 7,
      "outputs": [
        {
          "output_type": "stream",
          "text": [
            "     Churn        Contract Dependents  ... TotalCharges  gender  tenure\n",
            "185    Yes  Month-to-month         No  ...        24.80  Female       1\n",
            "2715    No  Month-to-month         No  ...       996.45    Male      41\n",
            "3825    No        Two year        Yes  ...      1031.70  Female      52\n",
            "1807   Yes  Month-to-month         No  ...        76.35  Female       1\n",
            "132     No        Two year         No  ...      3260.10    Male      67\n",
            "\n",
            "[5 rows x 20 columns]\n"
          ],
          "name": "stdout"
        }
      ]
    },
    {
      "cell_type": "code",
      "metadata": {
        "id": "G-52cnSrZHGm",
        "colab_type": "code",
        "outputId": "abd50641-b78d-4571-a012-6eb6afd0de89",
        "colab": {
          "base_uri": "https://localhost:8080/",
          "height": 102
        }
      },
      "source": [
        "df = train\n",
        "categorical = df.select_dtypes(['category']).columns\n",
        "print(categorical)\n",
        "for f in categorical:\n",
        "    dummies = pd.get_dummies(df[f], prefix = f, prefix_sep = '_')\n",
        "    df = pd.concat([df, dummies], axis = 1)\n",
        "    \n",
        "# drop original categorical features\n",
        "df.drop(categorical, axis = 1, inplace = True)"
      ],
      "execution_count": 8,
      "outputs": [
        {
          "output_type": "stream",
          "text": [
            "Index(['gender', 'Partner', 'Dependents', 'PhoneService', 'MultipleLines',\n",
            "       'InternetService', 'OnlineSecurity', 'OnlineBackup', 'DeviceProtection',\n",
            "       'TechSupport', 'StreamingTV', 'StreamingMovies', 'Contract',\n",
            "       'PaperlessBilling', 'PaymentMethod', 'Churn'],\n",
            "      dtype='object')\n"
          ],
          "name": "stdout"
        }
      ]
    },
    {
      "cell_type": "code",
      "metadata": {
        "id": "LmIPmd5wjAM7",
        "colab_type": "code",
        "outputId": "b6cb2110-1511-4539-d9a0-f6d694bb2d53",
        "colab": {
          "base_uri": "https://localhost:8080/",
          "height": 51
        }
      },
      "source": [
        "train = df.values.copy()\n",
        "train.astype('float32')\n",
        "scaler = MinMaxScaler()\n",
        "d = {}\n",
        "train = scaler.fit_transform(train)\n",
        "x_train, x_test = train_test_split(train, test_size=0.5,\n",
        "                                  random_state=24,\n",
        "                                  shuffle=True)\n",
        "print(x_train.shape)\n",
        "print(x_test.shape)\n"
      ],
      "execution_count": 9,
      "outputs": [
        {
          "output_type": "stream",
          "text": [
            "(1760, 47)\n",
            "(1761, 47)\n"
          ],
          "name": "stdout"
        }
      ]
    },
    {
      "cell_type": "code",
      "metadata": {
        "id": "uNf-3EMl2usm",
        "colab_type": "code",
        "outputId": "03bf1375-c59b-4083-d7ba-29bad3b0510f",
        "colab": {
          "base_uri": "https://localhost:8080/",
          "height": 51
        }
      },
      "source": [
        "original_dim = x_train.shape[1]\n",
        "x_train = np.reshape(x_train, [-1, original_dim])\n",
        "x_test = np.reshape(x_test, [-1, original_dim])\n",
        "x_train = x_train.astype('float32')\n",
        "x_test = x_test.astype('float32')\n",
        "print(x_train.shape)\n",
        "print(x_test.shape)"
      ],
      "execution_count": 10,
      "outputs": [
        {
          "output_type": "stream",
          "text": [
            "(1760, 47)\n",
            "(1761, 47)\n"
          ],
          "name": "stdout"
        }
      ]
    },
    {
      "cell_type": "code",
      "metadata": {
        "id": "uy-JqW7Jpuyz",
        "colab_type": "code",
        "colab": {}
      },
      "source": [
        "from keras.layers import BatchNormalization\n",
        "class VAE:\n",
        "    def __init__(self, input_shape=(original_dim,), \n",
        "                 intermediate_dim=128, latent_dim=2, summary=False):\n",
        "        \n",
        "        self._build_model(input_shape,\n",
        "                         intermediate_dim, \n",
        "                          latent_dim, summary)\n",
        "    \n",
        "    def _build_model(self, input_shape, intermediate_dim, latent_dim,\n",
        "                    summary=False):\n",
        "        inputs = Input(shape=input_shape, name='encoder_input')\n",
        "        x = inputs\n",
        "        x = Dense(intermediate_dim, activation='relu')(x)\n",
        "        x = Dense(intermediate_dim//2, activation='relu')(x)\n",
        "        \n",
        "        z_mean = Dense(latent_dim, name='z_mean')(x)\n",
        "        z_log_var = Dense(latent_dim, name='z_log_var')(x)\n",
        "\n",
        "        z = Lambda(self.sampling, output_shape=(latent_dim,), \n",
        "                   name='z')([z_mean, z_log_var])\n",
        "\n",
        "        self.encoder = Model(inputs, [z_mean, z_log_var, z], \n",
        "                        name='encoder')\n",
        "        \n",
        "        latent_inputs = Input(shape=(latent_dim,), \n",
        "                              name='z_sampling')\n",
        "        x = latent_inputs\n",
        "        x = Dense(intermediate_dim//2, activation='relu')(x)\n",
        "        x = Dense(intermediate_dim, activation='relu')(x)\n",
        "        outputs = Dense(original_dim, activation='sigmoid')(x)\n",
        "\n",
        "        self.decoder = Model(latent_inputs, outputs, name='decoder')\n",
        "        outputs = self.decoder(self.encoder(inputs)[2])\n",
        "        self.vae = Model(inputs, outputs, name='vae_mlp')\n",
        "        \n",
        "        reconstruction_loss = binary_crossentropy(inputs, outputs)\n",
        "        reconstruction_loss *= original_dim\n",
        "        kl_loss = 1 + z_log_var - K.square(z_mean) - K.exp(z_log_var)\n",
        "        kl_loss = K.sum(kl_loss, axis=-1)\n",
        "        kl_loss *= -0.5\n",
        "        \n",
        "        vae_loss = K.mean(reconstruction_loss + kl_loss)\t\n",
        "        \n",
        "        self.vae.add_loss(vae_loss)\n",
        "        self.vae.compile(optimizer='adam')\n",
        "        if summary: \n",
        "            print(self.vae.summary())\n",
        "        \n",
        "    def sampling(self, args):\n",
        "        z_mean, z_log_var = args\n",
        "        batch = K.shape(z_mean)[0]\n",
        "        dim = K.int_shape(z_mean)[1]\n",
        "        epsilon = K.random_normal(shape=(batch, dim))\n",
        "        return z_mean + K.exp(0.5 * z_log_var) * epsilon\n",
        "        \n",
        "    def fit(self, x_train, x_test, epochs=100, batch_size=100,\n",
        "           verbose=1):\n",
        "        self.vae.fit(x_train, \n",
        "            shuffle=True,\n",
        "            epochs=epochs,\n",
        "            batch_size=batch_size,\n",
        "            verbose=verbose,\n",
        "            validation_data=(x_test, None))\n",
        "    \n",
        "    def encoder_predict(self, x_test, batch_size=100):\n",
        "        return self.encoder.predict(x_test,\n",
        "                                   batch_size=batch_size)\n",
        "    \n",
        "    def generate(self, latent_val, batch_size=100):\n",
        "        return self.decoder.predict(latent_val)\n",
        "    \n",
        "    def predict(self, x_test, batch_size=1):\n",
        "        prediction = self.vae.predict(x_test)\n",
        "        return prediction"
      ],
      "execution_count": 0,
      "outputs": []
    },
    {
      "cell_type": "markdown",
      "metadata": {
        "id": "KXhRjx02UYZN",
        "colab_type": "text"
      },
      "source": [
        "## Training VAE"
      ]
    },
    {
      "cell_type": "markdown",
      "metadata": {
        "id": "Wd02caRJWGG8",
        "colab_type": "text"
      },
      "source": [
        "Just let the last value to test"
      ]
    },
    {
      "cell_type": "code",
      "metadata": {
        "id": "XBbIF17p8iY2",
        "colab_type": "code",
        "outputId": "ead59fcd-860c-4419-f1b8-8e5430981301",
        "colab": {
          "base_uri": "https://localhost:8080/",
          "height": 3556
        }
      },
      "source": [
        "latent_dim = original_dim//2\n",
        "if latent_dim < 2:\n",
        "    latent_dim = 2\n",
        "vae = VAE(intermediate_dim=intermediate_dim, latent_dim=latent_dim)\n",
        "vae.fit(x_train, x_test, epochs=100)"
      ],
      "execution_count": 12,
      "outputs": [
        {
          "output_type": "stream",
          "text": [
            "WARNING:tensorflow:From /usr/local/lib/python3.6/dist-packages/tensorflow/python/framework/op_def_library.py:263: colocate_with (from tensorflow.python.framework.ops) is deprecated and will be removed in a future version.\n",
            "Instructions for updating:\n",
            "Colocations handled automatically by placer.\n",
            "WARNING:tensorflow:From /usr/local/lib/python3.6/dist-packages/tensorflow/python/ops/math_ops.py:3066: to_int32 (from tensorflow.python.ops.math_ops) is deprecated and will be removed in a future version.\n",
            "Instructions for updating:\n",
            "Use tf.cast instead.\n",
            "Train on 1760 samples, validate on 1761 samples\n",
            "Epoch 1/100\n",
            "1760/1760 [==============================] - 3s 2ms/step - loss: 29.3855 - val_loss: 28.3879\n",
            "Epoch 2/100\n",
            "1760/1760 [==============================] - 0s 59us/step - loss: 27.7459 - val_loss: 26.8112\n",
            "Epoch 3/100\n",
            "1760/1760 [==============================] - 0s 64us/step - loss: 24.9679 - val_loss: 23.5514\n",
            "Epoch 4/100\n",
            "1760/1760 [==============================] - 0s 57us/step - loss: 23.0151 - val_loss: 22.8142\n",
            "Epoch 5/100\n",
            "1760/1760 [==============================] - 0s 56us/step - loss: 22.5863 - val_loss: 22.2015\n",
            "Epoch 6/100\n",
            "1760/1760 [==============================] - 0s 56us/step - loss: 21.8968 - val_loss: 21.6563\n",
            "Epoch 7/100\n",
            "1760/1760 [==============================] - 0s 58us/step - loss: 21.7712 - val_loss: 21.4705\n",
            "Epoch 8/100\n",
            "1760/1760 [==============================] - 0s 56us/step - loss: 21.5398 - val_loss: 21.4014\n",
            "Epoch 9/100\n",
            "1760/1760 [==============================] - 0s 56us/step - loss: 21.1764 - val_loss: 20.9156\n",
            "Epoch 10/100\n",
            "1760/1760 [==============================] - 0s 59us/step - loss: 20.9328 - val_loss: 20.8186\n",
            "Epoch 11/100\n",
            "1760/1760 [==============================] - 0s 59us/step - loss: 20.7545 - val_loss: 20.5236\n",
            "Epoch 12/100\n",
            "1760/1760 [==============================] - 0s 60us/step - loss: 20.3516 - val_loss: 20.1582\n",
            "Epoch 13/100\n",
            "1760/1760 [==============================] - 0s 59us/step - loss: 20.0312 - val_loss: 19.8309\n",
            "Epoch 14/100\n",
            "1760/1760 [==============================] - 0s 57us/step - loss: 19.8049 - val_loss: 19.6918\n",
            "Epoch 15/100\n",
            "1760/1760 [==============================] - 0s 56us/step - loss: 19.5911 - val_loss: 19.4152\n",
            "Epoch 16/100\n",
            "1760/1760 [==============================] - 0s 55us/step - loss: 19.3913 - val_loss: 19.2307\n",
            "Epoch 17/100\n",
            "1760/1760 [==============================] - 0s 57us/step - loss: 19.1660 - val_loss: 19.2310\n",
            "Epoch 18/100\n",
            "1760/1760 [==============================] - 0s 60us/step - loss: 18.9633 - val_loss: 18.9224\n",
            "Epoch 19/100\n",
            "1760/1760 [==============================] - 0s 56us/step - loss: 18.9629 - val_loss: 18.9968\n",
            "Epoch 20/100\n",
            "1760/1760 [==============================] - 0s 57us/step - loss: 18.9374 - val_loss: 18.9206\n",
            "Epoch 21/100\n",
            "1760/1760 [==============================] - 0s 56us/step - loss: 18.7940 - val_loss: 18.6522\n",
            "Epoch 22/100\n",
            "1760/1760 [==============================] - 0s 55us/step - loss: 18.4076 - val_loss: 18.5170\n",
            "Epoch 23/100\n",
            "1760/1760 [==============================] - 0s 62us/step - loss: 18.5685 - val_loss: 18.5181\n",
            "Epoch 24/100\n",
            "1760/1760 [==============================] - 0s 65us/step - loss: 18.2989 - val_loss: 18.3782\n",
            "Epoch 25/100\n",
            "1760/1760 [==============================] - 0s 56us/step - loss: 18.4224 - val_loss: 18.4522\n",
            "Epoch 26/100\n",
            "1760/1760 [==============================] - 0s 56us/step - loss: 18.1467 - val_loss: 18.3835\n",
            "Epoch 27/100\n",
            "1760/1760 [==============================] - 0s 59us/step - loss: 18.0424 - val_loss: 18.2082\n",
            "Epoch 28/100\n",
            "1760/1760 [==============================] - 0s 58us/step - loss: 17.7708 - val_loss: 18.0148\n",
            "Epoch 29/100\n",
            "1760/1760 [==============================] - 0s 57us/step - loss: 17.8462 - val_loss: 17.9680\n",
            "Epoch 30/100\n",
            "1760/1760 [==============================] - 0s 56us/step - loss: 17.7060 - val_loss: 17.8789\n",
            "Epoch 31/100\n",
            "1760/1760 [==============================] - 0s 57us/step - loss: 17.5232 - val_loss: 17.7809\n",
            "Epoch 32/100\n",
            "1760/1760 [==============================] - 0s 57us/step - loss: 17.5953 - val_loss: 17.6197\n",
            "Epoch 33/100\n",
            "1760/1760 [==============================] - 0s 65us/step - loss: 17.4779 - val_loss: 17.5156\n",
            "Epoch 34/100\n",
            "1760/1760 [==============================] - 0s 57us/step - loss: 17.4629 - val_loss: 17.7784\n",
            "Epoch 35/100\n",
            "1760/1760 [==============================] - 0s 56us/step - loss: 17.5119 - val_loss: 17.6221\n",
            "Epoch 36/100\n",
            "1760/1760 [==============================] - 0s 82us/step - loss: 17.2024 - val_loss: 17.4220\n",
            "Epoch 37/100\n",
            "1760/1760 [==============================] - 0s 71us/step - loss: 17.0975 - val_loss: 17.1951\n",
            "Epoch 38/100\n",
            "1760/1760 [==============================] - 0s 56us/step - loss: 17.1601 - val_loss: 17.2231\n",
            "Epoch 39/100\n",
            "1760/1760 [==============================] - 0s 56us/step - loss: 16.9343 - val_loss: 17.3787\n",
            "Epoch 40/100\n",
            "1760/1760 [==============================] - 0s 58us/step - loss: 16.9639 - val_loss: 17.1101\n",
            "Epoch 41/100\n",
            "1760/1760 [==============================] - 0s 56us/step - loss: 16.9033 - val_loss: 17.3718\n",
            "Epoch 42/100\n",
            "1760/1760 [==============================] - 0s 60us/step - loss: 16.7606 - val_loss: 17.1939\n",
            "Epoch 43/100\n",
            "1760/1760 [==============================] - 0s 57us/step - loss: 16.7822 - val_loss: 17.0281\n",
            "Epoch 44/100\n",
            "1760/1760 [==============================] - 0s 56us/step - loss: 16.8449 - val_loss: 17.0662\n",
            "Epoch 45/100\n",
            "1760/1760 [==============================] - 0s 57us/step - loss: 16.5463 - val_loss: 16.9557\n",
            "Epoch 46/100\n",
            "1760/1760 [==============================] - 0s 56us/step - loss: 16.6606 - val_loss: 17.0045\n",
            "Epoch 47/100\n",
            "1760/1760 [==============================] - 0s 55us/step - loss: 16.6266 - val_loss: 16.9513\n",
            "Epoch 48/100\n",
            "1760/1760 [==============================] - 0s 57us/step - loss: 16.5158 - val_loss: 17.0755\n",
            "Epoch 49/100\n",
            "1760/1760 [==============================] - 0s 56us/step - loss: 16.7581 - val_loss: 17.0555\n",
            "Epoch 50/100\n",
            "1760/1760 [==============================] - 0s 56us/step - loss: 16.5613 - val_loss: 17.0242\n",
            "Epoch 51/100\n",
            "1760/1760 [==============================] - 0s 58us/step - loss: 16.5021 - val_loss: 17.1219\n",
            "Epoch 52/100\n",
            "1760/1760 [==============================] - 0s 64us/step - loss: 16.5763 - val_loss: 16.9750\n",
            "Epoch 53/100\n",
            "1760/1760 [==============================] - 0s 54us/step - loss: 16.4789 - val_loss: 16.8356\n",
            "Epoch 54/100\n",
            "1760/1760 [==============================] - 0s 57us/step - loss: 16.3459 - val_loss: 16.7714\n",
            "Epoch 55/100\n",
            "1760/1760 [==============================] - 0s 56us/step - loss: 16.3999 - val_loss: 16.7785\n",
            "Epoch 56/100\n",
            "1760/1760 [==============================] - 0s 58us/step - loss: 16.2791 - val_loss: 16.7304\n",
            "Epoch 57/100\n",
            "1760/1760 [==============================] - 0s 58us/step - loss: 16.5789 - val_loss: 16.8968\n",
            "Epoch 58/100\n",
            "1760/1760 [==============================] - 0s 56us/step - loss: 16.1036 - val_loss: 16.6071\n",
            "Epoch 59/100\n",
            "1760/1760 [==============================] - 0s 57us/step - loss: 16.1472 - val_loss: 16.5113\n",
            "Epoch 60/100\n",
            "1760/1760 [==============================] - 0s 57us/step - loss: 16.2904 - val_loss: 16.4982\n",
            "Epoch 61/100\n",
            "1760/1760 [==============================] - 0s 55us/step - loss: 16.2026 - val_loss: 16.7524\n",
            "Epoch 62/100\n",
            "1760/1760 [==============================] - 0s 62us/step - loss: 16.0844 - val_loss: 16.6634\n",
            "Epoch 63/100\n",
            "1760/1760 [==============================] - 0s 54us/step - loss: 16.1608 - val_loss: 16.7302\n",
            "Epoch 64/100\n",
            "1760/1760 [==============================] - 0s 57us/step - loss: 16.2194 - val_loss: 16.6194\n",
            "Epoch 65/100\n",
            "1760/1760 [==============================] - 0s 56us/step - loss: 16.0176 - val_loss: 16.5368\n",
            "Epoch 66/100\n",
            "1760/1760 [==============================] - 0s 56us/step - loss: 16.1790 - val_loss: 16.5883\n",
            "Epoch 67/100\n",
            "1760/1760 [==============================] - 0s 56us/step - loss: 16.1670 - val_loss: 16.4437\n",
            "Epoch 68/100\n",
            "1760/1760 [==============================] - 0s 56us/step - loss: 16.2235 - val_loss: 16.5248\n",
            "Epoch 69/100\n",
            "1760/1760 [==============================] - 0s 56us/step - loss: 15.9658 - val_loss: 16.7358\n",
            "Epoch 70/100\n",
            "1760/1760 [==============================] - 0s 57us/step - loss: 16.1404 - val_loss: 16.4537\n",
            "Epoch 71/100\n",
            "1760/1760 [==============================] - 0s 57us/step - loss: 15.9844 - val_loss: 16.4245\n",
            "Epoch 72/100\n",
            "1760/1760 [==============================] - 0s 62us/step - loss: 16.0472 - val_loss: 16.6660\n",
            "Epoch 73/100\n",
            "1760/1760 [==============================] - 0s 56us/step - loss: 15.8645 - val_loss: 16.3901\n",
            "Epoch 74/100\n",
            "1760/1760 [==============================] - 0s 55us/step - loss: 16.0404 - val_loss: 16.2514\n",
            "Epoch 75/100\n",
            "1760/1760 [==============================] - 0s 57us/step - loss: 16.0825 - val_loss: 16.5677\n",
            "Epoch 76/100\n",
            "1760/1760 [==============================] - 0s 56us/step - loss: 16.2496 - val_loss: 16.5614\n",
            "Epoch 77/100\n",
            "1760/1760 [==============================] - 0s 56us/step - loss: 15.8926 - val_loss: 16.3882\n",
            "Epoch 78/100\n",
            "1760/1760 [==============================] - 0s 57us/step - loss: 15.9329 - val_loss: 16.6194\n",
            "Epoch 79/100\n",
            "1760/1760 [==============================] - 0s 58us/step - loss: 15.8380 - val_loss: 16.4997\n",
            "Epoch 80/100\n",
            "1760/1760 [==============================] - 0s 58us/step - loss: 16.1385 - val_loss: 16.3535\n",
            "Epoch 81/100\n",
            "1760/1760 [==============================] - 0s 57us/step - loss: 15.9238 - val_loss: 16.6064\n",
            "Epoch 82/100\n",
            "1760/1760 [==============================] - 0s 63us/step - loss: 16.0640 - val_loss: 16.5162\n",
            "Epoch 83/100\n",
            "1760/1760 [==============================] - 0s 58us/step - loss: 15.8022 - val_loss: 16.1425\n",
            "Epoch 84/100\n",
            "1760/1760 [==============================] - 0s 65us/step - loss: 15.7804 - val_loss: 16.3829\n",
            "Epoch 85/100\n",
            "1760/1760 [==============================] - 0s 64us/step - loss: 15.9220 - val_loss: 16.1381\n",
            "Epoch 86/100\n",
            "1760/1760 [==============================] - 0s 65us/step - loss: 15.5962 - val_loss: 16.1548\n",
            "Epoch 87/100\n",
            "1760/1760 [==============================] - 0s 66us/step - loss: 15.5991 - val_loss: 16.3833\n",
            "Epoch 88/100\n",
            "1760/1760 [==============================] - 0s 73us/step - loss: 15.6378 - val_loss: 16.2558\n",
            "Epoch 89/100\n",
            "1760/1760 [==============================] - 0s 66us/step - loss: 15.7200 - val_loss: 16.3030\n",
            "Epoch 90/100\n",
            "1760/1760 [==============================] - 0s 63us/step - loss: 15.7659 - val_loss: 16.3627\n",
            "Epoch 91/100\n",
            "1760/1760 [==============================] - 0s 72us/step - loss: 15.9256 - val_loss: 16.3578\n",
            "Epoch 92/100\n",
            "1760/1760 [==============================] - 0s 64us/step - loss: 15.5777 - val_loss: 16.1315\n",
            "Epoch 93/100\n",
            "1760/1760 [==============================] - 0s 65us/step - loss: 15.8063 - val_loss: 16.2050\n",
            "Epoch 94/100\n",
            "1760/1760 [==============================] - 0s 66us/step - loss: 15.7285 - val_loss: 16.2560\n",
            "Epoch 95/100\n",
            "1760/1760 [==============================] - 0s 63us/step - loss: 15.6257 - val_loss: 16.2671\n",
            "Epoch 96/100\n",
            "1760/1760 [==============================] - 0s 66us/step - loss: 15.6843 - val_loss: 16.4813\n",
            "Epoch 97/100\n",
            "1760/1760 [==============================] - 0s 69us/step - loss: 15.8175 - val_loss: 16.3983\n",
            "Epoch 98/100\n",
            "1760/1760 [==============================] - 0s 65us/step - loss: 15.6973 - val_loss: 16.6274\n",
            "Epoch 99/100\n",
            "1760/1760 [==============================] - 0s 66us/step - loss: 15.7479 - val_loss: 16.5087\n",
            "Epoch 100/100\n",
            "1760/1760 [==============================] - 0s 69us/step - loss: 15.6974 - val_loss: 16.3680\n"
          ],
          "name": "stdout"
        }
      ]
    },
    {
      "cell_type": "code",
      "metadata": {
        "id": "ZiV2iQyVwSdN",
        "colab_type": "code",
        "outputId": "67814e94-013b-4845-f58f-435a19a558c6",
        "colab": {
          "base_uri": "https://localhost:8080/",
          "height": 34
        }
      },
      "source": [
        "np.random.seed(1)\n",
        "x_test = np.reshape(x_test, (-1, original_dim))\n",
        "x_test_encoded = vae.encoder.predict(x_test)\n",
        "x_test_encoded = np.asarray(x_test_encoded)\n",
        "\n",
        "print(x_test_encoded.shape)"
      ],
      "execution_count": 13,
      "outputs": [
        {
          "output_type": "stream",
          "text": [
            "(3, 1761, 23)\n"
          ],
          "name": "stdout"
        }
      ]
    },
    {
      "cell_type": "code",
      "metadata": {
        "id": "qTfvSN_R2c76",
        "colab_type": "code",
        "outputId": "3e06ff3b-9584-418f-df06-92d219abaf9e",
        "colab": {
          "base_uri": "https://localhost:8080/",
          "height": 34
        }
      },
      "source": [
        "total_nums = 2\n",
        "results = []\n",
        "for i in range(x_test_encoded.shape[1]):\n",
        "    latent_gen = []\n",
        "    for j in range(x_test_encoded.shape[2]):\n",
        "        mean_v1 = x_test_encoded[0, i, j]\n",
        "        log_var_v1 = x_test_encoded[1, i, j]\n",
        "\n",
        "        v1 = [mean_v1 + np.exp(log_var_v1/2)*np.random.normal(0., 1., 1) for _ in range(total_nums)]\n",
        "        v1 = np.asarray(v1).flatten()\n",
        "        latent_gen.append(v1)\n",
        "    \n",
        "    input_val = np.asarray(latent_gen)\n",
        "    input_val = input_val.reshape((-1, latent_dim))\n",
        "    results.append(vae.generate(input_val))\n",
        "        \n",
        "results = np.asarray(results)\n",
        "results = np.reshape(results, (-1, original_dim))\n",
        "print(results.shape)\n",
        "results = scaler.inverse_transform(results)"
      ],
      "execution_count": 14,
      "outputs": [
        {
          "output_type": "stream",
          "text": [
            "(3522, 47)\n"
          ],
          "name": "stdout"
        }
      ]
    },
    {
      "cell_type": "code",
      "metadata": {
        "id": "xdg-w-3eMquu",
        "colab_type": "code",
        "outputId": "3788adbc-d600-4ed4-ec30-7f9ea56548da",
        "colab": {
          "base_uri": "https://localhost:8080/",
          "height": 51
        }
      },
      "source": [
        "print(len(results[:, 1]))\n",
        "print(results[0, 0])"
      ],
      "execution_count": 15,
      "outputs": [
        {
          "output_type": "stream",
          "text": [
            "3522\n",
            "0.1808348\n"
          ],
          "name": "stdout"
        }
      ]
    },
    {
      "cell_type": "code",
      "metadata": {
        "id": "fC6DiGV8MV9W",
        "colab_type": "code",
        "colab": {}
      },
      "source": [
        "d = {}\n",
        "names = list(df)\n",
        "for i, name in enumerate(names):\n",
        "    d[name] = results[:, i]\n",
        "df = pd.DataFrame(data=d)"
      ],
      "execution_count": 0,
      "outputs": []
    },
    {
      "cell_type": "code",
      "metadata": {
        "id": "49_bbWWCsrHG",
        "colab_type": "code",
        "outputId": "4366ad77-d071-4b4c-9388-430c2f9cee32",
        "colab": {
          "base_uri": "https://localhost:8080/",
          "height": 238
        }
      },
      "source": [
        "names = list(df)\n",
        "c_dict = {}\n",
        "for n in names:\n",
        "    if '_' in n:\n",
        "        index = n.index('_')\n",
        "        c_dict[n[:index]] = [c for c in names if n[:index+1] in c]\n",
        "values = []\n",
        "for key, items in c_dict.items():\n",
        "    dummies = df[items]\n",
        "    d_names = list(dummies)\n",
        "    c_dict = {}\n",
        "    for n in d_names:\n",
        "        c_dict[n] = n[n.index('_')+1:]\n",
        "    dummies.rename(columns=c_dict, \n",
        "                   inplace=True)\n",
        "    df[key] = dummies.idxmax(axis=1)\n",
        "    df.drop(items, axis=1, inplace=True)\n",
        "print(df.head())"
      ],
      "execution_count": 17,
      "outputs": [
        {
          "output_type": "stream",
          "text": [
            "/usr/local/lib/python3.6/dist-packages/pandas/core/frame.py:4025: SettingWithCopyWarning: \n",
            "A value is trying to be set on a copy of a slice from a DataFrame\n",
            "\n",
            "See the caveats in the documentation: http://pandas.pydata.org/pandas-docs/stable/indexing.html#indexing-view-versus-copy\n",
            "  return super(DataFrame, self).rename(**kwargs)\n"
          ],
          "name": "stderr"
        },
        {
          "output_type": "stream",
          "text": [
            "   SeniorCitizen     tenure  ...              PaymentMethod  Churn\n",
            "0       0.180835  22.995634  ...           Electronic check     No\n",
            "1       0.055586  14.208975  ...           Electronic check    Yes\n",
            "2       0.202076   9.120053  ...           Electronic check    Yes\n",
            "3       0.204302  25.886543  ...  Bank transfer (automatic)    Yes\n",
            "4       0.115493  26.938225  ...               Mailed check     No\n",
            "\n",
            "[5 rows x 20 columns]\n"
          ],
          "name": "stdout"
        }
      ]
    },
    {
      "cell_type": "code",
      "metadata": {
        "id": "1ljK-ceANBih",
        "colab_type": "code",
        "colab": {}
      },
      "source": [
        "df = df.reindex(sorted(df.columns), axis=1)\n",
        "df.to_csv(path + '_vae.csv')"
      ],
      "execution_count": 0,
      "outputs": []
    },
    {
      "cell_type": "markdown",
      "metadata": {
        "colab_type": "text",
        "id": "SZr05ADu6LQP"
      },
      "source": [
        "# Dropout VAE"
      ]
    },
    {
      "cell_type": "markdown",
      "metadata": {
        "colab_type": "text",
        "id": "70nAVW82oNMV"
      },
      "source": [
        "## Read Data"
      ]
    },
    {
      "cell_type": "code",
      "metadata": {
        "colab_type": "code",
        "outputId": "5965546c-8a46-4e43-ceaa-b40395e70dd2",
        "id": "EUDQdDxxT29T",
        "colab": {
          "base_uri": "https://localhost:8080/",
          "height": 595
        }
      },
      "source": [
        "import pandas as pd\n",
        "na_values = {'?', ' '}\n",
        "df = pd.read_csv(path,\n",
        "                 sep=',',\n",
        "                 na_filter=True, \n",
        "                 verbose=False, \n",
        "                 skip_blank_lines=True, \n",
        "                 na_values=na_values,\n",
        "                 keep_default_na=False)\n",
        "                 \n",
        "df.fillna(method='ffill', inplace=True)\n",
        "df.dropna(axis=1, how='any', inplace=True)\n",
        "df.drop(['customerID'], axis=1, inplace=True)\n",
        "df = df.reset_index(drop=True)\n",
        "print(df.info())\n",
        "print(df.head())"
      ],
      "execution_count": 19,
      "outputs": [
        {
          "output_type": "stream",
          "text": [
            "<class 'pandas.core.frame.DataFrame'>\n",
            "RangeIndex: 7043 entries, 0 to 7042\n",
            "Data columns (total 20 columns):\n",
            "gender              7043 non-null object\n",
            "SeniorCitizen       7043 non-null int64\n",
            "Partner             7043 non-null object\n",
            "Dependents          7043 non-null object\n",
            "tenure              7043 non-null int64\n",
            "PhoneService        7043 non-null object\n",
            "MultipleLines       7043 non-null object\n",
            "InternetService     7043 non-null object\n",
            "OnlineSecurity      7043 non-null object\n",
            "OnlineBackup        7043 non-null object\n",
            "DeviceProtection    7043 non-null object\n",
            "TechSupport         7043 non-null object\n",
            "StreamingTV         7043 non-null object\n",
            "StreamingMovies     7043 non-null object\n",
            "Contract            7043 non-null object\n",
            "PaperlessBilling    7043 non-null object\n",
            "PaymentMethod       7043 non-null object\n",
            "MonthlyCharges      7043 non-null float64\n",
            "TotalCharges        7043 non-null float64\n",
            "Churn               7043 non-null object\n",
            "dtypes: float64(2), int64(2), object(16)\n",
            "memory usage: 1.1+ MB\n",
            "None\n",
            "   gender  SeniorCitizen Partner  ... MonthlyCharges  TotalCharges Churn\n",
            "0  Female              0     Yes  ...          29.85         29.85    No\n",
            "1    Male              0      No  ...          56.95       1889.50    No\n",
            "2    Male              0      No  ...          53.85        108.15   Yes\n",
            "3    Male              0      No  ...          42.30       1840.75    No\n",
            "4  Female              0      No  ...          70.70        151.65   Yes\n",
            "\n",
            "[5 rows x 20 columns]\n"
          ],
          "name": "stdout"
        }
      ]
    },
    {
      "cell_type": "markdown",
      "metadata": {
        "colab_type": "text",
        "id": "JptPeF-IT29g"
      },
      "source": [
        "## Recognizing Categorical data"
      ]
    },
    {
      "cell_type": "code",
      "metadata": {
        "colab_type": "code",
        "outputId": "34110777-7e63-4a04-afa1-dceea81a0e80",
        "id": "ezmEK3h-T29h",
        "colab": {
          "base_uri": "https://localhost:8080/",
          "height": 153
        }
      },
      "source": [
        "colnums = len(df.columns)\n",
        "for i in df.columns:\n",
        "    try:\n",
        "        if df[i].dtype.name == 'object':\n",
        "            df[i] = df[i].astype('category')\n",
        "        else:\n",
        "            df[i].astype('float32')\n",
        "    except:\n",
        "        continue\n",
        "print(df.head())"
      ],
      "execution_count": 20,
      "outputs": [
        {
          "output_type": "stream",
          "text": [
            "   gender  SeniorCitizen Partner  ... MonthlyCharges  TotalCharges Churn\n",
            "0  Female              0     Yes  ...          29.85         29.85    No\n",
            "1    Male              0      No  ...          56.95       1889.50    No\n",
            "2    Male              0      No  ...          53.85        108.15   Yes\n",
            "3    Male              0      No  ...          42.30       1840.75    No\n",
            "4  Female              0      No  ...          70.70        151.65   Yes\n",
            "\n",
            "[5 rows x 20 columns]\n"
          ],
          "name": "stdout"
        }
      ]
    },
    {
      "cell_type": "code",
      "metadata": {
        "colab_type": "code",
        "outputId": "469009f1-e4b3-4dbb-fd82-125175a122f8",
        "id": "oapUxtIiT29l",
        "colab": {
          "base_uri": "https://localhost:8080/",
          "height": 153
        }
      },
      "source": [
        "from sklearn.model_selection import train_test_split\n",
        "from sklearn.preprocessing import MinMaxScaler, StandardScaler\n",
        "vals = df.values.copy()\n",
        "total_nums = len(vals)\n",
        "\n",
        "train, validation = train_test_split(df, test_size=0.5, \n",
        "                                     random_state=42, \n",
        "                                     shuffle=True)\n",
        "\n",
        "validation = validation.reindex(sorted(validation.columns), axis=1)\n",
        "validation.to_csv(path + '_For_Test.csv')\n",
        "print(validation.head())"
      ],
      "execution_count": 21,
      "outputs": [
        {
          "output_type": "stream",
          "text": [
            "     Churn        Contract Dependents  ... TotalCharges  gender  tenure\n",
            "185    Yes  Month-to-month         No  ...        24.80  Female       1\n",
            "2715    No  Month-to-month         No  ...       996.45    Male      41\n",
            "3825    No        Two year        Yes  ...      1031.70  Female      52\n",
            "1807   Yes  Month-to-month         No  ...        76.35  Female       1\n",
            "132     No        Two year         No  ...      3260.10    Male      67\n",
            "\n",
            "[5 rows x 20 columns]\n"
          ],
          "name": "stdout"
        }
      ]
    },
    {
      "cell_type": "code",
      "metadata": {
        "colab_type": "code",
        "outputId": "36be83da-e211-4f55-fb03-dc487937a8f1",
        "id": "HAVFi13QT29o",
        "colab": {
          "base_uri": "https://localhost:8080/",
          "height": 102
        }
      },
      "source": [
        "df = train\n",
        "categorical = df.select_dtypes(['category']).columns\n",
        "print(categorical)\n",
        "for f in categorical:\n",
        "    dummies = pd.get_dummies(df[f], prefix = f, prefix_sep = '_')\n",
        "    df = pd.concat([df, dummies], axis = 1)\n",
        "    \n",
        "# drop original categorical features\n",
        "df.drop(categorical, axis = 1, inplace = True)"
      ],
      "execution_count": 22,
      "outputs": [
        {
          "output_type": "stream",
          "text": [
            "Index(['gender', 'Partner', 'Dependents', 'PhoneService', 'MultipleLines',\n",
            "       'InternetService', 'OnlineSecurity', 'OnlineBackup', 'DeviceProtection',\n",
            "       'TechSupport', 'StreamingTV', 'StreamingMovies', 'Contract',\n",
            "       'PaperlessBilling', 'PaymentMethod', 'Churn'],\n",
            "      dtype='object')\n"
          ],
          "name": "stdout"
        }
      ]
    },
    {
      "cell_type": "code",
      "metadata": {
        "colab_type": "code",
        "id": "9KXhkZujT29r",
        "colab": {}
      },
      "source": [
        "train = df.values.copy()\n",
        "train.astype('float32')\n",
        "scaler = MinMaxScaler()\n",
        "d = {}\n",
        "train = scaler.fit_transform(train)\n",
        "x_train, x_test = train_test_split(train, test_size=0.5,\n",
        "                                  random_state=24,\n",
        "                                  shuffle=True)"
      ],
      "execution_count": 0,
      "outputs": []
    },
    {
      "cell_type": "code",
      "metadata": {
        "colab_type": "code",
        "outputId": "0eb1f7cb-cf82-4f2b-83d1-780c35a94245",
        "id": "fa5UJs9cT29v",
        "colab": {
          "base_uri": "https://localhost:8080/",
          "height": 51
        }
      },
      "source": [
        "original_dim = x_train.shape[1]\n",
        "x_train = np.reshape(x_train, [-1, original_dim])\n",
        "x_test = np.reshape(x_test, [-1, original_dim])\n",
        "x_train = x_train.astype('float32')\n",
        "x_test = x_test.astype('float32')\n",
        "print(x_train.shape)\n",
        "print(x_test.shape)"
      ],
      "execution_count": 24,
      "outputs": [
        {
          "output_type": "stream",
          "text": [
            "(1760, 47)\n",
            "(1761, 47)\n"
          ],
          "name": "stdout"
        }
      ]
    },
    {
      "cell_type": "code",
      "metadata": {
        "colab_type": "code",
        "id": "MnKFnBX-6LQR",
        "colab": {}
      },
      "source": [
        "from keras.regularizers import l2\n",
        "from keras.losses import categorical_crossentropy\n",
        "class DropoutVAE:\n",
        "    def __init__(self, input_shape=(original_dim,), \n",
        "                 intermediate_dim=32, latent_dim=3, dropout=0.05, \n",
        "                 summary=False):\n",
        "        \n",
        "        self._build_model(input_shape,\n",
        "                         intermediate_dim, \n",
        "                          latent_dim, summary,\n",
        "                          dropout)\n",
        "    \n",
        "    def _build_model(self, input_shape, intermediate_dim, latent_dim,\n",
        "                    summary=False, dropout=0.05):\n",
        "        inputs = Input(shape=input_shape, name='encoder_input')\n",
        "        x = inputs\n",
        "        x = Dense(intermediate_dim, activation='relu')(x)\n",
        "        x = Dense(intermediate_dim//2, activation='relu')(x)\n",
        "        \n",
        "        z_mean = Dense(latent_dim, name='z_mean')(x)\n",
        "        z_log_var = Dense(latent_dim, name='z_log_var')(x)\n",
        "\n",
        "        z = Lambda(self.sampling, output_shape=(latent_dim,), \n",
        "                   name='z')([z_mean, z_log_var])\n",
        "\n",
        "        self.encoder = Model(inputs, [z_mean, z_log_var, z], \n",
        "                        name='encoder')\n",
        "        \n",
        "        latent_inputs = Input(shape=(latent_dim,), \n",
        "                              name='z_sampling')\n",
        "        x = latent_inputs\n",
        "        x = Dense(intermediate_dim//2, activation='relu',\n",
        "                 kernel_regularizer=l2(1e-4),\n",
        "                 bias_regularizer=l2(1e-4))(x)\n",
        "        x = Dropout(dropout)(x)\n",
        "        x = Dense(intermediate_dim, activation='relu',\n",
        "                 kernel_regularizer=l2(1e-4),\n",
        "                 bias_regularizer=l2(1e-4))(x)\n",
        "        x = Dropout(dropout)(x)\n",
        "        outputs = Dense(original_dim, activation='sigmoid',\n",
        "                       kernel_regularizer=l2(1e-4),\n",
        "                       bias_regularizer=l2(1e-4))(x)\n",
        "\n",
        "        self.decoder = Model(latent_inputs, \n",
        "                             outputs, \n",
        "                             name='decoder')\n",
        "        outputs = self.decoder(self.encoder(inputs)[2])\n",
        "        self.vae = Model(inputs, outputs, \n",
        "                         name='vae_mlp')\n",
        "        \n",
        "        reconstruction_loss = binary_crossentropy(inputs, outputs)\n",
        "        reconstruction_loss *= original_dim\n",
        "        kl_loss = 1 + z_log_var - K.square(z_mean) - K.exp(z_log_var)\n",
        "        kl_loss = K.sum(kl_loss, axis=-1)\n",
        "        kl_loss *= -0.5\n",
        "        \n",
        "        vae_loss = K.mean(reconstruction_loss + kl_loss)\t\n",
        "        \n",
        "        self.vae.add_loss(vae_loss)\n",
        "        self.vae.compile(optimizer='adam')\n",
        "        if summary: \n",
        "            print(self.vae.summary())\n",
        "        \n",
        "    def sampling(self, args):\n",
        "        z_mean, z_log_var = args\n",
        "        batch = K.shape(z_mean)[0]\n",
        "        dim = K.int_shape(z_mean)[1]\n",
        "        epsilon = K.random_normal(shape=(batch, dim))\n",
        "        return z_mean + K.exp(0.5 * z_log_var) * epsilon\n",
        "        \n",
        "    def fit(self, x_train, x_test, epochs=100, batch_size=100,\n",
        "           verbose=1):\n",
        "        self.vae.fit(x_train, \n",
        "            shuffle=True,\n",
        "            epochs=epochs,\n",
        "            batch_size=batch_size,\n",
        "            verbose=verbose,\n",
        "            validation_data=(x_test, None))\n",
        "    \n",
        "    def encoder_predict(self, x_test, batch_size=100):\n",
        "        return self.encoder.predict(x_test,\n",
        "                                   batch_size=batch_size)\n",
        "    \n",
        "    def generate(self, latent_val, batch_size=100):\n",
        "        return self.decoder.predict(latent_val)\n",
        "    \n",
        "    def predict(self, x_test, batch_size=1, nums=1000):\n",
        "        predict_stochastic = K.function([self.vae.layers[0].input,\n",
        "                                        K.learning_phase()],\n",
        "                                        [self.vae.get_output_at(0)])\n",
        "        Yt_hat = np.array([self.vae.predict(x_test) for _ in range(nums)]) \n",
        "        return Yt_hat"
      ],
      "execution_count": 0,
      "outputs": []
    },
    {
      "cell_type": "markdown",
      "metadata": {
        "colab_type": "text",
        "id": "TsARTKz36LQZ"
      },
      "source": [
        "## Train and evaluate Dropout VAE"
      ]
    },
    {
      "cell_type": "code",
      "metadata": {
        "colab_type": "code",
        "id": "pkdmVggK6LQp",
        "outputId": "068a5f9d-a644-4d2d-81c6-2ff997c126fe",
        "colab": {
          "base_uri": "https://localhost:8080/",
          "height": 3743
        }
      },
      "source": [
        "latent_dim = original_dim//2\n",
        "if latent_dim < 2:\n",
        "    latent_dim = 2\n",
        "vae = DropoutVAE(intermediate_dim=intermediate_dim,\n",
        "                 dropout=0.2, latent_dim=latent_dim,\n",
        "                 summary=True)\n",
        "vae.fit(x_train, x_test, epochs=100)"
      ],
      "execution_count": 26,
      "outputs": [
        {
          "output_type": "stream",
          "text": [
            "WARNING:tensorflow:From /usr/local/lib/python3.6/dist-packages/keras/backend/tensorflow_backend.py:3445: calling dropout (from tensorflow.python.ops.nn_ops) with keep_prob is deprecated and will be removed in a future version.\n",
            "Instructions for updating:\n",
            "Please use `rate` instead of `keep_prob`. Rate should be set to `rate = 1 - keep_prob`.\n",
            "_________________________________________________________________\n",
            "Layer (type)                 Output Shape              Param #   \n",
            "=================================================================\n",
            "encoder_input (InputLayer)   (None, 47)                0         \n",
            "_________________________________________________________________\n",
            "encoder (Model)              [(None, 23), (None, 23),  167726    \n",
            "_________________________________________________________________\n",
            "decoder (Model)              (None, 47)                161839    \n",
            "=================================================================\n",
            "Total params: 329,565\n",
            "Trainable params: 329,565\n",
            "Non-trainable params: 0\n",
            "_________________________________________________________________\n",
            "None\n",
            "Train on 1760 samples, validate on 1761 samples\n",
            "Epoch 1/100\n",
            "1760/1760 [==============================] - 1s 395us/step - loss: 29.6260 - val_loss: 28.4184\n",
            "Epoch 2/100\n",
            "1760/1760 [==============================] - 0s 66us/step - loss: 28.0914 - val_loss: 27.1512\n",
            "Epoch 3/100\n",
            "1760/1760 [==============================] - 0s 65us/step - loss: 25.9639 - val_loss: 24.5359\n",
            "Epoch 4/100\n",
            "1760/1760 [==============================] - 0s 69us/step - loss: 24.1007 - val_loss: 23.1869\n",
            "Epoch 5/100\n",
            "1760/1760 [==============================] - 0s 62us/step - loss: 23.3514 - val_loss: 22.5808\n",
            "Epoch 6/100\n",
            "1760/1760 [==============================] - 0s 69us/step - loss: 22.9730 - val_loss: 22.3666\n",
            "Epoch 7/100\n",
            "1760/1760 [==============================] - 0s 66us/step - loss: 22.3879 - val_loss: 21.8852\n",
            "Epoch 8/100\n",
            "1760/1760 [==============================] - 0s 64us/step - loss: 22.0385 - val_loss: 21.4094\n",
            "Epoch 9/100\n",
            "1760/1760 [==============================] - 0s 64us/step - loss: 21.8090 - val_loss: 21.1948\n",
            "Epoch 10/100\n",
            "1760/1760 [==============================] - 0s 63us/step - loss: 21.6747 - val_loss: 20.9693\n",
            "Epoch 11/100\n",
            "1760/1760 [==============================] - 0s 64us/step - loss: 21.2020 - val_loss: 20.7124\n",
            "Epoch 12/100\n",
            "1760/1760 [==============================] - 0s 66us/step - loss: 21.0386 - val_loss: 20.5864\n",
            "Epoch 13/100\n",
            "1760/1760 [==============================] - 0s 62us/step - loss: 21.0210 - val_loss: 20.3892\n",
            "Epoch 14/100\n",
            "1760/1760 [==============================] - 0s 63us/step - loss: 20.6625 - val_loss: 20.2828\n",
            "Epoch 15/100\n",
            "1760/1760 [==============================] - 0s 63us/step - loss: 20.5586 - val_loss: 20.1556\n",
            "Epoch 16/100\n",
            "1760/1760 [==============================] - 0s 63us/step - loss: 20.4237 - val_loss: 19.7895\n",
            "Epoch 17/100\n",
            "1760/1760 [==============================] - 0s 63us/step - loss: 20.2202 - val_loss: 19.5824\n",
            "Epoch 18/100\n",
            "1760/1760 [==============================] - 0s 64us/step - loss: 19.9160 - val_loss: 19.4844\n",
            "Epoch 19/100\n",
            "1760/1760 [==============================] - 0s 65us/step - loss: 19.7282 - val_loss: 19.3899\n",
            "Epoch 20/100\n",
            "1760/1760 [==============================] - 0s 62us/step - loss: 19.6250 - val_loss: 19.2133\n",
            "Epoch 21/100\n",
            "1760/1760 [==============================] - 0s 68us/step - loss: 19.6387 - val_loss: 19.1657\n",
            "Epoch 22/100\n",
            "1760/1760 [==============================] - 0s 64us/step - loss: 19.5503 - val_loss: 19.0151\n",
            "Epoch 23/100\n",
            "1760/1760 [==============================] - 0s 63us/step - loss: 19.5693 - val_loss: 19.0848\n",
            "Epoch 24/100\n",
            "1760/1760 [==============================] - 0s 63us/step - loss: 19.3806 - val_loss: 19.0162\n",
            "Epoch 25/100\n",
            "1760/1760 [==============================] - 0s 65us/step - loss: 19.3529 - val_loss: 18.9085\n",
            "Epoch 26/100\n",
            "1760/1760 [==============================] - 0s 63us/step - loss: 19.1960 - val_loss: 18.9975\n",
            "Epoch 27/100\n",
            "1760/1760 [==============================] - 0s 66us/step - loss: 19.2269 - val_loss: 18.8038\n",
            "Epoch 28/100\n",
            "1760/1760 [==============================] - 0s 64us/step - loss: 19.0450 - val_loss: 18.7887\n",
            "Epoch 29/100\n",
            "1760/1760 [==============================] - 0s 64us/step - loss: 19.1938 - val_loss: 18.7682\n",
            "Epoch 30/100\n",
            "1760/1760 [==============================] - 0s 66us/step - loss: 19.0819 - val_loss: 18.7903\n",
            "Epoch 31/100\n",
            "1760/1760 [==============================] - 0s 65us/step - loss: 19.1266 - val_loss: 18.6271\n",
            "Epoch 32/100\n",
            "1760/1760 [==============================] - 0s 64us/step - loss: 19.1097 - val_loss: 18.7000\n",
            "Epoch 33/100\n",
            "1760/1760 [==============================] - 0s 63us/step - loss: 18.8982 - val_loss: 18.4320\n",
            "Epoch 34/100\n",
            "1760/1760 [==============================] - 0s 63us/step - loss: 18.8939 - val_loss: 18.5542\n",
            "Epoch 35/100\n",
            "1760/1760 [==============================] - 0s 66us/step - loss: 18.7620 - val_loss: 18.6095\n",
            "Epoch 36/100\n",
            "1760/1760 [==============================] - 0s 64us/step - loss: 18.8500 - val_loss: 18.4134\n",
            "Epoch 37/100\n",
            "1760/1760 [==============================] - 0s 64us/step - loss: 18.8035 - val_loss: 18.2723\n",
            "Epoch 38/100\n",
            "1760/1760 [==============================] - 0s 63us/step - loss: 18.6704 - val_loss: 18.3721\n",
            "Epoch 39/100\n",
            "1760/1760 [==============================] - 0s 67us/step - loss: 18.6195 - val_loss: 18.2454\n",
            "Epoch 40/100\n",
            "1760/1760 [==============================] - 0s 63us/step - loss: 18.7316 - val_loss: 18.3626\n",
            "Epoch 41/100\n",
            "1760/1760 [==============================] - 0s 67us/step - loss: 18.5933 - val_loss: 18.1776\n",
            "Epoch 42/100\n",
            "1760/1760 [==============================] - 0s 62us/step - loss: 18.6002 - val_loss: 18.3098\n",
            "Epoch 43/100\n",
            "1760/1760 [==============================] - 0s 64us/step - loss: 18.4421 - val_loss: 18.3095\n",
            "Epoch 44/100\n",
            "1760/1760 [==============================] - 0s 64us/step - loss: 18.3796 - val_loss: 18.2353\n",
            "Epoch 45/100\n",
            "1760/1760 [==============================] - 0s 66us/step - loss: 18.4144 - val_loss: 18.0784\n",
            "Epoch 46/100\n",
            "1760/1760 [==============================] - 0s 62us/step - loss: 18.2487 - val_loss: 17.9588\n",
            "Epoch 47/100\n",
            "1760/1760 [==============================] - 0s 64us/step - loss: 18.3240 - val_loss: 17.9825\n",
            "Epoch 48/100\n",
            "1760/1760 [==============================] - 0s 67us/step - loss: 18.3094 - val_loss: 18.0519\n",
            "Epoch 49/100\n",
            "1760/1760 [==============================] - 0s 65us/step - loss: 18.2096 - val_loss: 17.9927\n",
            "Epoch 50/100\n",
            "1760/1760 [==============================] - 0s 71us/step - loss: 18.2472 - val_loss: 18.0486\n",
            "Epoch 51/100\n",
            "1760/1760 [==============================] - 0s 64us/step - loss: 18.0525 - val_loss: 17.8577\n",
            "Epoch 52/100\n",
            "1760/1760 [==============================] - 0s 64us/step - loss: 18.1965 - val_loss: 17.9214\n",
            "Epoch 53/100\n",
            "1760/1760 [==============================] - 0s 67us/step - loss: 18.1276 - val_loss: 17.9476\n",
            "Epoch 54/100\n",
            "1760/1760 [==============================] - 0s 63us/step - loss: 18.1976 - val_loss: 17.7880\n",
            "Epoch 55/100\n",
            "1760/1760 [==============================] - 0s 64us/step - loss: 17.9382 - val_loss: 17.9060\n",
            "Epoch 56/100\n",
            "1760/1760 [==============================] - 0s 67us/step - loss: 17.9439 - val_loss: 17.8115\n",
            "Epoch 57/100\n",
            "1760/1760 [==============================] - 0s 70us/step - loss: 17.9991 - val_loss: 17.7268\n",
            "Epoch 58/100\n",
            "1760/1760 [==============================] - 0s 66us/step - loss: 17.8499 - val_loss: 17.7029\n",
            "Epoch 59/100\n",
            "1760/1760 [==============================] - 0s 64us/step - loss: 18.0307 - val_loss: 17.6348\n",
            "Epoch 60/100\n",
            "1760/1760 [==============================] - 0s 65us/step - loss: 18.0250 - val_loss: 17.7220\n",
            "Epoch 61/100\n",
            "1760/1760 [==============================] - 0s 66us/step - loss: 17.7722 - val_loss: 17.6989\n",
            "Epoch 62/100\n",
            "1760/1760 [==============================] - 0s 65us/step - loss: 17.8507 - val_loss: 17.6379\n",
            "Epoch 63/100\n",
            "1760/1760 [==============================] - 0s 64us/step - loss: 17.7531 - val_loss: 17.5149\n",
            "Epoch 64/100\n",
            "1760/1760 [==============================] - 0s 66us/step - loss: 17.6637 - val_loss: 17.4073\n",
            "Epoch 65/100\n",
            "1760/1760 [==============================] - 0s 65us/step - loss: 17.6386 - val_loss: 17.4554\n",
            "Epoch 66/100\n",
            "1760/1760 [==============================] - 0s 73us/step - loss: 17.6409 - val_loss: 17.6005\n",
            "Epoch 67/100\n",
            "1760/1760 [==============================] - 0s 65us/step - loss: 17.5084 - val_loss: 17.3729\n",
            "Epoch 68/100\n",
            "1760/1760 [==============================] - 0s 64us/step - loss: 17.5506 - val_loss: 17.4273\n",
            "Epoch 69/100\n",
            "1760/1760 [==============================] - 0s 64us/step - loss: 17.5709 - val_loss: 17.3613\n",
            "Epoch 70/100\n",
            "1760/1760 [==============================] - 0s 64us/step - loss: 17.5548 - val_loss: 17.3498\n",
            "Epoch 71/100\n",
            "1760/1760 [==============================] - 0s 63us/step - loss: 17.5869 - val_loss: 17.3753\n",
            "Epoch 72/100\n",
            "1760/1760 [==============================] - 0s 63us/step - loss: 17.3745 - val_loss: 17.2824\n",
            "Epoch 73/100\n",
            "1760/1760 [==============================] - 0s 63us/step - loss: 17.4952 - val_loss: 17.2594\n",
            "Epoch 74/100\n",
            "1760/1760 [==============================] - 0s 64us/step - loss: 17.3363 - val_loss: 17.3422\n",
            "Epoch 75/100\n",
            "1760/1760 [==============================] - 0s 66us/step - loss: 17.3889 - val_loss: 17.3111\n",
            "Epoch 76/100\n",
            "1760/1760 [==============================] - 0s 63us/step - loss: 17.3137 - val_loss: 17.2592\n",
            "Epoch 77/100\n",
            "1760/1760 [==============================] - 0s 63us/step - loss: 17.3383 - val_loss: 17.1096\n",
            "Epoch 78/100\n",
            "1760/1760 [==============================] - 0s 70us/step - loss: 17.2000 - val_loss: 17.2055\n",
            "Epoch 79/100\n",
            "1760/1760 [==============================] - 0s 64us/step - loss: 17.1570 - val_loss: 17.1228\n",
            "Epoch 80/100\n",
            "1760/1760 [==============================] - 0s 64us/step - loss: 17.2546 - val_loss: 17.2585\n",
            "Epoch 81/100\n",
            "1760/1760 [==============================] - 0s 62us/step - loss: 17.3424 - val_loss: 17.4319\n",
            "Epoch 82/100\n",
            "1760/1760 [==============================] - 0s 63us/step - loss: 17.2792 - val_loss: 17.1377\n",
            "Epoch 83/100\n",
            "1760/1760 [==============================] - 0s 62us/step - loss: 17.2635 - val_loss: 17.1864\n",
            "Epoch 84/100\n",
            "1760/1760 [==============================] - 0s 69us/step - loss: 17.1796 - val_loss: 17.0226\n",
            "Epoch 85/100\n",
            "1760/1760 [==============================] - 0s 68us/step - loss: 17.1037 - val_loss: 16.9192\n",
            "Epoch 86/100\n",
            "1760/1760 [==============================] - 0s 63us/step - loss: 17.1966 - val_loss: 17.0875\n",
            "Epoch 87/100\n",
            "1760/1760 [==============================] - 0s 63us/step - loss: 17.2783 - val_loss: 16.9642\n",
            "Epoch 88/100\n",
            "1760/1760 [==============================] - 0s 63us/step - loss: 17.1413 - val_loss: 16.9384\n",
            "Epoch 89/100\n",
            "1760/1760 [==============================] - 0s 64us/step - loss: 17.1002 - val_loss: 16.9857\n",
            "Epoch 90/100\n",
            "1760/1760 [==============================] - 0s 63us/step - loss: 17.0670 - val_loss: 16.9733\n",
            "Epoch 91/100\n",
            "1760/1760 [==============================] - 0s 63us/step - loss: 16.9803 - val_loss: 17.1002\n",
            "Epoch 92/100\n",
            "1760/1760 [==============================] - 0s 70us/step - loss: 17.1021 - val_loss: 17.0734\n",
            "Epoch 93/100\n",
            "1760/1760 [==============================] - 0s 65us/step - loss: 16.8906 - val_loss: 16.9398\n",
            "Epoch 94/100\n",
            "1760/1760 [==============================] - 0s 65us/step - loss: 16.9390 - val_loss: 17.1599\n",
            "Epoch 95/100\n",
            "1760/1760 [==============================] - 0s 64us/step - loss: 17.1828 - val_loss: 17.0638\n",
            "Epoch 96/100\n",
            "1760/1760 [==============================] - 0s 66us/step - loss: 16.8138 - val_loss: 16.9346\n",
            "Epoch 97/100\n",
            "1760/1760 [==============================] - 0s 63us/step - loss: 17.0692 - val_loss: 16.9565\n",
            "Epoch 98/100\n",
            "1760/1760 [==============================] - 0s 64us/step - loss: 16.9862 - val_loss: 16.9529\n",
            "Epoch 99/100\n",
            "1760/1760 [==============================] - 0s 63us/step - loss: 17.0247 - val_loss: 16.9913\n",
            "Epoch 100/100\n",
            "1760/1760 [==============================] - 0s 63us/step - loss: 16.8505 - val_loss: 16.9474\n"
          ],
          "name": "stdout"
        }
      ]
    },
    {
      "cell_type": "code",
      "metadata": {
        "colab_type": "code",
        "id": "2HndA3MG6LQs",
        "outputId": "4c9a190f-178d-40ca-e79d-3d01170dc78f",
        "colab": {
          "base_uri": "https://localhost:8080/",
          "height": 51
        }
      },
      "source": [
        "np.random.seed(1)\n",
        "x_test = np.reshape(x_test, (-1, original_dim))\n",
        "print(x_test.shape)\n",
        "print(x_test[0].reshape(-1, original_dim).shape)"
      ],
      "execution_count": 27,
      "outputs": [
        {
          "output_type": "stream",
          "text": [
            "(1761, 47)\n",
            "(1, 47)\n"
          ],
          "name": "stdout"
        }
      ]
    },
    {
      "cell_type": "code",
      "metadata": {
        "id": "_sgO9JKSqWsW",
        "colab_type": "code",
        "colab": {}
      },
      "source": [
        "total_nums = 2\n",
        "results = []\n",
        "for i in range(x_test.shape[0]):\n",
        "    x_test_encoded = vae.predict(x_test[i].reshape(-1, original_dim), \n",
        "                                 nums=total_nums)\n",
        "    x_test_encoded = x_test_encoded.reshape(total_nums, original_dim)\n",
        "    results.append(x_test_encoded)\n",
        "results = np.asarray(results)\n",
        "results = results.reshape(total_nums*results.shape[0], original_dim)\n",
        "results = scaler.inverse_transform(results)"
      ],
      "execution_count": 0,
      "outputs": []
    },
    {
      "cell_type": "markdown",
      "metadata": {
        "id": "POfJxgHamlmx",
        "colab_type": "text"
      },
      "source": [
        "## Results"
      ]
    },
    {
      "cell_type": "code",
      "metadata": {
        "colab_type": "code",
        "id": "YIlGSzekAYlO",
        "colab": {}
      },
      "source": [
        "d = {}\n",
        "names = list(df)\n",
        "for i, name in enumerate(names):\n",
        "    d[name] = results[:, i]\n",
        "df = pd.DataFrame(data=d)"
      ],
      "execution_count": 0,
      "outputs": []
    },
    {
      "cell_type": "code",
      "metadata": {
        "colab_type": "code",
        "outputId": "6ba3a492-60e3-4f22-f883-ffd2f1e70bc7",
        "id": "shurAQCSAYlV",
        "colab": {
          "base_uri": "https://localhost:8080/",
          "height": 238
        }
      },
      "source": [
        "names = list(df)\n",
        "c_dict = {}\n",
        "for n in names:\n",
        "    if '_' in n:\n",
        "        index = n.index('_')\n",
        "        c_dict[n[:index]] = [c for c in names if n[:index+1] in c]\n",
        "values = []\n",
        "for key, items in c_dict.items():\n",
        "    dummies = df[items]\n",
        "    d_names = list(dummies)\n",
        "    c_dict = {}\n",
        "    for n in d_names:\n",
        "        c_dict[n] = n[n.index('_')+1:]\n",
        "    dummies.rename(columns=c_dict, \n",
        "                   inplace=True)\n",
        "    df[key] = dummies.idxmax(axis=1)\n",
        "    df.drop(items, axis=1, inplace=True)\n",
        "print(df.head())"
      ],
      "execution_count": 30,
      "outputs": [
        {
          "output_type": "stream",
          "text": [
            "/usr/local/lib/python3.6/dist-packages/pandas/core/frame.py:4025: SettingWithCopyWarning: \n",
            "A value is trying to be set on a copy of a slice from a DataFrame\n",
            "\n",
            "See the caveats in the documentation: http://pandas.pydata.org/pandas-docs/stable/indexing.html#indexing-view-versus-copy\n",
            "  return super(DataFrame, self).rename(**kwargs)\n"
          ],
          "name": "stderr"
        },
        {
          "output_type": "stream",
          "text": [
            "   SeniorCitizen     tenure  ...     PaymentMethod  Churn\n",
            "0       0.004208   4.320959  ...      Mailed check     No\n",
            "1       0.010768   5.836837  ...      Mailed check     No\n",
            "2       0.537517  30.336311  ...  Electronic check     No\n",
            "3       0.332024  36.047825  ...  Electronic check     No\n",
            "4       0.017214  17.124725  ...      Mailed check     No\n",
            "\n",
            "[5 rows x 20 columns]\n"
          ],
          "name": "stdout"
        }
      ]
    },
    {
      "cell_type": "code",
      "metadata": {
        "colab_type": "code",
        "id": "n8dLIoyVW_Kn",
        "colab": {}
      },
      "source": [
        "df = df.reindex(sorted(df.columns), axis=1)\n",
        "df.to_csv(path + '_dropout.csv')"
      ],
      "execution_count": 0,
      "outputs": []
    },
    {
      "cell_type": "markdown",
      "metadata": {
        "id": "xL6N8v2sYTNm",
        "colab_type": "text"
      },
      "source": [
        "# Transform categorical -> number"
      ]
    },
    {
      "cell_type": "code",
      "metadata": {
        "id": "FgVhmliYYzwS",
        "colab_type": "code",
        "colab": {}
      },
      "source": [
        "\n",
        "validation.to_csv(path + '_For_Test.csv')\n",
        "df = pd.read_csv(path + '_For_Test.csv',\n",
        "                 na_filter=True, \n",
        "                 verbose=False, \n",
        "                 skip_blank_lines=True, \n",
        "                 na_values=na_values,\n",
        "                 keep_default_na=False)\n",
        "df_mc = pd.read_csv(path + '_dropout.csv',\n",
        "                 na_filter=True, \n",
        "                 verbose=False, \n",
        "                 skip_blank_lines=True, \n",
        "                 na_values=na_values,\n",
        "                 keep_default_na=False)\n",
        "df_vae = pd.read_csv(path + '_vae.csv',\n",
        "                 na_filter=True, \n",
        "                 verbose=False, \n",
        "                 skip_blank_lines=True, \n",
        "                 na_values=na_values,\n",
        "                 keep_default_na=False)\n",
        "df.drop('Unnamed: 0', axis=1, inplace=True)\n",
        "df_mc.drop('Unnamed: 0', axis=1, inplace=True)\n",
        "df_vae.drop('Unnamed: 0', axis=1, inplace=True)\n",
        "names = list(df)"
      ],
      "execution_count": 0,
      "outputs": []
    },
    {
      "cell_type": "code",
      "metadata": {
        "id": "HSbyWbb0ZjAJ",
        "colab_type": "code",
        "outputId": "d66e63e2-1080-40a8-f6a6-8e1c8bb142d2",
        "colab": {
          "base_uri": "https://localhost:8080/",
          "height": 102
        }
      },
      "source": [
        "from sklearn.preprocessing import LabelEncoder\n",
        "colnums = len(df.columns)\n",
        "for i in df.columns:\n",
        "    try:\n",
        "        if df[i].dtype.name == 'object':\n",
        "            df[i] = df[i].astype('category')\n",
        "    except:\n",
        "        continue\n",
        "cat_columns = df.select_dtypes(['category']).columns\n",
        "print(cat_columns)\n",
        "for col in cat_columns:\n",
        "    le = LabelEncoder()\n",
        "    df[col] = le.fit_transform(df[col].values)\n",
        "    df_mc[col] = le.transform(df_mc[col].values)\n",
        "    df_vae[col] = le.transform(df_vae[col].values)\n",
        "    "
      ],
      "execution_count": 33,
      "outputs": [
        {
          "output_type": "stream",
          "text": [
            "Index(['Churn', 'Contract', 'Dependents', 'DeviceProtection',\n",
            "       'InternetService', 'MultipleLines', 'OnlineBackup', 'OnlineSecurity',\n",
            "       'PaperlessBilling', 'Partner', 'PaymentMethod', 'PhoneService',\n",
            "       'StreamingMovies', 'StreamingTV', 'TechSupport', 'gender'],\n",
            "      dtype='object')\n"
          ],
          "name": "stdout"
        }
      ]
    },
    {
      "cell_type": "code",
      "metadata": {
        "id": "J-scTKTHZ9Wk",
        "colab_type": "code",
        "colab": {}
      },
      "source": [
        "df = df.reindex(sorted(df.columns), axis=1)\n",
        "df_mc = df_mc.reindex(sorted(df_mc.columns), axis=1)\n",
        "df_vae = df_vae.reindex(sorted(df_vae.columns), axis=1)\n",
        "df.to_csv(path + '_For_Test_encoded.csv')\n",
        "df_mc.to_csv(path + '_dropout_encoded.csv')\n",
        "df_vae.to_csv(path + '_vae_encoded.csv')"
      ],
      "execution_count": 0,
      "outputs": []
    },
    {
      "cell_type": "markdown",
      "metadata": {
        "id": "gLy-z65OUnRj",
        "colab_type": "text"
      },
      "source": [
        "# Predicting with generated data"
      ]
    },
    {
      "cell_type": "code",
      "metadata": {
        "id": "-W-tX8ysUuOC",
        "colab_type": "code",
        "colab": {}
      },
      "source": [
        "df = pd.read_csv(path + '_For_Test_encoded.csv',\n",
        "                 na_filter=True, \n",
        "                 verbose=False, \n",
        "                 skip_blank_lines=True, \n",
        "                 na_values=na_values,\n",
        "                 keep_default_na=False)\n",
        "df_mc = pd.read_csv(path + '_dropout_encoded.csv',\n",
        "                 na_filter=True, \n",
        "                 verbose=False, \n",
        "                 skip_blank_lines=True, \n",
        "                 na_values=na_values,\n",
        "                 keep_default_na=False)\n",
        "df_vae = pd.read_csv(path + '_vae_encoded.csv',\n",
        "                 na_filter=True, \n",
        "                 verbose=False, \n",
        "                 skip_blank_lines=True, \n",
        "                 na_values=na_values,\n",
        "                 keep_default_na=False)\n",
        "df.drop('Unnamed: 0', axis=1, inplace=True)\n",
        "df_mc.drop('Unnamed: 0', axis=1, inplace=True)\n",
        "df_vae.drop('Unnamed: 0', axis=1, inplace=True)"
      ],
      "execution_count": 0,
      "outputs": []
    },
    {
      "cell_type": "code",
      "metadata": {
        "id": "8F40hUKFVC3E",
        "colab_type": "code",
        "outputId": "9db042f7-5a29-4b44-a0b6-68a10c542275",
        "colab": {
          "base_uri": "https://localhost:8080/",
          "height": 425
        }
      },
      "source": [
        "print(df.head())\n",
        "print(df_mc.head())\n",
        "print(df_vae.head())"
      ],
      "execution_count": 36,
      "outputs": [
        {
          "output_type": "stream",
          "text": [
            "   Churn  Contract  Dependents  ...  TotalCharges  gender  tenure\n",
            "0      1         0           0  ...         24.80       0       1\n",
            "1      0         0           0  ...        996.45       1      41\n",
            "2      0         2           1  ...       1031.70       0      52\n",
            "3      1         0           0  ...         76.35       0       1\n",
            "4      0         2           0  ...       3260.10       1      67\n",
            "\n",
            "[5 rows x 20 columns]\n",
            "   Churn  Contract  Dependents  ...  TotalCharges  gender     tenure\n",
            "0      0         0           0  ...     73.981804       0   4.320959\n",
            "1      0         0           0  ...     74.579590       0   5.836837\n",
            "2      0         0           0  ...   2736.324200       0  30.336311\n",
            "3      0         1           0  ...   3366.247800       0  36.047825\n",
            "4      0         1           0  ...    286.729580       0  17.124725\n",
            "\n",
            "[5 rows x 20 columns]\n",
            "   Churn  Contract  Dependents  ...  TotalCharges  gender     tenure\n",
            "0      0         0           0  ...    1986.73630       1  22.995634\n",
            "1      1         0           0  ...     418.01144       0  14.208975\n",
            "2      1         0           0  ...     606.27545       0   9.120053\n",
            "3      1         0           0  ...    2097.04470       1  25.886543\n",
            "4      0         0           0  ...    1806.87890       0  26.938225\n",
            "\n",
            "[5 rows x 20 columns]\n"
          ],
          "name": "stdout"
        }
      ]
    },
    {
      "cell_type": "code",
      "metadata": {
        "id": "0tyhyfWHXbn4",
        "colab_type": "code",
        "outputId": "04937dbf-a64e-4aa2-ad21-da2f8d5a96e8",
        "colab": {
          "base_uri": "https://localhost:8080/",
          "height": 51
        }
      },
      "source": [
        "y = df['Churn'].values\n",
        "df.drop(['Churn'], axis=1, inplace=True)\n",
        "X = df.values\n",
        "print(y.shape)\n",
        "print(X.shape)"
      ],
      "execution_count": 37,
      "outputs": [
        {
          "output_type": "stream",
          "text": [
            "(3522,)\n",
            "(3522, 19)\n"
          ],
          "name": "stdout"
        }
      ]
    },
    {
      "cell_type": "code",
      "metadata": {
        "id": "rwzr1m5TX5QC",
        "colab_type": "code",
        "outputId": "e3f10e6e-4b8a-4196-adc5-c140990ea067",
        "colab": {
          "base_uri": "https://localhost:8080/",
          "height": 51
        }
      },
      "source": [
        "y_mc = df_mc['Churn'].values\n",
        "df_mc.drop(['Churn'], axis=1, inplace=True)\n",
        "X_mc = df_mc.values\n",
        "print(y_mc.shape)\n",
        "print(X_mc.shape)"
      ],
      "execution_count": 38,
      "outputs": [
        {
          "output_type": "stream",
          "text": [
            "(3522,)\n",
            "(3522, 19)\n"
          ],
          "name": "stdout"
        }
      ]
    },
    {
      "cell_type": "code",
      "metadata": {
        "id": "xbq6H2ZnYXqz",
        "colab_type": "code",
        "outputId": "42cd77d3-5707-420a-fd9f-0bd8070d49f9",
        "colab": {
          "base_uri": "https://localhost:8080/",
          "height": 51
        }
      },
      "source": [
        "y_vae = df_vae['Churn'].values\n",
        "df_vae.drop(['Churn'], axis=1, inplace=True)\n",
        "X_vae = df_vae.values\n",
        "print(y_vae.shape)\n",
        "print(X_vae.shape)"
      ],
      "execution_count": 39,
      "outputs": [
        {
          "output_type": "stream",
          "text": [
            "(3522,)\n",
            "(3522, 19)\n"
          ],
          "name": "stdout"
        }
      ]
    },
    {
      "cell_type": "markdown",
      "metadata": {
        "id": "A8JPft-5a6QL",
        "colab_type": "text"
      },
      "source": [
        "## Cross validation"
      ]
    },
    {
      "cell_type": "markdown",
      "metadata": {
        "id": "iWMcVL29ggWg",
        "colab_type": "text"
      },
      "source": [
        "### Original data"
      ]
    },
    {
      "cell_type": "code",
      "metadata": {
        "id": "ob3Et0uia9YZ",
        "colab_type": "code",
        "outputId": "cfb73316-49eb-4296-e516-1e554752c39b",
        "colab": {
          "base_uri": "https://localhost:8080/",
          "height": 34
        }
      },
      "source": [
        "from sklearn.ensemble import RandomForestClassifier\n",
        "from sklearn.model_selection import cross_val_score\n",
        "clf = RandomForestClassifier(n_estimators=100, \n",
        "                             max_depth=2, random_state=42)\n",
        "scores = cross_val_score(clf, X, y, cv=10)\n",
        "print(\"Accuracy: %0.2f (+/- %0.2f)\" % (scores.mean(), scores.std() * 2))"
      ],
      "execution_count": 40,
      "outputs": [
        {
          "output_type": "stream",
          "text": [
            "Accuracy: 0.77 (+/- 0.03)\n"
          ],
          "name": "stdout"
        }
      ]
    },
    {
      "cell_type": "markdown",
      "metadata": {
        "colab_type": "text",
        "id": "hSUz0c0ngkj5"
      },
      "source": [
        "### DropoutVAE generated data with original Outcome"
      ]
    },
    {
      "cell_type": "code",
      "metadata": {
        "colab_type": "code",
        "outputId": "a5a1c0e7-6e90-4ead-b9ab-ebc6cbca6279",
        "id": "y4-GzQ_bbPCo",
        "colab": {
          "base_uri": "https://localhost:8080/",
          "height": 34
        }
      },
      "source": [
        "from sklearn.model_selection import cross_val_score\n",
        "clf = RandomForestClassifier(n_estimators=100, \n",
        "                             max_depth=2, random_state=42)\n",
        "scores = cross_val_score(clf, X_mc, y, cv=10)\n",
        "print(\"Accuracy: %0.2f (+/- %0.2f)\" % (scores.mean(), scores.std() * 2))"
      ],
      "execution_count": 41,
      "outputs": [
        {
          "output_type": "stream",
          "text": [
            "Accuracy: 0.73 (+/- 0.00)\n"
          ],
          "name": "stdout"
        }
      ]
    },
    {
      "cell_type": "markdown",
      "metadata": {
        "colab_type": "text",
        "id": "NL3OtgaGgxQB"
      },
      "source": [
        "### VAE generated data with original outcome"
      ]
    },
    {
      "cell_type": "code",
      "metadata": {
        "id": "Crz0AfZ-bSg-",
        "colab_type": "code",
        "outputId": "cb2bb0b8-0c71-4fab-8081-bd29a82f478f",
        "colab": {
          "base_uri": "https://localhost:8080/",
          "height": 34
        }
      },
      "source": [
        "from sklearn.model_selection import cross_val_score\n",
        "clf = RandomForestClassifier(n_estimators=100, \n",
        "                             max_depth=2, random_state=42)\n",
        "scores = cross_val_score(clf, X_vae, y, cv=10)\n",
        "print(\"Accuracy: %0.2f (+/- %0.2f)\" % (scores.mean(), scores.std() * 2))"
      ],
      "execution_count": 42,
      "outputs": [
        {
          "output_type": "stream",
          "text": [
            "Accuracy: 0.73 (+/- 0.00)\n"
          ],
          "name": "stdout"
        }
      ]
    },
    {
      "cell_type": "markdown",
      "metadata": {
        "colab_type": "text",
        "id": "mrCqDtssg4nB"
      },
      "source": [
        "### Original data with Dropout VAE outcome"
      ]
    },
    {
      "cell_type": "code",
      "metadata": {
        "colab_type": "code",
        "id": "mH3gS3nacvV7",
        "outputId": "1cdabfc8-dab1-4f06-e943-1a0484cbfb65",
        "colab": {
          "base_uri": "https://localhost:8080/",
          "height": 34
        }
      },
      "source": [
        "from sklearn.model_selection import cross_val_score\n",
        "clf = RandomForestClassifier(n_estimators=100, \n",
        "                             max_depth=2, random_state=42)\n",
        "scores = cross_val_score(clf, X, y_mc, cv=10)\n",
        "print(\"Accuracy: %0.2f (+/- %0.2f)\" % (scores.mean(), scores.std() * 2))"
      ],
      "execution_count": 43,
      "outputs": [
        {
          "output_type": "stream",
          "text": [
            "Accuracy: 0.76 (+/- 0.00)\n"
          ],
          "name": "stdout"
        }
      ]
    },
    {
      "cell_type": "markdown",
      "metadata": {
        "colab_type": "text",
        "id": "YlER2gGnhBGJ"
      },
      "source": [
        "### Original data with VAE outcome"
      ]
    },
    {
      "cell_type": "code",
      "metadata": {
        "colab_type": "code",
        "id": "MezW_-9ZcvWA",
        "outputId": "c371d670-3bd1-4206-be44-8431e023b80c",
        "colab": {
          "base_uri": "https://localhost:8080/",
          "height": 34
        }
      },
      "source": [
        "from sklearn.model_selection import cross_val_score\n",
        "clf = RandomForestClassifier(n_estimators=100, \n",
        "                             max_depth=2, random_state=42)\n",
        "scores = cross_val_score(clf, X, y_vae, cv=10)\n",
        "print(\"Accuracy: %0.2f (+/- %0.2f)\" % (scores.mean(), scores.std() * 2))"
      ],
      "execution_count": 44,
      "outputs": [
        {
          "output_type": "stream",
          "text": [
            "Accuracy: 0.75 (+/- 0.00)\n"
          ],
          "name": "stdout"
        }
      ]
    }
  ]
}