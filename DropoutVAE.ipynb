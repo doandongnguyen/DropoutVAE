{
  "nbformat": 4,
  "nbformat_minor": 0,
  "metadata": {
    "colab": {
      "name": "DropoutVAE.ipynb",
      "version": "0.3.2",
      "provenance": [],
      "collapsed_sections": [],
      "toc_visible": true
    },
    "kernelspec": {
      "name": "python3",
      "display_name": "Python 3"
    },
    "accelerator": "GPU"
  },
  "cells": [
    {
      "cell_type": "markdown",
      "metadata": {
        "id": "yl5YDWvEeu4a",
        "colab_type": "text"
      },
      "source": [
        "The purpose is to use Dropout in VAE in order to generate data.\n",
        "\n",
        "Origin VAE uses latent values to generate the data.\n",
        "However, with Dropout VAE, we can use some origin data to generate.\n",
        "\n",
        "\n",
        "The dataset used in notebook: [Customer Support](https://www.ibm.com/communities/analytics/watson-analytics-blog/guide-to-sample-datasets/)\n",
        "\n",
        "More example about VAE: [Modeling Telecom customer churn](https://towardsdatascience.com/modeling-telecom-customer-churn-with-variational-autoencoder-4e5cf6194871)\n",
        "\n",
        "Origin code for VAE in keras: [Building Autoencoders in keras](https://blog.keras.io/building-autoencoders-in-keras.html)"
      ]
    },
    {
      "cell_type": "markdown",
      "metadata": {
        "id": "fdT9BTrmT3ro",
        "colab_type": "text"
      },
      "source": [
        "# Import Libraries"
      ]
    },
    {
      "cell_type": "code",
      "metadata": {
        "id": "CQNUpL6YT32X",
        "colab_type": "code",
        "colab": {
          "base_uri": "https://localhost:8080/",
          "height": 34
        },
        "outputId": "e490b6dc-87b9-4cde-f595-2167e91d57c8"
      },
      "source": [
        "from __future__ import absolute_import\n",
        "from __future__ import division\n",
        "from __future__ import print_function\n",
        "\n",
        "import os\n",
        "import random\n",
        "import argparse\n",
        "import numpy as np\n",
        "import matplotlib.pyplot as plt\n",
        "from sklearn.preprocessing import LabelEncoder\n",
        "from tensorflow import set_random_seed\n",
        "\n",
        "from keras import regularizers\n",
        "from keras import backend as K\n",
        "from keras.models import Model\n",
        "from keras.utils import plot_model\n",
        "from keras.losses import mse, binary_crossentropy\n",
        "from keras.layers import Lambda, Input, Dense, Dropout\n",
        "\n",
        "set_random_seed(1)\n",
        "np.random.seed(1)\n",
        "random.seed(1)"
      ],
      "execution_count": 1,
      "outputs": [
        {
          "output_type": "stream",
          "text": [
            "Using TensorFlow backend.\n"
          ],
          "name": "stderr"
        }
      ]
    },
    {
      "cell_type": "markdown",
      "metadata": {
        "id": "sNKVLBOBgR3W",
        "colab_type": "text"
      },
      "source": [
        "# Path to dataset"
      ]
    },
    {
      "cell_type": "code",
      "metadata": {
        "id": "FFaXts2Ycg-w",
        "colab_type": "code",
        "colab": {}
      },
      "source": [
        "path = '/Dataset/WA_Fn-UseC_-Telco-Customer-Churn.csv'"
      ],
      "execution_count": 0,
      "outputs": []
    },
    {
      "cell_type": "code",
      "metadata": {
        "id": "C8zWTy_ePGg7",
        "colab_type": "code",
        "colab": {}
      },
      "source": [
        "intermediate_dim = 512"
      ],
      "execution_count": 0,
      "outputs": []
    },
    {
      "cell_type": "markdown",
      "metadata": {
        "id": "OnJXo9LfUGaJ",
        "colab_type": "text"
      },
      "source": [
        "# Define VAE"
      ]
    },
    {
      "cell_type": "markdown",
      "metadata": {
        "id": "8VTGWwfObeoT",
        "colab_type": "text"
      },
      "source": [
        "## Read Data"
      ]
    },
    {
      "cell_type": "code",
      "metadata": {
        "id": "DfcE15dwhyaL",
        "colab_type": "code",
        "outputId": "d7acd17c-7731-4b9a-f1c3-851116cf97bc",
        "colab": {
          "base_uri": "https://localhost:8080/",
          "height": 595
        }
      },
      "source": [
        "import pandas as pd\n",
        "na_values = {'?', ' '}\n",
        "df = pd.read_csv(path,\n",
        "                 sep=',',\n",
        "                 na_filter=True, \n",
        "                 verbose=False, \n",
        "                 skip_blank_lines=True, \n",
        "                 na_values=na_values,\n",
        "                 keep_default_na=False)\n",
        "                 \n",
        "df.fillna(method='ffill', inplace=True)\n",
        "df.dropna(axis=1, how='any', inplace=True)\n",
        "df.drop(['customerID'], axis=1, inplace=True)\n",
        "df = df.reset_index(drop=True)\n",
        "print(df.info())\n",
        "print(df.head())"
      ],
      "execution_count": 5,
      "outputs": [
        {
          "output_type": "stream",
          "text": [
            "<class 'pandas.core.frame.DataFrame'>\n",
            "RangeIndex: 7043 entries, 0 to 7042\n",
            "Data columns (total 20 columns):\n",
            "gender              7043 non-null object\n",
            "SeniorCitizen       7043 non-null int64\n",
            "Partner             7043 non-null object\n",
            "Dependents          7043 non-null object\n",
            "tenure              7043 non-null int64\n",
            "PhoneService        7043 non-null object\n",
            "MultipleLines       7043 non-null object\n",
            "InternetService     7043 non-null object\n",
            "OnlineSecurity      7043 non-null object\n",
            "OnlineBackup        7043 non-null object\n",
            "DeviceProtection    7043 non-null object\n",
            "TechSupport         7043 non-null object\n",
            "StreamingTV         7043 non-null object\n",
            "StreamingMovies     7043 non-null object\n",
            "Contract            7043 non-null object\n",
            "PaperlessBilling    7043 non-null object\n",
            "PaymentMethod       7043 non-null object\n",
            "MonthlyCharges      7043 non-null float64\n",
            "TotalCharges        7043 non-null float64\n",
            "Churn               7043 non-null object\n",
            "dtypes: float64(2), int64(2), object(16)\n",
            "memory usage: 1.1+ MB\n",
            "None\n",
            "   gender  SeniorCitizen Partner  ... MonthlyCharges  TotalCharges Churn\n",
            "0  Female              0     Yes  ...          29.85         29.85    No\n",
            "1    Male              0      No  ...          56.95       1889.50    No\n",
            "2    Male              0      No  ...          53.85        108.15   Yes\n",
            "3    Male              0      No  ...          42.30       1840.75    No\n",
            "4  Female              0      No  ...          70.70        151.65   Yes\n",
            "\n",
            "[5 rows x 20 columns]\n"
          ],
          "name": "stdout"
        }
      ]
    },
    {
      "cell_type": "markdown",
      "metadata": {
        "id": "ptmiXDEjbhmp",
        "colab_type": "text"
      },
      "source": [
        "## Recognizing Categorical data"
      ]
    },
    {
      "cell_type": "code",
      "metadata": {
        "id": "pfL6yO7HZR7E",
        "colab_type": "code",
        "outputId": "00e7f129-d301-41c6-da33-fafe4c86391d",
        "colab": {
          "base_uri": "https://localhost:8080/",
          "height": 153
        }
      },
      "source": [
        "colnums = len(df.columns)\n",
        "for i in df.columns:\n",
        "    try:\n",
        "        if df[i].dtype.name == 'object':\n",
        "            df[i] = df[i].astype('category')\n",
        "        else:\n",
        "            df[i].astype('float32')\n",
        "    except:\n",
        "        continue\n",
        "print(df.head())"
      ],
      "execution_count": 6,
      "outputs": [
        {
          "output_type": "stream",
          "text": [
            "   gender  SeniorCitizen Partner  ... MonthlyCharges  TotalCharges Churn\n",
            "0  Female              0     Yes  ...          29.85         29.85    No\n",
            "1    Male              0      No  ...          56.95       1889.50    No\n",
            "2    Male              0      No  ...          53.85        108.15   Yes\n",
            "3    Male              0      No  ...          42.30       1840.75    No\n",
            "4  Female              0      No  ...          70.70        151.65   Yes\n",
            "\n",
            "[5 rows x 20 columns]\n"
          ],
          "name": "stdout"
        }
      ]
    },
    {
      "cell_type": "code",
      "metadata": {
        "id": "BpGxC2v2CDi1",
        "colab_type": "code",
        "outputId": "840545e6-4535-45c9-c580-e83592e5abee",
        "colab": {
          "base_uri": "https://localhost:8080/",
          "height": 153
        }
      },
      "source": [
        "from sklearn.model_selection import train_test_split\n",
        "from sklearn.preprocessing import MinMaxScaler, StandardScaler\n",
        "vals = df.values.copy()\n",
        "total_nums = len(vals)\n",
        "\n",
        "train, validation = train_test_split(df, test_size=0.5, \n",
        "                                     random_state=42, \n",
        "                                     shuffle=True)\n",
        "\n",
        "validation = validation.reindex(sorted(validation.columns), axis=1)\n",
        "validation.to_csv(path + '_For_Test.csv')\n",
        "print(validation.head())"
      ],
      "execution_count": 7,
      "outputs": [
        {
          "output_type": "stream",
          "text": [
            "     Churn        Contract Dependents  ... TotalCharges  gender  tenure\n",
            "185    Yes  Month-to-month         No  ...        24.80  Female       1\n",
            "2715    No  Month-to-month         No  ...       996.45    Male      41\n",
            "3825    No        Two year        Yes  ...      1031.70  Female      52\n",
            "1807   Yes  Month-to-month         No  ...        76.35  Female       1\n",
            "132     No        Two year         No  ...      3260.10    Male      67\n",
            "\n",
            "[5 rows x 20 columns]\n"
          ],
          "name": "stdout"
        }
      ]
    },
    {
      "cell_type": "code",
      "metadata": {
        "id": "G-52cnSrZHGm",
        "colab_type": "code",
        "outputId": "429c39ee-0fa0-4693-8b9d-484544038637",
        "colab": {
          "base_uri": "https://localhost:8080/",
          "height": 102
        }
      },
      "source": [
        "df = train\n",
        "categorical = df.select_dtypes(['category']).columns\n",
        "print(categorical)\n",
        "for f in categorical:\n",
        "    dummies = pd.get_dummies(df[f], prefix = f, prefix_sep = '_')\n",
        "    df = pd.concat([df, dummies], axis = 1)\n",
        "    \n",
        "# drop original categorical features\n",
        "df.drop(categorical, axis = 1, inplace = True)"
      ],
      "execution_count": 8,
      "outputs": [
        {
          "output_type": "stream",
          "text": [
            "Index(['gender', 'Partner', 'Dependents', 'PhoneService', 'MultipleLines',\n",
            "       'InternetService', 'OnlineSecurity', 'OnlineBackup', 'DeviceProtection',\n",
            "       'TechSupport', 'StreamingTV', 'StreamingMovies', 'Contract',\n",
            "       'PaperlessBilling', 'PaymentMethod', 'Churn'],\n",
            "      dtype='object')\n"
          ],
          "name": "stdout"
        }
      ]
    },
    {
      "cell_type": "code",
      "metadata": {
        "id": "LmIPmd5wjAM7",
        "colab_type": "code",
        "outputId": "65df8599-868f-4d6e-9365-0b74d30d01ee",
        "colab": {
          "base_uri": "https://localhost:8080/",
          "height": 51
        }
      },
      "source": [
        "train = df.values.copy()\n",
        "train.astype('float32')\n",
        "scaler = MinMaxScaler()\n",
        "d = {}\n",
        "train = scaler.fit_transform(train)\n",
        "x_train, x_test = train_test_split(train, test_size=0.5,\n",
        "                                  random_state=24,\n",
        "                                  shuffle=True)\n",
        "print(x_train.shape)\n",
        "print(x_test.shape)\n"
      ],
      "execution_count": 9,
      "outputs": [
        {
          "output_type": "stream",
          "text": [
            "(1760, 47)\n",
            "(1761, 47)\n"
          ],
          "name": "stdout"
        }
      ]
    },
    {
      "cell_type": "code",
      "metadata": {
        "id": "uNf-3EMl2usm",
        "colab_type": "code",
        "outputId": "c22cb926-f94a-4de2-d453-fce2eb37c0a0",
        "colab": {
          "base_uri": "https://localhost:8080/",
          "height": 51
        }
      },
      "source": [
        "original_dim = x_train.shape[1]\n",
        "x_train = np.reshape(x_train, [-1, original_dim])\n",
        "x_test = np.reshape(x_test, [-1, original_dim])\n",
        "x_train = x_train.astype('float32')\n",
        "x_test = x_test.astype('float32')\n",
        "print(x_train.shape)\n",
        "print(x_test.shape)"
      ],
      "execution_count": 10,
      "outputs": [
        {
          "output_type": "stream",
          "text": [
            "(1760, 47)\n",
            "(1761, 47)\n"
          ],
          "name": "stdout"
        }
      ]
    },
    {
      "cell_type": "code",
      "metadata": {
        "id": "uy-JqW7Jpuyz",
        "colab_type": "code",
        "colab": {}
      },
      "source": [
        "from keras.layers import BatchNormalization\n",
        "class VAE:\n",
        "    def __init__(self, input_shape=(original_dim,), \n",
        "                 intermediate_dim=128, latent_dim=2, summary=False):\n",
        "        \n",
        "        self._build_model(input_shape,\n",
        "                         intermediate_dim, \n",
        "                          latent_dim, summary)\n",
        "    \n",
        "    def _build_model(self, input_shape, intermediate_dim, latent_dim,\n",
        "                    summary=False):\n",
        "        inputs = Input(shape=input_shape, name='encoder_input')\n",
        "        x = inputs\n",
        "        x = Dense(intermediate_dim, activation='relu')(x)\n",
        "        x = Dense(intermediate_dim//2, activation='relu')(x)\n",
        "        \n",
        "        z_mean = Dense(latent_dim, name='z_mean')(x)\n",
        "        z_log_var = Dense(latent_dim, name='z_log_var')(x)\n",
        "\n",
        "        z = Lambda(self.sampling, output_shape=(latent_dim,), \n",
        "                   name='z')([z_mean, z_log_var])\n",
        "\n",
        "        self.encoder = Model(inputs, [z_mean, z_log_var, z], \n",
        "                        name='encoder')\n",
        "        \n",
        "        latent_inputs = Input(shape=(latent_dim,), \n",
        "                              name='z_sampling')\n",
        "        x = latent_inputs\n",
        "        x = Dense(intermediate_dim//2, activation='relu')(x)\n",
        "        x = Dense(intermediate_dim, activation='relu')(x)\n",
        "        outputs = Dense(original_dim, activation='sigmoid')(x)\n",
        "\n",
        "        self.decoder = Model(latent_inputs, outputs, name='decoder')\n",
        "        outputs = self.decoder(self.encoder(inputs)[2])\n",
        "        self.vae = Model(inputs, outputs, name='vae_mlp')\n",
        "        \n",
        "        reconstruction_loss = binary_crossentropy(inputs, outputs)\n",
        "        reconstruction_loss *= original_dim\n",
        "        kl_loss = 1 + z_log_var - K.square(z_mean) - K.exp(z_log_var)\n",
        "        kl_loss = K.sum(kl_loss, axis=-1)\n",
        "        kl_loss *= -0.5\n",
        "        \n",
        "        vae_loss = K.mean(reconstruction_loss + kl_loss)\t\n",
        "        \n",
        "        self.vae.add_loss(vae_loss)\n",
        "        self.vae.compile(optimizer='adam')\n",
        "        if summary: \n",
        "            print(self.vae.summary())\n",
        "        \n",
        "    def sampling(self, args):\n",
        "        z_mean, z_log_var = args\n",
        "        batch = K.shape(z_mean)[0]\n",
        "        dim = K.int_shape(z_mean)[1]\n",
        "        epsilon = K.random_normal(shape=(batch, dim))\n",
        "        return z_mean + K.exp(0.5 * z_log_var) * epsilon\n",
        "        \n",
        "    def fit(self, x_train, x_test, epochs=100, batch_size=100,\n",
        "           verbose=1):\n",
        "        self.vae.fit(x_train, \n",
        "            shuffle=True,\n",
        "            epochs=epochs,\n",
        "            batch_size=batch_size,\n",
        "            verbose=verbose,\n",
        "            validation_data=(x_test, None))\n",
        "    \n",
        "    def encoder_predict(self, x_test, batch_size=100):\n",
        "        return self.encoder.predict(x_test,\n",
        "                                   batch_size=batch_size)\n",
        "    \n",
        "    def generate(self, latent_val, batch_size=100):\n",
        "        return self.decoder.predict(latent_val)\n",
        "    \n",
        "    def predict(self, x_test, batch_size=1):\n",
        "        prediction = self.vae.predict(x_test)\n",
        "        return prediction"
      ],
      "execution_count": 0,
      "outputs": []
    },
    {
      "cell_type": "markdown",
      "metadata": {
        "id": "KXhRjx02UYZN",
        "colab_type": "text"
      },
      "source": [
        "## Training VAE"
      ]
    },
    {
      "cell_type": "markdown",
      "metadata": {
        "id": "Wd02caRJWGG8",
        "colab_type": "text"
      },
      "source": [
        "Just let the last value to test"
      ]
    },
    {
      "cell_type": "code",
      "metadata": {
        "id": "XBbIF17p8iY2",
        "colab_type": "code",
        "outputId": "54129ea7-ad3c-4e2a-d835-b6d17864f495",
        "colab": {
          "base_uri": "https://localhost:8080/",
          "height": 3556
        }
      },
      "source": [
        "latent_dim = original_dim//2\n",
        "if latent_dim < 2:\n",
        "    latent_dim = 2\n",
        "vae = VAE(intermediate_dim=intermediate_dim, latent_dim=latent_dim)\n",
        "vae.fit(x_train, x_test, epochs=100)"
      ],
      "execution_count": 12,
      "outputs": [
        {
          "output_type": "stream",
          "text": [
            "WARNING:tensorflow:From /usr/local/lib/python3.6/dist-packages/tensorflow/python/framework/op_def_library.py:263: colocate_with (from tensorflow.python.framework.ops) is deprecated and will be removed in a future version.\n",
            "Instructions for updating:\n",
            "Colocations handled automatically by placer.\n",
            "WARNING:tensorflow:From /usr/local/lib/python3.6/dist-packages/tensorflow/python/ops/math_ops.py:3066: to_int32 (from tensorflow.python.ops.math_ops) is deprecated and will be removed in a future version.\n",
            "Instructions for updating:\n",
            "Use tf.cast instead.\n",
            "Train on 1760 samples, validate on 1761 samples\n",
            "Epoch 1/100\n",
            "1760/1760 [==============================] - 1s 780us/step - loss: 29.3855 - val_loss: 28.3879\n",
            "Epoch 2/100\n",
            "1760/1760 [==============================] - 0s 57us/step - loss: 27.7459 - val_loss: 26.8112\n",
            "Epoch 3/100\n",
            "1760/1760 [==============================] - 0s 65us/step - loss: 24.9679 - val_loss: 23.5514\n",
            "Epoch 4/100\n",
            "1760/1760 [==============================] - 0s 56us/step - loss: 23.0151 - val_loss: 22.8142\n",
            "Epoch 5/100\n",
            "1760/1760 [==============================] - 0s 55us/step - loss: 22.5863 - val_loss: 22.2015\n",
            "Epoch 6/100\n",
            "1760/1760 [==============================] - 0s 55us/step - loss: 21.8968 - val_loss: 21.6563\n",
            "Epoch 7/100\n",
            "1760/1760 [==============================] - 0s 56us/step - loss: 21.7712 - val_loss: 21.4705\n",
            "Epoch 8/100\n",
            "1760/1760 [==============================] - 0s 56us/step - loss: 21.5398 - val_loss: 21.4014\n",
            "Epoch 9/100\n",
            "1760/1760 [==============================] - 0s 55us/step - loss: 21.1764 - val_loss: 20.9156\n",
            "Epoch 10/100\n",
            "1760/1760 [==============================] - 0s 60us/step - loss: 20.9328 - val_loss: 20.8186\n",
            "Epoch 11/100\n",
            "1760/1760 [==============================] - 0s 55us/step - loss: 20.7545 - val_loss: 20.5236\n",
            "Epoch 12/100\n",
            "1760/1760 [==============================] - 0s 55us/step - loss: 20.3517 - val_loss: 20.1585\n",
            "Epoch 13/100\n",
            "1760/1760 [==============================] - 0s 56us/step - loss: 20.0311 - val_loss: 19.8304\n",
            "Epoch 14/100\n",
            "1760/1760 [==============================] - 0s 55us/step - loss: 19.8031 - val_loss: 19.6924\n",
            "Epoch 15/100\n",
            "1760/1760 [==============================] - 0s 57us/step - loss: 19.5842 - val_loss: 19.4097\n",
            "Epoch 16/100\n",
            "1760/1760 [==============================] - 0s 57us/step - loss: 19.3799 - val_loss: 19.2229\n",
            "Epoch 17/100\n",
            "1760/1760 [==============================] - 0s 60us/step - loss: 19.1669 - val_loss: 19.2358\n",
            "Epoch 18/100\n",
            "1760/1760 [==============================] - 0s 55us/step - loss: 18.9570 - val_loss: 18.9300\n",
            "Epoch 19/100\n",
            "1760/1760 [==============================] - 0s 56us/step - loss: 18.9621 - val_loss: 18.9919\n",
            "Epoch 20/100\n",
            "1760/1760 [==============================] - 0s 65us/step - loss: 18.9353 - val_loss: 18.9330\n",
            "Epoch 21/100\n",
            "1760/1760 [==============================] - 0s 55us/step - loss: 18.7896 - val_loss: 18.6558\n",
            "Epoch 22/100\n",
            "1760/1760 [==============================] - 0s 52us/step - loss: 18.3987 - val_loss: 18.5097\n",
            "Epoch 23/100\n",
            "1760/1760 [==============================] - 0s 56us/step - loss: 18.5552 - val_loss: 18.5118\n",
            "Epoch 24/100\n",
            "1760/1760 [==============================] - 0s 57us/step - loss: 18.2905 - val_loss: 18.3788\n",
            "Epoch 25/100\n",
            "1760/1760 [==============================] - 0s 57us/step - loss: 18.4088 - val_loss: 18.4484\n",
            "Epoch 26/100\n",
            "1760/1760 [==============================] - 0s 56us/step - loss: 18.1543 - val_loss: 18.3984\n",
            "Epoch 27/100\n",
            "1760/1760 [==============================] - 0s 57us/step - loss: 18.0490 - val_loss: 18.2074\n",
            "Epoch 28/100\n",
            "1760/1760 [==============================] - 0s 56us/step - loss: 17.7676 - val_loss: 17.9960\n",
            "Epoch 29/100\n",
            "1760/1760 [==============================] - 0s 55us/step - loss: 17.8629 - val_loss: 17.9788\n",
            "Epoch 30/100\n",
            "1760/1760 [==============================] - 0s 64us/step - loss: 17.7074 - val_loss: 17.8718\n",
            "Epoch 31/100\n",
            "1760/1760 [==============================] - 0s 54us/step - loss: 17.5101 - val_loss: 17.7675\n",
            "Epoch 32/100\n",
            "1760/1760 [==============================] - 0s 54us/step - loss: 17.6087 - val_loss: 17.6377\n",
            "Epoch 33/100\n",
            "1760/1760 [==============================] - 0s 55us/step - loss: 17.4872 - val_loss: 17.5222\n",
            "Epoch 34/100\n",
            "1760/1760 [==============================] - 0s 56us/step - loss: 17.4696 - val_loss: 17.7672\n",
            "Epoch 35/100\n",
            "1760/1760 [==============================] - 0s 55us/step - loss: 17.5255 - val_loss: 17.6211\n",
            "Epoch 36/100\n",
            "1760/1760 [==============================] - 0s 57us/step - loss: 17.2350 - val_loss: 17.4662\n",
            "Epoch 37/100\n",
            "1760/1760 [==============================] - 0s 55us/step - loss: 17.1046 - val_loss: 17.2070\n",
            "Epoch 38/100\n",
            "1760/1760 [==============================] - 0s 56us/step - loss: 17.1605 - val_loss: 17.2218\n",
            "Epoch 39/100\n",
            "1760/1760 [==============================] - 0s 54us/step - loss: 16.9488 - val_loss: 17.3679\n",
            "Epoch 40/100\n",
            "1760/1760 [==============================] - 0s 60us/step - loss: 16.9792 - val_loss: 17.1158\n",
            "Epoch 41/100\n",
            "1760/1760 [==============================] - 0s 55us/step - loss: 16.9153 - val_loss: 17.3940\n",
            "Epoch 42/100\n",
            "1760/1760 [==============================] - 0s 55us/step - loss: 16.7794 - val_loss: 17.1898\n",
            "Epoch 43/100\n",
            "1760/1760 [==============================] - 0s 55us/step - loss: 16.7989 - val_loss: 17.0570\n",
            "Epoch 44/100\n",
            "1760/1760 [==============================] - 0s 56us/step - loss: 16.8321 - val_loss: 17.0762\n",
            "Epoch 45/100\n",
            "1760/1760 [==============================] - 0s 56us/step - loss: 16.5660 - val_loss: 16.9617\n",
            "Epoch 46/100\n",
            "1760/1760 [==============================] - 0s 55us/step - loss: 16.6535 - val_loss: 17.0307\n",
            "Epoch 47/100\n",
            "1760/1760 [==============================] - 0s 55us/step - loss: 16.6386 - val_loss: 16.9212\n",
            "Epoch 48/100\n",
            "1760/1760 [==============================] - 0s 59us/step - loss: 16.5020 - val_loss: 17.0780\n",
            "Epoch 49/100\n",
            "1760/1760 [==============================] - 0s 55us/step - loss: 16.7387 - val_loss: 17.0501\n",
            "Epoch 50/100\n",
            "1760/1760 [==============================] - 0s 55us/step - loss: 16.5533 - val_loss: 17.0307\n",
            "Epoch 51/100\n",
            "1760/1760 [==============================] - 0s 60us/step - loss: 16.5401 - val_loss: 17.2102\n",
            "Epoch 52/100\n",
            "1760/1760 [==============================] - 0s 55us/step - loss: 16.5968 - val_loss: 16.9623\n",
            "Epoch 53/100\n",
            "1760/1760 [==============================] - 0s 56us/step - loss: 16.4750 - val_loss: 16.8552\n",
            "Epoch 54/100\n",
            "1760/1760 [==============================] - 0s 56us/step - loss: 16.3752 - val_loss: 16.7920\n",
            "Epoch 55/100\n",
            "1760/1760 [==============================] - 0s 55us/step - loss: 16.4122 - val_loss: 16.7946\n",
            "Epoch 56/100\n",
            "1760/1760 [==============================] - 0s 57us/step - loss: 16.2906 - val_loss: 16.7365\n",
            "Epoch 57/100\n",
            "1760/1760 [==============================] - 0s 56us/step - loss: 16.5199 - val_loss: 16.8949\n",
            "Epoch 58/100\n",
            "1760/1760 [==============================] - 0s 58us/step - loss: 16.0989 - val_loss: 16.6396\n",
            "Epoch 59/100\n",
            "1760/1760 [==============================] - 0s 56us/step - loss: 16.1603 - val_loss: 16.5553\n",
            "Epoch 60/100\n",
            "1760/1760 [==============================] - 0s 55us/step - loss: 16.3143 - val_loss: 16.5330\n",
            "Epoch 61/100\n",
            "1760/1760 [==============================] - 0s 60us/step - loss: 16.2165 - val_loss: 16.8078\n",
            "Epoch 62/100\n",
            "1760/1760 [==============================] - 0s 55us/step - loss: 16.0587 - val_loss: 16.6850\n",
            "Epoch 63/100\n",
            "1760/1760 [==============================] - 0s 56us/step - loss: 16.1591 - val_loss: 16.7025\n",
            "Epoch 64/100\n",
            "1760/1760 [==============================] - 0s 55us/step - loss: 16.2126 - val_loss: 16.6327\n",
            "Epoch 65/100\n",
            "1760/1760 [==============================] - 0s 56us/step - loss: 16.0422 - val_loss: 16.5390\n",
            "Epoch 66/100\n",
            "1760/1760 [==============================] - 0s 55us/step - loss: 16.1851 - val_loss: 16.5995\n",
            "Epoch 67/100\n",
            "1760/1760 [==============================] - 0s 55us/step - loss: 16.1930 - val_loss: 16.4779\n",
            "Epoch 68/100\n",
            "1760/1760 [==============================] - 0s 55us/step - loss: 16.2711 - val_loss: 16.5221\n",
            "Epoch 69/100\n",
            "1760/1760 [==============================] - 0s 58us/step - loss: 15.9488 - val_loss: 16.7216\n",
            "Epoch 70/100\n",
            "1760/1760 [==============================] - 0s 56us/step - loss: 16.1241 - val_loss: 16.4612\n",
            "Epoch 71/100\n",
            "1760/1760 [==============================] - 0s 57us/step - loss: 16.0089 - val_loss: 16.4299\n",
            "Epoch 72/100\n",
            "1760/1760 [==============================] - 0s 55us/step - loss: 16.0512 - val_loss: 16.6397\n",
            "Epoch 73/100\n",
            "1760/1760 [==============================] - 0s 56us/step - loss: 15.8937 - val_loss: 16.4113\n",
            "Epoch 74/100\n",
            "1760/1760 [==============================] - 0s 55us/step - loss: 16.0570 - val_loss: 16.2663\n",
            "Epoch 75/100\n",
            "1760/1760 [==============================] - 0s 54us/step - loss: 16.0856 - val_loss: 16.6099\n",
            "Epoch 76/100\n",
            "1760/1760 [==============================] - 0s 57us/step - loss: 16.2771 - val_loss: 16.5157\n",
            "Epoch 77/100\n",
            "1760/1760 [==============================] - 0s 55us/step - loss: 15.8845 - val_loss: 16.3988\n",
            "Epoch 78/100\n",
            "1760/1760 [==============================] - 0s 56us/step - loss: 15.9474 - val_loss: 16.6241\n",
            "Epoch 79/100\n",
            "1760/1760 [==============================] - 0s 54us/step - loss: 15.8460 - val_loss: 16.4904\n",
            "Epoch 80/100\n",
            "1760/1760 [==============================] - 0s 56us/step - loss: 16.1202 - val_loss: 16.3368\n",
            "Epoch 81/100\n",
            "1760/1760 [==============================] - 0s 61us/step - loss: 15.8733 - val_loss: 16.5954\n",
            "Epoch 82/100\n",
            "1760/1760 [==============================] - 0s 57us/step - loss: 16.0411 - val_loss: 16.4694\n",
            "Epoch 83/100\n",
            "1760/1760 [==============================] - 0s 55us/step - loss: 15.7902 - val_loss: 16.1367\n",
            "Epoch 84/100\n",
            "1760/1760 [==============================] - 0s 55us/step - loss: 15.8059 - val_loss: 16.3615\n",
            "Epoch 85/100\n",
            "1760/1760 [==============================] - 0s 57us/step - loss: 15.8944 - val_loss: 16.1272\n",
            "Epoch 86/100\n",
            "1760/1760 [==============================] - 0s 57us/step - loss: 15.6215 - val_loss: 16.1525\n",
            "Epoch 87/100\n",
            "1760/1760 [==============================] - 0s 55us/step - loss: 15.5784 - val_loss: 16.3745\n",
            "Epoch 88/100\n",
            "1760/1760 [==============================] - 0s 57us/step - loss: 15.6317 - val_loss: 16.2190\n",
            "Epoch 89/100\n",
            "1760/1760 [==============================] - 0s 55us/step - loss: 15.7033 - val_loss: 16.3138\n",
            "Epoch 90/100\n",
            "1760/1760 [==============================] - 0s 56us/step - loss: 15.7663 - val_loss: 16.3821\n",
            "Epoch 91/100\n",
            "1760/1760 [==============================] - 0s 55us/step - loss: 15.8974 - val_loss: 16.3629\n",
            "Epoch 92/100\n",
            "1760/1760 [==============================] - 0s 58us/step - loss: 15.5469 - val_loss: 16.1008\n",
            "Epoch 93/100\n",
            "1760/1760 [==============================] - 0s 56us/step - loss: 15.7727 - val_loss: 16.1943\n",
            "Epoch 94/100\n",
            "1760/1760 [==============================] - 0s 53us/step - loss: 15.7105 - val_loss: 16.2299\n",
            "Epoch 95/100\n",
            "1760/1760 [==============================] - 0s 56us/step - loss: 15.6709 - val_loss: 16.2143\n",
            "Epoch 96/100\n",
            "1760/1760 [==============================] - 0s 54us/step - loss: 15.6628 - val_loss: 16.4780\n",
            "Epoch 97/100\n",
            "1760/1760 [==============================] - 0s 56us/step - loss: 15.8055 - val_loss: 16.3973\n",
            "Epoch 98/100\n",
            "1760/1760 [==============================] - 0s 55us/step - loss: 15.6506 - val_loss: 16.5852\n",
            "Epoch 99/100\n",
            "1760/1760 [==============================] - 0s 55us/step - loss: 15.7300 - val_loss: 16.4137\n",
            "Epoch 100/100\n",
            "1760/1760 [==============================] - 0s 57us/step - loss: 15.6936 - val_loss: 16.4144\n"
          ],
          "name": "stdout"
        }
      ]
    },
    {
      "cell_type": "code",
      "metadata": {
        "id": "ZiV2iQyVwSdN",
        "colab_type": "code",
        "outputId": "0216ab44-cca1-493f-9b49-29f091f8bdf9",
        "colab": {
          "base_uri": "https://localhost:8080/",
          "height": 34
        }
      },
      "source": [
        "np.random.seed(1)\n",
        "x_test = np.reshape(x_test, (-1, original_dim))\n",
        "x_test_encoded = vae.encoder.predict(x_test)\n",
        "x_test_encoded = np.asarray(x_test_encoded)\n",
        "\n",
        "print(x_test_encoded.shape)"
      ],
      "execution_count": 13,
      "outputs": [
        {
          "output_type": "stream",
          "text": [
            "(3, 1761, 23)\n"
          ],
          "name": "stdout"
        }
      ]
    },
    {
      "cell_type": "code",
      "metadata": {
        "id": "qTfvSN_R2c76",
        "colab_type": "code",
        "outputId": "1d28d02e-3e3e-4b80-c5cb-dca3b094fa74",
        "colab": {
          "base_uri": "https://localhost:8080/",
          "height": 34
        }
      },
      "source": [
        "total_nums = 2\n",
        "results = []\n",
        "for i in range(x_test_encoded.shape[1]):\n",
        "    latent_gen = []\n",
        "    for j in range(x_test_encoded.shape[2]):\n",
        "        mean_v1 = x_test_encoded[0, i, j]\n",
        "        log_var_v1 = x_test_encoded[1, i, j]\n",
        "\n",
        "        v1 = [mean_v1 + np.exp(log_var_v1/2)*np.random.normal(0., 1., 1) for _ in range(total_nums)]\n",
        "        v1 = np.asarray(v1).flatten()\n",
        "        latent_gen.append(v1)\n",
        "    \n",
        "    input_val = np.asarray(latent_gen)\n",
        "    input_val = input_val.reshape((-1, latent_dim))\n",
        "    results.append(vae.generate(input_val))\n",
        "        \n",
        "results = np.asarray(results)\n",
        "results = np.reshape(results, (-1, original_dim))\n",
        "print(results.shape)\n",
        "results = scaler.inverse_transform(results)"
      ],
      "execution_count": 14,
      "outputs": [
        {
          "output_type": "stream",
          "text": [
            "(3522, 47)\n"
          ],
          "name": "stdout"
        }
      ]
    },
    {
      "cell_type": "code",
      "metadata": {
        "id": "xdg-w-3eMquu",
        "colab_type": "code",
        "outputId": "5ff9a03a-b704-488b-c8c3-d609e2200584",
        "colab": {
          "base_uri": "https://localhost:8080/",
          "height": 51
        }
      },
      "source": [
        "print(len(results[:, 1]))\n",
        "print(results[0, 0])"
      ],
      "execution_count": 15,
      "outputs": [
        {
          "output_type": "stream",
          "text": [
            "3522\n",
            "0.19776687\n"
          ],
          "name": "stdout"
        }
      ]
    },
    {
      "cell_type": "code",
      "metadata": {
        "id": "fC6DiGV8MV9W",
        "colab_type": "code",
        "colab": {}
      },
      "source": [
        "d = {}\n",
        "names = list(df)\n",
        "for i, name in enumerate(names):\n",
        "    d[name] = results[:, i]\n",
        "df = pd.DataFrame(data=d)"
      ],
      "execution_count": 0,
      "outputs": []
    },
    {
      "cell_type": "code",
      "metadata": {
        "id": "49_bbWWCsrHG",
        "colab_type": "code",
        "outputId": "f2cfeb90-00d1-4cbe-cea3-6305ac08b26b",
        "colab": {
          "base_uri": "https://localhost:8080/",
          "height": 102
        }
      },
      "source": [
        "names = list(df)\n",
        "c_dict = {}\n",
        "for n in names:\n",
        "    if '_' in n:\n",
        "        index = n.index('_')\n",
        "        c_dict[n[:index]] = [c for c in names if n[:index+1] in c]\n",
        "values = []\n",
        "for key, items in c_dict.items():\n",
        "    dummies = df[items]\n",
        "    d_names = list(dummies)\n",
        "    c_dict = {}\n",
        "    for n in d_names:\n",
        "        c_dict[n] = n[n.index('_')+1:]\n",
        "    dummies.rename(columns=c_dict, \n",
        "                   inplace=True)\n",
        "    df[key] = dummies.idxmax(axis=1)\n",
        "    df.drop(items, axis=1, inplace=True)\n",
        "print(df.head())"
      ],
      "execution_count": 17,
      "outputs": [
        {
          "output_type": "stream",
          "text": [
            "/usr/local/lib/python3.6/dist-packages/pandas/core/frame.py:4025: SettingWithCopyWarning: \n",
            "A value is trying to be set on a copy of a slice from a DataFrame\n",
            "\n",
            "See the caveats in the documentation: http://pandas.pydata.org/pandas-docs/stable/indexing.html#indexing-view-versus-copy\n",
            "  return super(DataFrame, self).rename(**kwargs)\n"
          ],
          "name": "stderr"
        }
      ]
    },
    {
      "cell_type": "code",
      "metadata": {
        "id": "1ljK-ceANBih",
        "colab_type": "code",
        "colab": {}
      },
      "source": [
        "df = df.reindex(sorted(df.columns), axis=1)\n",
        "df.to_csv(path + '_vae.csv')"
      ],
      "execution_count": 0,
      "outputs": []
    },
    {
      "cell_type": "markdown",
      "metadata": {
        "colab_type": "text",
        "id": "SZr05ADu6LQP"
      },
      "source": [
        "# Dropout VAE"
      ]
    },
    {
      "cell_type": "markdown",
      "metadata": {
        "colab_type": "text",
        "id": "70nAVW82oNMV"
      },
      "source": [
        "## Read Data"
      ]
    },
    {
      "cell_type": "code",
      "metadata": {
        "colab_type": "code",
        "outputId": "4cc4c196-07ac-4f7d-a4c1-91a277cce74b",
        "id": "EUDQdDxxT29T",
        "colab": {
          "base_uri": "https://localhost:8080/",
          "height": 595
        }
      },
      "source": [
        "import pandas as pd\n",
        "na_values = {'?', ' '}\n",
        "df = pd.read_csv(path,\n",
        "                 sep=',',\n",
        "                 na_filter=True, \n",
        "                 verbose=False, \n",
        "                 skip_blank_lines=True, \n",
        "                 na_values=na_values,\n",
        "                 keep_default_na=False)\n",
        "                 \n",
        "df.fillna(method='ffill', inplace=True)\n",
        "df.dropna(axis=1, how='any', inplace=True)\n",
        "df.drop(['customerID'], axis=1, inplace=True)\n",
        "df = df.reset_index(drop=True)\n",
        "print(df.info())\n",
        "print(df.head())"
      ],
      "execution_count": 19,
      "outputs": [
        {
          "output_type": "stream",
          "text": [
            "<class 'pandas.core.frame.DataFrame'>\n",
            "RangeIndex: 7043 entries, 0 to 7042\n",
            "Data columns (total 20 columns):\n",
            "gender              7043 non-null object\n",
            "SeniorCitizen       7043 non-null int64\n",
            "Partner             7043 non-null object\n",
            "Dependents          7043 non-null object\n",
            "tenure              7043 non-null int64\n",
            "PhoneService        7043 non-null object\n",
            "MultipleLines       7043 non-null object\n",
            "InternetService     7043 non-null object\n",
            "OnlineSecurity      7043 non-null object\n",
            "OnlineBackup        7043 non-null object\n",
            "DeviceProtection    7043 non-null object\n",
            "TechSupport         7043 non-null object\n",
            "StreamingTV         7043 non-null object\n",
            "StreamingMovies     7043 non-null object\n",
            "Contract            7043 non-null object\n",
            "PaperlessBilling    7043 non-null object\n",
            "PaymentMethod       7043 non-null object\n",
            "MonthlyCharges      7043 non-null float64\n",
            "TotalCharges        7043 non-null float64\n",
            "Churn               7043 non-null object\n",
            "dtypes: float64(2), int64(2), object(16)\n",
            "memory usage: 1.1+ MB\n",
            "None\n",
            "   gender  SeniorCitizen Partner  ... MonthlyCharges  TotalCharges Churn\n",
            "0  Female              0     Yes  ...          29.85         29.85    No\n",
            "1    Male              0      No  ...          56.95       1889.50    No\n",
            "2    Male              0      No  ...          53.85        108.15   Yes\n",
            "3    Male              0      No  ...          42.30       1840.75    No\n",
            "4  Female              0      No  ...          70.70        151.65   Yes\n",
            "\n",
            "[5 rows x 20 columns]\n"
          ],
          "name": "stdout"
        }
      ]
    },
    {
      "cell_type": "markdown",
      "metadata": {
        "colab_type": "text",
        "id": "JptPeF-IT29g"
      },
      "source": [
        "## Recognizing Categorical data"
      ]
    },
    {
      "cell_type": "code",
      "metadata": {
        "colab_type": "code",
        "outputId": "079c4121-29f6-4bbc-b6c2-51a614fd2226",
        "id": "ezmEK3h-T29h",
        "colab": {
          "base_uri": "https://localhost:8080/",
          "height": 153
        }
      },
      "source": [
        "colnums = len(df.columns)\n",
        "for i in df.columns:\n",
        "    try:\n",
        "        if df[i].dtype.name == 'object':\n",
        "            df[i] = df[i].astype('category')\n",
        "        else:\n",
        "            df[i].astype('float32')\n",
        "    except:\n",
        "        continue\n",
        "print(df.head())"
      ],
      "execution_count": 20,
      "outputs": [
        {
          "output_type": "stream",
          "text": [
            "   gender  SeniorCitizen Partner  ... MonthlyCharges  TotalCharges Churn\n",
            "0  Female              0     Yes  ...          29.85         29.85    No\n",
            "1    Male              0      No  ...          56.95       1889.50    No\n",
            "2    Male              0      No  ...          53.85        108.15   Yes\n",
            "3    Male              0      No  ...          42.30       1840.75    No\n",
            "4  Female              0      No  ...          70.70        151.65   Yes\n",
            "\n",
            "[5 rows x 20 columns]\n"
          ],
          "name": "stdout"
        }
      ]
    },
    {
      "cell_type": "code",
      "metadata": {
        "colab_type": "code",
        "outputId": "29433862-1365-4250-e745-cd0f3c326ecc",
        "id": "oapUxtIiT29l",
        "colab": {
          "base_uri": "https://localhost:8080/",
          "height": 153
        }
      },
      "source": [
        "from sklearn.model_selection import train_test_split\n",
        "from sklearn.preprocessing import MinMaxScaler, StandardScaler\n",
        "vals = df.values.copy()\n",
        "total_nums = len(vals)\n",
        "\n",
        "train, validation = train_test_split(df, test_size=0.5, \n",
        "                                     random_state=42, \n",
        "                                     shuffle=True)\n",
        "\n",
        "validation = validation.reindex(sorted(validation.columns), axis=1)\n",
        "validation.to_csv(path + '_For_Test.csv')\n",
        "print(validation.head())"
      ],
      "execution_count": 21,
      "outputs": [
        {
          "output_type": "stream",
          "text": [
            "     Churn        Contract Dependents  ... TotalCharges  gender  tenure\n",
            "185    Yes  Month-to-month         No  ...        24.80  Female       1\n",
            "2715    No  Month-to-month         No  ...       996.45    Male      41\n",
            "3825    No        Two year        Yes  ...      1031.70  Female      52\n",
            "1807   Yes  Month-to-month         No  ...        76.35  Female       1\n",
            "132     No        Two year         No  ...      3260.10    Male      67\n",
            "\n",
            "[5 rows x 20 columns]\n"
          ],
          "name": "stdout"
        }
      ]
    },
    {
      "cell_type": "code",
      "metadata": {
        "colab_type": "code",
        "outputId": "b6d37a61-cef8-47e2-cbaf-cdd67f858339",
        "id": "HAVFi13QT29o",
        "colab": {
          "base_uri": "https://localhost:8080/",
          "height": 102
        }
      },
      "source": [
        "df = train\n",
        "categorical = df.select_dtypes(['category']).columns\n",
        "print(categorical)\n",
        "for f in categorical:\n",
        "    dummies = pd.get_dummies(df[f], prefix = f, prefix_sep = '_')\n",
        "    df = pd.concat([df, dummies], axis = 1)\n",
        "    \n",
        "# drop original categorical features\n",
        "df.drop(categorical, axis = 1, inplace = True)"
      ],
      "execution_count": 22,
      "outputs": [
        {
          "output_type": "stream",
          "text": [
            "Index(['gender', 'Partner', 'Dependents', 'PhoneService', 'MultipleLines',\n",
            "       'InternetService', 'OnlineSecurity', 'OnlineBackup', 'DeviceProtection',\n",
            "       'TechSupport', 'StreamingTV', 'StreamingMovies', 'Contract',\n",
            "       'PaperlessBilling', 'PaymentMethod', 'Churn'],\n",
            "      dtype='object')\n"
          ],
          "name": "stdout"
        }
      ]
    },
    {
      "cell_type": "code",
      "metadata": {
        "colab_type": "code",
        "id": "9KXhkZujT29r",
        "colab": {}
      },
      "source": [
        "train = df.values.copy()\n",
        "train.astype('float32')\n",
        "scaler = MinMaxScaler()\n",
        "d = {}\n",
        "train = scaler.fit_transform(train)\n",
        "x_train, x_test = train_test_split(train, test_size=0.5,\n",
        "                                  random_state=24,\n",
        "                                  shuffle=True)"
      ],
      "execution_count": 0,
      "outputs": []
    },
    {
      "cell_type": "code",
      "metadata": {
        "colab_type": "code",
        "outputId": "d5cee0c0-af9d-4ca3-d19f-af84351b8a35",
        "id": "fa5UJs9cT29v",
        "colab": {
          "base_uri": "https://localhost:8080/",
          "height": 51
        }
      },
      "source": [
        "original_dim = x_train.shape[1]\n",
        "x_train = np.reshape(x_train, [-1, original_dim])\n",
        "x_test = np.reshape(x_test, [-1, original_dim])\n",
        "x_train = x_train.astype('float32')\n",
        "x_test = x_test.astype('float32')\n",
        "print(x_train.shape)\n",
        "print(x_test.shape)"
      ],
      "execution_count": 24,
      "outputs": [
        {
          "output_type": "stream",
          "text": [
            "(1760, 47)\n",
            "(1761, 47)\n"
          ],
          "name": "stdout"
        }
      ]
    },
    {
      "cell_type": "code",
      "metadata": {
        "colab_type": "code",
        "id": "MnKFnBX-6LQR",
        "colab": {}
      },
      "source": [
        "from keras.regularizers import l2\n",
        "from keras.losses import categorical_crossentropy\n",
        "class DropoutVAE:\n",
        "    def __init__(self, input_shape=(original_dim,), \n",
        "                 intermediate_dim=32, latent_dim=3, dropout=0.05, \n",
        "                 summary=False):\n",
        "        \n",
        "        self._build_model(input_shape,\n",
        "                         intermediate_dim, \n",
        "                          latent_dim, summary,\n",
        "                          dropout)\n",
        "    \n",
        "    def _build_model(self, input_shape, intermediate_dim, latent_dim,\n",
        "                    summary=False, dropout=0.05):\n",
        "        inputs = Input(shape=input_shape, name='encoder_input')\n",
        "        x = inputs\n",
        "        x = Dense(intermediate_dim, activation='relu')(x)\n",
        "        x = Dense(intermediate_dim//2, activation='relu')(x)\n",
        "        \n",
        "        z_mean = Dense(latent_dim, name='z_mean')(x)\n",
        "        z_log_var = Dense(latent_dim, name='z_log_var')(x)\n",
        "\n",
        "        z = Lambda(self.sampling, output_shape=(latent_dim,), \n",
        "                   name='z')([z_mean, z_log_var])\n",
        "\n",
        "        self.encoder = Model(inputs, [z_mean, z_log_var, z], \n",
        "                        name='encoder')\n",
        "        \n",
        "        latent_inputs = Input(shape=(latent_dim,), \n",
        "                              name='z_sampling')\n",
        "        x = latent_inputs\n",
        "        x = Dense(intermediate_dim//2, activation='relu',\n",
        "                 kernel_regularizer=l2(1e-4),\n",
        "                 bias_regularizer=l2(1e-4))(x)\n",
        "        x = Dropout(dropout)(x)\n",
        "        x = Dense(intermediate_dim, activation='relu',\n",
        "                 kernel_regularizer=l2(1e-4),\n",
        "                 bias_regularizer=l2(1e-4))(x)\n",
        "        x = Dropout(dropout)(x)\n",
        "        outputs = Dense(original_dim, activation='sigmoid',\n",
        "                       kernel_regularizer=l2(1e-4),\n",
        "                       bias_regularizer=l2(1e-4))(x)\n",
        "\n",
        "        self.decoder = Model(latent_inputs, \n",
        "                             outputs, \n",
        "                             name='decoder')\n",
        "        outputs = self.decoder(self.encoder(inputs)[2])\n",
        "        self.vae = Model(inputs, outputs, \n",
        "                         name='vae_mlp')\n",
        "        \n",
        "        reconstruction_loss = binary_crossentropy(inputs, outputs)\n",
        "        reconstruction_loss *= original_dim\n",
        "        kl_loss = 1 + z_log_var - K.square(z_mean) - K.exp(z_log_var)\n",
        "        kl_loss = K.sum(kl_loss, axis=-1)\n",
        "        kl_loss *= -0.5\n",
        "        \n",
        "        vae_loss = K.mean(reconstruction_loss + kl_loss)\t\n",
        "        \n",
        "        self.vae.add_loss(vae_loss)\n",
        "        self.vae.compile(optimizer='adam')\n",
        "        if summary: \n",
        "            print(self.vae.summary())\n",
        "        \n",
        "    def sampling(self, args):\n",
        "        z_mean, z_log_var = args\n",
        "        batch = K.shape(z_mean)[0]\n",
        "        dim = K.int_shape(z_mean)[1]\n",
        "        epsilon = K.random_normal(shape=(batch, dim))\n",
        "        return z_mean + K.exp(0.5 * z_log_var) * epsilon\n",
        "        \n",
        "    def fit(self, x_train, x_test, epochs=100, batch_size=100,\n",
        "           verbose=1):\n",
        "        self.vae.fit(x_train, \n",
        "            shuffle=True,\n",
        "            epochs=epochs,\n",
        "            batch_size=batch_size,\n",
        "            verbose=verbose,\n",
        "            validation_data=(x_test, None))\n",
        "    \n",
        "    def encoder_predict(self, x_test, batch_size=100):\n",
        "        return self.encoder.predict(x_test,\n",
        "                                   batch_size=batch_size)\n",
        "    \n",
        "    def generate(self, latent_val, batch_size=100):\n",
        "        return self.decoder.predict(latent_val)\n",
        "    \n",
        "    def predict(self, x_test, batch_size=1, nums=1000):\n",
        "        predict_stochastic = K.function([self.vae.layers[0].input,\n",
        "                                        K.learning_phase()],\n",
        "                                        [self.vae.get_output_at(0)])\n",
        "        Yt_hat = np.array([self.vae.predict(x_test) for _ in range(nums)]) \n",
        "        return Yt_hat"
      ],
      "execution_count": 0,
      "outputs": []
    },
    {
      "cell_type": "markdown",
      "metadata": {
        "colab_type": "text",
        "id": "TsARTKz36LQZ"
      },
      "source": [
        "## Train and evaluate Dropout VAE"
      ]
    },
    {
      "cell_type": "code",
      "metadata": {
        "colab_type": "code",
        "id": "pkdmVggK6LQp",
        "outputId": "47211776-2a4c-4dff-aff0-1cb4e631d452",
        "colab": {
          "base_uri": "https://localhost:8080/",
          "height": 3743
        }
      },
      "source": [
        "latent_dim = original_dim//2\n",
        "if latent_dim < 2:\n",
        "    latent_dim = 2\n",
        "vae = DropoutVAE(intermediate_dim=intermediate_dim,\n",
        "                 dropout=0.2, latent_dim=latent_dim,\n",
        "                 summary=True)\n",
        "vae.fit(x_train, x_test, epochs=100)"
      ],
      "execution_count": 26,
      "outputs": [
        {
          "output_type": "stream",
          "text": [
            "WARNING:tensorflow:From /usr/local/lib/python3.6/dist-packages/keras/backend/tensorflow_backend.py:3445: calling dropout (from tensorflow.python.ops.nn_ops) with keep_prob is deprecated and will be removed in a future version.\n",
            "Instructions for updating:\n",
            "Please use `rate` instead of `keep_prob`. Rate should be set to `rate = 1 - keep_prob`.\n",
            "_________________________________________________________________\n",
            "Layer (type)                 Output Shape              Param #   \n",
            "=================================================================\n",
            "encoder_input (InputLayer)   (None, 47)                0         \n",
            "_________________________________________________________________\n",
            "encoder (Model)              [(None, 23), (None, 23),  167726    \n",
            "_________________________________________________________________\n",
            "decoder (Model)              (None, 47)                161839    \n",
            "=================================================================\n",
            "Total params: 329,565\n",
            "Trainable params: 329,565\n",
            "Non-trainable params: 0\n",
            "_________________________________________________________________\n",
            "None\n",
            "Train on 1760 samples, validate on 1761 samples\n",
            "Epoch 1/100\n",
            "1760/1760 [==============================] - 1s 429us/step - loss: 29.6260 - val_loss: 28.4184\n",
            "Epoch 2/100\n",
            "1760/1760 [==============================] - 0s 76us/step - loss: 28.0914 - val_loss: 27.1512\n",
            "Epoch 3/100\n",
            "1760/1760 [==============================] - 0s 73us/step - loss: 25.9639 - val_loss: 24.5359\n",
            "Epoch 4/100\n",
            "1760/1760 [==============================] - 0s 74us/step - loss: 24.1007 - val_loss: 23.1869\n",
            "Epoch 5/100\n",
            "1760/1760 [==============================] - 0s 73us/step - loss: 23.3514 - val_loss: 22.5808\n",
            "Epoch 6/100\n",
            "1760/1760 [==============================] - 0s 74us/step - loss: 22.9730 - val_loss: 22.3666\n",
            "Epoch 7/100\n",
            "1760/1760 [==============================] - 0s 78us/step - loss: 22.3879 - val_loss: 21.8852\n",
            "Epoch 8/100\n",
            "1760/1760 [==============================] - 0s 73us/step - loss: 22.0385 - val_loss: 21.4094\n",
            "Epoch 9/100\n",
            "1760/1760 [==============================] - 0s 71us/step - loss: 21.8090 - val_loss: 21.1948\n",
            "Epoch 10/100\n",
            "1760/1760 [==============================] - 0s 78us/step - loss: 21.6747 - val_loss: 20.9693\n",
            "Epoch 11/100\n",
            "1760/1760 [==============================] - 0s 72us/step - loss: 21.2018 - val_loss: 20.7138\n",
            "Epoch 12/100\n",
            "1760/1760 [==============================] - 0s 70us/step - loss: 21.0389 - val_loss: 20.5918\n",
            "Epoch 13/100\n",
            "1760/1760 [==============================] - 0s 71us/step - loss: 21.0230 - val_loss: 20.3915\n",
            "Epoch 14/100\n",
            "1760/1760 [==============================] - 0s 71us/step - loss: 20.6659 - val_loss: 20.2877\n",
            "Epoch 15/100\n",
            "1760/1760 [==============================] - 0s 71us/step - loss: 20.5634 - val_loss: 20.1655\n",
            "Epoch 16/100\n",
            "1760/1760 [==============================] - 0s 72us/step - loss: 20.4373 - val_loss: 19.7855\n",
            "Epoch 17/100\n",
            "1760/1760 [==============================] - 0s 72us/step - loss: 20.2244 - val_loss: 19.5978\n",
            "Epoch 18/100\n",
            "1760/1760 [==============================] - 0s 78us/step - loss: 19.9150 - val_loss: 19.4853\n",
            "Epoch 19/100\n",
            "1760/1760 [==============================] - 0s 72us/step - loss: 19.7253 - val_loss: 19.3884\n",
            "Epoch 20/100\n",
            "1760/1760 [==============================] - 0s 71us/step - loss: 19.6229 - val_loss: 19.2089\n",
            "Epoch 21/100\n",
            "1760/1760 [==============================] - 0s 72us/step - loss: 19.6328 - val_loss: 19.1698\n",
            "Epoch 22/100\n",
            "1760/1760 [==============================] - 0s 75us/step - loss: 19.5572 - val_loss: 19.0209\n",
            "Epoch 23/100\n",
            "1760/1760 [==============================] - 0s 71us/step - loss: 19.5634 - val_loss: 19.0839\n",
            "Epoch 24/100\n",
            "1760/1760 [==============================] - 0s 71us/step - loss: 19.3771 - val_loss: 18.9874\n",
            "Epoch 25/100\n",
            "1760/1760 [==============================] - 0s 70us/step - loss: 19.3352 - val_loss: 18.9010\n",
            "Epoch 26/100\n",
            "1760/1760 [==============================] - 0s 76us/step - loss: 19.1969 - val_loss: 18.9752\n",
            "Epoch 27/100\n",
            "1760/1760 [==============================] - 0s 73us/step - loss: 19.2145 - val_loss: 18.8136\n",
            "Epoch 28/100\n",
            "1760/1760 [==============================] - 0s 71us/step - loss: 19.0529 - val_loss: 18.8005\n",
            "Epoch 29/100\n",
            "1760/1760 [==============================] - 0s 73us/step - loss: 19.1964 - val_loss: 18.7676\n",
            "Epoch 30/100\n",
            "1760/1760 [==============================] - 0s 73us/step - loss: 19.0849 - val_loss: 18.8181\n",
            "Epoch 31/100\n",
            "1760/1760 [==============================] - 0s 72us/step - loss: 19.1086 - val_loss: 18.6104\n",
            "Epoch 32/100\n",
            "1760/1760 [==============================] - 0s 72us/step - loss: 19.1064 - val_loss: 18.6860\n",
            "Epoch 33/100\n",
            "1760/1760 [==============================] - 0s 72us/step - loss: 18.8948 - val_loss: 18.4426\n",
            "Epoch 34/100\n",
            "1760/1760 [==============================] - 0s 78us/step - loss: 18.8965 - val_loss: 18.5559\n",
            "Epoch 35/100\n",
            "1760/1760 [==============================] - 0s 71us/step - loss: 18.7522 - val_loss: 18.6070\n",
            "Epoch 36/100\n",
            "1760/1760 [==============================] - 0s 71us/step - loss: 18.8398 - val_loss: 18.3862\n",
            "Epoch 37/100\n",
            "1760/1760 [==============================] - 0s 72us/step - loss: 18.7845 - val_loss: 18.2774\n",
            "Epoch 38/100\n",
            "1760/1760 [==============================] - 0s 74us/step - loss: 18.6740 - val_loss: 18.4034\n",
            "Epoch 39/100\n",
            "1760/1760 [==============================] - 0s 73us/step - loss: 18.6245 - val_loss: 18.2297\n",
            "Epoch 40/100\n",
            "1760/1760 [==============================] - 0s 72us/step - loss: 18.6956 - val_loss: 18.3400\n",
            "Epoch 41/100\n",
            "1760/1760 [==============================] - 0s 73us/step - loss: 18.5822 - val_loss: 18.1898\n",
            "Epoch 42/100\n",
            "1760/1760 [==============================] - 0s 70us/step - loss: 18.6295 - val_loss: 18.2917\n",
            "Epoch 43/100\n",
            "1760/1760 [==============================] - 0s 74us/step - loss: 18.4474 - val_loss: 18.3040\n",
            "Epoch 44/100\n",
            "1760/1760 [==============================] - 0s 62us/step - loss: 18.3832 - val_loss: 18.2407\n",
            "Epoch 45/100\n",
            "1760/1760 [==============================] - 0s 64us/step - loss: 18.4032 - val_loss: 18.0466\n",
            "Epoch 46/100\n",
            "1760/1760 [==============================] - 0s 63us/step - loss: 18.2398 - val_loss: 17.9377\n",
            "Epoch 47/100\n",
            "1760/1760 [==============================] - 0s 61us/step - loss: 18.3227 - val_loss: 17.9911\n",
            "Epoch 48/100\n",
            "1760/1760 [==============================] - 0s 63us/step - loss: 18.3010 - val_loss: 18.0225\n",
            "Epoch 49/100\n",
            "1760/1760 [==============================] - 0s 62us/step - loss: 18.2111 - val_loss: 18.0004\n",
            "Epoch 50/100\n",
            "1760/1760 [==============================] - 0s 64us/step - loss: 18.2481 - val_loss: 18.0536\n",
            "Epoch 51/100\n",
            "1760/1760 [==============================] - 0s 63us/step - loss: 18.0512 - val_loss: 17.8816\n",
            "Epoch 52/100\n",
            "1760/1760 [==============================] - 0s 61us/step - loss: 18.2047 - val_loss: 17.9119\n",
            "Epoch 53/100\n",
            "1760/1760 [==============================] - 0s 62us/step - loss: 18.1423 - val_loss: 17.9406\n",
            "Epoch 54/100\n",
            "1760/1760 [==============================] - 0s 63us/step - loss: 18.1814 - val_loss: 17.7629\n",
            "Epoch 55/100\n",
            "1760/1760 [==============================] - 0s 61us/step - loss: 17.9186 - val_loss: 17.8779\n",
            "Epoch 56/100\n",
            "1760/1760 [==============================] - 0s 63us/step - loss: 17.9293 - val_loss: 17.8307\n",
            "Epoch 57/100\n",
            "1760/1760 [==============================] - 0s 61us/step - loss: 18.0032 - val_loss: 17.7505\n",
            "Epoch 58/100\n",
            "1760/1760 [==============================] - 0s 62us/step - loss: 17.8158 - val_loss: 17.6974\n",
            "Epoch 59/100\n",
            "1760/1760 [==============================] - 0s 63us/step - loss: 17.9677 - val_loss: 17.5837\n",
            "Epoch 60/100\n",
            "1760/1760 [==============================] - 0s 65us/step - loss: 18.0164 - val_loss: 17.7036\n",
            "Epoch 61/100\n",
            "1760/1760 [==============================] - 0s 61us/step - loss: 17.7849 - val_loss: 17.7081\n",
            "Epoch 62/100\n",
            "1760/1760 [==============================] - 0s 62us/step - loss: 17.8560 - val_loss: 17.6075\n",
            "Epoch 63/100\n",
            "1760/1760 [==============================] - 0s 63us/step - loss: 17.7428 - val_loss: 17.5165\n",
            "Epoch 64/100\n",
            "1760/1760 [==============================] - 0s 62us/step - loss: 17.6648 - val_loss: 17.4036\n",
            "Epoch 65/100\n",
            "1760/1760 [==============================] - 0s 63us/step - loss: 17.5939 - val_loss: 17.3873\n",
            "Epoch 66/100\n",
            "1760/1760 [==============================] - 0s 63us/step - loss: 17.6016 - val_loss: 17.5749\n",
            "Epoch 67/100\n",
            "1760/1760 [==============================] - 0s 61us/step - loss: 17.4838 - val_loss: 17.3514\n",
            "Epoch 68/100\n",
            "1760/1760 [==============================] - 0s 62us/step - loss: 17.5159 - val_loss: 17.3972\n",
            "Epoch 69/100\n",
            "1760/1760 [==============================] - 0s 65us/step - loss: 17.5537 - val_loss: 17.3374\n",
            "Epoch 70/100\n",
            "1760/1760 [==============================] - 0s 62us/step - loss: 17.5286 - val_loss: 17.2953\n",
            "Epoch 71/100\n",
            "1760/1760 [==============================] - 0s 61us/step - loss: 17.5649 - val_loss: 17.3345\n",
            "Epoch 72/100\n",
            "1760/1760 [==============================] - 0s 62us/step - loss: 17.3554 - val_loss: 17.2971\n",
            "Epoch 73/100\n",
            "1760/1760 [==============================] - 0s 62us/step - loss: 17.4711 - val_loss: 17.2320\n",
            "Epoch 74/100\n",
            "1760/1760 [==============================] - 0s 62us/step - loss: 17.3140 - val_loss: 17.3281\n",
            "Epoch 75/100\n",
            "1760/1760 [==============================] - 0s 63us/step - loss: 17.3453 - val_loss: 17.2687\n",
            "Epoch 76/100\n",
            "1760/1760 [==============================] - 0s 61us/step - loss: 17.3029 - val_loss: 17.2266\n",
            "Epoch 77/100\n",
            "1760/1760 [==============================] - 0s 62us/step - loss: 17.3198 - val_loss: 17.1047\n",
            "Epoch 78/100\n",
            "1760/1760 [==============================] - 0s 67us/step - loss: 17.1935 - val_loss: 17.1868\n",
            "Epoch 79/100\n",
            "1760/1760 [==============================] - 0s 63us/step - loss: 17.1718 - val_loss: 17.0944\n",
            "Epoch 80/100\n",
            "1760/1760 [==============================] - 0s 63us/step - loss: 17.2745 - val_loss: 17.2341\n",
            "Epoch 81/100\n",
            "1760/1760 [==============================] - 0s 62us/step - loss: 17.3424 - val_loss: 17.3862\n",
            "Epoch 82/100\n",
            "1760/1760 [==============================] - 0s 63us/step - loss: 17.2478 - val_loss: 17.0881\n",
            "Epoch 83/100\n",
            "1760/1760 [==============================] - 0s 63us/step - loss: 17.2088 - val_loss: 17.1947\n",
            "Epoch 84/100\n",
            "1760/1760 [==============================] - 0s 63us/step - loss: 17.1165 - val_loss: 17.0034\n",
            "Epoch 85/100\n",
            "1760/1760 [==============================] - 0s 62us/step - loss: 17.1203 - val_loss: 16.9302\n",
            "Epoch 86/100\n",
            "1760/1760 [==============================] - 0s 61us/step - loss: 17.2288 - val_loss: 17.0876\n",
            "Epoch 87/100\n",
            "1760/1760 [==============================] - 0s 67us/step - loss: 17.2809 - val_loss: 16.9611\n",
            "Epoch 88/100\n",
            "1760/1760 [==============================] - 0s 65us/step - loss: 17.1416 - val_loss: 16.9210\n",
            "Epoch 89/100\n",
            "1760/1760 [==============================] - 0s 61us/step - loss: 17.1029 - val_loss: 16.9730\n",
            "Epoch 90/100\n",
            "1760/1760 [==============================] - 0s 63us/step - loss: 17.0188 - val_loss: 16.9727\n",
            "Epoch 91/100\n",
            "1760/1760 [==============================] - 0s 63us/step - loss: 16.9703 - val_loss: 17.0960\n",
            "Epoch 92/100\n",
            "1760/1760 [==============================] - 0s 61us/step - loss: 17.0903 - val_loss: 17.0564\n",
            "Epoch 93/100\n",
            "1760/1760 [==============================] - 0s 64us/step - loss: 16.9173 - val_loss: 16.9376\n",
            "Epoch 94/100\n",
            "1760/1760 [==============================] - 0s 63us/step - loss: 16.9543 - val_loss: 17.1680\n",
            "Epoch 95/100\n",
            "1760/1760 [==============================] - 0s 61us/step - loss: 17.2258 - val_loss: 17.0639\n",
            "Epoch 96/100\n",
            "1760/1760 [==============================] - 0s 67us/step - loss: 16.8226 - val_loss: 16.8651\n",
            "Epoch 97/100\n",
            "1760/1760 [==============================] - 0s 61us/step - loss: 17.0405 - val_loss: 16.9412\n",
            "Epoch 98/100\n",
            "1760/1760 [==============================] - 0s 63us/step - loss: 17.0033 - val_loss: 16.9481\n",
            "Epoch 99/100\n",
            "1760/1760 [==============================] - 0s 62us/step - loss: 17.0396 - val_loss: 16.9922\n",
            "Epoch 100/100\n",
            "1760/1760 [==============================] - 0s 62us/step - loss: 16.8224 - val_loss: 16.9644\n"
          ],
          "name": "stdout"
        }
      ]
    },
    {
      "cell_type": "code",
      "metadata": {
        "colab_type": "code",
        "id": "2HndA3MG6LQs",
        "outputId": "7ab84dcc-cae4-4132-d5f5-44d6be4484f3",
        "colab": {
          "base_uri": "https://localhost:8080/",
          "height": 51
        }
      },
      "source": [
        "np.random.seed(1)\n",
        "x_test = np.reshape(x_test, (-1, original_dim))\n",
        "print(x_test.shape)\n",
        "print(x_test[0].reshape(-1, original_dim).shape)"
      ],
      "execution_count": 27,
      "outputs": [
        {
          "output_type": "stream",
          "text": [
            "(1761, 47)\n",
            "(1, 47)\n"
          ],
          "name": "stdout"
        }
      ]
    },
    {
      "cell_type": "code",
      "metadata": {
        "id": "_sgO9JKSqWsW",
        "colab_type": "code",
        "colab": {}
      },
      "source": [
        "total_nums = 2\n",
        "results = []\n",
        "for i in range(x_test.shape[0]):\n",
        "    x_test_encoded = vae.predict(x_test[i].reshape(-1, original_dim), \n",
        "                                 nums=total_nums)\n",
        "    x_test_encoded = x_test_encoded.reshape(total_nums, original_dim)\n",
        "    results.append(x_test_encoded)\n",
        "results = np.asarray(results)\n",
        "results = results.reshape(total_nums*results.shape[0], original_dim)\n",
        "results = scaler.inverse_transform(results)"
      ],
      "execution_count": 0,
      "outputs": []
    },
    {
      "cell_type": "markdown",
      "metadata": {
        "id": "POfJxgHamlmx",
        "colab_type": "text"
      },
      "source": [
        "## Results"
      ]
    },
    {
      "cell_type": "code",
      "metadata": {
        "colab_type": "code",
        "id": "YIlGSzekAYlO",
        "colab": {}
      },
      "source": [
        "d = {}\n",
        "names = list(df)\n",
        "for i, name in enumerate(names):\n",
        "    d[name] = results[:, i]\n",
        "df = pd.DataFrame(data=d)"
      ],
      "execution_count": 0,
      "outputs": []
    },
    {
      "cell_type": "code",
      "metadata": {
        "colab_type": "code",
        "outputId": "a1796b04-d919-4c7d-ddd1-a92c35239643",
        "id": "shurAQCSAYlV",
        "colab": {
          "base_uri": "https://localhost:8080/",
          "height": 238
        }
      },
      "source": [
        "names = list(df)\n",
        "c_dict = {}\n",
        "for n in names:\n",
        "    if '_' in n:\n",
        "        index = n.index('_')\n",
        "        c_dict[n[:index]] = [c for c in names if n[:index+1] in c]\n",
        "values = []\n",
        "for key, items in c_dict.items():\n",
        "    dummies = df[items]\n",
        "    d_names = list(dummies)\n",
        "    c_dict = {}\n",
        "    for n in d_names:\n",
        "        c_dict[n] = n[n.index('_')+1:]\n",
        "    dummies.rename(columns=c_dict, \n",
        "                   inplace=True)\n",
        "    df[key] = dummies.idxmax(axis=1)\n",
        "    df.drop(items, axis=1, inplace=True)\n",
        "print(df.head())"
      ],
      "execution_count": 30,
      "outputs": [
        {
          "output_type": "stream",
          "text": [
            "/usr/local/lib/python3.6/dist-packages/pandas/core/frame.py:4025: SettingWithCopyWarning: \n",
            "A value is trying to be set on a copy of a slice from a DataFrame\n",
            "\n",
            "See the caveats in the documentation: http://pandas.pydata.org/pandas-docs/stable/indexing.html#indexing-view-versus-copy\n",
            "  return super(DataFrame, self).rename(**kwargs)\n"
          ],
          "name": "stderr"
        },
        {
          "output_type": "stream",
          "text": [
            "   SeniorCitizen     tenure  ...     PaymentMethod  Churn\n",
            "0       0.003435   3.619216  ...      Mailed check     No\n",
            "1       0.009078   5.256846  ...      Mailed check     No\n",
            "2       0.527194  29.543247  ...  Electronic check     No\n",
            "3       0.311017  35.401417  ...  Electronic check     No\n",
            "4       0.014677  15.687786  ...      Mailed check     No\n",
            "\n",
            "[5 rows x 20 columns]\n"
          ],
          "name": "stdout"
        }
      ]
    },
    {
      "cell_type": "code",
      "metadata": {
        "colab_type": "code",
        "id": "n8dLIoyVW_Kn",
        "colab": {}
      },
      "source": [
        "df = df.reindex(sorted(df.columns), axis=1)\n",
        "df.to_csv(path + '_dropout.csv')"
      ],
      "execution_count": 0,
      "outputs": []
    },
    {
      "cell_type": "markdown",
      "metadata": {
        "id": "xL6N8v2sYTNm",
        "colab_type": "text"
      },
      "source": [
        "# Transform categorical -> number"
      ]
    },
    {
      "cell_type": "code",
      "metadata": {
        "id": "FgVhmliYYzwS",
        "colab_type": "code",
        "colab": {}
      },
      "source": [
        "\n",
        "validation.to_csv(path + '_For_Test.csv')\n",
        "df = pd.read_csv(path + '_For_Test.csv',\n",
        "                 na_filter=True, \n",
        "                 verbose=False, \n",
        "                 skip_blank_lines=True, \n",
        "                 na_values=na_values,\n",
        "                 keep_default_na=False)\n",
        "df_mc = pd.read_csv(path + '_dropout.csv',\n",
        "                 na_filter=True, \n",
        "                 verbose=False, \n",
        "                 skip_blank_lines=True, \n",
        "                 na_values=na_values,\n",
        "                 keep_default_na=False)\n",
        "df_vae = pd.read_csv(path + '_vae.csv',\n",
        "                 na_filter=True, \n",
        "                 verbose=False, \n",
        "                 skip_blank_lines=True, \n",
        "                 na_values=na_values,\n",
        "                 keep_default_na=False)\n",
        "df.drop('Unnamed: 0', axis=1, inplace=True)\n",
        "df_mc.drop('Unnamed: 0', axis=1, inplace=True)\n",
        "df_vae.drop('Unnamed: 0', axis=1, inplace=True)\n",
        "names = list(df)"
      ],
      "execution_count": 0,
      "outputs": []
    },
    {
      "cell_type": "code",
      "metadata": {
        "id": "HSbyWbb0ZjAJ",
        "colab_type": "code",
        "outputId": "b724810f-4490-4135-b11c-416858104ce5",
        "colab": {
          "base_uri": "https://localhost:8080/",
          "height": 102
        }
      },
      "source": [
        "from sklearn.preprocessing import LabelEncoder\n",
        "colnums = len(df.columns)\n",
        "for i in df.columns:\n",
        "    try:\n",
        "        if df[i].dtype.name == 'object':\n",
        "            df[i] = df[i].astype('category')\n",
        "    except:\n",
        "        continue\n",
        "cat_columns = df.select_dtypes(['category']).columns\n",
        "print(cat_columns)\n",
        "for col in cat_columns:\n",
        "    le = LabelEncoder()\n",
        "    df[col] = le.fit_transform(df[col].values)\n",
        "    df_mc[col] = le.transform(df_mc[col].values)\n",
        "    df_vae[col] = le.transform(df_vae[col].values)\n",
        "    "
      ],
      "execution_count": 33,
      "outputs": [
        {
          "output_type": "stream",
          "text": [
            "Index(['Churn', 'Contract', 'Dependents', 'DeviceProtection',\n",
            "       'InternetService', 'MultipleLines', 'OnlineBackup', 'OnlineSecurity',\n",
            "       'PaperlessBilling', 'Partner', 'PaymentMethod', 'PhoneService',\n",
            "       'StreamingMovies', 'StreamingTV', 'TechSupport', 'gender'],\n",
            "      dtype='object')\n"
          ],
          "name": "stdout"
        }
      ]
    },
    {
      "cell_type": "code",
      "metadata": {
        "id": "J-scTKTHZ9Wk",
        "colab_type": "code",
        "colab": {}
      },
      "source": [
        "df = df.reindex(sorted(df.columns), axis=1)\n",
        "df_mc = df_mc.reindex(sorted(df_mc.columns), axis=1)\n",
        "df_vae = df_vae.reindex(sorted(df_vae.columns), axis=1)\n",
        "df.to_csv(path + '_For_Test_encoded.csv')\n",
        "df_mc.to_csv(path + '_dropout_encoded.csv')\n",
        "df_vae.to_csv(path + '_vae_encoded.csv')"
      ],
      "execution_count": 0,
      "outputs": []
    },
    {
      "cell_type": "markdown",
      "metadata": {
        "id": "gLy-z65OUnRj",
        "colab_type": "text"
      },
      "source": [
        "# Predicting with generated data"
      ]
    },
    {
      "cell_type": "code",
      "metadata": {
        "id": "-W-tX8ysUuOC",
        "colab_type": "code",
        "colab": {}
      },
      "source": [
        "df = pd.read_csv(path + '_For_Test_encoded.csv',\n",
        "                 na_filter=True, \n",
        "                 verbose=False, \n",
        "                 skip_blank_lines=True, \n",
        "                 na_values=na_values,\n",
        "                 keep_default_na=False)\n",
        "df_mc = pd.read_csv(path + '_dropout_encoded.csv',\n",
        "                 na_filter=True, \n",
        "                 verbose=False, \n",
        "                 skip_blank_lines=True, \n",
        "                 na_values=na_values,\n",
        "                 keep_default_na=False)\n",
        "df_vae = pd.read_csv(path + '_vae_encoded.csv',\n",
        "                 na_filter=True, \n",
        "                 verbose=False, \n",
        "                 skip_blank_lines=True, \n",
        "                 na_values=na_values,\n",
        "                 keep_default_na=False)\n",
        "df.drop('Unnamed: 0', axis=1, inplace=True)\n",
        "df_mc.drop('Unnamed: 0', axis=1, inplace=True)\n",
        "df_vae.drop('Unnamed: 0', axis=1, inplace=True)"
      ],
      "execution_count": 0,
      "outputs": []
    },
    {
      "cell_type": "code",
      "metadata": {
        "id": "8F40hUKFVC3E",
        "colab_type": "code",
        "outputId": "72feba1b-b949-4bf6-c35b-70d69d296937",
        "colab": {
          "base_uri": "https://localhost:8080/",
          "height": 425
        }
      },
      "source": [
        "print(df.head())\n",
        "print(df_mc.head())\n",
        "print(df_vae.head())"
      ],
      "execution_count": 36,
      "outputs": [
        {
          "output_type": "stream",
          "text": [
            "   Churn  Contract  Dependents  ...  TotalCharges  gender  tenure\n",
            "0      1         0           0  ...         24.80       0       1\n",
            "1      0         0           0  ...        996.45       1      41\n",
            "2      0         2           1  ...       1031.70       0      52\n",
            "3      1         0           0  ...         76.35       0       1\n",
            "4      0         2           0  ...       3260.10       1      67\n",
            "\n",
            "[5 rows x 20 columns]\n",
            "   Churn  Contract  Dependents  ...  TotalCharges  gender     tenure\n",
            "0      0         0           0  ...     70.221200       0   3.619216\n",
            "1      0         0           0  ...     70.737915       0   5.256846\n",
            "2      0         0           0  ...   2684.645800       0  29.543247\n",
            "3      0         1           0  ...   3427.937500       0  35.401417\n",
            "4      0         1           0  ...    253.597370       0  15.687786\n",
            "\n",
            "[5 rows x 20 columns]\n",
            "   Churn  Contract  Dependents  ...  TotalCharges  gender     tenure\n",
            "0      0         0           0  ...    1901.41150       1  21.940397\n",
            "1      1         0           0  ...     435.38885       0  17.233868\n",
            "2      1         0           0  ...     844.28170       0  12.543465\n",
            "3      1         0           0  ...    1953.19420       1  26.402520\n",
            "4      0         0           0  ...    1689.25520       0  24.564474\n",
            "\n",
            "[5 rows x 20 columns]\n"
          ],
          "name": "stdout"
        }
      ]
    },
    {
      "cell_type": "code",
      "metadata": {
        "id": "0tyhyfWHXbn4",
        "colab_type": "code",
        "outputId": "603abd02-9c4f-489d-d901-2ecc43a9b4ee",
        "colab": {
          "base_uri": "https://localhost:8080/",
          "height": 51
        }
      },
      "source": [
        "y = df['Churn'].values\n",
        "df.drop(['Churn'], axis=1, inplace=True)\n",
        "X = df.values\n",
        "print(y.shape)\n",
        "print(X.shape)"
      ],
      "execution_count": 37,
      "outputs": [
        {
          "output_type": "stream",
          "text": [
            "(3522,)\n",
            "(3522, 19)\n"
          ],
          "name": "stdout"
        }
      ]
    },
    {
      "cell_type": "code",
      "metadata": {
        "id": "rwzr1m5TX5QC",
        "colab_type": "code",
        "outputId": "be29f893-da2c-4b57-d93d-97ff2f71a8da",
        "colab": {
          "base_uri": "https://localhost:8080/",
          "height": 51
        }
      },
      "source": [
        "y_mc = df_mc['Churn'].values\n",
        "df_mc.drop(['Churn'], axis=1, inplace=True)\n",
        "X_mc = df_mc.values\n",
        "print(y_mc.shape)\n",
        "print(X_mc.shape)"
      ],
      "execution_count": 38,
      "outputs": [
        {
          "output_type": "stream",
          "text": [
            "(3522,)\n",
            "(3522, 19)\n"
          ],
          "name": "stdout"
        }
      ]
    },
    {
      "cell_type": "code",
      "metadata": {
        "id": "xbq6H2ZnYXqz",
        "colab_type": "code",
        "outputId": "81df2c62-26e7-4980-a189-4b1dbe08e262",
        "colab": {
          "base_uri": "https://localhost:8080/",
          "height": 51
        }
      },
      "source": [
        "y_vae = df_vae['Churn'].values\n",
        "df_vae.drop(['Churn'], axis=1, inplace=True)\n",
        "X_vae = df_vae.values\n",
        "print(y_vae.shape)\n",
        "print(X_vae.shape)"
      ],
      "execution_count": 39,
      "outputs": [
        {
          "output_type": "stream",
          "text": [
            "(3522,)\n",
            "(3522, 19)\n"
          ],
          "name": "stdout"
        }
      ]
    },
    {
      "cell_type": "markdown",
      "metadata": {
        "id": "A8JPft-5a6QL",
        "colab_type": "text"
      },
      "source": [
        "## Cross validation"
      ]
    },
    {
      "cell_type": "markdown",
      "metadata": {
        "id": "iWMcVL29ggWg",
        "colab_type": "text"
      },
      "source": [
        "### Original data"
      ]
    },
    {
      "cell_type": "code",
      "metadata": {
        "id": "ob3Et0uia9YZ",
        "colab_type": "code",
        "outputId": "a0c2bd2a-2241-47ad-f8b9-21a2259ab3ab",
        "colab": {
          "base_uri": "https://localhost:8080/",
          "height": 34
        }
      },
      "source": [
        "from sklearn.ensemble import RandomForestClassifier\n",
        "from sklearn.model_selection import cross_val_score\n",
        "clf = RandomForestClassifier(n_estimators=100, \n",
        "                             max_depth=2, random_state=42)\n",
        "scores = cross_val_score(clf, X, y, cv=10)\n",
        "print(\"Accuracy: %0.2f (+/- %0.2f)\" % (scores.mean(), scores.std() * 2))"
      ],
      "execution_count": 40,
      "outputs": [
        {
          "output_type": "stream",
          "text": [
            "Accuracy: 0.77 (+/- 0.03)\n"
          ],
          "name": "stdout"
        }
      ]
    },
    {
      "cell_type": "markdown",
      "metadata": {
        "colab_type": "text",
        "id": "hSUz0c0ngkj5"
      },
      "source": [
        "### DropoutVAE generated data"
      ]
    },
    {
      "cell_type": "code",
      "metadata": {
        "colab_type": "code",
        "outputId": "ad045823-c588-4120-ce8d-66011f87c3b3",
        "id": "y4-GzQ_bbPCo",
        "colab": {
          "base_uri": "https://localhost:8080/",
          "height": 34
        }
      },
      "source": [
        "from sklearn.model_selection import cross_val_score\n",
        "clf = RandomForestClassifier(n_estimators=100, \n",
        "                             max_depth=2, random_state=42)\n",
        "clf.fit(X_mc, y_mc)\n",
        "print(clf.score(X, y))"
      ],
      "execution_count": 41,
      "outputs": [
        {
          "output_type": "stream",
          "text": [
            "0.7470187393526405\n"
          ],
          "name": "stdout"
        }
      ]
    },
    {
      "cell_type": "markdown",
      "metadata": {
        "colab_type": "text",
        "id": "NL3OtgaGgxQB"
      },
      "source": [
        "### VAE generated data "
      ]
    },
    {
      "cell_type": "code",
      "metadata": {
        "id": "Crz0AfZ-bSg-",
        "colab_type": "code",
        "outputId": "1435a275-1f25-4fd6-e37e-ccf0952b0c5b",
        "colab": {
          "base_uri": "https://localhost:8080/",
          "height": 34
        }
      },
      "source": [
        "from sklearn.model_selection import cross_val_score\n",
        "clf = RandomForestClassifier(n_estimators=100, \n",
        "                             max_depth=2, random_state=42)\n",
        "clf.fit(X_vae, y_vae)\n",
        "print(clf.score(X, y))"
      ],
      "execution_count": 42,
      "outputs": [
        {
          "output_type": "stream",
          "text": [
            "0.7717206132879046\n"
          ],
          "name": "stdout"
        }
      ]
    },
    {
      "cell_type": "markdown",
      "metadata": {
        "colab_type": "text",
        "id": "mrCqDtssg4nB"
      },
      "source": [
        "### Original data with Dropout VAE outcome"
      ]
    },
    {
      "cell_type": "code",
      "metadata": {
        "colab_type": "code",
        "id": "mH3gS3nacvV7",
        "outputId": "54d8ce15-4fa1-4b16-bb97-3abb7a7f1f59",
        "colab": {
          "base_uri": "https://localhost:8080/",
          "height": 34
        }
      },
      "source": [
        "from sklearn.model_selection import cross_val_score\n",
        "clf = RandomForestClassifier(n_estimators=100, \n",
        "                             max_depth=2, random_state=42)\n",
        "clf.fit(X, y)\n",
        "print(clf.score(X_mc, y_mc))"
      ],
      "execution_count": 43,
      "outputs": [
        {
          "output_type": "stream",
          "text": [
            "0.7981260647359455\n"
          ],
          "name": "stdout"
        }
      ]
    },
    {
      "cell_type": "markdown",
      "metadata": {
        "colab_type": "text",
        "id": "YlER2gGnhBGJ"
      },
      "source": [
        "### Original data with VAE outcome"
      ]
    },
    {
      "cell_type": "code",
      "metadata": {
        "colab_type": "code",
        "id": "MezW_-9ZcvWA",
        "outputId": "94ca3ec3-a3ad-413e-b68d-443e5a851011",
        "colab": {
          "base_uri": "https://localhost:8080/",
          "height": 34
        }
      },
      "source": [
        "from sklearn.model_selection import cross_val_score\n",
        "clf = RandomForestClassifier(n_estimators=100, \n",
        "                             max_depth=2, random_state=42)\n",
        "clf.fit(X, y)\n",
        "print(clf.score(X_vae, y_vae))"
      ],
      "execution_count": 44,
      "outputs": [
        {
          "output_type": "stream",
          "text": [
            "0.7660420215786485\n"
          ],
          "name": "stdout"
        }
      ]
    }
  ]
}