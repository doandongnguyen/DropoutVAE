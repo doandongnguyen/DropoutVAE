{
  "nbformat": 4,
  "nbformat_minor": 0,
  "metadata": {
    "colab": {
      "name": "DropoutVAE.ipynb",
      "version": "0.3.2",
      "provenance": [],
      "collapsed_sections": [],
      "toc_visible": true
    },
    "kernelspec": {
      "name": "python3",
      "display_name": "Python 3"
    },
    "accelerator": "GPU"
  },
  "cells": [
    {
      "cell_type": "markdown",
      "metadata": {
        "id": "yl5YDWvEeu4a",
        "colab_type": "text"
      },
      "source": [
        "The purpose is to use Dropout in VAE in order to generate data.\n",
        "\n",
        "Origin VAE uses latent values to generate the data.\n",
        "However, with Dropout VAE, we can use some origin data to generate.\n",
        "\n",
        "\n",
        "The dataset used in notebook: [Customer Support](https://www.ibm.com/communities/analytics/watson-analytics-blog/guide-to-sample-datasets/)\n",
        "\n",
        "More example about VAE: [Modeling Telecom customer churn](https://towardsdatascience.com/modeling-telecom-customer-churn-with-variational-autoencoder-4e5cf6194871)\n",
        "\n",
        "Origin code for VAE in keras: [Building Autoencoders in keras](https://blog.keras.io/building-autoencoders-in-keras.html)"
      ]
    },
    {
      "cell_type": "markdown",
      "metadata": {
        "id": "fdT9BTrmT3ro",
        "colab_type": "text"
      },
      "source": [
        "# Import Libraries"
      ]
    },
    {
      "cell_type": "code",
      "metadata": {
        "id": "CQNUpL6YT32X",
        "colab_type": "code",
        "colab": {}
      },
      "source": [
        "from __future__ import absolute_import\n",
        "from __future__ import division\n",
        "from __future__ import print_function\n",
        "\n",
        "import os\n",
        "import random\n",
        "import argparse\n",
        "import numpy as np\n",
        "import matplotlib.pyplot as plt\n",
        "from sklearn.preprocessing import LabelEncoder\n",
        "from tensorflow import set_random_seed\n",
        "\n",
        "from keras import regularizers\n",
        "from keras import backend as K\n",
        "from keras.models import Model\n",
        "from keras.utils import plot_model\n",
        "from keras.losses import mse, binary_crossentropy\n",
        "from keras.layers import Lambda, Input, Dense, Dropout\n",
        "\n",
        "set_random_seed(1)\n",
        "np.random.seed(1)\n",
        "random.seed(1)"
      ],
      "execution_count": 0,
      "outputs": []
    },
    {
      "cell_type": "markdown",
      "metadata": {
        "id": "sNKVLBOBgR3W",
        "colab_type": "text"
      },
      "source": [
        "# Path to dataset"
      ]
    },
    {
      "cell_type": "code",
      "metadata": {
        "id": "u4QUbkrWUl2L",
        "colab_type": "code",
        "outputId": "cbaabf1b-a9e3-4417-a088-111d1a33f981",
        "colab": {
          "base_uri": "https://localhost:8080/",
          "height": 34
        }
      },
      
      
      
          
      ]
    },
    {
      "cell_type": "code",
      "metadata": {
        "id": "FFaXts2Ycg-w",
        "colab_type": "code",
        "colab": {}
      },
      "source": [
        "path = '/Dataset/WA_Fn-UseC_-Telco-Customer-Churn.csv'"
      ],
      "execution_count": 0,
      "outputs": []
    },
    {
      "cell_type": "code",
      "metadata": {
        "id": "C8zWTy_ePGg7",
        "colab_type": "code",
        "colab": {}
      },
      "source": [
        "intermediate_dim = 512"
      ],
      "execution_count": 0,
      "outputs": []
    },
    {
      "cell_type": "markdown",
      "metadata": {
        "id": "OnJXo9LfUGaJ",
        "colab_type": "text"
      },
      "source": [
        "# Define VAE"
      ]
    },
    {
      "cell_type": "markdown",
      "metadata": {
        "id": "8VTGWwfObeoT",
        "colab_type": "text"
      },
      "source": [
        "## Read Data"
      ]
    },
    {
      "cell_type": "code",
      "metadata": {
        "id": "DfcE15dwhyaL",
        "colab_type": "code",
        "outputId": "4a35be50-7cb7-496e-deb9-46d2d7ef6cf1",
        "colab": {
          "base_uri": "https://localhost:8080/",
          "height": 615
        }
      },
      "source": [
        "import pandas as pd\n",
        "na_values = {'?', ' '}\n",
        "df = pd.read_csv(path,\n",
        "                 sep=',',\n",
        "                 na_filter=True, \n",
        "                 verbose=False, \n",
        "                 skip_blank_lines=True, \n",
        "                 na_values=na_values,\n",
        "                 keep_default_na=False)\n",
        "                 \n",
        "df.fillna(method='ffill', inplace=True)\n",
        "df.dropna(axis=1, how='any', inplace=True)\n",
        "df.drop(['customerID'], axis=1, inplace=True)\n",
        "df = df.reset_index(drop=True)\n",
        "print(df.info())\n",
        "print(df.head())"
      ],
      "execution_count": 0,
      "outputs": [
        {
          "output_type": "stream",
          "text": [
            "<class 'pandas.core.frame.DataFrame'>\n",
            "RangeIndex: 7043 entries, 0 to 7042\n",
            "Data columns (total 20 columns):\n",
            "gender              7043 non-null object\n",
            "SeniorCitizen       7043 non-null int64\n",
            "Partner             7043 non-null object\n",
            "Dependents          7043 non-null object\n",
            "tenure              7043 non-null int64\n",
            "PhoneService        7043 non-null object\n",
            "MultipleLines       7043 non-null object\n",
            "InternetService     7043 non-null object\n",
            "OnlineSecurity      7043 non-null object\n",
            "OnlineBackup        7043 non-null object\n",
            "DeviceProtection    7043 non-null object\n",
            "TechSupport         7043 non-null object\n",
            "StreamingTV         7043 non-null object\n",
            "StreamingMovies     7043 non-null object\n",
            "Contract            7043 non-null object\n",
            "PaperlessBilling    7043 non-null object\n",
            "PaymentMethod       7043 non-null object\n",
            "MonthlyCharges      7043 non-null float64\n",
            "TotalCharges        7043 non-null float64\n",
            "Churn               7043 non-null object\n",
            "dtypes: float64(2), int64(2), object(16)\n",
            "memory usage: 1.1+ MB\n",
            "None\n",
            "   gender  SeniorCitizen Partner  ... MonthlyCharges  TotalCharges Churn\n",
            "0  Female              0     Yes  ...          29.85         29.85    No\n",
            "1    Male              0      No  ...          56.95       1889.50    No\n",
            "2    Male              0      No  ...          53.85        108.15   Yes\n",
            "3    Male              0      No  ...          42.30       1840.75    No\n",
            "4  Female              0      No  ...          70.70        151.65   Yes\n",
            "\n",
            "[5 rows x 20 columns]\n"
          ],
          "name": "stdout"
        }
      ]
    },
    {
      "cell_type": "markdown",
      "metadata": {
        "id": "ptmiXDEjbhmp",
        "colab_type": "text"
      },
      "source": [
        "## Recognizing Categorical data"
      ]
    },
    {
      "cell_type": "code",
      "metadata": {
        "id": "pfL6yO7HZR7E",
        "colab_type": "code",
        "outputId": "9c4941b5-23cc-48bb-bfb4-df8a9b823582",
        "colab": {
          "base_uri": "https://localhost:8080/",
          "height": 173
        }
      },
      "source": [
        "colnums = len(df.columns)\n",
        "for i in df.columns:\n",
        "    try:\n",
        "        if df[i].dtype.name == 'object':\n",
        "            df[i] = df[i].astype('category')\n",
        "        else:\n",
        "            df[i].astype('float32')\n",
        "    except:\n",
        "        continue\n",
        "print(df.head())"
      ],
      "execution_count": 0,
      "outputs": [
        {
          "output_type": "stream",
          "text": [
            "   gender  SeniorCitizen Partner  ... MonthlyCharges  TotalCharges Churn\n",
            "0  Female              0     Yes  ...          29.85         29.85    No\n",
            "1    Male              0      No  ...          56.95       1889.50    No\n",
            "2    Male              0      No  ...          53.85        108.15   Yes\n",
            "3    Male              0      No  ...          42.30       1840.75    No\n",
            "4  Female              0      No  ...          70.70        151.65   Yes\n",
            "\n",
            "[5 rows x 20 columns]\n"
          ],
          "name": "stdout"
        }
      ]
    },
    {
      "cell_type": "code",
      "metadata": {
        "id": "BpGxC2v2CDi1",
        "colab_type": "code",
        "outputId": "fb624c7b-0fd9-485e-a389-5cd31eefaea9",
        "colab": {
          "base_uri": "https://localhost:8080/",
          "height": 153
        }
      },
      "source": [
        "from sklearn.model_selection import train_test_split\n",
        "from sklearn.preprocessing import MinMaxScaler, StandardScaler\n",
        "np.random.seed(1)\n",
        "\n",
        "vals = df.values.copy()\n",
        "total_nums = len(vals)\n",
        "\n",
        "train, validation = train_test_split(df, test_size=0.5, \n",
        "                                     random_state=42, \n",
        "                                     shuffle=True)\n",
        "\n",
        "validation = validation.reindex(sorted(validation.columns), axis=1)\n",
        "validation.to_csv(path + '_For_Test.csv')\n",
        "print(validation.head())"
      ],
      "execution_count": 0,
      "outputs": [
        {
          "output_type": "stream",
          "text": [
            "     Churn        Contract Dependents  ... TotalCharges  gender  tenure\n",
            "185    Yes  Month-to-month         No  ...        24.80  Female       1\n",
            "2715    No  Month-to-month         No  ...       996.45    Male      41\n",
            "3825    No        Two year        Yes  ...      1031.70  Female      52\n",
            "1807   Yes  Month-to-month         No  ...        76.35  Female       1\n",
            "132     No        Two year         No  ...      3260.10    Male      67\n",
            "\n",
            "[5 rows x 20 columns]\n"
          ],
          "name": "stdout"
        }
      ]
    },
    {
      "cell_type": "code",
      "metadata": {
        "id": "G-52cnSrZHGm",
        "colab_type": "code",
        "outputId": "34e6cd63-7499-4d4f-b14b-60e9bb77f3ea",
        "colab": {
          "base_uri": "https://localhost:8080/",
          "height": 122
        }
      },
      "source": [
        "df = train\n",
        "categorical = df.select_dtypes(['category']).columns\n",
        "print(categorical)\n",
        "for f in categorical:\n",
        "    dummies = pd.get_dummies(df[f], prefix = f, prefix_sep = '_')\n",
        "    df = pd.concat([df, dummies], axis = 1)\n",
        "    \n",
        "# drop original categorical features\n",
        "df.drop(categorical, axis = 1, inplace = True)"
      ],
      "execution_count": 0,
      "outputs": [
        {
          "output_type": "stream",
          "text": [
            "Index(['gender', 'Partner', 'Dependents', 'PhoneService', 'MultipleLines',\n",
            "       'InternetService', 'OnlineSecurity', 'OnlineBackup', 'DeviceProtection',\n",
            "       'TechSupport', 'StreamingTV', 'StreamingMovies', 'Contract',\n",
            "       'PaperlessBilling', 'PaymentMethod', 'Churn'],\n",
            "      dtype='object')\n"
          ],
          "name": "stdout"
        }
      ]
    },
    {
      "cell_type": "code",
      "metadata": {
        "id": "LmIPmd5wjAM7",
        "colab_type": "code",
        "colab": {}
      },
      "source": [
        "np.random.seed(1)\n",
        "\n",
        "train = df.values.copy()\n",
        "train.astype('float32')\n",
        "scaler = MinMaxScaler()\n",
        "d = {}\n",
        "train = scaler.fit_transform(train)\n",
        "x_train, x_test = train_test_split(train, test_size=0.5,\n",
        "                                  random_state=42,\n",
        "                                  shuffle=True)"
      ],
      "execution_count": 0,
      "outputs": []
    },
    {
      "cell_type": "code",
      "metadata": {
        "id": "uNf-3EMl2usm",
        "colab_type": "code",
        "outputId": "04236982-5727-4f82-d914-23b2d41909c6",
        "colab": {
          "base_uri": "https://localhost:8080/",
          "height": 51
        }
      },
      "source": [
        "original_dim = x_train.shape[1]\n",
        "x_train = np.reshape(x_train, [-1, original_dim])\n",
        "x_test = np.reshape(x_test, [-1, original_dim])\n",
        "x_train = x_train.astype('float32')\n",
        "x_test = x_test.astype('float32')\n",
        "print(x_train.shape)\n",
        "print(x_test.shape)"
      ],
      "execution_count": 0,
      "outputs": [
        {
          "output_type": "stream",
          "text": [
            "(1760, 47)\n",
            "(1761, 47)\n"
          ],
          "name": "stdout"
        }
      ]
    },
    {
      "cell_type": "code",
      "metadata": {
        "id": "uy-JqW7Jpuyz",
        "colab_type": "code",
        "colab": {}
      },
      "source": [
        "np.random.seed(1)\n",
        "set_random_seed(1)\n",
        "\n",
        "class VAE:\n",
        "    def __init__(self, input_shape=(original_dim,), \n",
        "                 intermediate_dim=128, latent_dim=2, summary=False):\n",
        "        \n",
        "        self._build_model(input_shape,\n",
        "                         intermediate_dim, \n",
        "                          latent_dim, summary)\n",
        "    \n",
        "    def _build_model(self, input_shape, intermediate_dim, latent_dim,\n",
        "                    summary=False):\n",
        "        inputs = Input(shape=input_shape, name='encoder_input')\n",
        "        x = inputs\n",
        "        x = Dense(intermediate_dim, activation='relu')(x)\n",
        "        x = Dense(intermediate_dim//2, activation='relu')(x)\n",
        "        \n",
        "        z_mean = Dense(latent_dim, name='z_mean')(x)\n",
        "        z_log_var = Dense(latent_dim, name='z_log_var')(x)\n",
        "\n",
        "        z = Lambda(self.sampling, output_shape=(latent_dim,), \n",
        "                   name='z')([z_mean, z_log_var])\n",
        "\n",
        "        self.encoder = Model(inputs, [z_mean, z_log_var, z], \n",
        "                        name='encoder')\n",
        "        \n",
        "        latent_inputs = Input(shape=(latent_dim,), \n",
        "                              name='z_sampling')\n",
        "        x = latent_inputs\n",
        "        x = Dense(intermediate_dim//2, activation='relu')(x)\n",
        "        x = Dense(intermediate_dim, activation='relu')(x)\n",
        "        outputs = Dense(original_dim, activation='sigmoid')(x)\n",
        "\n",
        "        self.decoder = Model(latent_inputs, outputs, name='decoder')\n",
        "        outputs = self.decoder(self.encoder(inputs)[2])\n",
        "        self.vae = Model(inputs, outputs, name='vae_mlp')\n",
        "        \n",
        "        reconstruction_loss = binary_crossentropy(inputs, outputs)\n",
        "        reconstruction_loss *= original_dim\n",
        "        kl_loss = 1 + z_log_var - K.square(z_mean) - K.exp(z_log_var)\n",
        "        kl_loss = K.sum(kl_loss, axis=-1)\n",
        "        kl_loss *= -0.5\n",
        "        \n",
        "        vae_loss = K.mean(reconstruction_loss + kl_loss)\t\n",
        "        \n",
        "        self.vae.add_loss(vae_loss)\n",
        "        self.vae.compile(optimizer='adam')\n",
        "        if summary: \n",
        "            print(self.vae.summary())\n",
        "        \n",
        "    def sampling(self, args):\n",
        "        z_mean, z_log_var = args\n",
        "        batch = K.shape(z_mean)[0]\n",
        "        dim = K.int_shape(z_mean)[1]\n",
        "        epsilon = K.random_normal(shape=(batch, dim))\n",
        "        return z_mean + K.exp(0.5 * z_log_var) * epsilon\n",
        "        \n",
        "    def fit(self, x_train, x_test, epochs=100, batch_size=100,\n",
        "           verbose=1):\n",
        "        self.vae.fit(x_train, \n",
        "            shuffle=True,\n",
        "            epochs=epochs,\n",
        "            batch_size=batch_size,\n",
        "            verbose=verbose,\n",
        "            validation_data=(x_test, None))\n",
        "    \n",
        "    def encoder_predict(self, x_test, batch_size=100):\n",
        "        return self.encoder.predict(x_test,\n",
        "                                   batch_size=batch_size)\n",
        "    \n",
        "    def generate(self, latent_val, batch_size=100):\n",
        "        return self.decoder.predict(latent_val)\n",
        "    \n",
        "    def predict(self, x_test, batch_size=1):\n",
        "        prediction = self.vae.predict(x_test)\n",
        "        return prediction"
      ],
      "execution_count": 0,
      "outputs": []
    },
    {
      "cell_type": "markdown",
      "metadata": {
        "id": "KXhRjx02UYZN",
        "colab_type": "text"
      },
      "source": [
        "## Training VAE"
      ]
    },
    {
      "cell_type": "markdown",
      "metadata": {
        "id": "Wd02caRJWGG8",
        "colab_type": "text"
      },
      "source": [
        "Just let the last value to test"
      ]
    },
    {
      "cell_type": "code",
      "metadata": {
        "id": "XBbIF17p8iY2",
        "colab_type": "code",
        "outputId": "e9cc4769-9ffc-4580-f2b3-1a78a975cf7a",
        "colab": {
          "base_uri": "https://localhost:8080/",
          "height": 3454
        }
      },
      "source": [
        "np.random.seed(1)\n",
        "set_random_seed(1)\n",
        "\n",
        "latent_dim = original_dim//2\n",
        "if latent_dim < 2:\n",
        "    latent_dim = 2\n",
        "vae = VAE(intermediate_dim=intermediate_dim, latent_dim=latent_dim)\n",
        "vae.fit(x_train, x_test, epochs=100)"
      ],
      "execution_count": 0,
      "outputs": [
        {
          "output_type": "stream",
          "text": [
            "Train on 1760 samples, validate on 1761 samples\n",
            "Epoch 1/100\n",
            "1760/1760 [==============================] - 1s 447us/step - loss: 29.4581 - val_loss: 28.1847\n",
            "Epoch 2/100\n",
            "1760/1760 [==============================] - 0s 64us/step - loss: 27.9606 - val_loss: 26.7057\n",
            "Epoch 3/100\n",
            "1760/1760 [==============================] - 0s 62us/step - loss: 25.3044 - val_loss: 23.6801\n",
            "Epoch 4/100\n",
            "1760/1760 [==============================] - 0s 61us/step - loss: 23.1540 - val_loss: 22.8395\n",
            "Epoch 5/100\n",
            "1760/1760 [==============================] - 0s 64us/step - loss: 22.3205 - val_loss: 22.1590\n",
            "Epoch 6/100\n",
            "1760/1760 [==============================] - 0s 67us/step - loss: 21.7292 - val_loss: 21.5900\n",
            "Epoch 7/100\n",
            "1760/1760 [==============================] - 0s 61us/step - loss: 21.4475 - val_loss: 21.2588\n",
            "Epoch 8/100\n",
            "1760/1760 [==============================] - 0s 62us/step - loss: 21.1718 - val_loss: 21.1178\n",
            "Epoch 9/100\n",
            "1760/1760 [==============================] - 0s 62us/step - loss: 20.7705 - val_loss: 20.9722\n",
            "Epoch 10/100\n",
            "1760/1760 [==============================] - 0s 63us/step - loss: 20.4213 - val_loss: 20.8080\n",
            "Epoch 11/100\n",
            "1760/1760 [==============================] - 0s 63us/step - loss: 20.1742 - val_loss: 20.4426\n",
            "Epoch 12/100\n",
            "1760/1760 [==============================] - 0s 63us/step - loss: 19.9379 - val_loss: 20.2056\n",
            "Epoch 13/100\n",
            "1760/1760 [==============================] - 0s 63us/step - loss: 19.7922 - val_loss: 19.9813\n",
            "Epoch 14/100\n",
            "1760/1760 [==============================] - 0s 63us/step - loss: 19.6065 - val_loss: 19.7452\n",
            "Epoch 15/100\n",
            "1760/1760 [==============================] - 0s 69us/step - loss: 19.3584 - val_loss: 19.5428\n",
            "Epoch 16/100\n",
            "1760/1760 [==============================] - 0s 62us/step - loss: 19.0816 - val_loss: 19.3237\n",
            "Epoch 17/100\n",
            "1760/1760 [==============================] - 0s 63us/step - loss: 18.9808 - val_loss: 19.2018\n",
            "Epoch 18/100\n",
            "1760/1760 [==============================] - 0s 64us/step - loss: 18.9177 - val_loss: 19.0298\n",
            "Epoch 19/100\n",
            "1760/1760 [==============================] - 0s 62us/step - loss: 18.8701 - val_loss: 19.1358\n",
            "Epoch 20/100\n",
            "1760/1760 [==============================] - 0s 67us/step - loss: 18.8428 - val_loss: 18.9683\n",
            "Epoch 21/100\n",
            "1760/1760 [==============================] - 0s 63us/step - loss: 18.6419 - val_loss: 18.7665\n",
            "Epoch 22/100\n",
            "1760/1760 [==============================] - 0s 61us/step - loss: 18.5904 - val_loss: 18.6225\n",
            "Epoch 23/100\n",
            "1760/1760 [==============================] - 0s 67us/step - loss: 18.1977 - val_loss: 18.6696\n",
            "Epoch 24/100\n",
            "1760/1760 [==============================] - 0s 72us/step - loss: 18.2851 - val_loss: 18.4766\n",
            "Epoch 25/100\n",
            "1760/1760 [==============================] - 0s 63us/step - loss: 18.3308 - val_loss: 18.6168\n",
            "Epoch 26/100\n",
            "1760/1760 [==============================] - 0s 62us/step - loss: 18.1313 - val_loss: 18.4279\n",
            "Epoch 27/100\n",
            "1760/1760 [==============================] - 0s 62us/step - loss: 17.9943 - val_loss: 18.5001\n",
            "Epoch 28/100\n",
            "1760/1760 [==============================] - 0s 62us/step - loss: 18.0283 - val_loss: 18.4234\n",
            "Epoch 29/100\n",
            "1760/1760 [==============================] - 0s 60us/step - loss: 18.0241 - val_loss: 18.5771\n",
            "Epoch 30/100\n",
            "1760/1760 [==============================] - 0s 62us/step - loss: 17.9751 - val_loss: 18.4357\n",
            "Epoch 31/100\n",
            "1760/1760 [==============================] - 0s 61us/step - loss: 18.0231 - val_loss: 18.1698\n",
            "Epoch 32/100\n",
            "1760/1760 [==============================] - 0s 61us/step - loss: 17.6428 - val_loss: 18.0543\n",
            "Epoch 33/100\n",
            "1760/1760 [==============================] - 0s 67us/step - loss: 17.4888 - val_loss: 17.8113\n",
            "Epoch 34/100\n",
            "1760/1760 [==============================] - 0s 63us/step - loss: 17.2837 - val_loss: 17.7780\n",
            "Epoch 35/100\n",
            "1760/1760 [==============================] - 0s 62us/step - loss: 17.2617 - val_loss: 17.7295\n",
            "Epoch 36/100\n",
            "1760/1760 [==============================] - 0s 63us/step - loss: 17.2253 - val_loss: 17.7372\n",
            "Epoch 37/100\n",
            "1760/1760 [==============================] - 0s 63us/step - loss: 17.1620 - val_loss: 17.6893\n",
            "Epoch 38/100\n",
            "1760/1760 [==============================] - 0s 62us/step - loss: 17.1163 - val_loss: 17.6106\n",
            "Epoch 39/100\n",
            "1760/1760 [==============================] - 0s 63us/step - loss: 16.9957 - val_loss: 17.6738\n",
            "Epoch 40/100\n",
            "1760/1760 [==============================] - 0s 63us/step - loss: 17.0127 - val_loss: 17.4641\n",
            "Epoch 41/100\n",
            "1760/1760 [==============================] - 0s 63us/step - loss: 17.0107 - val_loss: 17.3996\n",
            "Epoch 42/100\n",
            "1760/1760 [==============================] - 0s 66us/step - loss: 16.8966 - val_loss: 17.5025\n",
            "Epoch 43/100\n",
            "1760/1760 [==============================] - 0s 61us/step - loss: 16.8753 - val_loss: 17.2554\n",
            "Epoch 44/100\n",
            "1760/1760 [==============================] - 0s 61us/step - loss: 16.7685 - val_loss: 17.2770\n",
            "Epoch 45/100\n",
            "1760/1760 [==============================] - 0s 61us/step - loss: 16.7810 - val_loss: 17.3721\n",
            "Epoch 46/100\n",
            "1760/1760 [==============================] - 0s 61us/step - loss: 16.6219 - val_loss: 17.3879\n",
            "Epoch 47/100\n",
            "1760/1760 [==============================] - 0s 61us/step - loss: 16.7949 - val_loss: 17.3108\n",
            "Epoch 48/100\n",
            "1760/1760 [==============================] - 0s 62us/step - loss: 16.5733 - val_loss: 17.1977\n",
            "Epoch 49/100\n",
            "1760/1760 [==============================] - 0s 60us/step - loss: 16.5540 - val_loss: 17.0493\n",
            "Epoch 50/100\n",
            "1760/1760 [==============================] - 0s 61us/step - loss: 16.5993 - val_loss: 17.0552\n",
            "Epoch 51/100\n",
            "1760/1760 [==============================] - 0s 65us/step - loss: 16.4923 - val_loss: 17.1048\n",
            "Epoch 52/100\n",
            "1760/1760 [==============================] - 0s 61us/step - loss: 16.6108 - val_loss: 16.8924\n",
            "Epoch 53/100\n",
            "1760/1760 [==============================] - 0s 61us/step - loss: 16.3739 - val_loss: 17.0438\n",
            "Epoch 54/100\n",
            "1760/1760 [==============================] - 0s 60us/step - loss: 16.5913 - val_loss: 16.8411\n",
            "Epoch 55/100\n",
            "1760/1760 [==============================] - 0s 61us/step - loss: 16.3417 - val_loss: 16.9085\n",
            "Epoch 56/100\n",
            "1760/1760 [==============================] - 0s 64us/step - loss: 16.2766 - val_loss: 17.0343\n",
            "Epoch 57/100\n",
            "1760/1760 [==============================] - 0s 60us/step - loss: 16.3247 - val_loss: 16.7230\n",
            "Epoch 58/100\n",
            "1760/1760 [==============================] - 0s 61us/step - loss: 16.1080 - val_loss: 16.7755\n",
            "Epoch 59/100\n",
            "1760/1760 [==============================] - 0s 63us/step - loss: 16.1702 - val_loss: 16.8002\n",
            "Epoch 60/100\n",
            "1760/1760 [==============================] - 0s 61us/step - loss: 16.1934 - val_loss: 16.8145\n",
            "Epoch 61/100\n",
            "1760/1760 [==============================] - 0s 64us/step - loss: 16.1582 - val_loss: 16.8448\n",
            "Epoch 62/100\n",
            "1760/1760 [==============================] - 0s 60us/step - loss: 16.1137 - val_loss: 16.7511\n",
            "Epoch 63/100\n",
            "1760/1760 [==============================] - 0s 61us/step - loss: 16.0689 - val_loss: 16.6857\n",
            "Epoch 64/100\n",
            "1760/1760 [==============================] - 0s 61us/step - loss: 16.0514 - val_loss: 16.7531\n",
            "Epoch 65/100\n",
            "1760/1760 [==============================] - 0s 63us/step - loss: 16.0287 - val_loss: 16.6018\n",
            "Epoch 66/100\n",
            "1760/1760 [==============================] - 0s 62us/step - loss: 15.8609 - val_loss: 16.6365\n",
            "Epoch 67/100\n",
            "1760/1760 [==============================] - 0s 61us/step - loss: 15.9287 - val_loss: 16.5259\n",
            "Epoch 68/100\n",
            "1760/1760 [==============================] - 0s 61us/step - loss: 15.9955 - val_loss: 16.5179\n",
            "Epoch 69/100\n",
            "1760/1760 [==============================] - 0s 63us/step - loss: 15.7235 - val_loss: 16.5353\n",
            "Epoch 70/100\n",
            "1760/1760 [==============================] - 0s 69us/step - loss: 15.8227 - val_loss: 16.4520\n",
            "Epoch 71/100\n",
            "1760/1760 [==============================] - 0s 61us/step - loss: 15.8602 - val_loss: 16.6362\n",
            "Epoch 72/100\n",
            "1760/1760 [==============================] - 0s 62us/step - loss: 15.7879 - val_loss: 16.5806\n",
            "Epoch 73/100\n",
            "1760/1760 [==============================] - 0s 61us/step - loss: 15.8827 - val_loss: 16.6741\n",
            "Epoch 74/100\n",
            "1760/1760 [==============================] - 0s 61us/step - loss: 15.8935 - val_loss: 16.5359\n",
            "Epoch 75/100\n",
            "1760/1760 [==============================] - 0s 61us/step - loss: 15.8244 - val_loss: 16.4975\n",
            "Epoch 76/100\n",
            "1760/1760 [==============================] - 0s 59us/step - loss: 15.7308 - val_loss: 16.4353\n",
            "Epoch 77/100\n",
            "1760/1760 [==============================] - 0s 60us/step - loss: 15.7410 - val_loss: 16.5233\n",
            "Epoch 78/100\n",
            "1760/1760 [==============================] - 0s 62us/step - loss: 15.7084 - val_loss: 16.4090\n",
            "Epoch 79/100\n",
            "1760/1760 [==============================] - 0s 66us/step - loss: 15.7889 - val_loss: 16.3391\n",
            "Epoch 80/100\n",
            "1760/1760 [==============================] - 0s 61us/step - loss: 15.7133 - val_loss: 16.3806\n",
            "Epoch 81/100\n",
            "1760/1760 [==============================] - 0s 63us/step - loss: 15.7239 - val_loss: 16.3611\n",
            "Epoch 82/100\n",
            "1760/1760 [==============================] - 0s 62us/step - loss: 15.7704 - val_loss: 16.4490\n",
            "Epoch 83/100\n",
            "1760/1760 [==============================] - 0s 62us/step - loss: 15.7238 - val_loss: 16.2328\n",
            "Epoch 84/100\n",
            "1760/1760 [==============================] - 0s 60us/step - loss: 15.6548 - val_loss: 16.3529\n",
            "Epoch 85/100\n",
            "1760/1760 [==============================] - 0s 61us/step - loss: 15.7556 - val_loss: 16.4220\n",
            "Epoch 86/100\n",
            "1760/1760 [==============================] - 0s 62us/step - loss: 15.6932 - val_loss: 16.1568\n",
            "Epoch 87/100\n",
            "1760/1760 [==============================] - 0s 62us/step - loss: 15.5982 - val_loss: 16.4539\n",
            "Epoch 88/100\n",
            "1760/1760 [==============================] - 0s 62us/step - loss: 15.6521 - val_loss: 16.6898\n",
            "Epoch 89/100\n",
            "1760/1760 [==============================] - 0s 65us/step - loss: 15.6506 - val_loss: 16.5068\n",
            "Epoch 90/100\n",
            "1760/1760 [==============================] - 0s 61us/step - loss: 15.5962 - val_loss: 16.4865\n",
            "Epoch 91/100\n",
            "1760/1760 [==============================] - 0s 61us/step - loss: 15.7014 - val_loss: 16.3792\n",
            "Epoch 92/100\n",
            "1760/1760 [==============================] - 0s 61us/step - loss: 15.4524 - val_loss: 16.2502\n",
            "Epoch 93/100\n",
            "1760/1760 [==============================] - 0s 61us/step - loss: 15.4706 - val_loss: 16.3347\n",
            "Epoch 94/100\n",
            "1760/1760 [==============================] - 0s 60us/step - loss: 15.4973 - val_loss: 16.2858\n",
            "Epoch 95/100\n",
            "1760/1760 [==============================] - 0s 60us/step - loss: 15.6116 - val_loss: 16.4407\n",
            "Epoch 96/100\n",
            "1760/1760 [==============================] - 0s 62us/step - loss: 15.4772 - val_loss: 16.2339\n",
            "Epoch 97/100\n",
            "1760/1760 [==============================] - 0s 61us/step - loss: 15.5467 - val_loss: 16.2622\n",
            "Epoch 98/100\n",
            "1760/1760 [==============================] - 0s 65us/step - loss: 15.4564 - val_loss: 16.2310\n",
            "Epoch 99/100\n",
            "1760/1760 [==============================] - 0s 60us/step - loss: 15.5294 - val_loss: 16.4624\n",
            "Epoch 100/100\n",
            "1760/1760 [==============================] - 0s 62us/step - loss: 15.4079 - val_loss: 16.2388\n"
          ],
          "name": "stdout"
        }
      ]
    },
    {
      "cell_type": "code",
      "metadata": {
        "id": "ZiV2iQyVwSdN",
        "colab_type": "code",
        "outputId": "f10d0781-3b97-4eac-81aa-c60df164c02f",
        "colab": {
          "base_uri": "https://localhost:8080/",
          "height": 34
        }
      },
      "source": [
        "np.random.seed(1)\n",
        "x_test = np.reshape(x_test, (-1, original_dim))\n",
        "x_test_encoded = vae.encoder.predict(x_test)\n",
        "x_test_encoded = np.asarray(x_test_encoded)\n",
        "\n",
        "print(x_test_encoded.shape)"
      ],
      "execution_count": 0,
      "outputs": [
        {
          "output_type": "stream",
          "text": [
            "(3, 1761, 23)\n"
          ],
          "name": "stdout"
        }
      ]
    },
    {
      "cell_type": "code",
      "metadata": {
        "id": "qTfvSN_R2c76",
        "colab_type": "code",
        "outputId": "66993133-050b-4f60-9d9a-914d6860177d",
        "colab": {
          "base_uri": "https://localhost:8080/",
          "height": 34
        }
      },
      "source": [
        "np.random.seed(1)\n",
        "\n",
        "total_nums = 2\n",
        "results = []\n",
        "for i in range(x_test_encoded.shape[1]):\n",
        "    latent_gen = []\n",
        "    for j in range(x_test_encoded.shape[2]):\n",
        "        mean_v1 = x_test_encoded[0, i, j]\n",
        "        log_var_v1 = x_test_encoded[1, i, j]\n",
        "\n",
        "        v1 = [mean_v1 + np.exp(log_var_v1/2)*np.random.normal(0., 1., 1) for _ in range(total_nums)]\n",
        "        v1 = np.asarray(v1).flatten()\n",
        "        latent_gen.append(v1)\n",
        "    \n",
        "    input_val = np.asarray(latent_gen)\n",
        "    input_val = input_val.reshape((-1, latent_dim))\n",
        "    results.append(vae.generate(input_val))\n",
        "        \n",
        "results = np.asarray(results)\n",
        "results = np.reshape(results, (-1, original_dim))\n",
        "print(results.shape)\n",
        "results = scaler.inverse_transform(results)"
      ],
      "execution_count": 0,
      "outputs": [
        {
          "output_type": "stream",
          "text": [
            "(3522, 47)\n"
          ],
          "name": "stdout"
        }
      ]
    },
    {
      "cell_type": "code",
      "metadata": {
        "id": "fC6DiGV8MV9W",
        "colab_type": "code",
        "colab": {}
      },
      "source": [
        "d = {}\n",
        "names = list(df)\n",
        "for i, name in enumerate(names):\n",
        "    d[name] = results[:, i]\n",
        "df = pd.DataFrame(data=d)"
      ],
      "execution_count": 0,
      "outputs": []
    },
    {
      "cell_type": "code",
      "metadata": {
        "id": "49_bbWWCsrHG",
        "colab_type": "code",
        "outputId": "6e77b256-dcb8-4cc3-bc47-ac766d7bf550",
        "colab": {
          "base_uri": "https://localhost:8080/",
          "height": 258
        }
      },
      "source": [
        "names = list(df)\n",
        "c_dict = {}\n",
        "for n in names:\n",
        "    if '_' in n:\n",
        "        index = n.index('_')\n",
        "        c_dict[n[:index]] = [c for c in names if n[:index+1] in c]\n",
        "values = []\n",
        "for key, items in c_dict.items():\n",
        "    dummies = df[items]\n",
        "    d_names = list(dummies)\n",
        "    c_dict = {}\n",
        "    for n in d_names:\n",
        "        c_dict[n] = n[n.index('_')+1:]\n",
        "    dummies.rename(columns=c_dict, \n",
        "                   inplace=True)\n",
        "    df[key] = dummies.idxmax(axis=1)\n",
        "    df.drop(items, axis=1, inplace=True)\n",
        "print(df.head())"
      ],
      "execution_count": 0,
      "outputs": [
        {
          "output_type": "stream",
          "text": [
            "/usr/local/lib/python3.6/dist-packages/pandas/core/frame.py:4025: SettingWithCopyWarning: \n",
            "A value is trying to be set on a copy of a slice from a DataFrame\n",
            "\n",
            "See the caveats in the documentation: http://pandas.pydata.org/pandas-docs/stable/indexing.html#indexing-view-versus-copy\n",
            "  return super(DataFrame, self).rename(**kwargs)\n"
          ],
          "name": "stderr"
        },
        {
          "output_type": "stream",
          "text": [
            "   SeniorCitizen     tenure  ...              PaymentMethod  Churn\n",
            "0       0.013212   3.544848  ...               Mailed check    Yes\n",
            "1       0.081422  47.010456  ...  Bank transfer (automatic)     No\n",
            "2       0.249701  20.548777  ...    Credit card (automatic)     No\n",
            "3       0.085465  65.196381  ...    Credit card (automatic)     No\n",
            "4       0.170070  31.083530  ...    Credit card (automatic)     No\n",
            "\n",
            "[5 rows x 20 columns]\n"
          ],
          "name": "stdout"
        }
      ]
    },
    {
      "cell_type": "code",
      "metadata": {
        "id": "1ljK-ceANBih",
        "colab_type": "code",
        "colab": {}
      },
      "source": [
        "df = df.reindex(sorted(df.columns), axis=1)\n",
        "df.to_csv(path + '_vae.csv')"
      ],
      "execution_count": 0,
      "outputs": []
    },
    {
      "cell_type": "markdown",
      "metadata": {
        "colab_type": "text",
        "id": "SZr05ADu6LQP"
      },
      "source": [
        "# Dropout VAE"
      ]
    },
    {
      "cell_type": "markdown",
      "metadata": {
        "colab_type": "text",
        "id": "70nAVW82oNMV"
      },
      "source": [
        "## Read Data"
      ]
    },
    {
      "cell_type": "code",
      "metadata": {
        "colab_type": "code",
        "outputId": "175784fe-c166-4859-ad8f-08d5fe9ccb48",
        "id": "EUDQdDxxT29T",
        "colab": {
          "base_uri": "https://localhost:8080/",
          "height": 615
        }
      },
      "source": [
        "np.random.seed(1)\n",
        "\n",
        "import pandas as pd\n",
        "na_values = {'?', ' '}\n",
        "df = pd.read_csv(path,\n",
        "                 sep=',',\n",
        "                 na_filter=True, \n",
        "                 verbose=False, \n",
        "                 skip_blank_lines=True, \n",
        "                 na_values=na_values,\n",
        "                 keep_default_na=False)\n",
        "                 \n",
        "df.fillna(method='ffill', inplace=True)\n",
        "df.dropna(axis=1, how='any', inplace=True)\n",
        "df.drop(['customerID'], axis=1, inplace=True)\n",
        "df = df.reset_index(drop=True)\n",
        "print(df.info())\n",
        "print(df.head())"
      ],
      "execution_count": 0,
      "outputs": [
        {
          "output_type": "stream",
          "text": [
            "<class 'pandas.core.frame.DataFrame'>\n",
            "RangeIndex: 7043 entries, 0 to 7042\n",
            "Data columns (total 20 columns):\n",
            "gender              7043 non-null object\n",
            "SeniorCitizen       7043 non-null int64\n",
            "Partner             7043 non-null object\n",
            "Dependents          7043 non-null object\n",
            "tenure              7043 non-null int64\n",
            "PhoneService        7043 non-null object\n",
            "MultipleLines       7043 non-null object\n",
            "InternetService     7043 non-null object\n",
            "OnlineSecurity      7043 non-null object\n",
            "OnlineBackup        7043 non-null object\n",
            "DeviceProtection    7043 non-null object\n",
            "TechSupport         7043 non-null object\n",
            "StreamingTV         7043 non-null object\n",
            "StreamingMovies     7043 non-null object\n",
            "Contract            7043 non-null object\n",
            "PaperlessBilling    7043 non-null object\n",
            "PaymentMethod       7043 non-null object\n",
            "MonthlyCharges      7043 non-null float64\n",
            "TotalCharges        7043 non-null float64\n",
            "Churn               7043 non-null object\n",
            "dtypes: float64(2), int64(2), object(16)\n",
            "memory usage: 1.1+ MB\n",
            "None\n",
            "   gender  SeniorCitizen Partner  ... MonthlyCharges  TotalCharges Churn\n",
            "0  Female              0     Yes  ...          29.85         29.85    No\n",
            "1    Male              0      No  ...          56.95       1889.50    No\n",
            "2    Male              0      No  ...          53.85        108.15   Yes\n",
            "3    Male              0      No  ...          42.30       1840.75    No\n",
            "4  Female              0      No  ...          70.70        151.65   Yes\n",
            "\n",
            "[5 rows x 20 columns]\n"
          ],
          "name": "stdout"
        }
      ]
    },
    {
      "cell_type": "markdown",
      "metadata": {
        "colab_type": "text",
        "id": "JptPeF-IT29g"
      },
      "source": [
        "## Recognizing Categorical data"
      ]
    },
    {
      "cell_type": "code",
      "metadata": {
        "colab_type": "code",
        "outputId": "72f6c581-b7ce-473d-fce1-5f5942001e29",
        "id": "ezmEK3h-T29h",
        "colab": {
          "base_uri": "https://localhost:8080/",
          "height": 173
        }
      },
      "source": [
        "colnums = len(df.columns)\n",
        "for i in df.columns:\n",
        "    try:\n",
        "        if df[i].dtype.name == 'object':\n",
        "            df[i] = df[i].astype('category')\n",
        "        else:\n",
        "            df[i].astype('float32')\n",
        "    except:\n",
        "        continue\n",
        "print(df.head())"
      ],
      "execution_count": 0,
      "outputs": [
        {
          "output_type": "stream",
          "text": [
            "   gender  SeniorCitizen Partner  ... MonthlyCharges  TotalCharges Churn\n",
            "0  Female              0     Yes  ...          29.85         29.85    No\n",
            "1    Male              0      No  ...          56.95       1889.50    No\n",
            "2    Male              0      No  ...          53.85        108.15   Yes\n",
            "3    Male              0      No  ...          42.30       1840.75    No\n",
            "4  Female              0      No  ...          70.70        151.65   Yes\n",
            "\n",
            "[5 rows x 20 columns]\n"
          ],
          "name": "stdout"
        }
      ]
    },
    {
      "cell_type": "code",
      "metadata": {
        "colab_type": "code",
        "outputId": "b78004a4-b876-47aa-96f5-3d6012708231",
        "id": "oapUxtIiT29l",
        "colab": {
          "base_uri": "https://localhost:8080/",
          "height": 173
        }
      },
      "source": [
        "from sklearn.model_selection import train_test_split\n",
        "from sklearn.preprocessing import MinMaxScaler, StandardScaler\n",
        "np.random.seed(1)\n",
        "\n",
        "vals = df.values.copy()\n",
        "total_nums = len(vals)\n",
        "\n",
        "train, validation = train_test_split(df, test_size=0.5, \n",
        "                                     random_state=42, \n",
        "                                     shuffle=True)\n",
        "\n",
        "print(validation.head())"
      ],
      "execution_count": 0,
      "outputs": [
        {
          "output_type": "stream",
          "text": [
            "      gender  SeniorCitizen Partner  ... MonthlyCharges  TotalCharges Churn\n",
            "185   Female              0     Yes  ...          24.80         24.80   Yes\n",
            "2715    Male              0      No  ...          25.25        996.45    No\n",
            "3825  Female              0     Yes  ...          19.35       1031.70    No\n",
            "1807  Female              0      No  ...          76.35         76.35   Yes\n",
            "132     Male              0      No  ...          50.55       3260.10    No\n",
            "\n",
            "[5 rows x 20 columns]\n"
          ],
          "name": "stdout"
        }
      ]
    },
    {
      "cell_type": "code",
      "metadata": {
        "colab_type": "code",
        "outputId": "93296569-1cb3-476b-85c4-93b430be8e75",
        "id": "HAVFi13QT29o",
        "colab": {
          "base_uri": "https://localhost:8080/",
          "height": 122
        }
      },
      "source": [
        "df = train\n",
        "categorical = df.select_dtypes(['category']).columns\n",
        "print(categorical)\n",
        "for f in categorical:\n",
        "    dummies = pd.get_dummies(df[f], prefix = f, prefix_sep = '_')\n",
        "    df = pd.concat([df, dummies], axis = 1)\n",
        "    \n",
        "# drop original categorical features\n",
        "df.drop(categorical, axis = 1, inplace = True)"
      ],
      "execution_count": 0,
      "outputs": [
        {
          "output_type": "stream",
          "text": [
            "Index(['gender', 'Partner', 'Dependents', 'PhoneService', 'MultipleLines',\n",
            "       'InternetService', 'OnlineSecurity', 'OnlineBackup', 'DeviceProtection',\n",
            "       'TechSupport', 'StreamingTV', 'StreamingMovies', 'Contract',\n",
            "       'PaperlessBilling', 'PaymentMethod', 'Churn'],\n",
            "      dtype='object')\n"
          ],
          "name": "stdout"
        }
      ]
    },
    {
      "cell_type": "code",
      "metadata": {
        "colab_type": "code",
        "id": "9KXhkZujT29r",
        "colab": {}
      },
      "source": [
        "np.random.seed(1)\n",
        "\n",
        "train = df.values.copy()\n",
        "train.astype('float32')\n",
        "scaler = MinMaxScaler()\n",
        "d = {}\n",
        "train = scaler.fit_transform(train)\n",
        "x_train, x_test = train_test_split(train, test_size=0.5,\n",
        "                                  random_state=42,\n",
        "                                  shuffle=True)"
      ],
      "execution_count": 0,
      "outputs": []
    },
    {
      "cell_type": "code",
      "metadata": {
        "colab_type": "code",
        "outputId": "62c9e546-8fbe-4fcb-ca7a-21fdc65bb1d6",
        "id": "fa5UJs9cT29v",
        "colab": {
          "base_uri": "https://localhost:8080/",
          "height": 51
        }
      },
      "source": [
        "original_dim = x_train.shape[1]\n",
        "x_train = np.reshape(x_train, [-1, original_dim])\n",
        "x_test = np.reshape(x_test, [-1, original_dim])\n",
        "x_train = x_train.astype('float32')\n",
        "x_test = x_test.astype('float32')\n",
        "print(x_train.shape)\n",
        "print(x_test.shape)"
      ],
      "execution_count": 0,
      "outputs": [
        {
          "output_type": "stream",
          "text": [
            "(1760, 47)\n",
            "(1761, 47)\n"
          ],
          "name": "stdout"
        }
      ]
    },
    {
      "cell_type": "code",
      "metadata": {
        "colab_type": "code",
        "id": "MnKFnBX-6LQR",
        "colab": {}
      },
      "source": [
        "from keras.regularizers import l2\n",
        "from keras.losses import categorical_crossentropy\n",
        "np.random.seed(1)\n",
        "\n",
        "class DropoutVAE:\n",
        "    def __init__(self, input_shape=(original_dim,), \n",
        "                 intermediate_dim=32, latent_dim=3, dropout=0.05, \n",
        "                 summary=False):\n",
        "        \n",
        "        self._build_model(input_shape,\n",
        "                         intermediate_dim, \n",
        "                          latent_dim, summary,\n",
        "                          dropout)\n",
        "    \n",
        "    def _build_model(self, input_shape, intermediate_dim, latent_dim,\n",
        "                    summary=False, dropout=0.05):\n",
        "        inputs = Input(shape=input_shape, name='encoder_input')\n",
        "        x = inputs\n",
        "        x = Dense(intermediate_dim, activation='relu')(x)\n",
        "        x = Dense(intermediate_dim//2, activation='relu')(x)\n",
        "        \n",
        "        z_mean = Dense(latent_dim, name='z_mean')(x)\n",
        "        z_log_var = Dense(latent_dim, name='z_log_var')(x)\n",
        "\n",
        "        z = Lambda(self.sampling, output_shape=(latent_dim,), \n",
        "                   name='z')([z_mean, z_log_var])\n",
        "\n",
        "        self.encoder = Model(inputs, [z_mean, z_log_var, z], \n",
        "                        name='encoder')\n",
        "        \n",
        "        latent_inputs = Input(shape=(latent_dim,), \n",
        "                              name='z_sampling')\n",
        "        x = latent_inputs\n",
        "        x = Dense(intermediate_dim//2, activation='relu',\n",
        "                 kernel_regularizer=l2(1e-4),\n",
        "                 bias_regularizer=l2(1e-4))(x)\n",
        "        x = Dropout(dropout)(x)\n",
        "        x = Dense(intermediate_dim, activation='relu',\n",
        "                 kernel_regularizer=l2(1e-4),\n",
        "                 bias_regularizer=l2(1e-4))(x)\n",
        "        x = Dropout(dropout)(x)\n",
        "        outputs = Dense(original_dim, activation='sigmoid',\n",
        "                       kernel_regularizer=l2(1e-4),\n",
        "                       bias_regularizer=l2(1e-4))(x)\n",
        "\n",
        "        self.decoder = Model(latent_inputs, \n",
        "                             outputs, \n",
        "                             name='decoder')\n",
        "        outputs = self.decoder(self.encoder(inputs)[2])\n",
        "        self.vae = Model(inputs, outputs, \n",
        "                         name='vae_mlp')\n",
        "        \n",
        "        reconstruction_loss = binary_crossentropy(inputs, outputs)\n",
        "        reconstruction_loss *= original_dim\n",
        "        kl_loss = 1 + z_log_var - K.square(z_mean) - K.exp(z_log_var)\n",
        "        kl_loss = K.sum(kl_loss, axis=-1)\n",
        "        kl_loss *= -0.5\n",
        "        \n",
        "        vae_loss = K.mean(reconstruction_loss + kl_loss)\t\n",
        "        \n",
        "        self.vae.add_loss(vae_loss)\n",
        "        self.vae.compile(optimizer='adam')\n",
        "        if summary: \n",
        "            print(self.vae.summary())\n",
        "        \n",
        "    def sampling(self, args):\n",
        "        z_mean, z_log_var = args\n",
        "        batch = K.shape(z_mean)[0]\n",
        "        dim = K.int_shape(z_mean)[1]\n",
        "        epsilon = K.random_normal(shape=(batch, dim))\n",
        "        return z_mean + K.exp(0.5 * z_log_var) * epsilon\n",
        "        \n",
        "    def fit(self, x_train, x_test, epochs=100, batch_size=100,\n",
        "           verbose=1):\n",
        "        self.vae.fit(x_train, \n",
        "            shuffle=True,\n",
        "            epochs=epochs,\n",
        "            batch_size=batch_size,\n",
        "            verbose=verbose,\n",
        "            validation_data=(x_test, None))\n",
        "    \n",
        "    def encoder_predict(self, x_test, batch_size=100):\n",
        "        return self.encoder.predict(x_test,\n",
        "                                   batch_size=batch_size)\n",
        "    \n",
        "    def generate(self, latent_val, batch_size=100):\n",
        "        return self.decoder.predict(latent_val)\n",
        "    \n",
        "    def predict(self, x_test, batch_size=1, nums=1000):\n",
        "        predict_stochastic = K.function([self.vae.layers[0].input,\n",
        "                                        K.learning_phase()],\n",
        "                                        [self.vae.get_output_at(0)])\n",
        "        Yt_hat = np.array([self.vae.predict(x_test) for _ in range(nums)]) \n",
        "        return Yt_hat"
      ],
      "execution_count": 0,
      "outputs": []
    },
    {
      "cell_type": "markdown",
      "metadata": {
        "colab_type": "text",
        "id": "TsARTKz36LQZ"
      },
      "source": [
        "## Train and evaluate Dropout VAE"
      ]
    },
    {
      "cell_type": "code",
      "metadata": {
        "colab_type": "code",
        "id": "pkdmVggK6LQp",
        "outputId": "aa099bea-d9ce-4791-c6ab-6bddddc2e009",
        "colab": {
          "base_uri": "https://localhost:8080/",
          "height": 3692
        }
      },
      "source": [
        "np.random.seed(1)\n",
        "set_random_seed(1)\n",
        "\n",
        "latent_dim = original_dim//2\n",
        "if latent_dim < 2:\n",
        "    latent_dim = 2\n",
        "vae = DropoutVAE(intermediate_dim=intermediate_dim,\n",
        "                 dropout=0.3, latent_dim=latent_dim,\n",
        "                 summary=True)\n",
        "vae.fit(x_train, x_test, epochs=100)"
      ],
      "execution_count": 0,
      "outputs": [
        {
          "output_type": "stream",
          "text": [
            "_________________________________________________________________\n",
            "Layer (type)                 Output Shape              Param #   \n",
            "=================================================================\n",
            "encoder_input (InputLayer)   (None, 47)                0         \n",
            "_________________________________________________________________\n",
            "encoder (Model)              [(None, 23), (None, 23),  167726    \n",
            "_________________________________________________________________\n",
            "decoder (Model)              (None, 47)                161839    \n",
            "=================================================================\n",
            "Total params: 329,565\n",
            "Trainable params: 329,565\n",
            "Non-trainable params: 0\n",
            "_________________________________________________________________\n",
            "None\n",
            "Train on 1760 samples, validate on 1761 samples\n",
            "Epoch 1/100\n",
            "1760/1760 [==============================] - 1s 595us/step - loss: 29.8586 - val_loss: 28.1718\n",
            "Epoch 2/100\n",
            "1760/1760 [==============================] - 0s 72us/step - loss: 28.3519 - val_loss: 27.1145\n",
            "Epoch 3/100\n",
            "1760/1760 [==============================] - 0s 72us/step - loss: 26.1367 - val_loss: 24.4550\n",
            "Epoch 4/100\n",
            "1760/1760 [==============================] - 0s 74us/step - loss: 24.4608 - val_loss: 23.6253\n",
            "Epoch 5/100\n",
            "1760/1760 [==============================] - 0s 78us/step - loss: 23.7548 - val_loss: 22.9580\n",
            "Epoch 6/100\n",
            "1760/1760 [==============================] - 0s 73us/step - loss: 23.2601 - val_loss: 22.6682\n",
            "Epoch 7/100\n",
            "1760/1760 [==============================] - 0s 72us/step - loss: 22.7565 - val_loss: 22.3867\n",
            "Epoch 8/100\n",
            "1760/1760 [==============================] - 0s 75us/step - loss: 22.7249 - val_loss: 22.1168\n",
            "Epoch 9/100\n",
            "1760/1760 [==============================] - 0s 73us/step - loss: 22.1586 - val_loss: 21.9005\n",
            "Epoch 10/100\n",
            "1760/1760 [==============================] - 0s 76us/step - loss: 21.9865 - val_loss: 21.8342\n",
            "Epoch 11/100\n",
            "1760/1760 [==============================] - 0s 73us/step - loss: 22.1430 - val_loss: 21.5487\n",
            "Epoch 12/100\n",
            "1760/1760 [==============================] - 0s 72us/step - loss: 21.8410 - val_loss: 21.5726\n",
            "Epoch 13/100\n",
            "1760/1760 [==============================] - 0s 77us/step - loss: 21.8674 - val_loss: 21.4907\n",
            "Epoch 14/100\n",
            "1760/1760 [==============================] - 0s 72us/step - loss: 21.7543 - val_loss: 21.4331\n",
            "Epoch 15/100\n",
            "1760/1760 [==============================] - 0s 71us/step - loss: 21.5339 - val_loss: 21.2899\n",
            "Epoch 16/100\n",
            "1760/1760 [==============================] - 0s 75us/step - loss: 21.3852 - val_loss: 21.1202\n",
            "Epoch 17/100\n",
            "1760/1760 [==============================] - 0s 74us/step - loss: 21.1073 - val_loss: 20.9472\n",
            "Epoch 18/100\n",
            "1760/1760 [==============================] - 0s 71us/step - loss: 21.1270 - val_loss: 20.7771\n",
            "Epoch 19/100\n",
            "1760/1760 [==============================] - 0s 75us/step - loss: 20.8054 - val_loss: 20.6398\n",
            "Epoch 20/100\n",
            "1760/1760 [==============================] - 0s 75us/step - loss: 20.6645 - val_loss: 20.3057\n",
            "Epoch 21/100\n",
            "1760/1760 [==============================] - 0s 75us/step - loss: 20.4613 - val_loss: 20.1773\n",
            "Epoch 22/100\n",
            "1760/1760 [==============================] - 0s 74us/step - loss: 20.2601 - val_loss: 19.9910\n",
            "Epoch 23/100\n",
            "1760/1760 [==============================] - 0s 75us/step - loss: 20.2253 - val_loss: 19.7073\n",
            "Epoch 24/100\n",
            "1760/1760 [==============================] - 0s 72us/step - loss: 19.9455 - val_loss: 19.7691\n",
            "Epoch 25/100\n",
            "1760/1760 [==============================] - 0s 77us/step - loss: 19.7976 - val_loss: 19.7134\n",
            "Epoch 26/100\n",
            "1760/1760 [==============================] - 0s 73us/step - loss: 19.9029 - val_loss: 19.5273\n",
            "Epoch 27/100\n",
            "1760/1760 [==============================] - 0s 76us/step - loss: 19.7041 - val_loss: 19.5941\n",
            "Epoch 28/100\n",
            "1760/1760 [==============================] - 0s 77us/step - loss: 19.4974 - val_loss: 19.3178\n",
            "Epoch 29/100\n",
            "1760/1760 [==============================] - 0s 74us/step - loss: 19.6743 - val_loss: 19.4264\n",
            "Epoch 30/100\n",
            "1760/1760 [==============================] - 0s 71us/step - loss: 19.5027 - val_loss: 19.2414\n",
            "Epoch 31/100\n",
            "1760/1760 [==============================] - 0s 73us/step - loss: 19.4471 - val_loss: 19.3088\n",
            "Epoch 32/100\n",
            "1760/1760 [==============================] - 0s 76us/step - loss: 19.3375 - val_loss: 19.1307\n",
            "Epoch 33/100\n",
            "1760/1760 [==============================] - 0s 76us/step - loss: 19.3414 - val_loss: 19.1369\n",
            "Epoch 34/100\n",
            "1760/1760 [==============================] - 0s 79us/step - loss: 19.1917 - val_loss: 19.0829\n",
            "Epoch 35/100\n",
            "1760/1760 [==============================] - 0s 135us/step - loss: 19.2453 - val_loss: 19.0875\n",
            "Epoch 36/100\n",
            "1760/1760 [==============================] - 0s 75us/step - loss: 19.3428 - val_loss: 18.9734\n",
            "Epoch 37/100\n",
            "1760/1760 [==============================] - 0s 77us/step - loss: 19.1537 - val_loss: 18.9555\n",
            "Epoch 38/100\n",
            "1760/1760 [==============================] - 0s 74us/step - loss: 19.1275 - val_loss: 18.9203\n",
            "Epoch 39/100\n",
            "1760/1760 [==============================] - 0s 71us/step - loss: 19.1230 - val_loss: 19.1091\n",
            "Epoch 40/100\n",
            "1760/1760 [==============================] - 0s 74us/step - loss: 19.1480 - val_loss: 18.9037\n",
            "Epoch 41/100\n",
            "1760/1760 [==============================] - 0s 71us/step - loss: 18.9584 - val_loss: 18.8252\n",
            "Epoch 42/100\n",
            "1760/1760 [==============================] - 0s 74us/step - loss: 18.9433 - val_loss: 18.8325\n",
            "Epoch 43/100\n",
            "1760/1760 [==============================] - 0s 77us/step - loss: 18.9010 - val_loss: 18.6808\n",
            "Epoch 44/100\n",
            "1760/1760 [==============================] - 0s 72us/step - loss: 18.9521 - val_loss: 18.8207\n",
            "Epoch 45/100\n",
            "1760/1760 [==============================] - 0s 71us/step - loss: 18.8199 - val_loss: 18.7857\n",
            "Epoch 46/100\n",
            "1760/1760 [==============================] - 0s 75us/step - loss: 18.7862 - val_loss: 18.7188\n",
            "Epoch 47/100\n",
            "1760/1760 [==============================] - 0s 74us/step - loss: 18.8605 - val_loss: 18.8064\n",
            "Epoch 48/100\n",
            "1760/1760 [==============================] - 0s 74us/step - loss: 18.9397 - val_loss: 18.8235\n",
            "Epoch 49/100\n",
            "1760/1760 [==============================] - 0s 72us/step - loss: 18.7345 - val_loss: 18.6214\n",
            "Epoch 50/100\n",
            "1760/1760 [==============================] - 0s 73us/step - loss: 18.6760 - val_loss: 18.4318\n",
            "Epoch 51/100\n",
            "1760/1760 [==============================] - 0s 81us/step - loss: 18.7988 - val_loss: 18.6100\n",
            "Epoch 52/100\n",
            "1760/1760 [==============================] - 0s 72us/step - loss: 18.7015 - val_loss: 18.6616\n",
            "Epoch 53/100\n",
            "1760/1760 [==============================] - 0s 73us/step - loss: 18.6330 - val_loss: 18.7512\n",
            "Epoch 54/100\n",
            "1760/1760 [==============================] - 0s 74us/step - loss: 18.5118 - val_loss: 18.3991\n",
            "Epoch 55/100\n",
            "1760/1760 [==============================] - 0s 74us/step - loss: 18.5433 - val_loss: 18.5442\n",
            "Epoch 56/100\n",
            "1760/1760 [==============================] - 0s 73us/step - loss: 18.4186 - val_loss: 18.4297\n",
            "Epoch 57/100\n",
            "1760/1760 [==============================] - 0s 73us/step - loss: 18.4612 - val_loss: 18.4051\n",
            "Epoch 58/100\n",
            "1760/1760 [==============================] - 0s 75us/step - loss: 18.4597 - val_loss: 18.4011\n",
            "Epoch 59/100\n",
            "1760/1760 [==============================] - 0s 78us/step - loss: 18.4825 - val_loss: 18.3375\n",
            "Epoch 60/100\n",
            "1760/1760 [==============================] - 0s 75us/step - loss: 18.4910 - val_loss: 18.3273\n",
            "Epoch 61/100\n",
            "1760/1760 [==============================] - 0s 72us/step - loss: 18.5126 - val_loss: 18.3325\n",
            "Epoch 62/100\n",
            "1760/1760 [==============================] - 0s 74us/step - loss: 18.3555 - val_loss: 18.1740\n",
            "Epoch 63/100\n",
            "1760/1760 [==============================] - 0s 76us/step - loss: 18.2959 - val_loss: 18.1395\n",
            "Epoch 64/100\n",
            "1760/1760 [==============================] - 0s 75us/step - loss: 18.3647 - val_loss: 18.3378\n",
            "Epoch 65/100\n",
            "1760/1760 [==============================] - 0s 74us/step - loss: 18.3545 - val_loss: 18.1892\n",
            "Epoch 66/100\n",
            "1760/1760 [==============================] - 0s 81us/step - loss: 18.4228 - val_loss: 18.3105\n",
            "Epoch 67/100\n",
            "1760/1760 [==============================] - 0s 72us/step - loss: 18.4042 - val_loss: 18.2381\n",
            "Epoch 68/100\n",
            "1760/1760 [==============================] - 0s 72us/step - loss: 18.2620 - val_loss: 18.1390\n",
            "Epoch 69/100\n",
            "1760/1760 [==============================] - 0s 73us/step - loss: 18.1770 - val_loss: 18.1941\n",
            "Epoch 70/100\n",
            "1760/1760 [==============================] - 0s 73us/step - loss: 18.0485 - val_loss: 18.1231\n",
            "Epoch 71/100\n",
            "1760/1760 [==============================] - 0s 73us/step - loss: 18.2123 - val_loss: 18.0975\n",
            "Epoch 72/100\n",
            "1760/1760 [==============================] - 0s 75us/step - loss: 18.0882 - val_loss: 18.1814\n",
            "Epoch 73/100\n",
            "1760/1760 [==============================] - 0s 75us/step - loss: 18.0899 - val_loss: 18.0049\n",
            "Epoch 74/100\n",
            "1760/1760 [==============================] - 0s 74us/step - loss: 18.0688 - val_loss: 18.1872\n",
            "Epoch 75/100\n",
            "1760/1760 [==============================] - 0s 75us/step - loss: 18.2366 - val_loss: 18.1069\n",
            "Epoch 76/100\n",
            "1760/1760 [==============================] - 0s 74us/step - loss: 18.1388 - val_loss: 18.1238\n",
            "Epoch 77/100\n",
            "1760/1760 [==============================] - 0s 78us/step - loss: 18.1851 - val_loss: 17.9649\n",
            "Epoch 78/100\n",
            "1760/1760 [==============================] - 0s 73us/step - loss: 17.9143 - val_loss: 18.1150\n",
            "Epoch 79/100\n",
            "1760/1760 [==============================] - 0s 72us/step - loss: 17.9610 - val_loss: 18.0614\n",
            "Epoch 80/100\n",
            "1760/1760 [==============================] - 0s 74us/step - loss: 18.0618 - val_loss: 17.9114\n",
            "Epoch 81/100\n",
            "1760/1760 [==============================] - 0s 76us/step - loss: 17.9972 - val_loss: 17.9583\n",
            "Epoch 82/100\n",
            "1760/1760 [==============================] - 0s 78us/step - loss: 17.9627 - val_loss: 17.8829\n",
            "Epoch 83/100\n",
            "1760/1760 [==============================] - 0s 73us/step - loss: 17.7033 - val_loss: 17.8917\n",
            "Epoch 84/100\n",
            "1760/1760 [==============================] - 0s 72us/step - loss: 18.0403 - val_loss: 17.8796\n",
            "Epoch 85/100\n",
            "1760/1760 [==============================] - 0s 75us/step - loss: 17.8972 - val_loss: 17.8553\n",
            "Epoch 86/100\n",
            "1760/1760 [==============================] - 0s 72us/step - loss: 17.8254 - val_loss: 17.8542\n",
            "Epoch 87/100\n",
            "1760/1760 [==============================] - 0s 73us/step - loss: 17.9416 - val_loss: 17.8036\n",
            "Epoch 88/100\n",
            "1760/1760 [==============================] - 0s 74us/step - loss: 17.7892 - val_loss: 17.8485\n",
            "Epoch 89/100\n",
            "1760/1760 [==============================] - 0s 87us/step - loss: 17.8235 - val_loss: 17.8436\n",
            "Epoch 90/100\n",
            "1760/1760 [==============================] - 0s 81us/step - loss: 17.7488 - val_loss: 17.8338\n",
            "Epoch 91/100\n",
            "1760/1760 [==============================] - 0s 87us/step - loss: 17.7838 - val_loss: 17.9736\n",
            "Epoch 92/100\n",
            "1760/1760 [==============================] - 0s 86us/step - loss: 17.8061 - val_loss: 17.7302\n",
            "Epoch 93/100\n",
            "1760/1760 [==============================] - 0s 89us/step - loss: 17.6442 - val_loss: 17.9508\n",
            "Epoch 94/100\n",
            "1760/1760 [==============================] - 0s 87us/step - loss: 17.7292 - val_loss: 17.8376\n",
            "Epoch 95/100\n",
            "1760/1760 [==============================] - 0s 89us/step - loss: 17.7019 - val_loss: 17.8392\n",
            "Epoch 96/100\n",
            "1760/1760 [==============================] - 0s 94us/step - loss: 17.9342 - val_loss: 17.6828\n",
            "Epoch 97/100\n",
            "1760/1760 [==============================] - 0s 86us/step - loss: 17.7821 - val_loss: 17.7624\n",
            "Epoch 98/100\n",
            "1760/1760 [==============================] - 0s 82us/step - loss: 17.6657 - val_loss: 17.7501\n",
            "Epoch 99/100\n",
            "1760/1760 [==============================] - 0s 81us/step - loss: 17.6223 - val_loss: 17.6619\n",
            "Epoch 100/100\n",
            "1760/1760 [==============================] - 0s 85us/step - loss: 17.6098 - val_loss: 17.8474\n"
          ],
          "name": "stdout"
        }
      ]
    },
    {
      "cell_type": "code",
      "metadata": {
        "colab_type": "code",
        "id": "2HndA3MG6LQs",
        "outputId": "2e0fc2ff-d427-4ba1-8e46-b756e6b07bd4",
        "colab": {
          "base_uri": "https://localhost:8080/",
          "height": 51
        }
      },
      "source": [
        "np.random.seed(1)\n",
        "x_test = np.reshape(x_test, (-1, original_dim))\n",
        "print(x_test.shape)\n",
        "print(x_test[0].reshape(-1, original_dim).shape)"
      ],
      "execution_count": 0,
      "outputs": [
        {
          "output_type": "stream",
          "text": [
            "(1761, 47)\n",
            "(1, 47)\n"
          ],
          "name": "stdout"
        }
      ]
    },
    {
      "cell_type": "code",
      "metadata": {
        "id": "_sgO9JKSqWsW",
        "colab_type": "code",
        "colab": {}
      },
      "source": [
        "np.random.seed(1)\n",
        "set_random_seed(1)\n",
        "\n",
        "total_nums = 2\n",
        "results = []\n",
        "for i in range(x_test.shape[0]):\n",
        "    x_test_encoded = vae.predict(x_test[i].reshape(-1, original_dim), \n",
        "                                 nums=total_nums)\n",
        "    x_test_encoded = x_test_encoded.reshape(total_nums, original_dim)\n",
        "    results.append(x_test_encoded)\n",
        "results = np.asarray(results)\n",
        "results = results.reshape(total_nums*results.shape[0], original_dim)\n",
        "results = scaler.inverse_transform(results)"
      ],
      "execution_count": 0,
      "outputs": []
    },
    {
      "cell_type": "markdown",
      "metadata": {
        "id": "POfJxgHamlmx",
        "colab_type": "text"
      },
      "source": [
        "## Results"
      ]
    },
    {
      "cell_type": "code",
      "metadata": {
        "colab_type": "code",
        "id": "YIlGSzekAYlO",
        "colab": {}
      },
      "source": [
        "d = {}\n",
        "names = list(df)\n",
        "for i, name in enumerate(names):\n",
        "    d[name] = results[:, i]\n",
        "df = pd.DataFrame(data=d)"
      ],
      "execution_count": 0,
      "outputs": []
    },
    {
      "cell_type": "code",
      "metadata": {
        "colab_type": "code",
        "outputId": "ee765235-fe1a-407c-cb66-83da9b14b2ce",
        "id": "shurAQCSAYlV",
        "colab": {
          "base_uri": "https://localhost:8080/",
          "height": 258
        }
      },
      "source": [
        "names = list(df)\n",
        "c_dict = {}\n",
        "for n in names:\n",
        "    if '_' in n:\n",
        "        index = n.index('_')\n",
        "        c_dict[n[:index]] = [c for c in names if n[:index+1] in c]\n",
        "values = []\n",
        "for key, items in c_dict.items():\n",
        "    dummies = df[items]\n",
        "    d_names = list(dummies)\n",
        "    c_dict = {}\n",
        "    for n in d_names:\n",
        "        c_dict[n] = n[n.index('_')+1:]\n",
        "    dummies.rename(columns=c_dict, \n",
        "                   inplace=True)\n",
        "    df[key] = dummies.idxmax(axis=1)\n",
        "    df.drop(items, axis=1, inplace=True)\n",
        "print(df.head())"
      ],
      "execution_count": 0,
      "outputs": [
        {
          "output_type": "stream",
          "text": [
            "/usr/local/lib/python3.6/dist-packages/pandas/core/frame.py:4025: SettingWithCopyWarning: \n",
            "A value is trying to be set on a copy of a slice from a DataFrame\n",
            "\n",
            "See the caveats in the documentation: http://pandas.pydata.org/pandas-docs/stable/indexing.html#indexing-view-versus-copy\n",
            "  return super(DataFrame, self).rename(**kwargs)\n"
          ],
          "name": "stderr"
        },
        {
          "output_type": "stream",
          "text": [
            "   SeniorCitizen     tenure  ...            PaymentMethod  Churn\n",
            "0       0.360555  39.296310  ...  Credit card (automatic)    Yes\n",
            "1       0.335829  18.936893  ...         Electronic check    Yes\n",
            "2       0.251064  65.735451  ...  Credit card (automatic)     No\n",
            "3       0.079348  63.981174  ...  Credit card (automatic)     No\n",
            "4       0.382243   1.615351  ...         Electronic check    Yes\n",
            "\n",
            "[5 rows x 20 columns]\n"
          ],
          "name": "stdout"
        }
      ]
    },
    {
      "cell_type": "code",
      "metadata": {
        "colab_type": "code",
        "id": "n8dLIoyVW_Kn",
        "colab": {}
      },
      "source": [
        "df = df.reindex(sorted(df.columns), axis=1)\n",
        "df.to_csv(path + '_dropout.csv')"
      ],
      "execution_count": 0,
      "outputs": []
    },
    {
      "cell_type": "markdown",
      "metadata": {
        "id": "xL6N8v2sYTNm",
        "colab_type": "text"
      },
      "source": [
        "# Transform categorical -> number"
      ]
    },
    {
      "cell_type": "code",
      "metadata": {
        "id": "FgVhmliYYzwS",
        "colab_type": "code",
        "colab": {}
      },
      "source": [
        "np.random.seed(1)\n",
        "\n",
        "validation.to_csv(path + '_For_Test.csv')\n",
        "df = pd.read_csv(path + '_For_Test.csv',\n",
        "                 na_filter=True, \n",
        "                 verbose=False, \n",
        "                 skip_blank_lines=True, \n",
        "                 na_values=na_values,\n",
        "                 keep_default_na=False)\n",
        "df_mc = pd.read_csv(path + '_dropout.csv',\n",
        "                 na_filter=True, \n",
        "                 verbose=False, \n",
        "                 skip_blank_lines=True, \n",
        "                 na_values=na_values,\n",
        "                 keep_default_na=False)\n",
        "df_vae = pd.read_csv(path + '_vae.csv',\n",
        "                 na_filter=True, \n",
        "                 verbose=False, \n",
        "                 skip_blank_lines=True, \n",
        "                 na_values=na_values,\n",
        "                 keep_default_na=False)\n",
        "df.drop('Unnamed: 0', axis=1, inplace=True)\n",
        "df_mc.drop('Unnamed: 0', axis=1, inplace=True)\n",
        "df_vae.drop('Unnamed: 0', axis=1, inplace=True)\n",
        "names = list(df)"
      ],
      "execution_count": 0,
      "outputs": []
    },
    {
      "cell_type": "code",
      "metadata": {
        "id": "HSbyWbb0ZjAJ",
        "colab_type": "code",
        "outputId": "3bc7bc22-ef2c-431a-ce1e-726dae1dab91",
        "colab": {
          "base_uri": "https://localhost:8080/",
          "height": 122
        }
      },
      "source": [
        "from sklearn.preprocessing import LabelEncoder\n",
        "colnums = len(df.columns)\n",
        "for i in df.columns:\n",
        "    try:\n",
        "        if df[i].dtype.name == 'object':\n",
        "            df[i] = df[i].astype('category')\n",
        "    except:\n",
        "        continue\n",
        "cat_columns = df.select_dtypes(['category']).columns\n",
        "print(cat_columns)\n",
        "for col in cat_columns:\n",
        "    le = LabelEncoder()\n",
        "    df[col] = le.fit_transform(df[col].values)\n",
        "    df_mc[col] = le.transform(df_mc[col].values)\n",
        "    df_vae[col] = le.transform(df_vae[col].values)\n",
        "    "
      ],
      "execution_count": 0,
      "outputs": [
        {
          "output_type": "stream",
          "text": [
            "Index(['gender', 'Partner', 'Dependents', 'PhoneService', 'MultipleLines',\n",
            "       'InternetService', 'OnlineSecurity', 'OnlineBackup', 'DeviceProtection',\n",
            "       'TechSupport', 'StreamingTV', 'StreamingMovies', 'Contract',\n",
            "       'PaperlessBilling', 'PaymentMethod', 'Churn'],\n",
            "      dtype='object')\n"
          ],
          "name": "stdout"
        }
      ]
    },
    {
      "cell_type": "code",
      "metadata": {
        "id": "J-scTKTHZ9Wk",
        "colab_type": "code",
        "colab": {}
      },
      "source": [
        "df = df.reindex(sorted(df.columns), axis=1)\n",
        "df_mc = df_mc.reindex(sorted(df_mc.columns), axis=1)\n",
        "df_vae = df_vae.reindex(sorted(df_vae.columns), axis=1)\n",
        "df.to_csv(path + '_For_Test_encoded.csv')\n",
        "df_mc.to_csv(path + '_dropout_encoded.csv')\n",
        "df_vae.to_csv(path + '_vae_encoded.csv')"
      ],
      "execution_count": 0,
      "outputs": []
    },
    {
      "cell_type": "markdown",
      "metadata": {
        "id": "gLy-z65OUnRj",
        "colab_type": "text"
      },
      "source": [
        "# Predicting with generated data"
      ]
    },
    {
      "cell_type": "code",
      "metadata": {
        "id": "-W-tX8ysUuOC",
        "colab_type": "code",
        "colab": {}
      },
      "source": [
        "df = pd.read_csv(path + '_For_Test_encoded.csv',\n",
        "                 na_filter=True, \n",
        "                 verbose=False, \n",
        "                 skip_blank_lines=True, \n",
        "                 na_values=na_values,\n",
        "                 keep_default_na=False)\n",
        "df_mc = pd.read_csv(path + '_dropout_encoded.csv',\n",
        "                 na_filter=True, \n",
        "                 verbose=False, \n",
        "                 skip_blank_lines=True, \n",
        "                 na_values=na_values,\n",
        "                 keep_default_na=False)\n",
        "df_vae = pd.read_csv(path + '_vae_encoded.csv',\n",
        "                 na_filter=True, \n",
        "                 verbose=False, \n",
        "                 skip_blank_lines=True, \n",
        "                 na_values=na_values,\n",
        "                 keep_default_na=False)\n",
        "df.drop('Unnamed: 0', axis=1, inplace=True)\n",
        "df_mc.drop('Unnamed: 0', axis=1, inplace=True)\n",
        "df_vae.drop('Unnamed: 0', axis=1, inplace=True)"
      ],
      "execution_count": 0,
      "outputs": []
    },
    {
      "cell_type": "code",
      "metadata": {
        "id": "8F40hUKFVC3E",
        "colab_type": "code",
        "outputId": "56fa1a5c-290e-4771-b92d-c935f98ab4ec",
        "colab": {
          "base_uri": "https://localhost:8080/",
          "height": 425
        }
      },
      "source": [
        "print(df.head())\n",
        "print(df_mc.head())\n",
        "print(df_vae.head())"
      ],
      "execution_count": 0,
      "outputs": [
        {
          "output_type": "stream",
          "text": [
            "   Churn  Contract  Dependents  ...  TotalCharges  gender  tenure\n",
            "0      1         0           0  ...         24.80       0       1\n",
            "1      0         0           0  ...        996.45       1      41\n",
            "2      0         2           1  ...       1031.70       0      52\n",
            "3      1         0           0  ...         76.35       0       1\n",
            "4      0         2           0  ...       3260.10       1      67\n",
            "\n",
            "[5 rows x 20 columns]\n",
            "   Churn  Contract  Dependents  ...  TotalCharges  gender     tenure\n",
            "0      1         0           0  ...    3672.86250       0  39.296310\n",
            "1      1         0           0  ...    1552.40690       0  18.936893\n",
            "2      0         2           0  ...    7063.79440       0  65.735450\n",
            "3      0         2           1  ...    5917.38600       0  63.981174\n",
            "4      1         0           0  ...     107.92935       1   1.615351\n",
            "\n",
            "[5 rows x 20 columns]\n",
            "   Churn  Contract  Dependents  ...  TotalCharges  gender     tenure\n",
            "0      1         0           0  ...    118.163994       0   3.544848\n",
            "1      0         2           0  ...   1388.769000       1  47.010456\n",
            "2      0         0           0  ...   1103.088100       1  20.548777\n",
            "3      0         2           0  ...   6648.083500       0  65.196380\n",
            "4      0         0           0  ...   2718.132300       1  31.083530\n",
            "\n",
            "[5 rows x 20 columns]\n"
          ],
          "name": "stdout"
        }
      ]
    },
    {
      "cell_type": "code",
      "metadata": {
        "id": "0tyhyfWHXbn4",
        "colab_type": "code",
        "outputId": "6a9a3dc6-ed64-45a5-fbb8-4aed11c13e67",
        "colab": {
          "base_uri": "https://localhost:8080/",
          "height": 51
        }
      },
      "source": [
        "y = df['Churn'].values\n",
        "df.drop(['Churn'], axis=1, inplace=True)\n",
        "X = df.values\n",
        "print(y.shape)\n",
        "print(X.shape)"
      ],
      "execution_count": 0,
      "outputs": [
        {
          "output_type": "stream",
          "text": [
            "(3522,)\n",
            "(3522, 19)\n"
          ],
          "name": "stdout"
        }
      ]
    },
    {
      "cell_type": "code",
      "metadata": {
        "id": "rwzr1m5TX5QC",
        "colab_type": "code",
        "outputId": "866730d0-85f4-4472-ef91-02c053814bf9",
        "colab": {
          "base_uri": "https://localhost:8080/",
          "height": 51
        }
      },
      "source": [
        "y_mc = df_mc['Churn'].values\n",
        "df_mc.drop(['Churn'], axis=1, inplace=True)\n",
        "X_mc = df_mc.values\n",
        "print(y_mc.shape)\n",
        "print(X_mc.shape)"
      ],
      "execution_count": 0,
      "outputs": [
        {
          "output_type": "stream",
          "text": [
            "(3522,)\n",
            "(3522, 19)\n"
          ],
          "name": "stdout"
        }
      ]
    },
    {
      "cell_type": "code",
      "metadata": {
        "id": "xbq6H2ZnYXqz",
        "colab_type": "code",
        "outputId": "30fe7b10-eb9b-4ef2-f8dd-1678c1069068",
        "colab": {
          "base_uri": "https://localhost:8080/",
          "height": 51
        }
      },
      "source": [
        "y_vae = df_vae['Churn'].values\n",
        "df_vae.drop(['Churn'], axis=1, inplace=True)\n",
        "X_vae = df_vae.values\n",
        "print(y_vae.shape)\n",
        "print(X_vae.shape)"
      ],
      "execution_count": 0,
      "outputs": [
        {
          "output_type": "stream",
          "text": [
            "(3522,)\n",
            "(3522, 19)\n"
          ],
          "name": "stdout"
        }
      ]
    },
    {
      "cell_type": "markdown",
      "metadata": {
        "id": "iWMcVL29ggWg",
        "colab_type": "text"
      },
      "source": [
        "### Original data"
      ]
    },
    {
      "cell_type": "code",
      "metadata": {
        "id": "ob3Et0uia9YZ",
        "colab_type": "code",
        "outputId": "c81e3e4a-7919-4b59-aa63-2e9529ac15ec",
        "colab": {
          "base_uri": "https://localhost:8080/",
          "height": 34
        }
      },
      "source": [
        "np.random.seed(1)\n",
        "\n",
        "from sklearn.ensemble import RandomForestClassifier\n",
        "from sklearn.model_selection import cross_val_score\n",
        "clf = RandomForestClassifier(n_estimators=100, \n",
        "                             max_depth=2, random_state=42)\n",
        "scores = cross_val_score(clf, X, y, cv=10)\n",
        "print(\"Accuracy: %0.2f (+/- %0.2f)\" % (scores.mean(), scores.std() * 2))"
      ],
      "execution_count": 0,
      "outputs": [
        {
          "output_type": "stream",
          "text": [
            "Accuracy: 0.77 (+/- 0.03)\n"
          ],
          "name": "stdout"
        }
      ]
    },
    {
      "cell_type": "code",
      "metadata": {
        "colab_type": "code",
        "id": "ySOOpbfD5RP1",
        "outputId": "5f425992-896b-4e90-8107-7794e5afee18",
        "colab": {
          "base_uri": "https://localhost:8080/",
          "height": 34
        }
      },
      "source": [
        "np.random.seed(1)\n",
        "\n",
        "from sklearn.ensemble import RandomForestClassifier\n",
        "from sklearn.model_selection import cross_val_score\n",
        "clf = RandomForestClassifier(n_estimators=100, \n",
        "                             max_depth=2, random_state=42)\n",
        "scores = cross_val_score(clf, X_mc, y_mc, cv=10)\n",
        "print(\"Accuracy: %0.2f (+/- %0.2f)\" % (scores.mean(), scores.std() * 2))"
      ],
      "execution_count": 0,
      "outputs": [
        {
          "output_type": "stream",
          "text": [
            "Accuracy: 0.83 (+/- 0.04)\n"
          ],
          "name": "stdout"
        }
      ]
    },
    {
      "cell_type": "code",
      "metadata": {
        "colab_type": "code",
        "id": "lycl8s_A5Vxf",
        "outputId": "47cb6b1b-3c63-4ea0-8f68-f82d86f536a4",
        "colab": {
          "base_uri": "https://localhost:8080/",
          "height": 34
        }
      },
      "source": [
        "np.random.seed(1)\n",
        "\n",
        "from sklearn.ensemble import RandomForestClassifier\n",
        "from sklearn.model_selection import cross_val_score\n",
        "clf = RandomForestClassifier(n_estimators=100, \n",
        "                             max_depth=2, random_state=42)\n",
        "scores = cross_val_score(clf, X_vae, y_vae, cv=10)\n",
        "print(\"Accuracy: %0.2f (+/- %0.2f)\" % (scores.mean(), scores.std() * 2))"
      ],
      "execution_count": 0,
      "outputs": [
        {
          "output_type": "stream",
          "text": [
            "Accuracy: 0.79 (+/- 0.00)\n"
          ],
          "name": "stdout"
        }
      ]
    },
    {
      "cell_type": "markdown",
      "metadata": {
        "colab_type": "text",
        "id": "hSUz0c0ngkj5"
      },
      "source": [
        "### DropoutVAE generated data"
      ]
    },
    {
      "cell_type": "code",
      "metadata": {
        "colab_type": "code",
        "id": "y4-GzQ_bbPCo",
        "outputId": "5728dcdc-28d7-489a-d62f-0104cc298153",
        "colab": {
          "base_uri": "https://localhost:8080/",
          "height": 34
        }
      },
      "source": [
        "np.random.seed(1)\n",
        "from sklearn.model_selection import cross_val_score\n",
        "clf = RandomForestClassifier(n_estimators=100, \n",
        "                             max_depth=2, random_state=42)\n",
        "clf.fit(X_mc, y_mc)\n",
        "print(clf.score(X, y))"
      ],
      "execution_count": 0,
      "outputs": [
        {
          "output_type": "stream",
          "text": [
            "0.7703009653605906\n"
          ],
          "name": "stdout"
        }
      ]
    },
    {
      "cell_type": "markdown",
      "metadata": {
        "colab_type": "text",
        "id": "NL3OtgaGgxQB"
      },
      "source": [
        "### VAE generated data "
      ]
    },
    {
      "cell_type": "code",
      "metadata": {
        "id": "Crz0AfZ-bSg-",
        "colab_type": "code",
        "outputId": "bd5e55d5-7f71-4539-e72e-eb6509731414",
        "colab": {
          "base_uri": "https://localhost:8080/",
          "height": 34
        }
      },
      "source": [
        "np.random.seed(1)\n",
        "\n",
        "from sklearn.model_selection import cross_val_score\n",
        "clf = RandomForestClassifier(n_estimators=100, \n",
        "                             max_depth=2, random_state=42)\n",
        "clf.fit(X_vae, y_vae)\n",
        "print(clf.score(X, y))"
      ],
      "execution_count": 0,
      "outputs": [
        {
          "output_type": "stream",
          "text": [
            "0.7314026121521863\n"
          ],
          "name": "stdout"
        }
      ]
    },
    {
      "cell_type": "markdown",
      "metadata": {
        "colab_type": "text",
        "id": "mrCqDtssg4nB"
      },
      "source": [
        "### Original data with Dropout VAE outcome"
      ]
    },
    {
      "cell_type": "code",
      "metadata": {
        "colab_type": "code",
        "id": "mH3gS3nacvV7",
        "outputId": "33838b30-4975-4dc2-d418-d4ffeb934e4c",
        "colab": {
          "base_uri": "https://localhost:8080/",
          "height": 34
        }
      },
      "source": [
        "np.random.seed(1)\n",
        "\n",
        "from sklearn.model_selection import cross_val_score\n",
        "clf = RandomForestClassifier(n_estimators=100, \n",
        "                             max_depth=2, random_state=42)\n",
        "clf.fit(X, y)\n",
        "print(clf.score(X_mc, y_mc))"
      ],
      "execution_count": 0,
      "outputs": [
        {
          "output_type": "stream",
          "text": [
            "0.772572402044293\n"
          ],
          "name": "stdout"
        }
      ]
    },
    {
      "cell_type": "markdown",
      "metadata": {
        "colab_type": "text",
        "id": "YlER2gGnhBGJ"
      },
      "source": [
        "### Original data with VAE outcome"
      ]
    },
    {
      "cell_type": "code",
      "metadata": {
        "colab_type": "code",
        "id": "MezW_-9ZcvWA",
        "outputId": "0cd04bcb-1319-4322-edfd-4165c2561681",
        "colab": {
          "base_uri": "https://localhost:8080/",
          "height": 34
        }
      },
      "source": [
        "np.random.seed(1)\n",
        "\n",
        "from sklearn.model_selection import cross_val_score\n",
        "clf = RandomForestClassifier(n_estimators=100, \n",
        "                             max_depth=2, random_state=42)\n",
        "clf.fit(X, y)\n",
        "print(clf.score(X_vae, y_vae))"
      ],
      "execution_count": 0,
      "outputs": [
        {
          "output_type": "stream",
          "text": [
            "0.8086314593980692\n"
          ],
          "name": "stdout"
        }
      ]
    },
    {
      "cell_type": "code",
      "metadata": {
        "id": "JCm6BBN1zB-0",
        "colab_type": "code",
        "outputId": "ccc22064-47b8-47d7-d582-070f68e82b81",
        "colab": {
          "base_uri": "https://localhost:8080/",
          "height": 34
        }
      },
      "source": [
        "np.random.seed(1)\n",
        "\n",
        "from sklearn.model_selection import cross_val_score\n",
        "clf = RandomForestClassifier(n_estimators=100, \n",
        "                             max_depth=2, random_state=42)\n",
        "clf.fit(X_mc, y_mc)\n",
        "print(clf.score(X_vae, y_vae))"
      ],
      "execution_count": 0,
      "outputs": [
        {
          "output_type": "stream",
          "text": [
            "0.8231118682566724\n"
          ],
          "name": "stdout"
        }
      ]
    },
    {
      "cell_type": "code",
      "metadata": {
        "colab_type": "code",
        "id": "XcarR61z4UqD",
        "outputId": "09304d28-2058-4a19-e4a4-780bcb8c6a12",
        "colab": {
          "base_uri": "https://localhost:8080/",
          "height": 34
        }
      },
      "source": [
        "np.random.seed(1)\n",
        "\n",
        "from sklearn.model_selection import cross_val_score\n",
        "clf = RandomForestClassifier(n_estimators=100, \n",
        "                             max_depth=2, random_state=42)\n",
        "clf.fit(X_vae, y_vae)\n",
        "print(clf.score(X_mc, y_mc))"
      ],
      "execution_count": 0,
      "outputs": [
        {
          "output_type": "stream",
          "text": [
            "0.7257240204429302\n"
          ],
          "name": "stdout"
        }
      ]
    }
  ]
}
